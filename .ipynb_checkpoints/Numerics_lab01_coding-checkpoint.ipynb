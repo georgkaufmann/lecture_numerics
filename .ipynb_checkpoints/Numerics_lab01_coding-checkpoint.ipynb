{
 "cells": [
  {
   "cell_type": "markdown",
   "metadata": {},
   "source": [
    "<table>\n",
    "<tr><td><img style=\"height: 150px;\" src=\"images/geo_hydro1.jpg\"></td>\n",
    "<td bgcolor=\"#FFFFFF\">\n",
    "    <p style=\"font-size: xx-large; font-weight: 900; line-height: 100%\">AG Dynamics of the Earth</p>\n",
    "    <p style=\"font-size: large; color: rgba(0,0,0,0.5);\">Juypter notebooks</p>\n",
    "    <p style=\"font-size: large; color: rgba(0,0,0,0.5);\">Georg Kaufmann</p>\n",
    "    </td>\n",
    "</tr>\n",
    "</table>"
   ]
  },
  {
   "cell_type": "markdown",
   "metadata": {},
   "source": [
    "# Numerical methods: Coding\n",
    "----\n",
    "*Georg Kaufmann,\n",
    "Geophysics Section,\n",
    "Institute of Geological Sciences,\n",
    "Freie Universität Berlin,\n",
    "Germany*"
   ]
  },
  {
   "cell_type": "markdown",
   "metadata": {},
   "source": [
    "In this notebook, we introduce basic programming tips.\n",
    "\n",
    "## 1. Writing readable code\n",
    "\n",
    "The **hello world** example, this time in `python`. Three examples follow:\n",
    "1. The minimum needed ...\n",
    "2. and a more readable code ...\n",
    "3. and a structured code with the `docstring` used ..."
   ]
  },
  {
   "cell_type": "code",
   "execution_count": null,
   "metadata": {},
   "outputs": [],
   "source": [
    "print (\"Hello world!\")"
   ]
  },
  {
   "cell_type": "code",
   "execution_count": null,
   "metadata": {},
   "outputs": [],
   "source": [
    "\"\"\"\n",
    "This program is the 'hello world' example in python\n",
    "We define a string, assign some text, and then print the text.\n",
    "2020-09-07 Georg Kaufmann\n",
    "\"\"\"\n",
    "# Here is the text string\n",
    "text1 = 'Hello world!'\n",
    "# Next we print it\n",
    "print (text1)"
   ]
  },
  {
   "cell_type": "code",
   "execution_count": null,
   "metadata": {},
   "outputs": [],
   "source": [
    "def hello_world():\n",
    "    \"\"\"\n",
    "    This function is the 'hello world' example in python\n",
    "    We define a string, assign some text, and then print the text.\n",
    "    2020-09-07 Georg Kaufmann\n",
    "    \"\"\"\n",
    "    # Here is the text string\n",
    "    text1 = 'Hello world!'\n",
    "    # Next we print it\n",
    "    print (text1)\n",
    "    \n",
    "print(hello_world.__doc__)\n",
    "#hello_world()"
   ]
  },
  {
   "cell_type": "markdown",
   "metadata": {},
   "source": [
    "## The cyclic permutation example from the lecture\n",
    "Write a code, which calculates (explicitly) the forward permutation:\n",
    "$$\n",
    "(0,1,2) \\to (1,2,0)\n",
    "$$"
   ]
  },
  {
   "cell_type": "code",
   "execution_count": null,
   "metadata": {},
   "outputs": [],
   "source": [
    "def minimalistic(j):\n",
    "    # minimalistic version\n",
    "    k = (2-j)*(1+3*j)/2\n",
    "    return int(k)\n",
    "\n",
    "def realistic(j):\n",
    "    # realistic version\n",
    "    k = j+1\n",
    "    if (k==3):\n",
    "        k = 0\n",
    "    return int(k)\n",
    "\n",
    "def pedantic(j):\n",
    "    # pedantic version\n",
    "    if (j==0):\n",
    "        k = 1\n",
    "    elif (j==1):\n",
    "        k = 2\n",
    "    elif (j==2):\n",
    "        k = 0\n",
    "    else: \n",
    "        print( 'you should never get here!')\n",
    "    return int(k)\n",
    "    \n",
    "# main loop\n",
    "list=[0,1,2]\n",
    "perm1=[]\n",
    "perm2=[]\n",
    "perm3=[]\n",
    "for i in range(len(list)):\n",
    "    perm1.append(minimalistic(i))\n",
    "    perm2.append(realistic(i))\n",
    "    perm3.append(pedantic(i))\n",
    "print('list:         ',list)\n",
    "print('minimalistic: ',perm1)\n",
    "print('realistic:    ',perm2)\n",
    "print('pedantic:     ',perm3)"
   ]
  }
 ],
 "metadata": {
  "kernelspec": {
   "display_name": "Python 3",
   "language": "python",
   "name": "python3"
  },
  "language_info": {
   "codemirror_mode": {
    "name": "ipython",
    "version": 3
   },
   "file_extension": ".py",
   "mimetype": "text/x-python",
   "name": "python",
   "nbconvert_exporter": "python",
   "pygments_lexer": "ipython3",
   "version": "3.7.3"
  }
 },
 "nbformat": 4,
 "nbformat_minor": 1
}
