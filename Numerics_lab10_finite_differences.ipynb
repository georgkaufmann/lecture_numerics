{
 "cells": [
  {
   "cell_type": "markdown",
   "metadata": {},
   "source": [
    "<table>\n",
    "<tr><td><img style=\"height: 150px;\" src=\"images/geo_hydro1.jpg\"></td>\n",
    "<td bgcolor=\"#FFFFFF\">\n",
    "    <p style=\"font-size: xx-large; font-weight: 900; line-height: 100%\">AG Dynamics of the Earth</p>\n",
    "    <p style=\"font-size: large; color: rgba(0,0,0,0.5);\">Jupyter notebooks</p>\n",
    "    <p style=\"font-size: large; color: rgba(0,0,0,0.5);\">Georg Kaufmann</p>\n",
    "    </td>\n",
    "</tr>\n",
    "</table>"
   ]
  },
  {
   "cell_type": "markdown",
   "metadata": {},
   "source": [
    "# Numerical methods: 10. Boundary-value problems\n",
    "## Finite-differences method for system of second-order boundary-value equations\n",
    "----\n",
    "*Georg Kaufmann,\n",
    "Geophysics Section,\n",
    "Institute of Geological Sciences,\n",
    "Freie Universität Berlin,\n",
    "Germany*"
   ]
  },
  {
   "cell_type": "code",
   "execution_count": 1,
   "metadata": {},
   "outputs": [],
   "source": [
    "import numpy as np\n",
    "import numpy.linalg\n",
    "from scipy import integrate\n",
    "import matplotlib.pyplot as plt"
   ]
  },
  {
   "cell_type": "markdown",
   "metadata": {},
   "source": [
    "## Second-order differential equation\n",
    "\n",
    "We define a **second-order** differential equation with two boundary conditions,\n",
    "one along each end of the interval:\n",
    "\n",
    "$$\n",
    "\\begin{array}{rcl}\n",
    "{{d^2y}\\over{dt^2}} &=& f(t,y,y'), \\quad t \\in [a,b] \\\\\n",
    "y(a) &=& \\alpha \\\\\n",
    "y(b) &=& \\beta\n",
    "\\end{array}\n",
    "$$\n",
    "\n",
    "This differential equation is called **linear**, when we can rewrite the right-hand side as:\n",
    "$$\n",
    "{{d^2y}\\over{dt^2}} = p(t) y(t) + q(t) y'(t) + r(t)\n",
    "$$\n",
    "\n",
    "There are two steps needed to solve the above differential system with the **shooting method**:\n",
    "\n",
    "1. Reduce **second-order** to two **first-order** systems.\n",
    "\n",
    "2. Instead of **boundary-value** problem, solve **initial-value** problem.\n"
   ]
  },
  {
   "cell_type": "markdown",
   "metadata": {},
   "source": [
    "----\n",
    "## Second example problem: linear, inhomogeneous\n",
    "\n",
    "Can we do better?\n",
    "\n",
    "Yes, if the system is **linear**, but **inhomogeneous** ($r \\ne 0$)!\n",
    "\n",
    "As an example, solve the second-order differential equation:\n",
    "$$\n",
    "y'' = -\\frac{2}{t} y' \n",
    "       + \\frac{2}{t^2} y \n",
    "       + \\frac{\\sin(\\ln t)}{t^2}, \\quad 1\\le t \\le 2, \\quad y(a)=\\alpha, \\quad y(b)=\\beta\n",
    "$$\n",
    "\n",
    "For this differential equation, we know the exact solution:\n",
    "$$\n",
    "\\begin{array}{rcl}\n",
    " y & = & c_1 t \n",
    "         + \\frac{c_2}{t^2} \n",
    "         - \\frac{3}{10} \\sin(\\ln t)\n",
    "         - \\frac{1}{10} \\cos(\\ln t) \\\\\n",
    " c_2 & = & \\frac{1}{70} [8-12\\sin(\\ln 2) - 4\\cos(\\ln 2)] \\\\\n",
    " c_1 & = & \\frac{11}{10} - c_2\n",
    "\\end{array}\n",
    "$$\n",
    "or, as a function:"
   ]
  },
  {
   "cell_type": "code",
   "execution_count": 2,
   "metadata": {},
   "outputs": [],
   "source": [
    "def fexact(t):\n",
    "    c2     = (8. - 12.*np.sin(np.log(2.)) - 4.*np.cos(np.log(2.))) / 70.\n",
    "    c1     = 11. / 10. - c2\n",
    "    fexact = c1*t + c2/t**2 - 3/10*np.sin(np.log(t)) - 1/10*np.cos(np.log(t))\n",
    "    return fexact"
   ]
  },
  {
   "cell_type": "code",
   "execution_count": 3,
   "metadata": {},
   "outputs": [],
   "source": [
    "def p(t): \n",
    "    p = -2./t\n",
    "    return p\n",
    "\n",
    "def q(t): \n",
    "    q = 2./t**2\n",
    "    return q\n",
    "\n",
    "def r(t): \n",
    "    r = np.sin(np.log(t)) / t**2\n",
    "    return r"
   ]
  },
  {
   "cell_type": "code",
   "execution_count": 11,
   "metadata": {},
   "outputs": [],
   "source": [
    "n = 101\n",
    "a = 0.1\n",
    "b = 5\n",
    "alpha = fexact(a)\n",
    "beta  = fexact(b)\n",
    "t = np.linspace(a,b,n)\n",
    "h = t[1]-t[0]\n",
    "# define solution vector\n",
    "# NOTE: solution vector w is defined for ALL points\n",
    "w   = np.zeros(n)\n",
    "w[0] = alpha\n",
    "w[n-1] = beta\n",
    "# define matrix, rhs \n",
    "# NOTE: matrix A and rhs are defined on INNER points\n",
    "A = np.zeros((n-2)*(n-2)).reshape(n-2,n-2)\n",
    "rhs = np.zeros(n-2)\n",
    "for i in range(A.shape[0]):\n",
    "    # set up tri-diagonal matrix\n",
    "    if (i > 0):\n",
    "        A[i,i-1] = -1. - p(t[i+1])*h/2.\n",
    "    A[i,i]   = 2. + q(t[i+1])*h**2\n",
    "    rhs[i] = -h**2*r(t[i+1])\n",
    "    if (i < A.shape[0]-1):\n",
    "        A[i,i+1] = -1. + p(t[i+1])*h/2.\n",
    "    # set up right-hand side    \n",
    "    if (i == 0):\n",
    "        rhs[i] = rhs[i] + (1.+h*p(t[i+1])/2)*alpha\n",
    "    if (i == A.shape[0]-1):\n",
    "        rhs[i] = rhs[i] + (1.-h*p(t[i+1])/2)*beta      \n",
    "# add solution to INNER points of solution vector    \n",
    "w[1:n-1] = numpy.linalg.solve(A,rhs)\n",
    "#np.allclose(np.dot(A, w), rhs)"
   ]
  },
  {
   "cell_type": "code",
   "execution_count": 12,
   "metadata": {},
   "outputs": [
    {
     "data": {
      "text/plain": [
       "<matplotlib.legend.Legend at 0x10dd18198>"
      ]
     },
     "execution_count": 12,
     "metadata": {},
     "output_type": "execute_result"
    },
    {
     "data": {
      "image/png": "[encoded data removed]",
      "text/plain": [
       "<Figure size 864x432 with 2 Axes>"
      ]
     },
     "metadata": {
      "needs_background": "light"
     },
     "output_type": "display_data"
    }
   ],
   "source": [
    "fig,axs = plt.subplots(2,1,figsize=(12,6))\n",
    "axs[0].plot(t,fexact(t),linewidth=10,color='gray',label='analytical')\n",
    "axs[0].plot(t,w,linewidth=2,color='red',label='finite differences')\n",
    "axs[0].legend()\n",
    "axs[1].plot(t,fexact(t)-w,label='error')\n",
    "axs[1].legend()"
   ]
  },
  {
   "cell_type": "markdown",
   "metadata": {},
   "source": [
    "[next>](Numerics_lab10_finite_differences.ipynb)"
   ]
  }
 ],
 "metadata": {
  "kernelspec": {
   "display_name": "Python 3",
   "language": "python",
   "name": "python3"
  },
  "language_info": {
   "codemirror_mode": {
    "name": "ipython",
    "version": 3
   },
   "file_extension": ".py",
   "mimetype": "text/x-python",
   "name": "python",
   "nbconvert_exporter": "python",
   "pygments_lexer": "ipython3",
   "version": "3.7.3"
  }
 },
 "nbformat": 4,
 "nbformat_minor": 2
}
