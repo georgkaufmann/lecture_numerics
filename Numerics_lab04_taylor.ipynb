{
 "cells": [
  {
   "cell_type": "markdown",
   "metadata": {},
   "source": [
    "<table>\n",
    "<tr><td><img style=\"height: 150px;\" src=\"images/geo_hydro1.jpg\"></td>\n",
    "<td bgcolor=\"#FFFFFF\">\n",
    "    <p style=\"font-size: xx-large; font-weight: 900; line-height: 100%\">AG Dynamics of the Earth</p>\n",
    "    <p style=\"font-size: large; color: rgba(0,0,0,0.5);\">Juypter notebooks</p>\n",
    "    <p style=\"font-size: large; color: rgba(0,0,0,0.5);\">Georg Kaufmann</p>\n",
    "    </td>\n",
    "</tr>\n",
    "</table>"
   ]
  },
  {
   "cell_type": "markdown",
   "metadata": {},
   "source": [
    "# Numerical methods: Taylor polynomials\n",
    "----\n",
    "*Georg Kaufmann,\n",
    "Geophysics Section,\n",
    "Institute of Geological Sciences,\n",
    "Freie Universität Berlin,\n",
    "Germany*\n",
    "\n",
    "In this notebook, we recapitulate our expansion of the function $f(x)=e^x$ into \n",
    "a **Taylor series**. \n",
    "\n",
    "We first import the `python` libraries needed."
   ]
  },
  {
   "cell_type": "code",
   "execution_count": 1,
   "metadata": {},
   "outputs": [],
   "source": [
    "import numpy as np\n",
    "import matplotlib.pyplot as plt\n",
    "import ipywidgets as widgets"
   ]
  },
  {
   "cell_type": "markdown",
   "metadata": {},
   "source": [
    "## The $e^x$ example\n",
    "The Taylor series for $x_0=0$ of the function $f(x)=e^x$ is\n",
    "$$\n",
    "P(x)= \\sum\\limits_{n=0}^{\\infty} \\frac{x^n}{n!}\n",
    "$$"
   ]
  },
  {
   "cell_type": "markdown",
   "metadata": {},
   "source": [
    "We first define the **factorial**, then the **exponential function** and its **approximation** as \n",
    "`python` functions."
   ]
  },
  {
   "cell_type": "code",
   "execution_count": 2,
   "metadata": {},
   "outputs": [],
   "source": [
    "def factorial(n):\n",
    "    \"\"\"\n",
    "    calculate factorial\n",
    "    \"\"\"\n",
    "    factorial = np.prod(range(1,n+1))\n",
    "    return factorial"
   ]
  },
  {
   "cell_type": "code",
   "execution_count": 5,
   "metadata": {},
   "outputs": [],
   "source": [
    "def taylor_series(n):\n",
    "    \"\"\"\n",
    "    Taylor series of exponential function\n",
    "    \"\"\"\n",
    "    a=-6\n",
    "    b=6\n",
    "    nmax=41\n",
    "    x=np.linspace(a,b,nmax)\n",
    "    y=np.exp(x)\n",
    "    T = 0\n",
    "    for i in range(n+1):\n",
    "        T = T + x**i/factorial(i)\n",
    "    \n",
    "\n",
    "    plt.figure(figsize=(12,8))\n",
    "    plt.xlim([a,b])\n",
    "    plt.ylim([-10,50])\n",
    "    plt.xlabel('x')\n",
    "    plt.ylabel('y')\n",
    "    plt.title('Exponential function')\n",
    "    plt.plot(x,y,linewidth=5,color='gray',label='exp(x)')\n",
    "    plt.plot(x,T,linewidth=3,color='red',label='P'+str(n)+'(x)')\n",
    "    plt.legend(loc='upper left')\n",
    "    \n",
    "#taylor_series(3)"
   ]
  },
  {
   "cell_type": "code",
   "execution_count": 6,
   "metadata": {},
   "outputs": [
    {
     "data": {
      "application/vnd.jupyter.widget-view+json": {
       "model_id": "217818bd56f84df8ad9edf3b070dc28f",
       "version_major": 2,
       "version_minor": 0
      },
      "text/plain": [
       "VBox(children=(HBox(children=(IntSlider(value=1, description='n', max=8),)), Output()))"
      ]
     },
     "metadata": {},
     "output_type": "display_data"
    }
   ],
   "source": [
    "# call interactive module\n",
    "w = dict(\n",
    "n=widgets.IntSlider(min=0,max=8,step=1,value=1,description='n'))\n",
    "\n",
    "output = widgets.interactive_output(taylor_series, w)\n",
    "box = widgets.VBox([widgets.HBox([*w.values()]), output])\n",
    "display(box)"
   ]
  },
  {
   "cell_type": "markdown",
   "metadata": {},
   "source": [
    "## And the ${{1}\\over{x}}$ example:"
   ]
  },
  {
   "cell_type": "code",
   "execution_count": 5,
   "metadata": {},
   "outputs": [
    {
     "name": "stdout",
     "output_type": "stream",
     "text": [
      "1.0 [1.0, 1.0, 1.0, 1.0, 1.0, 1.0, 1.0, 1.0]\n",
      "1.1 [1.0, 0.9, 0.91, 0.91, 0.91, 0.91, 0.91, 0.91]\n",
      "3.0 [1.0, -1.0, 3.0, -5.0, 11.0, -21.0, 43.0, -85.0]\n"
     ]
    }
   ],
   "source": [
    "def OneOverX(x,n):\n",
    "    T = 0\n",
    "    for i in range(n+1):\n",
    "        T = T + (-1)**i *(x-1)**i\n",
    "    return T\n",
    "\n",
    "for x in [1.0,1.1,3.0]:\n",
    "    print(x,[ round(OneOverX(x,n),2) for n in range(8) ])"
   ]
  },
  {
   "cell_type": "markdown",
   "metadata": {},
   "source": [
    "[next >](Numerics_lab04_lagrange.ipynb)"
   ]
  }
 ],
 "metadata": {
  "kernelspec": {
   "display_name": "Python 3",
   "language": "python",
   "name": "python3"
  },
  "language_info": {
   "codemirror_mode": {
    "name": "ipython",
    "version": 3
   },
   "file_extension": ".py",
   "mimetype": "text/x-python",
   "name": "python",
   "nbconvert_exporter": "python",
   "pygments_lexer": "ipython3",
   "version": "3.7.3"
  }
 },
 "nbformat": 4,
 "nbformat_minor": 1
}
