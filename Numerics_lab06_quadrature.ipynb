{
 "cells": [
  {
   "cell_type": "markdown",
   "metadata": {},
   "source": [
    "<table>\n",
    "<tr><td><img style=\"height: 150px;\" src=\"images/geo_hydro1.jpg\"></td>\n",
    "<td bgcolor=\"#FFFFFF\">\n",
    "    <p style=\"font-size: xx-large; font-weight: 900; line-height: 100%\">AG Dynamics of the Earth</p>\n",
    "    <p style=\"font-size: large; color: rgba(0,0,0,0.5);\">Juypter notebooks</p>\n",
    "    <p style=\"font-size: large; color: rgba(0,0,0,0.5);\">Georg Kaufmann</p>\n",
    "    </td>\n",
    "</tr>\n",
    "</table>"
   ]
  },
  {
   "cell_type": "markdown",
   "metadata": {},
   "source": [
    "# Numerical methods: quadrature integration methods\n",
    "----\n",
    "*Georg Kaufmann,\n",
    "Geophysics Section,\n",
    "Institute of Geological Sciences,\n",
    "Freie Universität Berlin,\n",
    "Germany*"
   ]
  },
  {
   "cell_type": "markdown",
   "metadata": {},
   "source": [
    "In this notebook, we extend the simple integration rules to the full quadrature rules by sub-dividing the\n",
    "integral interval $[a,b]$ into $n$ sub-intervals.\n",
    "\n",
    "First, we load the standrd `python` libraries."
   ]
  },
  {
   "cell_type": "code",
   "execution_count": null,
   "metadata": {},
   "outputs": [],
   "source": [
    "import numpy as np\n",
    "import matplotlib.pyplot as plt"
   ]
  },
  {
   "cell_type": "markdown",
   "metadata": {},
   "source": [
    "## Function\n",
    "\n",
    "We then define a function $f$, which should be integrated between $x \\in [a,b]$:\n",
    "$$\n",
    "\\int\\limits_a^b f(x)\n",
    "$$"
   ]
  },
  {
   "cell_type": "code",
   "execution_count": null,
   "metadata": {},
   "outputs": [],
   "source": [
    "def int_f(x):\n",
    "    '''\n",
    "    #----------------------------------------------------------------------\n",
    "    # function f(x)\n",
    "    #----------------------------------------------------------------------\n",
    "    '''\n",
    "    int_f = np.sin(x)\n",
    "    return int_f"
   ]
  },
  {
   "cell_type": "code",
   "execution_count": null,
   "metadata": {},
   "outputs": [],
   "source": [
    "a = 0.\n",
    "b = np.pi\n",
    "x = np.linspace(a,b,51)\n",
    "y = int_f(x)\n",
    "\n",
    "plt.xlabel('x')\n",
    "plt.ylabel('f(x)')\n",
    "plt.xlim([a,b])\n",
    "#plt.ylim([-0.1,1.1])\n",
    "plt.plot(x,y,linewidth=5,color='red',label='sin(x)')"
   ]
  },
  {
   "cell_type": "markdown",
   "metadata": {},
   "source": [
    "## Trapez rule\n",
    "\n",
    "The **Trapez rule** needs $n+1$ calculations of the function $f$:\n",
    "\n",
    "$$\n",
    " \\int\\limits_a^b f(x) dx \n",
    " = \\frac{h}{2} \n",
    "   \\left[ f(a) \n",
    "          +2 \\sum\\limits_{j=1}^{n-1} f(x_{j})\n",
    "          +f(b)                  \n",
    "   \\right]\n",
    "$$"
   ]
  },
  {
   "cell_type": "code",
   "execution_count": null,
   "metadata": {},
   "outputs": [],
   "source": [
    "def int_trapez (int_f,a,b,n):\n",
    "    '''\n",
    "    #----------------------------------------------------------------------\n",
    "    # function integrates the function f(x) between a and b\n",
    "    # using the extended Trapezoidal rule for n subintervals\n",
    "    # input:\n",
    "    # a        - lower integration limit\n",
    "    # b        - upper integration limit\n",
    "    # n        - number of sub-intervals\n",
    "    # f        - external function\n",
    "    # output:\n",
    "    # int_trapez - value of interval\n",
    "    # (c) Georg Kaufmann\n",
    "    #----------------------------------------------------------------------\n",
    "    '''\n",
    "    # calculate stepsize\n",
    "    h = (b-a) / float(n)\n",
    "    # calculate integral\n",
    "    int_trapez = int_f(a) + int_f(b)\n",
    "    for i in np.arange(1,n): # i = 1,n-1\n",
    "        int_trapez = int_trapez + 2.0*int_f(a+i*h)\n",
    "    int_trapez = h / 2.0 * int_trapez\n",
    "    return int_trapez"
   ]
  },
  {
   "cell_type": "code",
   "execution_count": null,
   "metadata": {},
   "outputs": [],
   "source": [
    "print(\"%3s %10s %10s\" % ('n','Trapez','Error[%]'))\n",
    "for n in range(2,15,2):\n",
    "    I1 = int_trapez(int_f,a,b,n)\n",
    "    print(\"%3i %10.6f %10.6f\" % (n,I1,100*np.abs(I1-2.)))"
   ]
  },
  {
   "cell_type": "markdown",
   "metadata": {},
   "source": [
    "## Simpson rule\n",
    "\n",
    "The **Simpson rule** needs $n+1$ calculations of the function $f$:\n",
    "\n",
    "$$\n",
    "\\int\\limits_a^b f(x) dx \n",
    " = \\frac{h}{3} \n",
    "   \\left[ f(a) \n",
    "          +2 \\sum\\limits_{j=1}^{{n \\over 2}-1} f(x_{2j})\n",
    "          +4 \\sum\\limits_{j=1}^{{n \\over 2}} f(x_{2j-1})\n",
    "          +f(b)                  \n",
    "   \\right]\n",
    "$$"
   ]
  },
  {
   "cell_type": "code",
   "execution_count": null,
   "metadata": {},
   "outputs": [],
   "source": [
    "def int_simpson (int_f,a,b,n):\n",
    "    '''\n",
    "    #----------------------------------------------------------------------\n",
    "    # function integrates the function f(x) between a and b\n",
    "    # using the extended Simpson rule for n subintervals\n",
    "    # input:\n",
    "    # a        - lower integration limit\n",
    "    # b        - upper integration limit\n",
    "    # n        - number of sub-intervals\n",
    "    # f        - external function\n",
    "    # output:\n",
    "    # int_simpson - value of interval\n",
    "    # (c) Georg Kaufmann\n",
    "    #----------------------------------------------------------------------\n",
    "    '''\n",
    "    # calculate stepsize\n",
    "    if (n%2 != 0):\n",
    "        exit ('int_simpson: n must be even')\n",
    "    h = (b-a) / float(n)\n",
    "    int_simpson = int_f(a) + int_f(b)\n",
    "    for i in np.arange(1,n/2):  # i = 1,n/2-1\n",
    "        int_simpson = int_simpson + 2.0*int_f(a+(2*i)*h)\n",
    "    for i in np.arange(1,n/2+1): #  1,n/2\n",
    "        int_simpson = int_simpson + 4.0*int_f(a+(2*i-1)*h)\n",
    "    int_simpson = h/3.0 * int_simpson\n",
    "    return int_simpson"
   ]
  },
  {
   "cell_type": "code",
   "execution_count": null,
   "metadata": {},
   "outputs": [],
   "source": [
    "print(\"%3s %10s %10s %10s %10s\" % ('n','Trapez','Error[%]','Simpson','Error[%]'))\n",
    "for n in range(2,15,2):\n",
    "    I1 = int_trapez(int_f,a,b,n)\n",
    "    I2 = int_simpson(int_f,a,b,n)\n",
    "    print(\"%3i %10.6f %10.6f %10.6f %10.6f\" % (n,I1,100*np.abs(I1-2.),I2,100*np.abs(I2-2.)))"
   ]
  },
  {
   "cell_type": "markdown",
   "metadata": {},
   "source": [
    "[next >](Numerics_lab06_gauss.ipynb)"
   ]
  }
 ],
 "metadata": {
  "kernelspec": {
   "display_name": "Python 3",
   "language": "python",
   "name": "python3"
  },
  "language_info": {
   "codemirror_mode": {
    "name": "ipython",
    "version": 3
   },
   "file_extension": ".py",
   "mimetype": "text/x-python",
   "name": "python",
   "nbconvert_exporter": "python",
   "pygments_lexer": "ipython3",
   "version": "3.7.3"
  }
 },
 "nbformat": 4,
 "nbformat_minor": 1
}
