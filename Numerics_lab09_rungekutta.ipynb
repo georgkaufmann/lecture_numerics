{
 "cells": [
  {
   "cell_type": "markdown",
   "metadata": {},
   "source": [
    "<table>\n",
    "<tr><td><img style=\"height: 150px;\" src=\"images/geo_hydro1.jpg\"></td>\n",
    "<td bgcolor=\"#FFFFFF\">\n",
    "    <p style=\"font-size: xx-large; font-weight: 900; line-height: 100%\">AG Dynamics of the Earth</p>\n",
    "    <p style=\"font-size: large; color: rgba(0,0,0,0.5);\">Juypter notebooks</p>\n",
    "    <p style=\"font-size: large; color: rgba(0,0,0,0.5);\">Georg Kaufmann</p>\n",
    "    </td>\n",
    "</tr>\n",
    "</table>"
   ]
  },
  {
   "cell_type": "markdown",
   "metadata": {},
   "source": [
    "# Numerical methods:  9. Initial-value problems\n",
    "## Runge-Kutta method\n",
    "----\n",
    "*Georg Kaufmann,\n",
    "Geophysics Section,\n",
    "Institute of Geological Sciences,\n",
    "Freie Universität Berlin,\n",
    "Germany*"
   ]
  },
  {
   "cell_type": "markdown",
   "metadata": {},
   "source": [
    "In this notebook, we discuss solution strategies for differential eqautions with boundary conditions\n",
    "defined along **one side**, the group of `initial-value problems`."
   ]
  },
  {
   "cell_type": "code",
   "execution_count": 1,
   "metadata": {},
   "outputs": [],
   "source": [
    "import numpy as np\n",
    "import matplotlib.pyplot as plt\n",
    "\n",
    "# load own library\n",
    "import numerics.change_fonts\n",
    "numerics.change_fonts.change_fontsize()"
   ]
  },
  {
   "cell_type": "markdown",
   "metadata": {},
   "source": [
    "We first define a differential equation of first order with an initial value:\n",
    "$$\n",
    "\\begin{array}{rcl}\n",
    "{{dy}\\over{dt}} &=& y - t^2 +1, \\quad 0 \\le t \\le 2 \\\\\n",
    "y(t=0) &=& 0.5\n",
    "\\end{array}\n",
    "$$\n",
    "\n",
    "We define the right-hand side of the differential equation as function:"
   ]
  },
  {
   "cell_type": "code",
   "execution_count": 2,
   "metadata": {},
   "outputs": [],
   "source": [
    "def rhs(t,y):\n",
    "    '''\n",
    "    #----------------------------------------------------------------------\n",
    "    # right-hand side function rhs(x)\n",
    "    #----------------------------------------------------------------------\n",
    "    '''\n",
    "    y = y - t**2 + 1\n",
    "    return y"
   ]
  },
  {
   "cell_type": "markdown",
   "metadata": {},
   "source": [
    "A solution of the above differential equation is:\n",
    "$$\n",
    "y(t) = (t+1)^2 - 0.5 e^{t}\n",
    "$$\n",
    "which we use as analytical solution for comparison ..."
   ]
  },
  {
   "cell_type": "code",
   "execution_count": 3,
   "metadata": {},
   "outputs": [],
   "source": [
    "def fexact(t):\n",
    "    # analytical solution\n",
    "    y = (t + 1)**2 - 0.5*np.exp(t)\n",
    "    return y"
   ]
  },
  {
   "cell_type": "markdown",
   "metadata": {},
   "source": [
    "## Runge-Kutta method\n",
    "\n",
    "One of the most widely-used methods to solve such a differential equation is the **Runge-Kutta method**:\n",
    "$$\n",
    "\\begin{array}{rcl}\n",
    " w_0     & = & \\alpha \\\\\n",
    " k_1     & = & h f(t_i,w_i) \\\\\n",
    " k_2     & = & h f(t_i+{h \\over 2},w_i+{1 \\over 2} k_1) \\\\\n",
    " k_3     & = & h f(t_i+{h \\over 2},w_i+{1 \\over 2} k_2) \\\\\n",
    " k_4     & = & h f(t_{i+1},w_i+k_3) \\\\\n",
    " w_{i+1} & = & w_i + \\frac{1}{6} (k_1 + 2 k_2 + 2 k_3 + k_4)\n",
    "\\end{array}\n",
    "$$\n",
    "Here, $w_0$ is the initial value, $w_i$ the iterative solution at point $t_i$, \n",
    "with $t$ the independent variable.\n",
    "\n",
    "The step size $h$ must be chosen, as well as the right-hand side function $rhs(t,y)$.\n",
    "\n",
    "We reformulate the solution strategy as function:"
   ]
  },
  {
   "cell_type": "code",
   "execution_count": 4,
   "metadata": {},
   "outputs": [],
   "source": [
    "def ivp_rk4(rhs,t,y,h):\n",
    "    '''\n",
    "    #----------------------------------------------------------------------\n",
    "    # subroutine performs simple Euler integration for ordinary DGL\n",
    "    # y' = f(t,y), y(0)=y_1, t in [a,b]\n",
    "    # Input:\n",
    "    # rhs   - right hand side of differential equation\n",
    "    # t     - integration variable t_i\n",
    "    # y     - approximate solution w_i\n",
    "    # h     - step size\n",
    "    # Output:\n",
    "    # ynew  - new approximate solution w_(i+1)\n",
    "    # (c) Georg Kaufmann\n",
    "    #----------------------------------------------------------------------\n",
    "    '''\n",
    "    k1   = h*rhs(t,y);\n",
    "    k2   = h*rhs(t+h/2,y+k1/2);\n",
    "    k3   = h*rhs(t+h/2,y+k2/2);\n",
    "    k4   = h*rhs(t+h,y+k3);\n",
    "    ynew = y + 1 / 6 * (k1+2*k2+2*k3+k4);\n",
    "    return ynew"
   ]
  },
  {
   "cell_type": "code",
   "execution_count": 5,
   "metadata": {},
   "outputs": [],
   "source": [
    "def ivp_eulermod(rhs,t,y,h):\n",
    "    '''\n",
    "    #----------------------------------------------------------------------\n",
    "    # subroutine performs modified Euler integration for ordinary DGL\n",
    "    # y' = f(t,y), y(0)=y_1, t in [a,b]\n",
    "    # Input:\n",
    "    # rhs   - right hand side of differential equation\n",
    "    # t     - integration variable t_i\n",
    "    # y     - approximate solution w_i\n",
    "    # h     - step size\n",
    "    # Output:\n",
    "    # ynew  - new approximate solution w_(i+1)\n",
    "    # (c) Georg Kaufmann\n",
    "    #----------------------------------------------------------------------\n",
    "    '''\n",
    "    k1   = rhs(t,y)\n",
    "    k2   = rhs(t+h,y+h*k1)\n",
    "    ynew = y + h / 2. * (k1+k2)\n",
    "    return ynew"
   ]
  },
  {
   "cell_type": "code",
   "execution_count": 6,
   "metadata": {},
   "outputs": [],
   "source": [
    "def ivp_euler(rhs,t,y,h):\n",
    "    '''\n",
    "    #----------------------------------------------------------------------\n",
    "    # subroutine performs simple Euler integration for ordinary DGL\n",
    "    # y' = f(t,y), y(0)=y_1, t in [a,b]\n",
    "    # Input:\n",
    "    # rhs   - right hand side of differential equation\n",
    "    # t     - integration variable t_i\n",
    "    # y     - approximate solution w_i\n",
    "    # h     - step size\n",
    "    # Output:\n",
    "    # ynew  - new approximate solution w_(i+1)\n",
    "    # (c) Georg Kaufmann\n",
    "    #----------------------------------------------------------------------\n",
    "    '''\n",
    "    k1 = rhs(t,y)\n",
    "    ynew = y + h * k1\n",
    "    return ynew"
   ]
  },
  {
   "cell_type": "markdown",
   "metadata": {},
   "source": [
    "Set the initial condition and the integration parameters:"
   ]
  },
  {
   "cell_type": "code",
   "execution_count": 7,
   "metadata": {},
   "outputs": [
    {
     "name": "stdout",
     "output_type": "stream",
     "text": [
      " a:  0.00  b:  5.00  alpha:  0.50  n:   21  h:  0.25\n"
     ]
    }
   ],
   "source": [
    "a     = 0.\n",
    "b     = 5.\n",
    "alpha = 0.5\n",
    "n = 21\n",
    "h = (b-a) / float(n-1)\n",
    "print (\"%3s %5.2f %3s %5.2f %7s %5.2f %3s %4i %3s %5.2f\" % ('a:',a,'b:',b,'alpha:',alpha,'n:',n,'h:',h))"
   ]
  },
  {
   "cell_type": "markdown",
   "metadata": {},
   "source": [
    "Then solve the differential equation:"
   ]
  },
  {
   "cell_type": "code",
   "execution_count": 8,
   "metadata": {},
   "outputs": [
    {
     "name": "stdout",
     "output_type": "stream",
     "text": [
      "   0     0.2500     0.0000       0.50     0.5000     0.5000     0.5000\n",
      "   1     0.2500     0.2500       0.88     0.9141     0.9205     0.9205\n",
      "   2     0.2500     0.5000       1.33     1.4114     1.4256     1.4256\n",
      "   3     0.2500     0.7500       1.85     1.9802     2.0039     2.0040\n",
      "   4     0.2500     1.0000       2.42     2.6055     2.6408     2.6409\n",
      "   5     0.2500     1.2500       3.02     3.2680     3.3172     3.3173\n",
      "   6     0.2500     1.5000       3.64     3.9430     4.0090     4.0092\n",
      "   7     0.2500     1.7500       4.24     4.5988     4.6850     4.6852\n",
      "   8     0.2500     2.0000       4.78     5.1949     5.3052     5.3055\n",
      "   9     0.2500     2.2500       5.22     5.6794     5.8183     5.8186\n",
      "  10     0.2500     2.5000       5.52     5.9858     6.1584     6.1588\n",
      "  11     0.2500     2.7500       5.58     6.0286     6.2407     6.2412\n",
      "  12     0.2500     3.0000       5.34     5.6988     5.9567     5.9572\n",
      "  13     0.2500     3.2500       4.67     4.8563     5.1667     5.1673\n",
      "  14     0.2500     3.5000       3.45     3.3217     3.6915     3.6923\n",
      "  15     0.2500     3.7500       1.50     0.8653     1.3011     1.3020\n",
      "  16     0.2500     4.0000      -1.40    -2.8073    -2.3000    -2.2991\n",
      "  17     0.2500     4.2500      -5.49    -8.0735    -7.4912    -7.4902\n",
      "  18     0.2500     4.5000     -11.13   -15.4164   -14.7596   -14.7586\n",
      "  19     0.2500     4.7500     -18.73   -25.4554   -24.7306   -24.7296\n",
      "  20     0.2500     5.0000     -28.80   -38.9839   -38.2073   -38.2066\n"
     ]
    }
   ],
   "source": [
    "t = np.array([]); y1 = np.array([]); y2 = np.array([]); y3 = np.array([]); yexact = np.array([])\n",
    "# initial values\n",
    "t=np.append(t,a)\n",
    "y1=np.append(y1,alpha)\n",
    "y2=np.append(y2,alpha)\n",
    "y3=np.append(y3,alpha)\n",
    "yexact=np.append(yexact,alpha)\n",
    "print (\"%4i %10.4f %10.4f %10.2f %10.4f %10.4f %10.4f\" % (0,h,t[0],y1[0],y2[0],y3[0],yexact[0]))\n",
    "# run over interal\n",
    "for i in np.arange(1,n):\n",
    "    t=np.append(t,t[i-1]+h)\n",
    "    ynew = ivp_euler(rhs,t[i-1],y1[i-1],h)\n",
    "    y1=np.append(y1,ivp_euler(rhs,t[i-1],y1[i-1],h))\n",
    "    y2=np.append(y2,ivp_eulermod(rhs,t[i-1],y2[i-1],h))\n",
    "    y3=np.append(y3,ivp_rk4(rhs,t[i-1],y3[i-1],h))\n",
    "    yexact=np.append(yexact,fexact(t[i]))\n",
    "    print (\"%4i %10.4f %10.4f %10.2f %10.4f %10.4f %10.4f\" % (i,h,t[i],y1[i],y2[i],y3[i],yexact[i]))"
   ]
  },
  {
   "cell_type": "markdown",
   "metadata": {},
   "source": [
    "Finally, we compare the numerical solution with the analytical solution:"
   ]
  },
  {
   "cell_type": "code",
   "execution_count": 9,
   "metadata": {},
   "outputs": [
    {
     "data": {
      "text/plain": [
       "<matplotlib.legend.Legend at 0x1111374a8>"
      ]
     },
     "execution_count": 9,
     "metadata": {},
     "output_type": "execute_result"
    },
    {
     "data": {
      "image/png": "[encoded data removed]",
      "text/plain": [
       "<Figure size 720x432 with 1 Axes>"
      ]
     },
     "metadata": {
      "needs_background": "light"
     },
     "output_type": "display_data"
    }
   ],
   "source": [
    "plt.figure(figsize=(10,6))\n",
    "plt.xlabel('t')\n",
    "plt.ylabel('y')\n",
    "plt.plot(t,yexact,linewidth=4,color='gray',label='y(t)=(t+1)$^2$-0.5*e$^t$')\n",
    "plt.plot(t,y1,linewidth=2,color='red',label='Euler method')\n",
    "plt.plot(t,y2,linewidth=2,color='green',label='Mod. Euler method')\n",
    "plt.plot(t,y3,linewidth=2,color='blue',label='Runge-Kutta method')\n",
    "plt.legend()"
   ]
  },
  {
   "cell_type": "markdown",
   "metadata": {},
   "source": [
    "----\n",
    "[next>](Numerics_lab09_rungekutta_fehlberg.ipynb)"
   ]
  }
 ],
 "metadata": {
  "kernelspec": {
   "display_name": "Python 3",
   "language": "python",
   "name": "python3"
  },
  "language_info": {
   "codemirror_mode": {
    "name": "ipython",
    "version": 3
   },
   "file_extension": ".py",
   "mimetype": "text/x-python",
   "name": "python",
   "nbconvert_exporter": "python",
   "pygments_lexer": "ipython3",
   "version": "3.7.3"
  }
 },
 "nbformat": 4,
 "nbformat_minor": 2
}
