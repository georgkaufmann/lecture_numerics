{
 "cells": [
  {
   "cell_type": "markdown",
   "metadata": {},
   "source": [
    "<table>\n",
    "<tr><td><img style=\"height: 150px;\" src=\"images/geo_hydro1.jpg\"></td>\n",
    "<td bgcolor=\"#FFFFFF\">\n",
    "    <p style=\"font-size: xx-large; font-weight: 900; line-height: 100%\">AG Dynamics of the Earth</p>\n",
    "    <p style=\"font-size: large; color: rgba(0,0,0,0.5);\">Jupyter notebooks</p>\n",
    "    <p style=\"font-size: large; color: rgba(0,0,0,0.5);\">Georg Kaufmann</p>\n",
    "    </td>\n",
    "</tr>\n",
    "</table>"
   ]
  },
  {
   "cell_type": "markdown",
   "metadata": {},
   "source": [
    "# Numerical methods:  9. Initial-value problems\n",
    "## Runge-Kutta method for system of initial-value equations\n",
    "----\n",
    "*Georg Kaufmann,\n",
    "Geophysics Section,\n",
    "Institute of Geological Sciences,\n",
    "Freie Universität Berlin,\n",
    "Germany*"
   ]
  },
  {
   "cell_type": "markdown",
   "metadata": {},
   "source": [
    "In this notebook, we discuss solution strategies for differential eqautions with boundary conditions\n",
    "defined along **one side**, the group of `initial-value problems`."
   ]
  },
  {
   "cell_type": "code",
   "execution_count": 1,
   "metadata": {},
   "outputs": [],
   "source": [
    "import numpy as np\n",
    "import matplotlib.pyplot as plt\n",
    "\n",
    "# load own library\n",
    "import numerics.change_fonts\n",
    "numerics.change_fonts.change_fontsize()"
   ]
  },
  {
   "cell_type": "markdown",
   "metadata": {},
   "source": [
    "Define a trajectory of a mass $m$ subject to **gravity** and **friction** in the $x$-$z$-plane:\n",
    "$$\n",
    "\\begin{array}{rcl}\n",
    " \\frac{d u}{dt} & = & - \\frac{k}{m} |v| u \\\\\n",
    " \\frac{d w}{dt} & = & -g - \\frac{k}{m} |v| w \\\\\n",
    " \\frac{d x}{dt} & = & u \\\\\n",
    " \\frac{d z}{dt} & = & w\n",
    "\\end{array}\n",
    "$$\n",
    "Coordinates $(x,0,z)$ [m],\n",
    "velocities $(u,0,w)$ [m/s],\n",
    "mass $m$ [kg],\n",
    "friction $k$ [kg/m],\n",
    "gravitational acceleration $g$ [m/s$^2$].\n",
    "\n",
    "We define the right-hand side of the differential equation as function:"
   ]
  },
  {
   "cell_type": "code",
   "execution_count": 2,
   "metadata": {},
   "outputs": [],
   "source": [
    "def rhs(t,y,k,m,g):\n",
    "    '''\n",
    "    #----------------------------------------------------------------------\n",
    "    # right-hand side function rhs(x)\n",
    "    #----------------------------------------------------------------------\n",
    "    '''\n",
    "    u = y[0]\n",
    "    w = y[1]\n",
    "    x = y[2]\n",
    "    z = y[3]\n",
    "    vabs = np.sqrt(u**2 + w**2)\n",
    "    dudt = -k/m*vabs*u\n",
    "    dwdt = -g-k/m*vabs*w\n",
    "    dxdt = u\n",
    "    dzdt = w\n",
    "    dydt = np.array([dudt,dwdt,dxdt,dzdt]).flatten()\n",
    "    return dydt"
   ]
  },
  {
   "cell_type": "code",
   "execution_count": 3,
   "metadata": {},
   "outputs": [],
   "source": [
    "def ivp_rk4_system(rhs,t,y,h,k,m,g):\n",
    "    \"\"\"\n",
    "    (description)\n",
    "    \"\"\"\n",
    "    n = len(y)\n",
    "    k1 = np.zeros(n); w1 = np.zeros(n)\n",
    "    k2 = np.zeros(n); w2 = np.zeros(n)\n",
    "    k3 = np.zeros(n); w3 = np.zeros(n)\n",
    "    k4 = np.zeros(n); w4 = np.zeros(n)\n",
    "    ynew = np.zeros(n)\n",
    "    \n",
    "    dydt = rhs(t,y,k,m,g)\n",
    "    for i in range(n):\n",
    "        k1[i] = h*dydt[i]\n",
    "        w1[i] = y[i] + k1[i]/2.\n",
    "        \n",
    "    dydt = rhs(t+h/2.,w1,k,m,g)\n",
    "    for i in range(n):\n",
    "        k2[i] = h*dydt[i]\n",
    "        w2[i] = y[i] + k2[i]/2.\n",
    "            \n",
    "    dydt = rhs(t+h/2.,w2,k,m,g)\n",
    "    for i in range(n):\n",
    "        k3[i] = h*dydt[i]\n",
    "        w3[i] = y[i] + k3[i]\n",
    "                \n",
    "    dydt = rhs(t+h,w3,k,m,g)\n",
    "    for i in range(n):\n",
    "        k4[i] = h*dydt[i]\n",
    "        \n",
    "    for i in range(n):\n",
    "        ynew[i] = y[i] + 1./6. * (k1[i] + 2*k2[i] + 2*k3[i] + k4[i])\n",
    "        \n",
    "    return ynew"
   ]
  },
  {
   "cell_type": "markdown",
   "metadata": {},
   "source": [
    "Initial values for velocity and position."
   ]
  },
  {
   "cell_type": "code",
   "execution_count": 4,
   "metadata": {},
   "outputs": [],
   "source": [
    "yinitial = np.array([20,20,0,0])"
   ]
  },
  {
   "cell_type": "markdown",
   "metadata": {},
   "source": [
    "Start and end times ($a$, $b$) and number of steps $n$, stepsize $h$."
   ]
  },
  {
   "cell_type": "code",
   "execution_count": 5,
   "metadata": {},
   "outputs": [],
   "source": [
    "a = 0.\n",
    "b = 4.\n",
    "n = 21\n",
    "h = (b-a) / float(n-1)"
   ]
  },
  {
   "cell_type": "code",
   "execution_count": 6,
   "metadata": {},
   "outputs": [
    {
     "name": "stdout",
     "output_type": "stream",
     "text": [
      "[[20 20  0  0]]\n",
      "[20 20  0  0]\n",
      "[40 40  0  0]\n"
     ]
    }
   ],
   "source": [
    "y = np.array(yinitial).reshape(1,4)\n",
    "print(y)\n",
    "print(y[0,:])\n",
    "y = np.vstack((y,2*yinitial))\n",
    "print(y[1,:])"
   ]
  },
  {
   "cell_type": "code",
   "execution_count": 8,
   "metadata": {},
   "outputs": [
    {
     "data": {
      "text/plain": [
       "<matplotlib.legend.Legend at 0x113749c50>"
      ]
     },
     "execution_count": 8,
     "metadata": {},
     "output_type": "execute_result"
    },
    {
     "data": {
      "image/png": "[encoded data removed]",
      "text/plain": [
       "<Figure size 864x432 with 1 Axes>"
      ]
     },
     "metadata": {
      "needs_background": "light"
     },
     "output_type": "display_data"
    }
   ],
   "source": [
    "t  = np.array([a])\n",
    "y1 = np.array(yinitial).reshape(1,4)\n",
    "y2 = np.array(yinitial).reshape(1,4)\n",
    "y3 = np.array(yinitial).reshape(1,4)\n",
    "\n",
    "k = [0,0.001,0.005]\n",
    "m = 0.5\n",
    "g = 9.81\n",
    "for i in range(n):\n",
    "    t    = np.append(t,[t[i-1]+h])\n",
    "    ynew = ivp_rk4_system(rhs,t[i-1],y1[i,:],h,k[0],m,g)\n",
    "    y1 = np.vstack((y1,ynew))\n",
    "    \n",
    "for i in range(n):\n",
    "    t    = np.append(t,[t[i-1]+h])\n",
    "    ynew = ivp_rk4_system(rhs,t[i-1],y2[i,:],h,k[1],m,g)\n",
    "    y2 = np.vstack((y2,ynew))\n",
    "    \n",
    "for i in range(n):\n",
    "    t    = np.append(t,[t[i-1]+h])\n",
    "    ynew = ivp_rk4_system(rhs,t[i-1],y3[i,:],h,k[2],m,g)\n",
    "    y3 = np.vstack((y3,ynew))\n",
    "\n",
    "plt.figure(figsize=(12,6))\n",
    "plt.xlim([0,100])\n",
    "plt.ylim([0,25])\n",
    "plt.xlabel('x [m]')\n",
    "plt.ylabel('y [m]')\n",
    "plt.plot(y1[:,2],y1[:,3],linewidth=4,color='black',label='k='+str(k[0]))\n",
    "plt.plot(y2[:,2],y2[:,3],linewidth=4,color='blue',label='k='+str(k[1]))\n",
    "plt.plot(y3[:,2],y3[:,3],linewidth=4,color='red',label='k='+str(k[2]))\n",
    "plt.legend()"
   ]
  },
  {
   "cell_type": "markdown",
   "metadata": {},
   "source": [
    "----\n",
    "[next>](Numerics_lab09_dummy.ipynb)"
   ]
  }
 ],
 "metadata": {
  "kernelspec": {
   "display_name": "Python 3",
   "language": "python",
   "name": "python3"
  },
  "language_info": {
   "codemirror_mode": {
    "name": "ipython",
    "version": 3
   },
   "file_extension": ".py",
   "mimetype": "text/x-python",
   "name": "python",
   "nbconvert_exporter": "python",
   "pygments_lexer": "ipython3",
   "version": "3.7.3"
  }
 },
 "nbformat": 4,
 "nbformat_minor": 2
}
