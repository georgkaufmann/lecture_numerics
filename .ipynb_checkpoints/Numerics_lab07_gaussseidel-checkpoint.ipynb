{
 "cells": [
  {
   "cell_type": "markdown",
   "metadata": {},
   "source": [
    "<table>\n",
    "<tr><td><img style=\"height: 150px;\" src=\"images/geo_hydro1.jpg\"></td>\n",
    "<td bgcolor=\"#FFFFFF\">\n",
    "    <p style=\"font-size: xx-large; font-weight: 900; line-height: 100%\">AG Dynamics of the Earth</p>\n",
    "    <p style=\"font-size: large; color: rgba(0,0,0,0.5);\">Juypter notebooks</p>\n",
    "    <p style=\"font-size: large; color: rgba(0,0,0,0.5);\">Georg Kaufmann</p>\n",
    "    </td>\n",
    "</tr>\n",
    "</table>"
   ]
  },
  {
   "cell_type": "markdown",
   "metadata": {},
   "source": [
    "# Numerical methods: 7. Linear systems\n",
    "## Iterative Gauss-Seidel method\n",
    "----\n",
    "*Georg Kaufmann,\n",
    "Geophysics Section,\n",
    "Institute of Geological Sciences,\n",
    "Freie Universität Berlin,\n",
    "Germany*"
   ]
  },
  {
   "cell_type": "markdown",
   "metadata": {},
   "source": [
    "In this notebook, we implement the iterative **Gauss-Seidel method** as a method to solve \n",
    "a system of linear equations."
   ]
  },
  {
   "cell_type": "code",
   "execution_count": null,
   "metadata": {},
   "outputs": [],
   "source": [
    "import numpy as np"
   ]
  },
  {
   "cell_type": "markdown",
   "metadata": {},
   "source": [
    "----\n",
    "## Gauss-Seidel method\n",
    "\n",
    "We need to define two steps for the method.\n",
    "\n",
    "1. **Initial step**\n",
    "\n",
    "Define an initial guess for the solution, ${\\bf x^{(0)}}$.\n",
    "\n",
    "2. **Iterative steps**\n",
    "\n",
    "Find improved **solution vector** ${\\bf x^{(k)}}$ from successive iterations:\n",
    "$$\n",
    "x_i^{(k)} = \\frac{1}{a_{ii}} \n",
    "             \\left[ \n",
    "             b_i - \\sum\\limits_{j=1}^{i-1} a_{ij} x_j^{(k)}\n",
    "                 - \\sum\\limits_{j=i+1}^{n} a_{ij} x_j^{(k-1)}\n",
    "             \\right]\n",
    "             \\quad i=1,\\dots,n.\n",
    "$$\n",
    "\n",
    "Examine in `python`:"
   ]
  },
  {
   "cell_type": "code",
   "execution_count": null,
   "metadata": {},
   "outputs": [],
   "source": [
    "def lin_gaussseidel(a,b,x,tol=0.001):\n",
    "    '''\n",
    "    !----------------------------------------------------------------------\n",
    "    ! subroutine solves the system of linear equations\n",
    "    ! a(n,n)*x(n) = b(n)\n",
    "    ! using the Gauss-Seidel algorithm\n",
    "    ! Input:\n",
    "    ! n       - number of equations\n",
    "    ! a(n,n)  - coefficient matrix\n",
    "    ! b(n)    - rhs vector\n",
    "    ! x(n)    - guess for solution vector\n",
    "    ! tol     - accuracy of solution\n",
    "    ! Output:\n",
    "    ! x(n)    - improved solution vector\n",
    "    ! Fixed:\n",
    "    ! itmax   - max. number of iterations\n",
    "    ! (err)   - type of norm used \n",
    "    ! (c) Georg Kaufmann\n",
    "    !----------------------------------------------------------------------\n",
    "    '''\n",
    "    n = len(b)\n",
    "    err = tol+1\n",
    "    #print(0,err,x)\n",
    "    \n",
    "    it = 0\n",
    "    while (err >= tol):\n",
    "        err = 0\n",
    "        it += 1\n",
    "        for i in range(n):\n",
    "            res = b[i]\n",
    "            xold = x[i]\n",
    "            for j in range(n):\n",
    "                if (i is not j):\n",
    "                    res = res - a[i][j] * x[j]\n",
    "            x[i] = res / a[i][i]\n",
    "            err     = err + (x[i]-xold)**2\n",
    "        if (err != 0):\n",
    "            err = np.sqrt(err)\n",
    "        #print(it,err,x)\n",
    "        if (it > 100):\n",
    "            return x\n",
    "    return x"
   ]
  },
  {
   "cell_type": "markdown",
   "metadata": {},
   "source": [
    "## Examples\n",
    "\n",
    "We test the **Gauss elimination method** with two examples:\n",
    "\n",
    "1. ${\\bf A} {\\bf x} = {\\bf b}$\n",
    "\n",
    "with \n",
    "$$\n",
    "{\\bf A} = \\left[\n",
    "\\begin{array}{ccc}\n",
    "2&1&-1 \\\\ 1&3&1 \\\\ -1&1&4\n",
    "\\end{array}\n",
    "\\right];\n",
    "{\\bf b} = \\left[\n",
    "\\begin{array}{c} 4 \\\\ 3 \\\\ 4 \\end{array}\n",
    "\\right]\n",
    "$$\n",
    "The solution vector is ${\\bf x} \\simeq (3.46,-0.85,2.08)$."
   ]
  },
  {
   "cell_type": "code",
   "execution_count": null,
   "metadata": {},
   "outputs": [],
   "source": [
    "a=np.array([[2.,1.,-1.],[1.,3.,1.],[-1.,1.,4.]])\n",
    "b=np.array([4.,3.,4.])\n",
    "x=np.array([0.,0.,0.])\n",
    "tol = 0.0001"
   ]
  },
  {
   "cell_type": "code",
   "execution_count": null,
   "metadata": {},
   "outputs": [],
   "source": [
    "a2=np.copy(a); b2=np.copy(b); x2=np.copy(x)\n",
    "print('A_ij: \\n',a,a.ndim,a.shape)\n",
    "print('b_j:  \\n',b,b.ndim,b.shape)\n",
    "x=lin_gaussseidel(a2,b2,x2,tol=tol)\n",
    "print('x_i:  \\n',x,x.ndim,x.shape)\n",
    "print(np.allclose(np.dot(a, x),b,rtol=tol,atol=tol))\n",
    "\n",
    "# check against numpy solution\n",
    "a2=np.copy(a); b2=np.copy(b)\n",
    "x = np.linalg.solve(a2, b2)\n",
    "print('x_i:  \\n',x,x.ndim,x.shape)\n",
    "print(np.allclose(np.dot(a, x), b))"
   ]
  },
  {
   "cell_type": "markdown",
   "metadata": {},
   "source": [
    "2. ${\\bf A} {\\bf x} = {\\bf b}$\n",
    "\n",
    "with \n",
    "$$\n",
    "{\\bf A} = \\left[\n",
    "\\begin{array}{cccc}\n",
    "10&-1&2&0\\\\\n",
    "-1&11&-1&3\\\\\n",
    " 2&-1&10&-1\\\\\n",
    " 0&3&-1&8\n",
    "\\end{array} \n",
    "\\right];\n",
    "{\\bf b} = \\left[\n",
    "\\begin{array}{c} 6 \\\\ 25 \\\\ -11 \\\\ 15 \\end{array}\n",
    "\\right]\n",
    "$$\n",
    "The solution vector is ${\\bf x} = (−1,2,-1,1)$."
   ]
  },
  {
   "cell_type": "code",
   "execution_count": null,
   "metadata": {},
   "outputs": [],
   "source": [
    "a=np.array([[10,-1,2,0],[-1,11,-1,3],[2,-1,10,-1],[0,3,-1,8]])\n",
    "b=np.array([6,25,-11,15])\n",
    "x=np.array([0.,0.,0.,0.])\n",
    "tol = 0.0001"
   ]
  },
  {
   "cell_type": "code",
   "execution_count": null,
   "metadata": {},
   "outputs": [],
   "source": [
    "print(np.diag(a))\n",
    "print(np.diagflat(np.diag(a)))\n",
    "print(np.diag(np.diag(a)))"
   ]
  },
  {
   "cell_type": "code",
   "execution_count": null,
   "metadata": {},
   "outputs": [],
   "source": [
    "a2=np.copy(a); b2=np.copy(b); x2=np.copy(x)\n",
    "print('A_ij: \\n',a,a.ndim,a.shape)\n",
    "print('b_j:  \\n',b,b.ndim,b.shape)\n",
    "x=lin_gaussseidel(a2,b2,x2,tol=tol)\n",
    "print('x_i:  \\n',x,x.ndim,x.shape)\n",
    "print(np.allclose(np.dot(a, x),b,rtol=tol,atol=tol))\n",
    "\n",
    "# check against numpy solution\n",
    "a2=np.copy(a); b2=np.copy(b)\n",
    "x = np.linalg.solve(a2, b2)\n",
    "print('x_i:  \\n',x,x.ndim,x.shape)\n",
    "print(np.allclose(np.dot(a, x), b))"
   ]
  },
  {
   "cell_type": "markdown",
   "metadata": {},
   "source": [
    "3. ${\\bf A} {\\bf x} = {\\bf b}$\n",
    "\n",
    "with \n",
    "$$\n",
    "{\\bf A} = \\left[\n",
    "\\begin{array}{cccc}\n",
    "  1 &  1 &  0 &  3 \\\\\n",
    "  2 &  1 & -1 &  1 \\\\\n",
    "  3 & -1 & -1 &  2 \\\\\n",
    " -1 &  2 &  3 & -1 \n",
    "\\end{array} \n",
    "\\right];\n",
    "{\\bf b} = \\left[\n",
    "\\begin{array}{c} 4 \\\\ 1 \\\\ -3 \\\\ 4 \\end{array}\n",
    "\\right]\n",
    "$$\n",
    "The solution vector is ${\\bf x} = (−1,2,0,1)$."
   ]
  },
  {
   "cell_type": "code",
   "execution_count": null,
   "metadata": {},
   "outputs": [],
   "source": [
    "a=np.array([[1.,1.,0.,3.],[2.,1.,-1.,1.],[3.,-1.,-1.,2.],[-1.,2.,3.,-1.]])\n",
    "b=np.array([4.,1.,-3.,4.])\n",
    "x=np.array([0.,0.,0.,0.])\n",
    "\n",
    "# geht nicht ..."
   ]
  },
  {
   "cell_type": "markdown",
   "metadata": {},
   "source": [
    "[next>](Numerics_lab07_lu.ipynb)"
   ]
  }
 ],
 "metadata": {
  "kernelspec": {
   "display_name": "Python 3 (ipykernel)",
   "language": "python",
   "name": "python3"
  },
  "language_info": {
   "codemirror_mode": {
    "name": "ipython",
    "version": 3
   },
   "file_extension": ".py",
   "mimetype": "text/x-python",
   "name": "python",
   "nbconvert_exporter": "python",
   "pygments_lexer": "ipython3",
   "version": "3.10.8"
  }
 },
 "nbformat": 4,
 "nbformat_minor": 2
}
