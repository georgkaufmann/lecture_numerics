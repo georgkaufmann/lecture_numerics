{
 "cells": [
  {
   "cell_type": "markdown",
   "metadata": {},
   "source": [
    "<table>\n",
    "<tr><td><img style=\"height: 150px;\" src=\"images/geo_hydro1.jpg\"></td>\n",
    "<td bgcolor=\"#FFFFFF\">\n",
    "    <p style=\"font-size: xx-large; font-weight: 900; line-height: 100%\">AG Dynamics of the Earth</p>\n",
    "    <p style=\"font-size: large; color: rgba(0,0,0,0.5);\">Juypter notebooks</p>\n",
    "    <p style=\"font-size: large; color: rgba(0,0,0,0.5);\">Georg Kaufmann</p>\n",
    "    </td>\n",
    "</tr>\n",
    "</table>"
   ]
  },
  {
   "cell_type": "markdown",
   "metadata": {},
   "source": [
    "# Numerical methods: Differentiation\n",
    "----\n",
    "*Georg Kaufmann,\n",
    "Geophysics Section,\n",
    "Institute of Geological Sciences,\n",
    "Freie Universität Berlin,\n",
    "Germany*"
   ]
  },
  {
   "cell_type": "markdown",
   "metadata": {},
   "source": [
    "In this notebook, we learn how to calculate a **numerical derivative** of a function.\n",
    "\n",
    "We first import some `python` libraries."
   ]
  },
  {
   "cell_type": "code",
   "execution_count": null,
   "metadata": {},
   "outputs": [],
   "source": [
    "import numpy as np\n",
    "import matplotlib.pyplot as plt"
   ]
  },
  {
   "cell_type": "markdown",
   "metadata": {},
   "source": [
    "Next, we define a function, for which we want to calculate a derivative."
   ]
  },
  {
   "cell_type": "code",
   "execution_count": null,
   "metadata": {},
   "outputs": [],
   "source": [
    "def diff_f(x):\n",
    "    '''\n",
    "    #----------------------------------------------------------------------\n",
    "    # Calculate function\n",
    "    #----------------------------------------------------------------------\n",
    "    '''\n",
    "    diff_f = x*np.exp(x)\n",
    "    return diff_f"
   ]
  },
  {
   "cell_type": "code",
   "execution_count": null,
   "metadata": {},
   "outputs": [],
   "source": [
    "x = np.linspace(1.5,2.5,101)\n",
    "y = diff_f(x)\n",
    "\n",
    "plt.figure(figsize=(10,6))\n",
    "plt.xlabel('x')\n",
    "plt.ylabel('f(x)')\n",
    "plt.plot(x,y,linewidth=8,color='gray',label='f(x)')\n",
    "plt.plot(2,diff_f(2),linewidth=0,marker='o',color='red',markersize=15)\n",
    "plt.legend()"
   ]
  },
  {
   "cell_type": "markdown",
   "metadata": {},
   "source": [
    "## Two-point forward difference\n",
    "\n",
    "We calculate the **first derivative** of a function $f(x)$ defined in $[a,b]$ from:\n",
    "$$\n",
    "f'(x) = \\frac{f(x+h) - f(x)}{h}\n",
    "$$\n",
    "with $h$ the step size."
   ]
  },
  {
   "cell_type": "code",
   "execution_count": null,
   "metadata": {},
   "outputs": [],
   "source": [
    "def diff_forward2 (x,h):\n",
    "    '''\n",
    "    #----------------------------------------------------------------------\n",
    "    # function approximates the first derivative of f(x), using \n",
    "    # the two-point forward (or backward) method\n",
    "    # input:\n",
    "    # x        - evalution point\n",
    "    # h        - stepsize\n",
    "    # f        - external function\n",
    "    # output:\n",
    "    # df   - value of derivative\n",
    "    # (c) Georg Kaufmann\n",
    "    #----------------------------------------------------------------------\n",
    "    '''\n",
    "    df = (diff_f(x+h) - diff_f(x)) / h\n",
    "    return df"
   ]
  },
  {
   "cell_type": "markdown",
   "metadata": {},
   "source": [
    "Next, we calculate the first-order derivative for a point $x_0$ and a step size $h$."
   ]
  },
  {
   "cell_type": "code",
   "execution_count": null,
   "metadata": {},
   "outputs": [],
   "source": [
    "x0 = 2.\n",
    "h = 0.2"
   ]
  },
  {
   "cell_type": "code",
   "execution_count": null,
   "metadata": {},
   "outputs": [],
   "source": [
    "df1  = diff_forward2(x0,h)\n",
    "print (\"%35s %12.4f\" % ('2-point forward difference: ',df1))"
   ]
  },
  {
   "cell_type": "code",
   "execution_count": null,
   "metadata": {},
   "outputs": [],
   "source": [
    "plt.figure(figsize=(10,6))\n",
    "plt.xlabel('x')\n",
    "plt.ylabel('f(x)')\n",
    "plt.xlim([1.8,2.25])\n",
    "plt.ylim([10,25])\n",
    "plt.plot(x,y,linewidth=8,color='gray',label='f(x)')\n",
    "plt.plot(x0,diff_f(x0),linewidth=0,marker='o',color='red',markersize=10)\n",
    "plt.plot([x0,x0+h],[diff_f(x0),diff_f(x0)+h*df1],linewidth=3,color='lightgreen',label='forward diff.')\n",
    "plt.legend()"
   ]
  },
  {
   "cell_type": "markdown",
   "metadata": {},
   "source": [
    "## Three-point central difference\n",
    "\n",
    "$$\n",
    "f'(x) = \\frac{f(x+h) - f(x-h)}{2h}\n",
    "$$\n",
    "with $h$ the step size."
   ]
  },
  {
   "cell_type": "code",
   "execution_count": null,
   "metadata": {},
   "outputs": [],
   "source": [
    "def diff_central3 (x,h):\n",
    "    '''\n",
    "    #----------------------------------------------------------------------\n",
    "    # function approximates the first derivative of f(x), using\n",
    "    # the three-point central-point method\n",
    "    # input:\n",
    "    # x        - evalution point\n",
    "    # h        - stepsize\n",
    "    # f        - external function\n",
    "    # output:\n",
    "    # df   - value of derivative\n",
    "    # (c) Georg Kaufmann\n",
    "    #----------------------------------------------------------------------\n",
    "    '''\n",
    "    df = (diff_f(x+h) - diff_f(x-h)) / (2*h)\n",
    "    return df"
   ]
  },
  {
   "cell_type": "code",
   "execution_count": null,
   "metadata": {},
   "outputs": [],
   "source": [
    "df2  = diff_central3(x0,h)\n",
    "print (\"%35s %12.4f\" % ('3-point central difference: ',df2))"
   ]
  },
  {
   "cell_type": "code",
   "execution_count": null,
   "metadata": {},
   "outputs": [],
   "source": [
    "plt.figure(figsize=(10,6))\n",
    "plt.xlabel('x')\n",
    "plt.ylabel('f(x)')\n",
    "plt.xlim([1.8,2.25])\n",
    "plt.ylim([10,25])\n",
    "plt.plot(x,y,linewidth=8,color='gray',label='f(x)')\n",
    "plt.plot(x0,diff_f(x0),linewidth=0,marker='o',color='red',markersize=10)\n",
    "plt.plot([x0,x0+h],[diff_f(x0),diff_f(x0)+h*df1],linewidth=3,linestyle='--',color='lightgreen',label='forward diff.')\n",
    "plt.plot([x0,x0+h],[diff_f(x0),diff_f(x0)+h*df2],linewidth=3,color='lightgreen',label='central diff.')\n",
    "plt.legend()"
   ]
  },
  {
   "cell_type": "markdown",
   "metadata": {},
   "source": [
    "## Five-point central difference"
   ]
  },
  {
   "cell_type": "code",
   "execution_count": null,
   "metadata": {},
   "outputs": [],
   "source": [
    "def diff_central5 (x,h):\n",
    "    '''\n",
    "    #----------------------------------------------------------------------\n",
    "    # function approximates the first derivative of f(x), using\n",
    "    # the five-point central-point method\n",
    "    # input:\n",
    "    # x        - evalution point\n",
    "    # h        - stepsize\n",
    "    # f        - external function\n",
    "    # output:\n",
    "    # df   - value of derivative\n",
    "    # (c) Georg Kaufmann\n",
    "    #----------------------------------------------------------------------\n",
    "    '''\n",
    "    df = (diff_f(x-2*h) - 8.*diff_f(x-h) + 8.*diff_f(x+h) - diff_f(x+2*h)) / (12*h)\n",
    "    return df"
   ]
  },
  {
   "cell_type": "code",
   "execution_count": null,
   "metadata": {},
   "outputs": [],
   "source": [
    "df3  = diff_central3(x0,h)\n",
    "print (\"%35s %12.4f\" % ('5-point central difference: ',df3))"
   ]
  }
 ],
 "metadata": {
  "kernelspec": {
   "display_name": "Python 3",
   "language": "python",
   "name": "python3"
  },
  "language_info": {
   "codemirror_mode": {
    "name": "ipython",
    "version": 3
   },
   "file_extension": ".py",
   "mimetype": "text/x-python",
   "name": "python",
   "nbconvert_exporter": "python",
   "pygments_lexer": "ipython3",
   "version": "3.7.3"
  }
 },
 "nbformat": 4,
 "nbformat_minor": 1
}
