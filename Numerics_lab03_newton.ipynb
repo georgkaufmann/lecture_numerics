{
 "cells": [
  {
   "cell_type": "markdown",
   "metadata": {},
   "source": [
    "<table>\n",
    "<tr><td><img style=\"height: 150px;\" src=\"images/geo_hydro1.jpg\"></td>\n",
    "<td bgcolor=\"#FFFFFF\">\n",
    "    <p style=\"font-size: xx-large; font-weight: 900; line-height: 100%\">AG Dynamics of the Earth</p>\n",
    "    <p style=\"font-size: large; color: rgba(0,0,0,0.5);\">Jupyter notebooks</p>\n",
    "    <p style=\"font-size: large; color: rgba(0,0,0,0.5);\">Georg Kaufmann</p>\n",
    "    </td>\n",
    "</tr>\n",
    "</table>"
   ]
  },
  {
   "cell_type": "markdown",
   "metadata": {},
   "source": [
    "# Numerical methods: 3. Roots\n",
    "## Newton-Raphson method\n",
    "----\n",
    "*Georg Kaufmann,\n",
    "Geophysics Section,\n",
    "Institute of Geological Sciences,\n",
    "Freie Universität Berlin,\n",
    "Germany*\n",
    "\n",
    "In this notebook, we apply the **Newton-Raphson method** to find roots of the function $f(x)$ with one variable $x$,\n",
    "defined over the interval $[a,b]$. We base our search on the bracketing algorithm introduced before ...\n",
    "\n",
    "We first import some libraries..."
   ]
  },
  {
   "cell_type": "code",
   "execution_count": 1,
   "metadata": {},
   "outputs": [],
   "source": [
    "import numpy as np\n",
    "import matplotlib.pyplot as plt"
   ]
  },
  {
   "cell_type": "markdown",
   "metadata": {},
   "source": [
    "## Function\n",
    "Next, we define the function, which we would like to examine.\n",
    "This time, we also need the **first derivative**."
   ]
  },
  {
   "cell_type": "code",
   "execution_count": 2,
   "metadata": {},
   "outputs": [],
   "source": [
    "def root_f(x):\n",
    "    root_f = np.sin(x)\n",
    "    return root_f\n",
    "\n",
    "def root_df(x):\n",
    "    root_df = np.cos(x)\n",
    "    return root_df"
   ]
  },
  {
   "cell_type": "markdown",
   "metadata": {},
   "source": [
    "## Bracketing algorithm\n",
    "As we have introduced the **bracketing algorithm** before, we simply run it for the defined function and interval."
   ]
  },
  {
   "cell_type": "code",
   "execution_count": 3,
   "metadata": {},
   "outputs": [],
   "source": [
    "def root_bracket (f,a,b,n):\n",
    "    '''\n",
    "    #-----------------------------------------------------------------------\n",
    "    # Given a function fx defined on the intervall [a,b], subdivide the\n",
    "    # intervall in n equally spaced segments, and search for zero crossings\n",
    "    # of the function. nb is input as the maximum number of roots searched,\n",
    "    # it is reset to the number of bracketing pairs found, xb1(1:nb),xb2(1:nb).\n",
    "    # (c) Numerical recipes \n",
    "    #-----------------------------------------------------------------------\n",
    "    '''\n",
    "    nb  = 0\n",
    "    xb1 = np.zeros([0])\n",
    "    xb2 = np.zeros([0])\n",
    "    x   = a\n",
    "    dx  = (b-a)/n\n",
    "    fa  = f(x)\n",
    "    for i in np.linspace(1,n,n,dtype=int):\n",
    "        x = x + dx\n",
    "        fb = f(x)\n",
    "        if (fa*fb <= 0):\n",
    "            nb = nb + 1\n",
    "            xb1 = np.append(xb1,x-dx)\n",
    "            xb2 = np.append(xb2,x)\n",
    "        fa = fb\n",
    "    return xb1,xb2,nb "
   ]
  },
  {
   "cell_type": "code",
   "execution_count": 5,
   "metadata": {},
   "outputs": [
    {
     "name": "stdout",
     "output_type": "stream",
     "text": [
      "[-0.1         2.57893783  5.92761012] [0.56973446 3.24867229 6.59734457] 3\n"
     ]
    }
   ],
   "source": [
    "#-----------------------------------------------------------------------\n",
    "# define interval and number of segments\n",
    "#-----------------------------------------------------------------------\n",
    "a   = -0.1\n",
    "b   = 2.1*np.pi\n",
    "n   = 10\n",
    "nb  = 0\n",
    "#-----------------------------------------------------------------------\n",
    "# call bracketing algorithm\n",
    "#-----------------------------------------------------------------------\n",
    "[xb1,xb2,nb] = root_bracket(root_f,a,b,n)"
   ]
  },
  {
   "cell_type": "markdown",
   "metadata": {},
   "source": [
    "## Newton-Raphson method\n",
    "Next, we define the **Newton-Raphson method** as a function.\n",
    "1. ..."
   ]
  },
  {
   "cell_type": "code",
   "execution_count": 6,
   "metadata": {},
   "outputs": [],
   "source": [
    "def root_newton (f,df,a,tol):\n",
    "    '''\n",
    "    #-----------------------------------------------------------------------\n",
    "    # Given a function fx defined on the interval [a,b], which contains\n",
    "    # a possible root (bracketing!), the root is found the Newton method.\n",
    "    # Input:\n",
    "    # a           - initial gues of root\n",
    "    # f,df        - function and its first derivative\n",
    "    # acc         - desired tolerance \n",
    "    #Output:\n",
    "    # root_newton - root\n",
    "    # interval, until the desired accuracy +/-acc is achieved, otherwise\n",
    "    # the algorithm quits.\n",
    "    # (c) modified from Numerical recipes \n",
    "    #-----------------------------------------------------------------------\n",
    "    '''\n",
    "    nmax = 20\n",
    "    root_newton = a\n",
    "    for i in np.arange(1,nmax):\n",
    "        root_newton   = root_newton - f(root_newton) / df(root_newton)\n",
    "        fa = f(root_newton)\n",
    "       #print (i,a,0.e0,0.e0,root_newton,fa)\n",
    "        if (np.abs(fa) <= tol):\n",
    "            return root_newton\n",
    "    exit ('root_newton: too many iterations in root_newton')"
   ]
  },
  {
   "cell_type": "markdown",
   "metadata": {},
   "source": [
    "## Test the algorithm\n",
    "Next, we test our **Newton-Raphson method** with the function $f(x)=\\sin(x)$, given in the interval $[0,2\\pi]$,\n",
    "by looping over the bracketed intervals:"
   ]
  },
  {
   "cell_type": "code",
   "execution_count": 10,
   "metadata": {},
   "outputs": [
    {
     "name": "stdout",
     "output_type": "stream",
     "text": [
      "    0    0.00000    0.00000\n",
      "    1    3.14159    0.00000\n",
      "    2    6.28319    0.00000\n"
     ]
    }
   ],
   "source": [
    "x0 = np.empty(nb)\n",
    "y0 = np.empty(nb)\n",
    "for i in range(nb):\n",
    "    x0[i] = root_newton(root_f,root_df,(xb1[i]+xb2[i])/2,tol=0.0001)\n",
    "    y0[i] = root_f(x0[i])\n",
    "    print (\"%5i %10.5f %10.5f\" % (i,x0[i],y0[i]))"
   ]
  },
  {
   "cell_type": "markdown",
   "metadata": {},
   "source": [
    "Plot the function and the intervals with sign change found:"
   ]
  },
  {
   "cell_type": "code",
   "execution_count": 11,
   "metadata": {},
   "outputs": [
    {
     "data": {
      "image/png": "[encoded data removed]",
      "text/plain": [
       "<Figure size 864x576 with 1 Axes>"
      ]
     },
     "metadata": {
      "needs_background": "light"
     },
     "output_type": "display_data"
    }
   ],
   "source": [
    "x=np.linspace(a,b,201)\n",
    "y=root_f(x)\n",
    "\n",
    "plt.figure(figsize=(12,8))\n",
    "plt.plot([a,b],[0,0],linewidth=1,color='gray')\n",
    "plt.plot(x,y,linewidth=2,color='blue')\n",
    "for i in range(nb):\n",
    "    plt.plot([xb1[i],xb2[i]],[0,0],linewidth=3,color='red')\n",
    "    plt.plot(xb1[i],[0],marker='|',markeredgewidth=3,color='red')\n",
    "    plt.plot(xb2[i],[0],marker='|',markeredgewidth=3,color='red')\n",
    "    plt.plot(x0,y0,marker='o',linewidth=0,markersize=15,color='green')\n"
   ]
  },
  {
   "cell_type": "markdown",
   "metadata": {},
   "source": [
    "## Use with polynomial function ..."
   ]
  },
  {
   "cell_type": "code",
   "execution_count": 12,
   "metadata": {},
   "outputs": [
    {
     "data": {
      "image/png": "[encoded data removed]",
      "text/plain": [
       "<Figure size 864x576 with 1 Axes>"
      ]
     },
     "metadata": {
      "needs_background": "light"
     },
     "output_type": "display_data"
    }
   ],
   "source": [
    "# define function\n",
    "def root_f(x):\n",
    "    y = x**3 + 4*x**2 - 10\n",
    "    return y\n",
    "\n",
    "def root_df(x):\n",
    "    y = 3*x**2 + 8*x\n",
    "    return y\n",
    "\n",
    "# define interval and sub-division\n",
    "a   = 1.\n",
    "b   = 2.\n",
    "n   = 21\n",
    "nb  = 0\n",
    "\n",
    "# find possible intervals\n",
    "[xb1,xb2,nb] = root_bracket(root_f,a,b,n)\n",
    "\n",
    "# run secant method\n",
    "x0 = np.empty(nb)\n",
    "y0 = np.empty(nb)\n",
    "for i in range(nb):\n",
    "    x0[i] = root_newton(root_f,root_df,(xb1[i]+xb2[i])/2,tol=0.0005)\n",
    "    y0[i] = root_f(x0[i])\n",
    "\n",
    "# plot\n",
    "x=np.linspace(a,b,201)\n",
    "y=root_f(x)\n",
    "plt.figure(figsize=(12,8))\n",
    "#plt.ylim([-2,2])\n",
    "plt.plot([a,b],[0,0],linewidth=1,color='gray')\n",
    "plt.plot(x,y,linewidth=2,color='blue')\n",
    "for i in range(len(xb1)):\n",
    "    plt.plot([xb1[i],xb2[i]],[0,0],linewidth=3,color='red')\n",
    "    plt.plot(xb1[i],[0],marker='|',markeredgewidth=3,color='red')\n",
    "    plt.plot(xb2[i],[0],marker='|',markeredgewidth=3,color='red')\n",
    "    plt.plot(x0,y0,marker='o',linewidth=0,markersize=15,color='green')"
   ]
  },
  {
   "cell_type": "markdown",
   "metadata": {},
   "source": [
    "----\n",
    "[next >](Numerics_lab03_multiple.ipynb)"
   ]
  }
 ],
 "metadata": {
  "kernelspec": {
   "display_name": "Python 3",
   "language": "python",
   "name": "python3"
  },
  "language_info": {
   "codemirror_mode": {
    "name": "ipython",
    "version": 3
   },
   "file_extension": ".py",
   "mimetype": "text/x-python",
   "name": "python",
   "nbconvert_exporter": "python",
   "pygments_lexer": "ipython3",
   "version": "3.7.3"
  }
 },
 "nbformat": 4,
 "nbformat_minor": 2
}
