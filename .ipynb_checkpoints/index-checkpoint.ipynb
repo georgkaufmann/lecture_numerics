{
 "cells": [
  {
   "cell_type": "markdown",
   "metadata": {},
   "source": [
    "<table>\n",
    "<tr><td><img style=\"height: 150px;\" src=\"images/geo_hydro1.jpg\"></td>\n",
    "<td bgcolor=\"#FFFFFF\">\n",
    "    <p style=\"font-size: xx-large; font-weight: 900; line-height: 100%\">AG Dynamics of the Earth</p>\n",
    "    <p style=\"font-size: large; color: rgba(0,0,0,0.5);\">Juypter notebooks</p>\n",
    "    <p style=\"font-size: large; color: rgba(0,0,0,0.5);\">Georg Kaufmann</p>\n",
    "    </td>\n",
    "</tr>\n",
    "</table>"
   ]
  },
  {
   "cell_type": "markdown",
   "metadata": {},
   "source": [
    "# Numerical methods in geosciences\n",
    "----\n",
    "*Georg Kaufmann,\n",
    "Geophysics Section,\n",
    "Institute of Geological Sciences,\n",
    "Freie Universität Berlin,\n",
    "Germany*\n",
    "\n",
    "**Additional jupyter notebooks for lecture**\n",
    "\n",
    "Lectures:\n",
    "\n",
    "- Lecture 1: Introduction\n",
    "    - [Coding](Numerics_lab01_coding.ipynb)\n",
    "    - [Numbers](Numerics_lab01_numbers.ipynb)\n",
    "- Lecture 2: Basics\n",
    "    - [Sequences,series,functions](Numerics_lab02_basics.ipynb)\n",
    "    - [Riemann integral](Numerics_lab02_riemann.ipynb)\n",
    "    - [Taylor series](Numerics_lab02_taylor.ipynb)\n",
    "- Lecture 3: Roots\n",
    "    - [Roots](Numerics_lab03_roots.ipynb)\n",
    "    - [Bracketing](Numerics_lab03_bracket.ipynb)\n",
    "    - [Bisection method](Numerics_lab03_bisection.ipynb)\n",
    "    - [Secant method](Numerics_lab03_secant.ipynb)\n",
    "    - [Newton-Raphson method](Numerics_lab03_newton.ipynb)\n",
    "    - [Multiple equations](Numerics_lab03_multiple.ipynb)\n",
    "- Lecture 4: Interpolation\n",
    "    - [Taylor polynomial](Numerics_lab04_taylor.ipynb)\n",
    "    - [Lagrange polynomial](Numerics_lab04_lagrange.ipynb)\n",
    "    - [Splines](Numerics_lab04_splines.ipynb)\n",
    "    - [Parameter curves](Numerics_lab04_parametercurves.ipynb)\n",
    "- Lecture 5: Differentiation\n",
    "    - [Derivatives](Numerics_lab05_differentiation.ipynb)\n",
    "- Lecture 6: Integration\n",
    "    - [Simple quadrature](Numerics_lab06_simplequadrature.ipynb)\n",
    "    - [Quadrature](Numerics_lab06_quadrature.ipynb)\n",
    "    - [Gauss Quadrature](Numerics_lab06_gauss.ipynb)\n",
    "    - [Romberg method](Numerics_lab06_romberg.ipynb)\n",
    "- Lecture 7a: Linear systems of equations: direct methods\n",
    "    - [Matrix operations](Numerics_lab07_matrices.ipynb)\n",
    "    - [Gauss elimination](Numerics_lab07_gauss.ipynb)\n",
    "    - [LU decomposition](Numerics_lab07_lu.ipynb)\n",
    "- Lecture 7b: Linear systems of equations: Iterative methods\n",
    "- Lecture 8: Approximation\n",
    "- Lecture 9: Ordinary differental equations\n",
    "- Lecture 10: Partial differential equations"
   ]
  }
 ],
 "metadata": {
  "kernelspec": {
   "display_name": "Python 3",
   "language": "python",
   "name": "python3"
  },
  "language_info": {
   "codemirror_mode": {
    "name": "ipython",
    "version": 3
   },
   "file_extension": ".py",
   "mimetype": "text/x-python",
   "name": "python",
   "nbconvert_exporter": "python",
   "pygments_lexer": "ipython3",
   "version": "3.7.3"
  }
 },
 "nbformat": 4,
 "nbformat_minor": 1
}
