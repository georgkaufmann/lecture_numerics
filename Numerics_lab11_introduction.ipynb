{
 "cells": [
  {
   "cell_type": "markdown",
   "id": "9766f78c",
   "metadata": {},
   "source": [
    "<table>\n",
    "<tr><td><img style=\"height: 150px;\" src=\"images/geo_hydro1.jpg\"></td>\n",
    "<td bgcolor=\"#FFFFFF\">\n",
    "    <p style=\"font-size: xx-large; font-weight: 900; line-height: 100%\">AG Dynamics of the Earth</p>\n",
    "    <p style=\"font-size: large; color: rgba(0,0,0,0.5);\">Jupyter notebooks</p>\n",
    "    <p style=\"font-size: large; color: rgba(0,0,0,0.5);\">Georg Kaufmann</p>\n",
    "    </td>\n",
    "</tr>\n",
    "</table>"
   ]
  },
  {
   "cell_type": "markdown",
   "id": "fbfa38f3",
   "metadata": {},
   "source": [
    "# Numerical methods: 11. Finite differences \n",
    "## Introduction\n",
    "----\n",
    "*Georg Kaufmann,\n",
    "Geophysics Section,\n",
    "Institute of Geological Sciences,\n",
    "Freie Universität Berlin,\n",
    "Germany*"
   ]
  },
  {
   "cell_type": "markdown",
   "id": "78d858ba",
   "metadata": {},
   "source": [
    "----\n",
    "In this notebook, introduce a general form of the **advection-diffusion-reaction equation**."
   ]
  },
  {
   "cell_type": "markdown",
   "id": "d9b81bd9",
   "metadata": {},
   "source": [
    "----\n",
    "## Advection-diffusion-reaction equation\n",
    "\n",
    "The transport equation for species $c$ [-] is a general form of the\n",
    "advection-diffusion-reaction equation:\n",
    "$$\\fbox{$\n",
    "\\frac{\\partial c}{\\partial t}\n",
    "+ \\vec{u} \\cdot \\nabla c\n",
    "= \\nabla \\cdot \\vec{F}\n",
    "+ M - \\lambda c\n",
    "$}$$\n",
    "Here is\n",
    "- $t$ [s] time,\n",
    "- $\\vec{u}$ [m/s] velocity,\n",
    "- $\\nabla$ [1/m] Nabla operator,\n",
    "- $c$ [-] normalized species,\n",
    "- $\\vec{F}$ [m/s] flux,\n",
    "- $\\lambda$ [1/s] decay constant\n",
    "- $M$ [1/s] a source-sink term.\n",
    "\n",
    "This general equation can be used in a number of disciplinces, e.g."
   ]
  },
  {
   "cell_type": "markdown",
   "id": "0fe0f71f",
   "metadata": {},
   "source": [
    "----\n",
    "## Groundwater\n",
    "\n",
    "Darcy flux:\n",
    "$$\n",
    "\\vec{F} = -K_h \\nabla h\n",
    "$$\n",
    "with\n",
    "- $h$ [m] hydraulic head,\n",
    "- $K_h$ [m/s] hydraulic conductivity\n",
    "- $S$ [1/s] specific storage\n",
    "\n",
    "Inserting in diffusion equation:\n",
    "$$\n",
    "S \\frac{\\partial h}{\\partial t}\n",
    "= \\nabla \\cdot K_h \\nabla h\n",
    "$$\n",
    "or\n",
    "$$\\fbox{$\n",
    "\\frac{\\partial h}{\\partial t}\n",
    "= \\frac{1}{S} \\nabla \\cdot \\frac{\\kappa_h \\rho g}{\\eta} \\nabla h\n",
    "$}$$\n",
    "with \n",
    "- $\\kappa_h$ [m$^2$] hydraulic permeability,\n",
    "- $\\rho$ [kg/m$^3$] water density,\n",
    "- $g$ [m/s$^2$] gravitational acceleration,\n",
    "- $\\eta$ [Pa s] water viscosity."
   ]
  },
  {
   "cell_type": "markdown",
   "id": "fce1d2b2",
   "metadata": {},
   "source": [
    "----\n",
    "## Heat\n",
    "\n",
    "Fourier flux:\n",
    "$$\n",
    "\\vec{F} = -K_f \\nabla T\n",
    "$$\n",
    "with\n",
    "- $T$ [K] temperature,\n",
    "- $K_h$ [W/m/K] thermal conductivity,\n",
    "- $\\rho$ [kg/m$^3$] density,\n",
    "- $c_p$ [J/kg/K] specific heat capacity,\n",
    "- $H^*$ [W/m$^3$] heat production.\n",
    "\n",
    "Inserting in diffusion equation:\n",
    "$$\n",
    "\\rho c_p \\frac{\\partial T}{\\partial t}\n",
    "= -\\rho c_p \\vec{u} \\cdot \\nabla T\n",
    "+ \\nabla \\cdot K_f \\nabla T\n",
    "+ H^*\n",
    "$$\n",
    "or\n",
    "$$\\fbox{$\n",
    "\\frac{\\partial T}{\\partial t}\n",
    "= - \\vec{u} \\cdot \\nabla T\n",
    "+ \\nabla \\cdot \\kappa_f \\nabla T\n",
    "+ \\frac{H^*}{\\rho c_p}\n",
    "$}$$\n",
    "with\n",
    "- $\\kappa_f$ [m$^2$/s] thermal diffusivity."
   ]
  },
  {
   "cell_type": "markdown",
   "id": "89d8aee5",
   "metadata": {},
   "source": [
    "----\n",
    "## Particle\n",
    "\n",
    "Fick's law\n",
    "$$\n",
    "\\vec{F} = -D \\nabla c\n",
    "$$\n",
    "with\n",
    "- $D$ [m$^2$/s] diffusivity,\n",
    "- $c$ [mol/m$^3$] concentration.\n",
    "\n",
    "$$\\fbox{$\n",
    "\\frac{\\partial c}{\\partial t}\n",
    "= - \\vec{u} \\cdot \\nabla c\n",
    "+ \\nabla \\cdot D \\nabla c\n",
    "+ R\n",
    "$}$$\n",
    "Here is\n",
    "- $R$ [mol/m$^3$/s] reaction."
   ]
  },
  {
   "cell_type": "markdown",
   "id": "ab1f4e1d",
   "metadata": {},
   "source": [
    "----\n",
    "## From 3D to 1D\n",
    "\n",
    "We reduce the general advection-diffusion-reaction equation to **one dimension**:\n",
    "\n",
    "$$\\fbox{$\n",
    "\\frac{\\partial c}{\\partial t}\n",
    "= - u \\frac{dc}{dx}\n",
    "+ D \\frac{d^2c}{dx^2}\n",
    "+ R\n",
    "$}$$\n",
    "\n",
    "This equation we discuss in the next notebooks. We will learn to ...\n",
    "\n",
    "- solve the transient **advection** equation, using different methods,\n",
    "- solve the transient **diffusion** equation, using different methods,\n",
    "- solve the transient **reaction** equation, using a decay scheme,\n",
    "- and finally to solve the combind **advection-diffusion-reaction** equation with both\n",
    "    - **explicit** methods and\n",
    "    - **implicit** methods."
   ]
  },
  {
   "cell_type": "markdown",
   "id": "885a344d",
   "metadata": {},
   "source": [
    "----"
   ]
  }
 ],
 "metadata": {
  "kernelspec": {
   "display_name": "Python 3 (ipykernel)",
   "language": "python",
   "name": "python3"
  },
  "language_info": {
   "codemirror_mode": {
    "name": "ipython",
    "version": 3
   },
   "file_extension": ".py",
   "mimetype": "text/x-python",
   "name": "python",
   "nbconvert_exporter": "python",
   "pygments_lexer": "ipython3",
   "version": "3.10.8"
  }
 },
 "nbformat": 4,
 "nbformat_minor": 5
}
