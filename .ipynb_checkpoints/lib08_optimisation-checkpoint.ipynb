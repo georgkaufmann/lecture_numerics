{
 "cells": [
  {
   "cell_type": "markdown",
   "metadata": {},
   "source": [
    "<table>\n",
    "<tr><td><img style=\"height: 150px;\" src=\"images/geo_hydro1.jpg\"></td>\n",
    "<td bgcolor=\"#FFFFFF\">\n",
    "    <p style=\"font-size: xx-large; font-weight: 900; line-height: 100%\">AG Dynamics of the Earth</p>\n",
    "    <p style=\"font-size: large; color: rgba(0,0,0,0.5);\">Juypter notebooks</p>\n",
    "    <p style=\"font-size: large; color: rgba(0,0,0,0.5);\">Georg Kaufmann</p>\n",
    "    </td>\n",
    "</tr>\n",
    "</table>"
   ]
  },
  {
   "cell_type": "markdown",
   "metadata": {},
   "source": [
    "# Numerical methods: 8. Optimisation\n",
    "## Library version"
   ]
  },
  {
   "cell_type": "code",
   "execution_count": null,
   "metadata": {},
   "outputs": [],
   "source": [
    "import numpy as np\n",
    "import matplotlib.pyplot as plt\n",
    "import csv\n",
    "\n",
    "import numerics.fitting\n",
    "import numerics.change_fonts;numerics.change_fonts.change_fontsize()"
   ]
  },
  {
   "cell_type": "code",
   "execution_count": null,
   "metadata": {},
   "outputs": [],
   "source": [
    "csvfile = open('data/fit_richmondgulf.in', newline='')\n",
    "beachlines = csv.reader(csvfile)\n",
    "next(beachlines)\n",
    "i=0\n",
    "tobs=np.array([])\n",
    "terr=np.array([])\n",
    "hobs=np.array([])\n",
    "herr=np.array([])\n",
    "for row in beachlines:\n",
    "    #print (row[0].split())\n",
    "    tobs = np.append(tobs,float(row[0].split()[0]))\n",
    "    terr = np.append(terr,float(row[0].split()[1]))\n",
    "    hobs = np.append(hobs,float(row[0].split()[2]))\n",
    "    herr = np.append(herr,float(row[0].split()[3]))\n",
    "    i=i+1"
   ]
  },
  {
   "cell_type": "markdown",
   "metadata": {},
   "source": [
    "## Fit with straight line"
   ]
  },
  {
   "cell_type": "code",
   "execution_count": null,
   "metadata": {},
   "outputs": [],
   "source": [
    "def f_line(x,a,b):\n",
    "    y = a + b*x\n",
    "    return y\n",
    "\n",
    "a,b,r,chi2 = numerics.fitting.fit_linear(tobs,hobs,herr)\n",
    "print(a,b,r,chi2)"
   ]
  },
  {
   "cell_type": "markdown",
   "metadata": {},
   "source": [
    "## Fit with function and linear coefficients"
   ]
  },
  {
   "cell_type": "code",
   "execution_count": null,
   "metadata": {},
   "outputs": [],
   "source": [
    "def f_poly(i,x):\n",
    "    y = x**i\n",
    "    return y\n",
    "\n",
    "def f_linear(x,aa):\n",
    "    y = 0.\n",
    "    for i in range(len(aa)):\n",
    "        y = y + aa[i]*x**i\n",
    "    return y\n",
    "\n",
    "m=4\n",
    "aa,chi2 = numerics.fitting.fit_linear_function(f_poly,tobs,hobs,herr,m)\n",
    "print(aa,m)"
   ]
  },
  {
   "cell_type": "code",
   "execution_count": null,
   "metadata": {},
   "outputs": [],
   "source": [
    "plt.figure(figsize=(10,6))\n",
    "plt.title('Richmond Gulf, Hudson Bay, Canada')\n",
    "plt.xlim([10000,0])\n",
    "plt.ylim([0,320])\n",
    "plt.xlabel('Time [a BP]')\n",
    "plt.ylabel('Relative sea level [m]')\n",
    "plt.errorbar(tobs,hobs,xerr=terr,yerr=herr,linewidth=0,elinewidth=3,ecolor='black')\n",
    "plt.plot(tobs,hobs,linewidth=0,marker='o',markersize=10,label='data')\n",
    "plt.plot(tobs,f_line(tobs,a,b),linewidth=2,color='red',label='straight-line fit')\n",
    "plt.plot(tobs,f_linear(tobs,aa),linewidth=2,color='green',label='linear fit with polynomial')\n",
    "plt.text(8000.,300.,'$\\chi^2$='+str(round(chi2,2)))\n",
    "plt.legend()"
   ]
  },
  {
   "cell_type": "markdown",
   "metadata": {},
   "source": [
    "... done"
   ]
  }
 ],
 "metadata": {
  "kernelspec": {
   "display_name": "Python 3",
   "language": "python",
   "name": "python3"
  },
  "language_info": {
   "codemirror_mode": {
    "name": "ipython",
    "version": 3
   },
   "file_extension": ".py",
   "mimetype": "text/x-python",
   "name": "python",
   "nbconvert_exporter": "python",
   "pygments_lexer": "ipython3",
   "version": "3.7.3"
  }
 },
 "nbformat": 4,
 "nbformat_minor": 2
}
