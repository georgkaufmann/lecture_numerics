{
 "cells": [
  {
   "cell_type": "markdown",
   "metadata": {},
   "source": [
    "<table>\n",
    "<tr><td><img style=\"height: 150px;\" src=\"images/geo_hydro1.jpg\"></td>\n",
    "<td bgcolor=\"#FFFFFF\">\n",
    "    <p style=\"font-size: xx-large; font-weight: 900; line-height: 100%\">AG Dynamics of the Earth</p>\n",
    "    <p style=\"font-size: large; color: rgba(0,0,0,0.5);\">Juypter notebooks</p>\n",
    "    <p style=\"font-size: large; color: rgba(0,0,0,0.5);\">Georg Kaufmann</p>\n",
    "    </td>\n",
    "</tr>\n",
    "</table>"
   ]
  },
  {
   "cell_type": "markdown",
   "metadata": {},
   "source": [
    "# Differentiation: Library version"
   ]
  },
  {
   "cell_type": "code",
   "execution_count": null,
   "metadata": {},
   "outputs": [],
   "source": [
    "import numpy as np\n",
    "import matplotlib.pyplot as plt\n",
    "import csv\n",
    "\n",
    "import numerics.diff\n",
    "import numerics.change_fonts;numerics.change_fonts.change_fontsize()"
   ]
  },
  {
   "cell_type": "code",
   "execution_count": null,
   "metadata": {},
   "outputs": [],
   "source": [
    "def diff_f(x):\n",
    "    '''\n",
    "    #----------------------------------------------------------------------\n",
    "    # Calculate function\n",
    "    #----------------------------------------------------------------------\n",
    "    '''\n",
    "    diff_f = x*np.exp(x)\n",
    "    return diff_f"
   ]
  },
  {
   "cell_type": "markdown",
   "metadata": {},
   "source": [
    "## Bisection method"
   ]
  },
  {
   "cell_type": "code",
   "execution_count": null,
   "metadata": {},
   "outputs": [],
   "source": [
    "x0 = 2.\n",
    "h = 0.2"
   ]
  },
  {
   "cell_type": "code",
   "execution_count": null,
   "metadata": {},
   "outputs": [],
   "source": [
    "df1  = numerics.diff.diff_forward2(diff_f,x0,h)\n",
    "print (\"%35s %12.4f\" % ('2-point forward difference: ',df1))\n",
    "\n",
    "df2  = numerics.diff.diff_central3(diff_f,x0,h)\n",
    "print (\"%35s %12.4f\" % ('3-point central difference: ',df2))\n",
    "\n",
    "df3  = numerics.diff.diff_central3(diff_f,x0,h)\n",
    "print (\"%35s %12.4f\" % ('5-point central difference: ',df3))"
   ]
  },
  {
   "cell_type": "code",
   "execution_count": null,
   "metadata": {},
   "outputs": [],
   "source": [
    "x = np.linspace(1.5,2.5,101)\n",
    "y = diff_f(x)\n",
    "\n",
    "plt.figure(figsize=(10,6))\n",
    "plt.xlabel('x')\n",
    "plt.ylabel('f(x)')\n",
    "plt.xlim([1.8,2.25])\n",
    "plt.ylim([10,25])\n",
    "plt.plot(x,y,linewidth=8,color='gray',label='f(x)')\n",
    "plt.plot(x0,diff_f(x0),linewidth=0,marker='o',color='red',markersize=10)\n",
    "plt.plot([x0,x0+h],[diff_f(x0),diff_f(x0)+h*df1],linewidth=3,linestyle='--',color='lightgreen',label='forward diff.')\n",
    "plt.plot([x0,x0+h],[diff_f(x0),diff_f(x0)+h*df2],linewidth=3,color='lightgreen',label='central diff.')\n",
    "plt.plot([x0,x0+h],[diff_f(x0),diff_f(x0)+h*df3],linewidth=1,linestyle='-.',color='red',label='5-point diff.')\n",
    "plt.legend()"
   ]
  },
  {
   "cell_type": "markdown",
   "metadata": {},
   "source": [
    "... done"
   ]
  }
 ],
 "metadata": {
  "kernelspec": {
   "display_name": "Python 3",
   "language": "python",
   "name": "python3"
  },
  "language_info": {
   "codemirror_mode": {
    "name": "ipython",
    "version": 3
   },
   "file_extension": ".py",
   "mimetype": "text/x-python",
   "name": "python",
   "nbconvert_exporter": "python",
   "pygments_lexer": "ipython3",
   "version": "3.7.3"
  }
 },
 "nbformat": 4,
 "nbformat_minor": 2
}
