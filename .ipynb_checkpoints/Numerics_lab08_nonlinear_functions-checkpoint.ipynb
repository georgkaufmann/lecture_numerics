{
 "cells": [
  {
   "cell_type": "markdown",
   "metadata": {},
   "source": [
    "<table>\n",
    "<tr><td><img style=\"height: 150px;\" src=\"images/geo_hydro1.jpg\"></td>\n",
    "<td bgcolor=\"#FFFFFF\">\n",
    "    <p style=\"font-size: xx-large; font-weight: 900; line-height: 100%\">AG Dynamics of the Earth</p>\n",
    "    <p style=\"font-size: large; color: rgba(0,0,0,0.5);\">Juypter notebooks</p>\n",
    "    <p style=\"font-size: large; color: rgba(0,0,0,0.5);\">Georg Kaufmann</p>\n",
    "    </td>\n",
    "</tr>\n",
    "</table>"
   ]
  },
  {
   "cell_type": "markdown",
   "metadata": {},
   "source": [
    "# Numerical methods: Approximation\n",
    "----\n",
    "*Georg Kaufmann,\n",
    "Geophysics Section,\n",
    "Institute of Geological Sciences,\n",
    "Freie Universität Berlin,\n",
    "Germany*"
   ]
  },
  {
   "cell_type": "code",
   "execution_count": null,
   "metadata": {},
   "outputs": [],
   "source": [
    "import numpy as np\n",
    "import matplotlib.pyplot as plt\n",
    "import csv\n",
    "import scipy.optimize\n",
    "\n",
    "import numerics.change_fonts\n",
    "numerics.change_fonts.change_fontsize()"
   ]
  },
  {
   "cell_type": "markdown",
   "metadata": {},
   "source": [
    "## Load and plot test data\n",
    "\n",
    "The test data set are **beach lines** from Richmond Gulf, an area along the shores of Hudson Bay in Canada.\n",
    "\n",
    "We load the data set with the `csv` package:"
   ]
  },
  {
   "cell_type": "code",
   "execution_count": null,
   "metadata": {},
   "outputs": [],
   "source": [
    "csvfile = open('data/fit_richmondgulf.in', newline='')\n",
    "beachlines = csv.reader(csvfile)\n",
    "next(beachlines)\n",
    "i=0\n",
    "tobs=np.array([])\n",
    "terr=np.array([])\n",
    "hobs=np.array([])\n",
    "herr=np.array([])\n",
    "for row in beachlines:\n",
    "    #print (row[0].split())\n",
    "    tobs = np.append(tobs,float(row[0].split()[0]))\n",
    "    terr = np.append(terr,float(row[0].split()[1]))\n",
    "    hobs = np.append(hobs,float(row[0].split()[2]))\n",
    "    herr = np.append(herr,float(row[0].split()[3]))\n",
    "    i=i+1"
   ]
  },
  {
   "cell_type": "markdown",
   "metadata": {},
   "source": [
    "----\n",
    "## Fit with non-linear functions\n",
    "\n",
    "text"
   ]
  },
  {
   "cell_type": "code",
   "execution_count": null,
   "metadata": {},
   "outputs": [],
   "source": [
    "def f_exp(a,x):\n",
    "    y = a[0] * (np.exp(x/a[1])-1.)\n",
    "    return y\n",
    "\n",
    "def f_exp_residual(a,x,y):\n",
    "    y = a[0] * (np.exp(x/a[1])-1.) - y\n",
    "    return y"
   ]
  },
  {
   "cell_type": "code",
   "execution_count": null,
   "metadata": {},
   "outputs": [],
   "source": [
    "coeff = scipy.optimize.least_squares(f_exp_residual, [100,8000], args=(tobs,hobs), loss='cauchy')\n",
    "#coeff = scipy.optimize.least_squares(f_exp_residual, [100,8000], args=(tobs,hobs), method='lm')\n",
    "print(coeff.x)\n",
    "\n",
    "n = len(tobs)\n",
    "hpred = np.zeros(n)\n",
    "for i in range(n):\n",
    "    hpred[i] = f_exp(coeff.x,tobs[i])\n",
    "\n",
    "chi2 = 0.\n",
    "for i in range(n):\n",
    "    chi2 = chi2 + ((hobs[i]-hpred[i])**2 / herr[i]**2)\n",
    "print(chi2)\n",
    "mu=1.e10\n",
    "year2sec=365.25*24.*3600.\n",
    "eta = coeff.x[1]*year2sec*mu\n",
    "print('Viscosity [Pas]: ',eta)"
   ]
  },
  {
   "cell_type": "code",
   "execution_count": null,
   "metadata": {},
   "outputs": [],
   "source": [
    "plt.figure(figsize=(10,6))\n",
    "plt.title('Richmond Gulf, Hudson Bay, Canada')\n",
    "plt.xlim([10000,0])\n",
    "plt.ylim([0,320])\n",
    "plt.xlabel('Time [a BP]')\n",
    "plt.ylabel('Relative sea level [m]')\n",
    "plt.errorbar(tobs,hobs,xerr=terr,yerr=herr,linewidth=0,elinewidth=3,ecolor='black')\n",
    "plt.plot(tobs,hobs,linewidth=0,marker='o',markersize=10,label='data')\n",
    "plt.plot(tobs,hpred,linewidth=2,color='red',label='non-linear function fit')\n",
    "#plt.plot(tobs,ypred,label='scipy')\n",
    "plt.text(8000.,300.,'$\\chi^2$='+str(round(chi2,2)))\n",
    "plt.legend()"
   ]
  },
  {
   "cell_type": "markdown",
   "metadata": {},
   "source": [
    "----\n",
    "[next>](lib08_optimisation.ipynb)"
   ]
  }
 ],
 "metadata": {
  "kernelspec": {
   "display_name": "Python 3",
   "language": "python",
   "name": "python3"
  },
  "language_info": {
   "codemirror_mode": {
    "name": "ipython",
    "version": 3
   },
   "file_extension": ".py",
   "mimetype": "text/x-python",
   "name": "python",
   "nbconvert_exporter": "python",
   "pygments_lexer": "ipython3",
   "version": "3.7.3"
  }
 },
 "nbformat": 4,
 "nbformat_minor": 2
}
