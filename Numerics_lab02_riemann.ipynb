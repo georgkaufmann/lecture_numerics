{
 "cells": [
  {
   "cell_type": "markdown",
   "metadata": {},
   "source": [
    "<table>\n",
    "<tr><td><img style=\"height: 150px;\" src=\"images/geo_hydro1.jpg\"></td>\n",
    "<td bgcolor=\"#FFFFFF\">\n",
    "    <p style=\"font-size: xx-large; font-weight: 900; line-height: 100%\">AG Dynamics of the Earth</p>\n",
    "    <p style=\"font-size: large; color: rgba(0,0,0,0.5);\">Jupyter notebooks</p>\n",
    "    <p style=\"font-size: large; color: rgba(0,0,0,0.5);\">Georg Kaufmann</p>\n",
    "    </td>\n",
    "</tr>\n",
    "</table>"
   ]
  },
  {
   "cell_type": "markdown",
   "metadata": {},
   "source": [
    "# Numerical methods: 2. Basics\n",
    "## Riemann integral\n",
    "----\n",
    "*Georg Kaufmann,\n",
    "Geophysics Section,\n",
    "Institute of Geological Sciences,\n",
    "Freie Universität Berlin,\n",
    "Germany*\n",
    "\n",
    "This notebook provides an example for the **Riemann integral** of the function $f(x)=\\sin(x)$\n",
    "and $x\\in[0,\\pi]$. The analytical solution of the integral is:\n",
    "$$\n",
    "\\int\\limits_{0}^{\\pi} \\sin(x) dx = 2\n",
    "$$"
   ]
  },
  {
   "cell_type": "code",
   "execution_count": null,
   "metadata": {},
   "outputs": [],
   "source": [
    "import numpy as np\n",
    "import matplotlib.pyplot as plt\n",
    "import ipywidgets as widgets"
   ]
  },
  {
   "cell_type": "markdown",
   "metadata": {},
   "source": [
    "We first create the integrand as function, and wrap a function for plotting around the Riemann integration:\n",
    "$$\n",
    " \\int\\limits_a^b f(x) dx = \\lim\\limits_{n \\to \\infty} \\frac{b-a}{n} \\sum\\limits_{i=1}^{n} f(x_i)\n",
    "$$"
   ]
  },
  {
   "cell_type": "code",
   "execution_count": null,
   "metadata": {},
   "outputs": [],
   "source": [
    "def f(x):\n",
    "    f = np.sin(x)\n",
    "    return f\n",
    "\n",
    "def plot(n=2):\n",
    "    # function\n",
    "    a=0;b=np.pi\n",
    "    x=np.linspace(a,b,41)\n",
    "    y=f(x)\n",
    "    # riemann approxmation\n",
    "    xx = np.zeros(n);yy = np.zeros(n)\n",
    "    for i in range(n):\n",
    "        dx = (b-a)/n\n",
    "        a1 = a + i*dx\n",
    "        a2 = a + (i+1)*dx\n",
    "        xx[i] = (a1+a2)/2\n",
    "        yy[i] = f(xx[i])\n",
    "    #xx=np.linspace(a,b,n+1)\n",
    "    #yy=f(xx)\n",
    "    # area of riemann rectangles\n",
    "    area=sum(yy)*(b-a)/n\n",
    "    # plot figure\n",
    "    plt.figure(figsize=(12,8))\n",
    "    plt.xlim([0,np.pi])\n",
    "    plt.ylim([0.0,1.1])\n",
    "    plt.xlabel('x')\n",
    "    plt.ylabel('y')\n",
    "    plt.plot(x,y,linewidth=4,color='b',label='sin(x)')\n",
    "    x_mid = (xx[:-1] + xx[1:])/2 # Midpoints\n",
    "    y_mid = f(x_mid)\n",
    "    plt.plot(xx,yy,marker='o',linewidth=0,color='b',markersize=10)\n",
    "    plt.bar(xx,yy,width=(b-a)/n,alpha=0.2,edgecolor='b',align='center')\n",
    "    plt.text(0.1,0.95,'n='+str(n),fontsize=20)\n",
    "    plt.text(0.1,0.85,'A='+str(round(area,2)),fontsize=20)\n",
    "    plt.legend()"
   ]
  },
  {
   "cell_type": "markdown",
   "metadata": {},
   "source": [
    "Test the plotting function:"
   ]
  },
  {
   "cell_type": "code",
   "execution_count": null,
   "metadata": {},
   "outputs": [],
   "source": [
    "plot(n=4)"
   ]
  },
  {
   "cell_type": "markdown",
   "metadata": {},
   "source": [
    "Finally, add the `interactive` module for playing:"
   ]
  },
  {
   "cell_type": "code",
   "execution_count": null,
   "metadata": {},
   "outputs": [],
   "source": [
    "# call interactive module\n",
    "w = dict(\n",
    "n=widgets.IntSlider(min=1,max=40,step=1,value=2,description='n'))\n",
    "\n",
    "output = widgets.interactive_output(plot, w)\n",
    "box = widgets.VBox([widgets.HBox([*w.values()]), output])\n",
    "display(box)"
   ]
  },
  {
   "cell_type": "markdown",
   "metadata": {},
   "source": [
    "[next >](Numerics_lab02_taylor.ipynb)"
   ]
  }
 ],
 "metadata": {
  "kernelspec": {
   "display_name": "Python 3",
   "language": "python",
   "name": "python3"
  },
  "language_info": {
   "codemirror_mode": {
    "name": "ipython",
    "version": 3
   },
   "file_extension": ".py",
   "mimetype": "text/x-python",
   "name": "python",
   "nbconvert_exporter": "python",
   "pygments_lexer": "ipython3",
   "version": "3.7.3"
  }
 },
 "nbformat": 4,
 "nbformat_minor": 2
}
