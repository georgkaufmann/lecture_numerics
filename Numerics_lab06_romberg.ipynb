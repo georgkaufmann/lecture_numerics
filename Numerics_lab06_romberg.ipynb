{
 "cells": [
  {
   "cell_type": "markdown",
   "metadata": {},
   "source": [
    "<table>\n",
    "<tr><td><img style=\"height: 150px;\" src=\"images/geo_hydro1.jpg\"></td>\n",
    "<td bgcolor=\"#FFFFFF\">\n",
    "    <p style=\"font-size: xx-large; font-weight: 900; line-height: 100%\">AG Dynamics of the Earth</p>\n",
    "    <p style=\"font-size: large; color: rgba(0,0,0,0.5);\">Jupyter notebooks</p>\n",
    "    <p style=\"font-size: large; color: rgba(0,0,0,0.5);\">Georg Kaufmann</p>\n",
    "    </td>\n",
    "</tr>\n",
    "</table>"
   ]
  },
  {
   "cell_type": "markdown",
   "metadata": {},
   "source": [
    "# Numerical methods: 6. Integration\n",
    "## Romberg method\n",
    "----\n",
    "*Georg Kaufmann,\n",
    "Geophysics Section,\n",
    "Institute of Geological Sciences,\n",
    "Freie Universität Berlin,\n",
    "Germany*"
   ]
  },
  {
   "cell_type": "markdown",
   "metadata": {},
   "source": [
    "In this notebook, we extend the simple integration rules to the Gauss quadrature rules by sub-dividing the\n",
    "integral interval $[a,b]$ into $n$ sub-intervals, which follow a **non-linear spacing** defined by the roots\n",
    "of the **Legendre polynomials**.\n",
    "\n",
    "First, we load the standrd `python` libraries."
   ]
  },
  {
   "cell_type": "code",
   "execution_count": null,
   "metadata": {},
   "outputs": [],
   "source": [
    "import numpy as np\n",
    "import matplotlib.pyplot as plt\n",
    "import ipywidgets as widgets"
   ]
  },
  {
   "cell_type": "markdown",
   "metadata": {},
   "source": [
    "## Function\n",
    "\n",
    "We first define the function $f$, which we want to integrate between $x \\in [a,b]$:\n",
    "$$\n",
    "\\int\\limits_a^b f(x)\n",
    "$$"
   ]
  },
  {
   "cell_type": "code",
   "execution_count": null,
   "metadata": {},
   "outputs": [],
   "source": [
    "def int_f(x):\n",
    "    '''\n",
    "    #----------------------------------------------------------------------\n",
    "    # function f(x)\n",
    "    #----------------------------------------------------------------------\n",
    "    '''\n",
    "    int_f = np.sin(x)\n",
    "    return int_f"
   ]
  },
  {
   "cell_type": "code",
   "execution_count": null,
   "metadata": {},
   "outputs": [],
   "source": [
    "a = 0.\n",
    "b = np.pi\n",
    "x = np.linspace(a,b,51)\n",
    "y = int_f(x)\n",
    "\n",
    "plt.xlabel('x')\n",
    "plt.ylabel('f(x)')\n",
    "plt.xlim([a,b])\n",
    "#plt.ylim([-0.1,1.1])\n",
    "plt.plot(x,y,linewidth=5,color='red',label='sin(x)')"
   ]
  },
  {
   "cell_type": "markdown",
   "metadata": {},
   "source": [
    "## Romberg method with Richardson extrapolation\n",
    "\n",
    "To approximate the integral, we use the **Romberg method**:\n",
    "\n",
    "$$\n",
    " \\int\\limits_a^b f(x) dx \n",
    " = ...\n",
    "$$"
   ]
  },
  {
   "cell_type": "code",
   "execution_count": null,
   "metadata": {},
   "outputs": [],
   "source": [
    "def int_romberg(f,a,b,n):\n",
    "    h = np.zeros(n)\n",
    "    r = np.zeros(n*n).reshape(n,n)\n",
    "    # first step\n",
    "    h[0] = (b-a)\n",
    "    r[0,0] = h[0]/2.*(f(a)+f(b))\n",
    "    # iterative improvement\n",
    "    for i in range(2,n+1):\n",
    "        h[i-1] = (b-a) / 2**(i-1) \n",
    "        sum = 0.\n",
    "        for j in range(1,2**(i-2)+1):\n",
    "            sum = sum + f(a+(2*j-1)*h[i-1])\n",
    "        r[i-1,1-1] = 0.5*(r[i-2,1-1] + h[i-2]*sum)\n",
    "# Richardson extrapolation\n",
    "        for j in range(2,i+1):\n",
    "            sum = (2**(2**j-2))\n",
    "            r[i-1,j-1] = r[i-1,j-2] + (r[i-1,j-2]-r[i-2,j-2]) / (4.**(j-1)-1.)\n",
    "    int_romberg = r[n-1,n-1]\n",
    "    return int_romberg"
   ]
  },
  {
   "cell_type": "code",
   "execution_count": null,
   "metadata": {},
   "outputs": [],
   "source": [
    "import scipy.integrate\n",
    "print (\"%12s%12.2f%12.2f\" % ('[a,b]:   ',a,b))\n",
    "print (\"%12s%12s%12s%12s\" % (\n",
    "          '           n',\n",
    "          '  PythonSimp',\n",
    "          '     Romberg',\n",
    "          ' PythonGauss'))\n",
    "#-----------------------------------------------------------------------\n",
    "# call integration method\n",
    "#-----------------------------------------------------------------------\n",
    "int = np.zeros(3)\n",
    "for n in np.arange(2,14,2):\n",
    "    x = np.linspace(a,b,n)\n",
    "    y = int_f(x)\n",
    "    int[0] = scipy.integrate.simps (y,x,even='avg')\n",
    "    int[1] = int_romberg(int_f,a,b,n)\n",
    "    [int[2],err] = scipy.integrate.quadrature (int_f,a,b)\n",
    "    print (\"%9s%3i%12.4f%12.4f%12.4f\" % ('',n,int[0],int[1],int[2]))"
   ]
  },
  {
   "cell_type": "markdown",
   "metadata": {},
   "source": [
    "[next >](lib06_integrate.ipynb)"
   ]
  }
 ],
 "metadata": {
  "kernelspec": {
   "display_name": "Python 3",
   "language": "python",
   "name": "python3"
  },
  "language_info": {
   "codemirror_mode": {
    "name": "ipython",
    "version": 3
   },
   "file_extension": ".py",
   "mimetype": "text/x-python",
   "name": "python",
   "nbconvert_exporter": "python",
   "pygments_lexer": "ipython3",
   "version": "3.7.3"
  }
 },
 "nbformat": 4,
 "nbformat_minor": 1
}
