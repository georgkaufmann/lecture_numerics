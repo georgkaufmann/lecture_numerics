{
 "cells": [
  {
   "cell_type": "markdown",
   "metadata": {},
   "source": [
    "<table>\n",
    "<tr><td><img style=\"height: 150px;\" src=\"images/geo_hydro1.jpg\"></td>\n",
    "<td bgcolor=\"#FFFFFF\">\n",
    "    <p style=\"font-size: xx-large; font-weight: 900; line-height: 100%\">AG Dynamics of the Earth</p>\n",
    "    <p style=\"font-size: large; color: rgba(0,0,0,0.5);\">Jupyter notebooks</p>\n",
    "    <p style=\"font-size: large; color: rgba(0,0,0,0.5);\">Georg Kaufmann</p>\n",
    "    </td>\n",
    "</tr>\n",
    "</table>"
   ]
  },
  {
   "cell_type": "markdown",
   "metadata": {},
   "source": [
    "# Numerical methods: 7. Linear systems\n",
    "## Library version"
   ]
  },
  {
   "cell_type": "code",
   "execution_count": 1,
   "metadata": {},
   "outputs": [],
   "source": [
    "import numpy as np\n",
    "import matplotlib.pyplot as plt\n",
    "\n",
    "import numerics.lingl\n",
    "import numerics.change_fonts;numerics.change_fonts.change_fontsize()"
   ]
  },
  {
   "cell_type": "markdown",
   "metadata": {},
   "source": [
    "## Gauss elimination without pivoting"
   ]
  },
  {
   "cell_type": "code",
   "execution_count": 2,
   "metadata": {},
   "outputs": [
    {
     "name": "stdout",
     "output_type": "stream",
     "text": [
      "A_ij:  [[ 2.  1. -1.]\n",
      " [ 1.  3.  1.]\n",
      " [-1.  1.  4.]] 2 (3, 3)\n",
      "b_j:   [4. 3. 4.] 1 (3,)\n",
      "x_i:   [ 3.46153846 -0.84615385  2.07692308] 1 (3,)\n",
      "True\n",
      "x_i:   [ 3.46153846 -0.84615385  2.07692308] 1 (3,)\n",
      "True\n"
     ]
    }
   ],
   "source": [
    "a=np.array([[2.,1.,-1.],[1.,3.,1.],[-1.,1.,4.]])\n",
    "b=np.array([4.,3.,4.])\n",
    "\n",
    "a2=np.copy(a); b2=np.copy(b)\n",
    "print('A_ij: ',a,a.ndim,a.shape)\n",
    "print('b_j:  ',b,b.ndim,b.shape)\n",
    "a2=np.copy(a); b2=np.copy(b)\n",
    "x=numerics.lingl.lin_gauss(a2,b2)\n",
    "print('x_i:  ',x,x.ndim,x.shape)\n",
    "print(np.allclose(np.dot(a, x), b))\n",
    "\n",
    "# check against numpy solution\n",
    "a2=np.copy(a); b2=np.copy(b)\n",
    "x = np.linalg.solve(a2, b2)\n",
    "print('x_i:  ',x,x.ndim,x.shape)\n",
    "print(np.allclose(np.dot(a, x), b))"
   ]
  },
  {
   "cell_type": "markdown",
   "metadata": {},
   "source": [
    "## LU decomposition"
   ]
  },
  {
   "cell_type": "code",
   "execution_count": 3,
   "metadata": {},
   "outputs": [
    {
     "name": "stdout",
     "output_type": "stream",
     "text": [
      "A_ij:  [[ 2.  1. -1.]\n",
      " [ 1.  3.  1.]\n",
      " [-1.  1.  4.]] 2 (3, 3)\n",
      "b_j:   [4. 3. 4.] 1 (3,)\n",
      "x_i:   [ 3.46153846 -0.84615385  2.07692308] 1 (3,)\n",
      "True\n",
      "x_i:   [ 3.46153846 -0.84615385  2.07692308] 1 (3,)\n",
      "True\n"
     ]
    }
   ],
   "source": [
    "a=np.array([[2.,1.,-1.],[1.,3.,1.],[-1.,1.,4.]])\n",
    "b=np.array([4.,3.,4.])\n",
    "\n",
    "a2=np.copy(a); b2=np.copy(b)\n",
    "print('A_ij: ',a,a.ndim,a.shape)\n",
    "print('b_j:  ',b,b.ndim,b.shape)\n",
    "a2=np.copy(a); b2=np.copy(b)\n",
    "l,u = numerics.lingl.lin_lu_decompose(a2)\n",
    "x   = numerics.lingl.lin_lu_solve(l,u,b2)\n",
    "print('x_i:  ',x,x.ndim,x.shape)\n",
    "print(np.allclose(np.dot(a, x), b))\n",
    "\n",
    "# check against numpy solution\n",
    "a2=np.copy(a); b2=np.copy(b)\n",
    "x = np.linalg.solve(a2, b2)\n",
    "print('x_i:  ',x,x.ndim,x.shape)\n",
    "print(np.allclose(np.dot(a, x), b))"
   ]
  },
  {
   "cell_type": "markdown",
   "metadata": {},
   "source": [
    "... done"
   ]
  }
 ],
 "metadata": {
  "kernelspec": {
   "display_name": "Python 3",
   "language": "python",
   "name": "python3"
  },
  "language_info": {
   "codemirror_mode": {
    "name": "ipython",
    "version": 3
   },
   "file_extension": ".py",
   "mimetype": "text/x-python",
   "name": "python",
   "nbconvert_exporter": "python",
   "pygments_lexer": "ipython3",
   "version": "3.7.3"
  }
 },
 "nbformat": 4,
 "nbformat_minor": 2
}
