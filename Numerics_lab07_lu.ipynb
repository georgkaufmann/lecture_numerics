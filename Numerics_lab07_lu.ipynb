{
 "cells": [
  {
   "cell_type": "markdown",
   "metadata": {},
   "source": [
    "<table>\n",
    "<tr><td><img style=\"height: 150px;\" src=\"images/geo_hydro1.jpg\"></td>\n",
    "<td bgcolor=\"#FFFFFF\">\n",
    "    <p style=\"font-size: xx-large; font-weight: 900; line-height: 100%\">AG Dynamics of the Earth</p>\n",
    "    <p style=\"font-size: large; color: rgba(0,0,0,0.5);\">Juypter notebooks</p>\n",
    "    <p style=\"font-size: large; color: rgba(0,0,0,0.5);\">Georg Kaufmann</p>\n",
    "    </td>\n",
    "</tr>\n",
    "</table>"
   ]
  },
  {
   "cell_type": "markdown",
   "metadata": {},
   "source": [
    "# Numerical methods: 7. Linear systems\n",
    "## LU decomposition\n",
    "----\n",
    "*Georg Kaufmann,\n",
    "Geophysics Section,\n",
    "Institute of Geological Sciences,\n",
    "Freie Universität Berlin,\n",
    "Germany*"
   ]
  },
  {
   "cell_type": "markdown",
   "metadata": {},
   "source": [
    "In this notebook, we implement **LU decomposition** as a method to solve \n",
    "a system of linear equations."
   ]
  },
  {
   "cell_type": "code",
   "execution_count": 1,
   "metadata": {},
   "outputs": [],
   "source": [
    "import numpy as np\n",
    "import numpy.linalg"
   ]
  },
  {
   "cell_type": "markdown",
   "metadata": {},
   "source": [
    "----\n",
    "## LU decomposition\n",
    "\n",
    "We need to two steps for the method.\n",
    "\n",
    "1. The **first step** is the decomposition of the original matrix ${\\bf A}$ into lower ${\\bf L}$ and\n",
    "upper ${\\bf U}$ triangular matrix, using the LU decomposition algorithm: \n",
    "\n",
    "Examine in `python`:"
   ]
  },
  {
   "cell_type": "code",
   "execution_count": 2,
   "metadata": {},
   "outputs": [],
   "source": [
    "def lin_lu_decompose(a):\n",
    "    '''\n",
    "    #----------------------------------------------------------------------\n",
    "    # subroutine decomposes matrix A \n",
    "    # into lower L and upper U triangular matrices, using LU decompostion\n",
    "    # Input:\n",
    "    # a(n,n)  - coefficient matrix\n",
    "    # Output:\n",
    "    # l(n,n)  - lower triangular matrix\n",
    "    # u(n,n)  - upper triangular matrix\n",
    "    # (c) Georg Kaufmann\n",
    "    #----------------------------------------------------------------------\n",
    "    '''\n",
    "    n = a.shape[0]\n",
    "    l = np.zeros([n,n])\n",
    "    u = np.zeros([n,n])\n",
    "    for j in np.arange(1,n+1): # 1,n\n",
    "        l[j-1][j-1] = 1.\n",
    "        u[1-1][j-1] = a[1-1][j-1]\n",
    "        l[j-1][1-1] = a[j-1][1-1] / u[1-1][1-1]\n",
    "    for i in np.arange(2,n+1): # 2,n\n",
    "        sum = 0.\n",
    "        for k in np.arange(1,i): # 1,i-1\n",
    "            sum = sum + l[i-1][k-1]*u[k-1][i-1]\n",
    "        u[i-1][i-1] = a[i-1][i-1] - sum\n",
    "        for j in np.arange(i+1,n+1): # i+1,n\n",
    "            sum = 0.\n",
    "            for k in np.arange(1,i): # 1,i-1\n",
    "                sum = sum + l[i-1][k-1]*u[k-1][j-1]\n",
    "            u[i-1][j-1] = (a[i-1][j-1] -  sum) / l[i-1][i-1]\n",
    "            sum = 0.\n",
    "            for k in np.arange(1,i): # 1,i-1\n",
    "                sum = sum + l[j-1][k-1]*u[k-1][i-1]\n",
    "            l[j-1][i-1] = (a[j-1][i-1] - sum) / u[i-1][i-1]\n",
    "    return l,u"
   ]
  },
  {
   "cell_type": "markdown",
   "metadata": {},
   "source": [
    "Test with matrix **A**:\n",
    "$$\n",
    "{\\bf A} = \\left[\n",
    "\\begin{array}{ccc}\n",
    "2&1&-1 \\\\ 1&3&1 \\\\ -1&1&4\n",
    "\\end{array}\n",
    "\\right]\n",
    "$$"
   ]
  },
  {
   "cell_type": "code",
   "execution_count": 3,
   "metadata": {},
   "outputs": [
    {
     "name": "stdout",
     "output_type": "stream",
     "text": [
      "A_ij:\n",
      " [[ 2.  1. -1.]\n",
      " [ 1.  3.  1.]\n",
      " [-1.  1.  4.]] 2 (3, 3)\n",
      "L_ij:\n",
      " [[ 1.   0.   0. ]\n",
      " [ 0.5  1.   0. ]\n",
      " [-0.5  0.6  1. ]] 2 (3, 3)\n",
      "U_ij:\n",
      " [[ 2.   1.  -1. ]\n",
      " [ 0.   2.5  1.5]\n",
      " [ 0.   0.   2.6]] 2 (3, 3)\n"
     ]
    }
   ],
   "source": [
    "a=np.array([[2.,1.,-1.],[1.,3.,1.],[-1.,1.,4.]])\n",
    "\n",
    "a2=np.copy(a)\n",
    "print('A_ij:\\n',a,a.ndim,a.shape)\n",
    "l,u = lin_lu_decompose(a2)\n",
    "print('L_ij:\\n',l,l.ndim,l.shape)\n",
    "print('U_ij:\\n',u,u.ndim,u.shape)"
   ]
  },
  {
   "cell_type": "markdown",
   "metadata": {},
   "source": [
    "2. The **second step** is the decomposition of the original matrix:\n",
    "Solve for ${\\bf y}$ with forward substitution: \n",
    "$$\n",
    " y_i = \\frac{1}{l_{ii}} \\left( b_i - \\sum\\limits_{j=1}^{n-1} l_{ij} y_j \\right), i=1,n\n",
    "$$\n",
    "\n",
    "Solve for ${\\bf x}$ through backward substitution:\n",
    "$$\n",
    " x_i = \\frac{1}{u_{ii}} \\left( y_i - \\sum\\limits_{j=i+1}^{n} u_{ij} x_j \\right), i=n,1,-1\n",
    "$$\n",
    " \n",
    "\n",
    "Examine in `python`:"
   ]
  },
  {
   "cell_type": "code",
   "execution_count": 4,
   "metadata": {},
   "outputs": [],
   "source": [
    "def lin_lu_solve(l,u,b):\n",
    "    '''\n",
    "    #----------------------------------------------------------------------\n",
    "    # subroutine solves the system of linear equations\n",
    "    # a(n,n)*x(n) = b(n)\n",
    "    # using the lower and upper triangular matrices L and U\n",
    "    # obtained from LU decomposition\n",
    "    # Input:\n",
    "    # a(n,n)  - coefficient matrix\n",
    "    # b(n)    - rhs vector\n",
    "    # Output:\n",
    "    # x(n)    - solution vector\n",
    "    # (c) Georg Kaufmann\n",
    "    #----------------------------------------------------------------------\n",
    "    '''\n",
    "    n = len(b)\n",
    "    # solve decomposed system Ly=b with forward substitution\n",
    "    for i in np.arange(1,n+1): # 1,n\n",
    "        sum = 0.\n",
    "        for j in np.arange(1,i): # 1,i-1\n",
    "            sum = sum + l[i-1][j-1] * b[j-1]\n",
    "        b[i-1] = (b[i-1] - sum) / l[i-1][i-1]\n",
    "    # solve decomposed system Ux=y with backward substitution\n",
    "    x = np.zeros([n])\n",
    "    for i in np.arange(n-1,-1,step=-1): # n,1,-1\n",
    "        sum = 0.0\n",
    "        for j in np.arange(i+1,n): # i+1,n\n",
    "            sum = sum + u[i][j] * x[j]\n",
    "        x[i] = (b[i] - sum) / u[i][i]\n",
    "    return x"
   ]
  },
  {
   "cell_type": "markdown",
   "metadata": {},
   "source": [
    "## Examples\n",
    "\n",
    "We test the **LU decomposition method** with two examples:\n",
    "\n",
    "1. ${\\bf A} {\\bf x} = {\\bf b}$\n",
    "\n",
    "with \n",
    "$$\n",
    "{\\bf A} = \\left[\n",
    "\\begin{array}{ccc}\n",
    "2&1&-1 \\\\ 1&3&1 \\\\ -1&1&4\n",
    "\\end{array}\n",
    "\\right];\n",
    "{\\bf b} = \\left[\n",
    "\\begin{array}{c} 4 \\\\ 3 \\\\ 4 \\end{array}\n",
    "\\right]\n",
    "$$\n",
    "The solution vector is ${\\bf x} \\simeq (3.46,-0.85,2.08)$."
   ]
  },
  {
   "cell_type": "code",
   "execution_count": 5,
   "metadata": {},
   "outputs": [
    {
     "name": "stdout",
     "output_type": "stream",
     "text": [
      "A_ij:\n",
      " [[ 2.  1. -1.]\n",
      " [ 1.  3.  1.]\n",
      " [-1.  1.  4.]] 2 (3, 3)\n",
      "b_j: \n",
      " [4. 3. 4.] 1 (3,)\n",
      "x_i: \n",
      " [ 3.46153846 -0.84615385  2.07692308] 1 (3,)\n",
      "True\n",
      "x_i: \n",
      " [ 3.46153846 -0.84615385  2.07692308] 1 (3,)\n",
      "True\n"
     ]
    }
   ],
   "source": [
    "a=np.array([[2.,1.,-1.],[1.,3.,1.],[-1.,1.,4.]])\n",
    "b=np.array([4.,3.,4.])\n",
    "\n",
    "a2=np.copy(a); b2=np.copy(b)\n",
    "print('A_ij:\\n',a,a.ndim,a.shape)\n",
    "print('b_j: \\n',b,b.ndim,b.shape)\n",
    "l,u=lin_lu_decompose(a2)\n",
    "x = lin_lu_solve(l,u,b2)\n",
    "print('x_i: \\n',x,x.ndim,x.shape)\n",
    "print(np.allclose(np.dot(a, x), b))\n",
    "\n",
    "# check against numpy solution\n",
    "a2=np.copy(a); b2=np.copy(b)\n",
    "x = np.linalg.solve(a2, b2)\n",
    "print('x_i: \\n',x,x.ndim,x.shape)\n",
    "print(np.allclose(np.dot(a, x), b))"
   ]
  },
  {
   "cell_type": "markdown",
   "metadata": {},
   "source": [
    "2. ${\\bf A} {\\bf x} = {\\bf b}$\n",
    "\n",
    "with \n",
    "$$\n",
    "{\\bf A} = \\left[\n",
    "\\begin{array}{cccc}\n",
    "  1 &  1 &  0 &  3 \\\\\n",
    "  2 &  1 & -1 &  1 \\\\\n",
    "  3 & -1 & -1 &  2 \\\\\n",
    " -1 &  2 &  3 & -1 \n",
    "\\end{array} \n",
    "\\right];\n",
    "{\\bf b} = \\left[\n",
    "\\begin{array}{c} 4 \\\\ 1 \\\\ -3 \\\\ 4 \\end{array}\n",
    "\\right]\n",
    "$$\n",
    "The solution vector is ${\\bf x} = (−1,2,0,1)$."
   ]
  },
  {
   "cell_type": "code",
   "execution_count": 6,
   "metadata": {},
   "outputs": [
    {
     "name": "stdout",
     "output_type": "stream",
     "text": [
      "A_ij:\n",
      " [[ 1  1  0  3]\n",
      " [ 2  1 -1  1]\n",
      " [ 3 -1 -1  2]\n",
      " [-1  2  3 -1]] 2 (4, 4)\n",
      "b_j: \n",
      " [ 4  1 -3  4] 1 (4,)\n",
      "x_i: \n",
      " [-1.  2.  0.  1.] 1 (4,)\n",
      "True\n",
      "x_i: \n",
      " [-1.00000000e+00  2.00000000e+00 -7.40148683e-17  1.00000000e+00] 1 (4,)\n",
      "True\n"
     ]
    }
   ],
   "source": [
    "a=np.array([[1,1,0,3],[2,1,-1,1],[3,-1,-1,2],[-1,2,3,-1]])\n",
    "b=np.array([4,1,-3,4])\n",
    "\n",
    "a2=np.copy(a); b2=np.copy(b)\n",
    "print('A_ij:\\n',a,a.ndim,a.shape)\n",
    "print('b_j: \\n',b,b.ndim,b.shape)\n",
    "a2=np.copy(a); b2=np.copy(b)\n",
    "l,u=lin_lu_decompose(a2)\n",
    "x = lin_lu_solve(l,u,b2)\n",
    "print('x_i: \\n',x,x.ndim,x.shape)\n",
    "print(np.allclose(np.dot(a, x), b))\n",
    "\n",
    "# check against numpy solution\n",
    "a2=np.copy(a); b2=np.copy(b)\n",
    "x = np.linalg.solve(a2, b2)\n",
    "print('x_i: \\n',x,x.ndim,x.shape)\n",
    "print(np.allclose(np.dot(a, x), b))"
   ]
  },
  {
   "cell_type": "markdown",
   "metadata": {},
   "source": [
    "[next>](Numerics_lab07_det_inverse.ipynb)"
   ]
  }
 ],
 "metadata": {
  "kernelspec": {
   "display_name": "Python 3 (ipykernel)",
   "language": "python",
   "name": "python3"
  },
  "language_info": {
   "codemirror_mode": {
    "name": "ipython",
    "version": 3
   },
   "file_extension": ".py",
   "mimetype": "text/x-python",
   "name": "python",
   "nbconvert_exporter": "python",
   "pygments_lexer": "ipython3",
   "version": "3.10.8"
  }
 },
 "nbformat": 4,
 "nbformat_minor": 2
}
