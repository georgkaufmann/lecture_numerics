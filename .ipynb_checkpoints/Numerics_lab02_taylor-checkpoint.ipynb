{
 "cells": [
  {
   "cell_type": "markdown",
   "metadata": {},
   "source": [
    "<table>\n",
    "<tr><td><img style=\"height: 150px;\" src=\"images/geo_hydro1.jpg\"></td>\n",
    "<td bgcolor=\"#FFFFFF\">\n",
    "    <p style=\"font-size: xx-large; font-weight: 900; line-height: 100%\">AG Dynamics of the Earth</p>\n",
    "    <p style=\"font-size: large; color: rgba(0,0,0,0.5);\">Juypter notebooks</p>\n",
    "    <p style=\"font-size: large; color: rgba(0,0,0,0.5);\">Georg Kaufmann</p>\n",
    "    </td>\n",
    "</tr>\n",
    "</table>"
   ]
  },
  {
   "cell_type": "markdown",
   "metadata": {},
   "source": [
    "# Numerical methods: Taylor series\n",
    "----\n",
    "*Georg Kaufmann,\n",
    "Geophysics Section,\n",
    "Institute of Geological Sciences,\n",
    "Freie Universität Berlin,\n",
    "Germany*\n",
    "\n",
    "In this notebook, we approximate the function $f(x)=\\sin(x)$ with a **Taylor series expansion**. \n",
    "We first import the `python` libraries needed."
   ]
  },
  {
   "cell_type": "code",
   "execution_count": null,
   "metadata": {},
   "outputs": [],
   "source": [
    "%matplotlib inline\n",
    "import numpy as np\n",
    "import matplotlib.pyplot as plt"
   ]
  },
  {
   "cell_type": "markdown",
   "metadata": {},
   "source": [
    "## Approximate Sinus-function with Taylor series\n",
    "\n",
    "Create and plot Sinus function $f(x)=\\sin(x)$ in $x \\in [0,2\\pi]$. "
   ]
  },
  {
   "cell_type": "code",
   "execution_count": null,
   "metadata": {},
   "outputs": [],
   "source": [
    "def f(x):\n",
    "    # define function \n",
    "    y = np.sin(x)\n",
    "    return y\n",
    "\n",
    "# create variable array and calculate function\n",
    "x = np.linspace(0,2*np.pi,21)\n",
    "y = f(x)\n",
    "\n",
    "# plot function\n",
    "print (x.ndim,x.shape,x)\n",
    "print (y.ndim,y.shape,y)\n",
    "plt.plot(x,y)"
   ]
  },
  {
   "cell_type": "markdown",
   "metadata": {},
   "source": [
    "Approximate function $f(x)$ through Taylor series $P(x)$ around point $x_0$:\n",
    "$$\n",
    "P(x) \\simeq \\sum_{k=0}^{n} {{f^{(k)}(x_0)}\\over{k!}} (x-x_0)^k\n",
    "$$"
   ]
  },
  {
   "cell_type": "code",
   "execution_count": null,
   "metadata": {},
   "outputs": [],
   "source": [
    "import sys\n",
    "def df(x,n):\n",
    "    # define function and derivatives\n",
    "    if (n == 0):\n",
    "        y = np.sin(x)\n",
    "    elif (n == 1):\n",
    "        y = np.cos(x)\n",
    "    elif (n == 2):\n",
    "        y = -np.sin(x)\n",
    "    elif (n == 3):\n",
    "        y = -np.cos(x)\n",
    "    elif (n == 4):\n",
    "        y = np.sin(x)\n",
    "    elif (n == 5):\n",
    "        y = np.cos(x)\n",
    "    else:\n",
    "        sys.exit ('n > 5 not implemented')\n",
    "    return y\n",
    "\n",
    "def fac(n):\n",
    "    # define factorial\n",
    "    fac = 1\n",
    "    if (n == 0):\n",
    "        return fac\n",
    "    elif (n == 1):\n",
    "        return fac\n",
    "    else:\n",
    "        for i in np.arange(n,1,step=-1):\n",
    "            fac = fac*i\n",
    "        return fac\n",
    "\n",
    "def taylor(x,x0=0,n=2):\n",
    "    # define Taylor series\n",
    "    taylor = 0.\n",
    "    for i in np.arange(0,n+1):\n",
    "        deriv = df(x0,n=i)\n",
    "        taylor = taylor + deriv/fac(i)*(x-x0)**i\n",
    "    return taylor"
   ]
  },
  {
   "cell_type": "markdown",
   "metadata": {},
   "source": [
    "Calculate the function ..."
   ]
  },
  {
   "cell_type": "code",
   "execution_count": null,
   "metadata": {},
   "outputs": [],
   "source": [
    "# define interval and calculate function and Taylor series\n",
    "x = np.linspace(-2*np.pi,2*np.pi,41)\n",
    "y = f(x)\n",
    "y2 = taylor(x,x0=0,n=2)"
   ]
  },
  {
   "cell_type": "markdown",
   "metadata": {},
   "source": [
    "Plot the function ..."
   ]
  },
  {
   "cell_type": "code",
   "execution_count": null,
   "metadata": {},
   "outputs": [],
   "source": [
    "# plot series\n",
    "plt.ylim([-1,1])\n",
    "plt.plot(x,y,label='f(x)')\n",
    "plt.plot(x,y2,label='Taylorreihe')\n",
    "plt.legend()"
   ]
  },
  {
   "cell_type": "markdown",
   "metadata": {},
   "source": [
    "Use build-in python3 function for derivatives."
   ]
  },
  {
   "cell_type": "code",
   "execution_count": null,
   "metadata": {},
   "outputs": [],
   "source": [
    "%matplotlib inline\n",
    "import numpy as np\n",
    "from scipy.misc import derivative as deriv\n",
    "import matplotlib.pyplot as plt\n",
    "import sys\n",
    "\n",
    "def f(x):\n",
    "    y = np.sin(x)\n",
    "    return y\n",
    "\n",
    "def df(x,n):\n",
    "    # define function and derivatives\n",
    "    if (n % 2 == 0):\n",
    "        order = n+1\n",
    "    else:\n",
    "        order = n+2\n",
    "    y = deriv(f,x,dx=0.1,n=n,order=order)\n",
    "    return y\n",
    "\n",
    "def fac(n):\n",
    "    # define factorial\n",
    "    fac = 1\n",
    "    if (n == 0):\n",
    "        return fac\n",
    "    elif (n == 1):\n",
    "        return fac\n",
    "    else:\n",
    "        for i in np.arange(n,1,step=-1):\n",
    "            fac = fac*i\n",
    "        return fac\n",
    "\n",
    "def taylor(x,x0=0,n=2):\n",
    "    # define Taylor series\n",
    "    taylor = 0.\n",
    "    for i in np.arange(0,n+1):\n",
    "        deriv = df(x0,n=i)\n",
    "        taylor = taylor + deriv/fac(i)*(x-x0)**i\n",
    "    return taylor"
   ]
  },
  {
   "cell_type": "code",
   "execution_count": null,
   "metadata": {},
   "outputs": [],
   "source": [
    "# define interval and calculate function and Taylor series\n",
    "x = np.linspace(-2*np.pi,2*np.pi,41)\n",
    "y = f(x)\n",
    "y2 = taylor(x,x0=2,n=15)\n",
    "\n",
    "# plot series\n",
    "plt.ylim([-1,1])\n",
    "plt.plot(x,y,label='f(x)')\n",
    "plt.plot(x,y2,label='Taylorreihe')\n",
    "plt.legend()"
   ]
  },
  {
   "cell_type": "markdown",
   "metadata": {},
   "source": [
    "****\n",
    "## Examples\n",
    "\n",
    "1. $f(x)=e^x$\n",
    "\n",
    "The Taylor series for $x_0=0$ is\n",
    "$$\n",
    "T(x)= \\sum\\limits_{n=0}^{\\infty} \\frac{x^n}{n!}\n",
    "$$"
   ]
  },
  {
   "cell_type": "code",
   "execution_count": null,
   "metadata": {},
   "outputs": [],
   "source": [
    "def factorial(n):\n",
    "    factorial = np.prod(range(1,n+1))\n",
    "    return factorial"
   ]
  },
  {
   "cell_type": "code",
   "execution_count": null,
   "metadata": {},
   "outputs": [],
   "source": [
    "\"\"\"\n",
    "Taylor series of exponential function\n",
    "\"\"\"\n",
    "a=-3\n",
    "b=3\n",
    "n=41\n",
    "x=np.linspace(a,b,n)\n",
    "y=np.exp(x)\n",
    "T0=np.ones(n)\n",
    "T1=1+x\n",
    "T2=1+x+x**2/factorial(2)\n",
    "T3=1+x+x**2/factorial(2)+x**3/factorial(3)\n",
    "\n",
    "plt.figure(figsize=(12,8))\n",
    "plt.xlim([a,b])\n",
    "plt.ylim([0,20])\n",
    "plt.xlabel('x')\n",
    "plt.ylabel('y')\n",
    "plt.title('Exponential function')\n",
    "plt.plot(x,y,linewidth=5,color='black',label='exp(x)')\n",
    "plt.plot(x,T0,label='T$_0$')\n",
    "plt.plot(x,T1,label='T$_1$')\n",
    "plt.plot(x,T2,label='T$_2$')\n",
    "plt.plot(x,T3,label='T$_3$')\n",
    "plt.legend()"
   ]
  },
  {
   "cell_type": "markdown",
   "metadata": {},
   "source": [
    "2. $f(x)=\\frac{1}{1-x}$\n",
    "\n",
    "The Taylor series for $x_0=0$ is\n",
    "$$\n",
    "T(x)= \\sum\\limits_{n=0}^{\\infty} x^n\n",
    "$$"
   ]
  },
  {
   "cell_type": "code",
   "execution_count": null,
   "metadata": {},
   "outputs": [],
   "source": [
    "\"\"\"\n",
    "Taylor series of geometrical series\n",
    "\"\"\"\n",
    "a=-2\n",
    "b=0.9\n",
    "n=41\n",
    "x=np.linspace(a,b,n)\n",
    "y=1/(1-x)\n",
    "T0=np.ones(n)\n",
    "T1=1+x\n",
    "T2=1+x+x**2\n",
    "T3=1+x+x**2+x**3\n",
    "\n",
    "plt.figure(figsize=(12,8))\n",
    "plt.xlim([a,b])\n",
    "#plt.ylim([0,20])\n",
    "plt.xlabel('x')\n",
    "plt.ylabel('y')\n",
    "plt.title('Geometric series')\n",
    "plt.plot(x,y,linewidth=5,color='black',label='1/(1-x)')\n",
    "plt.plot(x,T0,label='T$_0$')\n",
    "plt.plot(x,T1,label='T$_1$')\n",
    "plt.plot(x,T2,label='T$_2$')\n",
    "plt.plot(x,T3,label='T$_3$')\n",
    "plt.legend()"
   ]
  },
  {
   "cell_type": "markdown",
   "metadata": {},
   "source": [
    "3. $f(x)=\\sin(x)$\n",
    "\n",
    "The Taylor series for $x_0=0$ is\n",
    "$$\n",
    "T(x)= \\sum\\limits_{n=0}^{\\infty} \\frac{(-1)^n}{(2n+1)!} x^{2n+1}\n",
    "$$"
   ]
  },
  {
   "cell_type": "code",
   "execution_count": null,
   "metadata": {},
   "outputs": [],
   "source": [
    "\"\"\"\n",
    "Taylor series of sine\n",
    "\"\"\"\n",
    "a=-np.pi\n",
    "b=np.pi\n",
    "n=41\n",
    "x=np.linspace(a,b,n)\n",
    "y=np.sin(x)\n",
    "T0=x\n",
    "T1=x-x**3/factorial(3)\n",
    "T2=x-x**3/factorial(3)+x**5/factorial(5)\n",
    "T3=x-x**3/factorial(3)+x**5/factorial(5)-x**7/factorial(7)\n",
    "\n",
    "plt.figure(figsize=(12,8))\n",
    "plt.xlim([a,b])\n",
    "plt.ylim([-3,3])\n",
    "plt.xlabel('x')\n",
    "plt.ylabel('y')\n",
    "plt.title('Sine')\n",
    "plt.plot(x,y,linewidth=5,color='black',label='sin(x)')\n",
    "plt.plot(x,T0,label='T$_0$')\n",
    "plt.plot(x,T1,label='T$_1$')\n",
    "plt.plot(x,T2,label='T$_2$')\n",
    "plt.plot(x,T3,label='T$_3$')\n",
    "plt.legend()"
   ]
  },
  {
   "cell_type": "markdown",
   "metadata": {},
   "source": [
    "4. $f(x)=\\cos(x)$\n",
    "\n",
    "The Taylor series for $x_0=0$ is\n",
    "$$\n",
    "T(x)= \\sum\\limits_{n=0}^{\\infty} \\frac{(-1)^n}{(2n)!} x^{2n}\n",
    "$$"
   ]
  },
  {
   "cell_type": "code",
   "execution_count": null,
   "metadata": {},
   "outputs": [],
   "source": [
    "\"\"\"\n",
    "Taylor series of cosine\n",
    "\"\"\"\n",
    "a=-np.pi\n",
    "b=np.pi\n",
    "n=41\n",
    "x=np.linspace(a,b,n)\n",
    "y=np.cos(x)\n",
    "T0=np.ones(n)\n",
    "T1=1-x**2/factorial(2)\n",
    "T2=1-x**2/factorial(2)+x**4/factorial(4)\n",
    "T3=1-x**2/factorial(2)+x**4/factorial(4)-x**6/factorial(6)\n",
    "\n",
    "plt.figure(figsize=(12,8))\n",
    "plt.xlim([a,b])\n",
    "plt.ylim([-3,3])\n",
    "plt.xlabel('x')\n",
    "plt.ylabel('y')\n",
    "plt.title('Cosine')\n",
    "plt.plot(x,y,linewidth=5,color='black',label='cos(x)')\n",
    "plt.plot(x,T0,label='T$_0$')\n",
    "plt.plot(x,T1,label='T$_1$')\n",
    "plt.plot(x,T2,label='T$_2$')\n",
    "plt.plot(x,T3,label='T$_3$')\n",
    "plt.legend()"
   ]
  },
  {
   "cell_type": "markdown",
   "metadata": {},
   "source": [
    "****\n",
    "## Weird function to play with ..."
   ]
  },
  {
   "cell_type": "code",
   "execution_count": null,
   "metadata": {},
   "outputs": [],
   "source": [
    "n=401\n",
    "x=np.linspace(-0.15*np.pi,0.15*np.pi,n)\n",
    "y=np.zeros(n)\n",
    "for i in range(len(x)):\n",
    "    if(x[i]!=0):\n",
    "       y[i]=x[i]*np.sin(1/x[i])\n",
    "#y=x*np.sin(1/x)\n",
    "plt.plot([-0.15*np.pi,0.15*np.pi],[0.,0.])\n",
    "plt.plot(x,y)"
   ]
  },
  {
   "cell_type": "markdown",
   "metadata": {},
   "source": [
    "... done"
   ]
  }
 ],
 "metadata": {
  "kernelspec": {
   "display_name": "Python 3",
   "language": "python",
   "name": "python3"
  },
  "language_info": {
   "codemirror_mode": {
    "name": "ipython",
    "version": 3
   },
   "file_extension": ".py",
   "mimetype": "text/x-python",
   "name": "python",
   "nbconvert_exporter": "python",
   "pygments_lexer": "ipython3",
   "version": "3.7.3"
  }
 },
 "nbformat": 4,
 "nbformat_minor": 1
}
