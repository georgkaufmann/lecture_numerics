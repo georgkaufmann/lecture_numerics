{
 "cells": [
  {
   "cell_type": "markdown",
   "metadata": {},
   "source": [
    "----\n",
    "# Working with libraries"
   ]
  },
  {
   "cell_type": "code",
   "execution_count": 13,
   "metadata": {},
   "outputs": [
    {
     "name": "stdout",
     "output_type": "stream",
     "text": [
      "Name:     numerics\n",
      "File:     None\n",
      "Package:  numerics\n",
      "dir:    ['__doc__', '__file__', '__loader__', '__name__', '__package__', '__path__', '__spec__', 'roots']\n",
      "Help on package numerics:\n",
      "\n",
      "NAME\n",
      "    numerics\n",
      "\n",
      "PACKAGE CONTENTS\n",
      "    _integrate\n",
      "    _ode\n",
      "    _pde\n",
      "    change_fonts\n",
      "    diff\n",
      "    dummy\n",
      "    fitting\n",
      "    integrate\n",
      "    interpolate\n",
      "    lingl\n",
      "    roots\n",
      "\n",
      "FILE\n",
      "    (built-in)\n",
      "\n",
      "\n",
      "None\n"
     ]
    }
   ],
   "source": [
    "import numerics\n",
    "\n",
    "print ('Name:    ',numerics.__name__)\n",
    "print ('File:    ',numerics.__file__)\n",
    "print ('Package: ',numerics.__package__)\n",
    "\n",
    "print ('dir:   ',dir(numerics))\n",
    "print(help(numerics))"
   ]
  },
  {
   "cell_type": "code",
   "execution_count": 12,
   "metadata": {},
   "outputs": [
    {
     "name": "stdout",
     "output_type": "stream",
     "text": [
      "Name:     numerics.roots\n",
      "File:     /Users/kaufmann/Documents/UNI/TEACHING/Lectures/Lecture_NumericalMethods/jupyter/numerics/roots.py\n",
      "Package:  numerics\n",
      "dir:      ['__builtins__', '__cached__', '__doc__', '__file__', '__loader__', '__name__', '__package__', '__spec__', 'root_bisection', 'root_bracket', 'root_newton', 'root_secant']\n"
     ]
    }
   ],
   "source": [
    "import numerics.roots\n",
    "print ('Name:    ',numerics.roots.__name__)\n",
    "print ('File:    ',numerics.roots.__file__)\n",
    "print ('Package: ',numerics.roots.__package__)\n",
    "print ('dir:     ',dir(numerics.roots))\n",
    "#print(help(numerics.roots))"
   ]
  },
  {
   "cell_type": "code",
   "execution_count": 6,
   "metadata": {},
   "outputs": [
    {
     "name": "stdout",
     "output_type": "stream",
     "text": [
      "\n",
      "    ----------------------------------------------\n",
      "    Bracket possible roots of a function f in the\n",
      "    interval x in [a,b] by dividing the\n",
      "    interval in n sub-intervals and searching\n",
      "    for sign changes of the function\n",
      "    input:\n",
      "    f       - function\n",
      "    a       - left boundary\n",
      "    b       - right boundary\n",
      "    n       - number of sub-intervals\n",
      "    output:\n",
      "    nb      - number of intervals with roots\n",
      "    xb1[nb] - left interval boundaries\n",
      "    xb1[nb] - right interval boundaries\n",
      "    needs:\n",
      "    -   \n",
      "    from: Lecture Numerical methods in geoscience\n",
      "    ----------------------------------------------\n",
      "    \n",
      "\n",
      "    ----------------------------------------------\n",
      "    Find root of a function f in the interval [a,b]\n",
      "    with the bisection method\n",
      "    The interval should contain a sign change\n",
      "    Use root_bracket() before ...\n",
      "    input:\n",
      "    f       - function\n",
      "    a       - left boundary of bracketed interval\n",
      "    b       - right boundary of bracketed interval\n",
      "    tol     - accuracy for root\n",
      "    output:\n",
      "    root_bisection - x coordinate of root\n",
      "    needs:\n",
      "    -   \n",
      "    from: Lecture Numerical methods in geoscience\n",
      "    ----------------------------------------------\n",
      "    \n"
     ]
    }
   ],
   "source": [
    "print (numerics.roots.root_bracket.__doc__)\n",
    "print (numerics.roots.root_bisection.__doc__)"
   ]
  },
  {
   "cell_type": "code",
   "execution_count": null,
   "metadata": {},
   "outputs": [],
   "source": []
  }
 ],
 "metadata": {
  "kernelspec": {
   "display_name": "Python 3",
   "language": "python",
   "name": "python3"
  },
  "language_info": {
   "codemirror_mode": {
    "name": "ipython",
    "version": 3
   },
   "file_extension": ".py",
   "mimetype": "text/x-python",
   "name": "python",
   "nbconvert_exporter": "python",
   "pygments_lexer": "ipython3",
   "version": "3.7.3"
  }
 },
 "nbformat": 4,
 "nbformat_minor": 2
}
