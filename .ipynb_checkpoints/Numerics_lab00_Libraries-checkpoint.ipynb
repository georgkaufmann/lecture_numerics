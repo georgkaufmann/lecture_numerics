{
 "cells": [
  {
   "cell_type": "markdown",
   "metadata": {},
   "source": [
    "<table>\n",
    "<tr><td><img style=\"height: 150px;\" src=\"images/geo_hydro1.jpg\"></td>\n",
    "<td bgcolor=\"#FFFFFF\">\n",
    "    <p style=\"font-size: xx-large; font-weight: 900; line-height: 100%\">AG Dynamics of the Earth</p>\n",
    "    <p style=\"font-size: large; color: rgba(0,0,0,0.5);\">Jupyter notebooks</p>\n",
    "    <p style=\"font-size: large; color: rgba(0,0,0,0.5);\">Georg Kaufmann</p>\n",
    "    </td>\n",
    "</tr>\n",
    "</table>"
   ]
  },
  {
   "cell_type": "markdown",
   "metadata": {},
   "source": [
    "----\n",
    "# Working with libraries\n",
    "\n",
    "Most of the functionality of `python` is stored as `libraries`.\n",
    "These libraries contain all **functions** and methods belonging to a **package**.\n",
    "\n",
    "Take the two often used libraries in this tutorial:\n",
    "- `numpy:` \"The fundamental package for scientific computing with Python\"\n",
    "- `matplotlib.pyplot:` \"is a state-based interface to matplotlib. It provides an implicit, MATLAB-like, way of plotting. It also opens figures on your screen, and acts as the figure GUI manage\"\n",
    "\n",
    "As example, we use the `numpy` library to check its contents.\n",
    "- We first import the library with `import numpy`\n",
    "- Then we check its contents with:\n",
    "    - `numpy.__name__`: Name of package\n",
    "    - `numpy.__file__`: location of library file\n",
    "    - `numpy.__package__`: Package label\n",
    "    - `numpy.__doc_`: **Extensive** documentation"
   ]
  },
  {
   "cell_type": "code",
   "execution_count": 3,
   "metadata": {},
   "outputs": [
    {
     "name": "stdout",
     "output_type": "stream",
     "text": [
      "Name:     numpy\n",
      "File:     /opt/miniconda3/envs/python_R/lib/python3.10/site-packages/numpy/__init__.py\n",
      "Package:  numpy\n"
     ]
    }
   ],
   "source": [
    "import numpy\n",
    "print ('Name:    ',numpy.__name__)\n",
    "print ('File:    ',numpy.__file__)\n",
    "print ('Package: ',numpy.__package__)\n",
    "#print ('doc:     ',numpy.__doc__)"
   ]
  },
  {
   "cell_type": "markdown",
   "metadata": {},
   "source": [
    "----\n",
    "## Own libraries\n",
    "\n",
    "We can pack our functions also in libraries by simily creating a file, e.g. `diff.py`.\n",
    "In our case, this library file is kept in a directory, `numerics`, which holds many library\n",
    "files."
   ]
  },
  {
   "cell_type": "code",
   "execution_count": 4,
   "metadata": {},
   "outputs": [
    {
     "name": "stdout",
     "output_type": "stream",
     "text": [
      "\u001b[34m__pycache__\u001b[m\u001b[m      change_fonts.py  initialvalue.py  lingl.py\r\n",
      "_integrate.py    diff.py          integrate.py     \u001b[34mold\u001b[m\u001b[m\r\n",
      "_ode.py          dummy.py         interpolate.py   roots.py\r\n",
      "_pde.py          fitting.py       linearsystems.py\r\n"
     ]
    }
   ],
   "source": [
    "!ls numerics"
   ]
  },
  {
   "cell_type": "markdown",
   "metadata": {},
   "source": [
    "We first check the `numerics` directory with the commands introduced above."
   ]
  },
  {
   "cell_type": "code",
   "execution_count": 6,
   "metadata": {},
   "outputs": [
    {
     "name": "stdout",
     "output_type": "stream",
     "text": [
      "Name:     numerics\n",
      "File:     None\n",
      "Package:  numerics\n",
      "doc:      None\n"
     ]
    }
   ],
   "source": [
    "import numerics\n",
    "\n",
    "print ('Name:    ',numerics.__name__)\n",
    "print ('File:    ',numerics.__file__)\n",
    "print ('Package: ',numerics.__package__)\n",
    "print ('doc:     ',numerics.__doc__)"
   ]
  },
  {
   "cell_type": "markdown",
   "metadata": {},
   "source": [
    "The information we get is rather short, the name, no file (as it is a directory), no documentation.\n",
    "\n",
    "We explore the `numerics` directory with the `help()` function:"
   ]
  },
  {
   "cell_type": "code",
   "execution_count": 7,
   "metadata": {},
   "outputs": [
    {
     "name": "stdout",
     "output_type": "stream",
     "text": [
      "Help on package numerics:\n",
      "\n",
      "NAME\n",
      "    numerics\n",
      "\n",
      "PACKAGE CONTENTS\n",
      "    _integrate\n",
      "    _ode\n",
      "    _pde\n",
      "    change_fonts\n",
      "    diff\n",
      "    dummy\n",
      "    fitting\n",
      "    initialvalue\n",
      "    integrate\n",
      "    interpolate\n",
      "    linearsystems\n",
      "    lingl\n",
      "    roots\n",
      "\n",
      "FILE\n",
      "    (built-in)\n",
      "\n",
      "\n",
      "None\n"
     ]
    }
   ],
   "source": [
    "print(help(numerics))"
   ]
  },
  {
   "cell_type": "markdown",
   "metadata": {},
   "source": [
    "The `help()` function lists the package content, thus also all the **individual library files**.\n",
    "\n",
    "We continue exploring an individual library, `numerics.roots`.\n",
    "- Import the library first with `import numerics.roots`\n",
    "- Check its name, content, ..."
   ]
  },
  {
   "cell_type": "code",
   "execution_count": 9,
   "metadata": {},
   "outputs": [
    {
     "name": "stdout",
     "output_type": "stream",
     "text": [
      "Name:     numerics.roots\n",
      "File:     /Users/kaufmann/Documents/UNI/TEACHING/Lectures/Lecture_NumericalMethods/jupyter/numerics/roots.py\n",
      "Package:  numerics\n",
      "doc:      \n",
      "===============================================\n",
      "Lecture: Numerical methods in Geosciences\n",
      "Chapter 03: Roots\n",
      "(c) Georg Kaufmann\n",
      "===============================================\n",
      "\n"
     ]
    }
   ],
   "source": [
    "import numerics.roots\n",
    "print ('Name:    ',numerics.roots.__name__)\n",
    "print ('File:    ',numerics.roots.__file__)\n",
    "print ('Package: ',numerics.roots.__package__)\n",
    "print ('doc:     ',numerics.roots.__doc__)"
   ]
  },
  {
   "cell_type": "markdown",
   "metadata": {},
   "source": [
    "Note that the `numerics.roots.__doc__` command lists an overview text for the library\n",
    "`numerics.root`.\n",
    "\n",
    "Using the `help()` function, we list all functions in the library, which their so-called **doc-string**,\n",
    "if present:"
   ]
  },
  {
   "cell_type": "code",
   "execution_count": 11,
   "metadata": {},
   "outputs": [
    {
     "name": "stdout",
     "output_type": "stream",
     "text": [
      "Help on module numerics.roots in numerics:\n",
      "\n",
      "NAME\n",
      "    numerics.roots\n",
      "\n",
      "DESCRIPTION\n",
      "    ===============================================\n",
      "    Lecture: Numerical methods in Geosciences\n",
      "    Chapter 03: Roots\n",
      "    (c) Georg Kaufmann\n",
      "    ===============================================\n",
      "\n",
      "FUNCTIONS\n",
      "    root_bisection(f, a, b, tol)\n",
      "        ----------------------------------------------\n",
      "        Find root of a function f in the interval [a,b]\n",
      "        with the bisection method\n",
      "        The interval should contain a sign change\n",
      "        Use root_bracket() before ...\n",
      "        input:\n",
      "        f       - function\n",
      "        a       - left boundary of bracketed interval\n",
      "        b       - right boundary of bracketed interval\n",
      "        tol     - accuracy for root\n",
      "        output:\n",
      "        root_bisection - x coordinate of root\n",
      "        needs:\n",
      "        -   \n",
      "        from: Lecture Numerical methods in geoscience\n",
      "        ----------------------------------------------\n",
      "    \n",
      "    root_bracket(f, a, b, n)\n",
      "        ----------------------------------------------\n",
      "        Bracket possible roots of a function f in the\n",
      "        interval x in [a,b] by dividing the\n",
      "        interval in n sub-intervals and searching\n",
      "        for sign changes of the function\n",
      "        input:\n",
      "        f       - function\n",
      "        a       - left boundary\n",
      "        b       - right boundary\n",
      "        n       - number of sub-intervals\n",
      "        output:\n",
      "        nb      - number of intervals with roots\n",
      "        xb1[nb] - left interval boundaries\n",
      "        xb1[nb] - right interval boundaries\n",
      "        needs:\n",
      "        -   \n",
      "        from: Lecture Numerical methods in geoscience\n",
      "        ----------------------------------------------\n",
      "    \n",
      "    root_newton(f, df, a, tol)\n",
      "        ----------------------------------------------\n",
      "        Find root of a function f close to point a\n",
      "        with the Newton-Raphson method\n",
      "        input:\n",
      "        a           - initial gues of root\n",
      "        f,df        - function and its first derivative\n",
      "        acc         - desired tolerance \n",
      "        output:\n",
      "        root_newton - root\n",
      "        needs:\n",
      "        -   \n",
      "        from: Lecture Numerical methods in geoscience\n",
      "        ----------------------------------------------\n",
      "    \n",
      "    root_secant(f, a, b, tol)\n",
      "        ----------------------------------------------\n",
      "        Find root of a function f in the interval [a,b]\n",
      "        with the secant method\n",
      "        The interval should contain a sign change\n",
      "        Use root_bracket() before ...\n",
      "        input:\n",
      "        f       - function\n",
      "        a       - left boundary of bracketed interval\n",
      "        b       - right boundary of bracketed interval\n",
      "        tol     - accuracy for root\n",
      "        output:\n",
      "        root_secant - x coordinate of root\n",
      "        needs:\n",
      "        -   \n",
      "        from: Lecture Numerical methods in geoscience\n",
      "        ----------------------------------------------\n",
      "\n",
      "FILE\n",
      "    /Users/kaufmann/Documents/UNI/TEACHING/Lectures/Lecture_NumericalMethods/jupyter/numerics/roots.py\n",
      "\n",
      "\n",
      "None\n"
     ]
    }
   ],
   "source": [
    "print (help(numerics.roots))"
   ]
  },
  {
   "cell_type": "markdown",
   "metadata": {},
   "source": [
    "The **structure** of the library `numerics.root` is simple:\n",
    "- a header multi-line string `\"\"\" text \"\"\"`,\n",
    "- then each function, also with a header string."
   ]
  },
  {
   "cell_type": "raw",
   "metadata": {},
   "source": [
    "\"\"\"\n",
    "Lecture: Numerical methods in Geosciences\n",
    "Chapter 05: Differentiation\n",
    "(c) Georg Kaufmann\n",
    "\"\"\"\n",
    "\n",
    "\n",
    "def diff_forward2 (f,x,h):\n",
    "    '''\n",
    "    ----------------------------------------------\n",
    "    approximate the first derivative of f(x), using \n",
    "    the two-point forward (or backward) method\n",
    "    input:\n",
    "    f        - external function\n",
    "    x        - evalution point\n",
    "    h        - stepsize\n",
    "    f        - external function\n",
    "    output:\n",
    "    df   - value of derivative\n",
    "    needs:\n",
    "    -   \n",
    "    from: Lecture Numerical methods in geoscience\n",
    "    ----------------------------------------------\n",
    "    '''\n",
    "    df = (f(x+h) - f(x)) / h\n",
    "    return df\n",
    "    \n",
    "..."
   ]
  },
  {
   "cell_type": "markdown",
   "metadata": {},
   "source": [
    "Next, we list the doc-string of an individual function, either with\n",
    "a `print()` command, or the `help()` command."
   ]
  },
  {
   "cell_type": "code",
   "execution_count": 12,
   "metadata": {},
   "outputs": [
    {
     "name": "stdout",
     "output_type": "stream",
     "text": [
      "\n",
      "    ----------------------------------------------\n",
      "    Bracket possible roots of a function f in the\n",
      "    interval x in [a,b] by dividing the\n",
      "    interval in n sub-intervals and searching\n",
      "    for sign changes of the function\n",
      "    input:\n",
      "    f       - function\n",
      "    a       - left boundary\n",
      "    b       - right boundary\n",
      "    n       - number of sub-intervals\n",
      "    output:\n",
      "    nb      - number of intervals with roots\n",
      "    xb1[nb] - left interval boundaries\n",
      "    xb1[nb] - right interval boundaries\n",
      "    needs:\n",
      "    -   \n",
      "    from: Lecture Numerical methods in geoscience\n",
      "    ----------------------------------------------\n",
      "    \n",
      "Help on function root_bisection in module numerics.roots:\n",
      "\n",
      "root_bisection(f, a, b, tol)\n",
      "    ----------------------------------------------\n",
      "    Find root of a function f in the interval [a,b]\n",
      "    with the bisection method\n",
      "    The interval should contain a sign change\n",
      "    Use root_bracket() before ...\n",
      "    input:\n",
      "    f       - function\n",
      "    a       - left boundary of bracketed interval\n",
      "    b       - right boundary of bracketed interval\n",
      "    tol     - accuracy for root\n",
      "    output:\n",
      "    root_bisection - x coordinate of root\n",
      "    needs:\n",
      "    -   \n",
      "    from: Lecture Numerical methods in geoscience\n",
      "    ----------------------------------------------\n",
      "\n"
     ]
    }
   ],
   "source": [
    "print (numerics.roots.root_bracket.__doc__)\n",
    "help (numerics.roots.root_bisection)"
   ]
  },
  {
   "cell_type": "markdown",
   "metadata": {},
   "source": [
    "Finally, we \n",
    "\n",
    "- load the library `numerics.change_fonts`,\n",
    "- list its content with `help()`\n",
    "- use the function `numerics.change_fonts.change_fontsize(SMALL_SIZE=15)`with its full path"
   ]
  },
  {
   "cell_type": "code",
   "execution_count": 14,
   "metadata": {},
   "outputs": [
    {
     "name": "stdout",
     "output_type": "stream",
     "text": [
      "Help on module numerics.change_fonts in numerics:\n",
      "\n",
      "NAME\n",
      "    numerics.change_fonts\n",
      "\n",
      "DESCRIPTION\n",
      "    Lecture: Numerical methods in Geosciences\n",
      "    General routines\n",
      "    (c) Georg Kaufmann\n",
      "\n",
      "FUNCTIONS\n",
      "    change_fontsize(SMALL_SIZE=15, MEDIUM_SIZE=20, BIGGER_SIZE=25)\n",
      "        re-set matplotlib fonts with three different sizes:\n",
      "        SMALL_SIZE=15 (default)\n",
      "        MEDIUM_SIZE=20 (default)\n",
      "        BIGGER_SIZE=25 (default)\n",
      "\n",
      "FILE\n",
      "    /Users/kaufmann/Documents/UNI/TEACHING/Lectures/Lecture_NumericalMethods/jupyter/numerics/change_fonts.py\n",
      "\n",
      "\n"
     ]
    }
   ],
   "source": [
    "import numerics.change_fonts\n",
    "help(numerics.change_fonts)\n",
    "numerics.change_fonts.change_fontsize(SMALL_SIZE=15)"
   ]
  },
  {
   "cell_type": "markdown",
   "metadata": {},
   "source": [
    "... done"
   ]
  }
 ],
 "metadata": {
  "kernelspec": {
   "display_name": "Python 3 (ipykernel)",
   "language": "python",
   "name": "python3"
  },
  "language_info": {
   "codemirror_mode": {
    "name": "ipython",
    "version": 3
   },
   "file_extension": ".py",
   "mimetype": "text/x-python",
   "name": "python",
   "nbconvert_exporter": "python",
   "pygments_lexer": "ipython3",
   "version": "3.10.8"
  }
 },
 "nbformat": 4,
 "nbformat_minor": 2
}
