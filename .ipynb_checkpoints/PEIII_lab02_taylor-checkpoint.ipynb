{
 "cells": [
  {
   "cell_type": "markdown",
   "metadata": {},
   "source": [
    "# Chapter02: Taylor series\n",
    "***\n",
    "\n",
    "## Approximate Sinus-function with Taylor series\n",
    "\n",
    "Create and plot Sinus function $f(x)=\\sin(x)$ in $x \\in [0,2\\pi]$. "
   ]
  },
  {
   "cell_type": "code",
   "execution_count": null,
   "metadata": {
    "collapsed": false
   },
   "outputs": [],
   "source": [
    "%matplotlib inline\n",
    "import numpy as np\n",
    "import matplotlib.pyplot as plt\n",
    "def f(x):\n",
    "    y = np.sin(x)\n",
    "    return y\n",
    "\n",
    "x = np.linspace(0,2*np.pi,21)\n",
    "y = f(x)\n",
    "print (x.ndim,x.shape,x)\n",
    "print (y.ndim,y.shape,y)\n",
    "plt.plot(x,y)"
   ]
  },
  {
   "cell_type": "markdown",
   "metadata": {},
   "source": [
    "Approximate function $f(x)$ through Taylor series $P(x)$ around point $x_0$:\n",
    "$$\n",
    "P(x) = \\sum_{k=0}^{n} {{f^{(k)}(x_0)}\\over{k!}} (x-x_0)^k\n",
    "$$"
   ]
  },
  {
   "cell_type": "code",
   "execution_count": null,
   "metadata": {
    "collapsed": false
   },
   "outputs": [],
   "source": [
    "%matplotlib inline\n",
    "import numpy as np\n",
    "import matplotlib.pyplot as plt\n",
    "import sys\n",
    "\n",
    "def df(x,n):\n",
    "    # define function and derivatives\n",
    "    if (n == 0):\n",
    "        y = np.sin(x)\n",
    "    elif (n == 1):\n",
    "        y = np.cos(x)\n",
    "    elif (n == 2):\n",
    "        y = -np.sin(x)\n",
    "    elif (n == 3):\n",
    "        y = -np.cos(x)\n",
    "    elif (n == 4):\n",
    "        y = np.sin(x)\n",
    "    elif (n == 5):\n",
    "        y = np.cos(x)\n",
    "    else:\n",
    "        sys.exit ('n > 5 not implemented')\n",
    "    return y\n",
    "\n",
    "def fac(n):\n",
    "    # define factorial\n",
    "    fac = 1\n",
    "    if (n == 0):\n",
    "        return fac\n",
    "    elif (n == 1):\n",
    "        return fac\n",
    "    else:\n",
    "        for i in np.arange(n,1,step=-1):\n",
    "            fac = fac*i\n",
    "        return fac\n",
    "\n",
    "def taylor(x,x0=0,n=2):\n",
    "    # define Taylor series\n",
    "    taylor = 0.\n",
    "    for i in np.arange(0,n+1):\n",
    "        deriv = df(x0,n=i)\n",
    "        taylor = taylor + deriv/fac(i)*(x-x0)**i\n",
    "    return taylor\n",
    "\n",
    "# define interval and calculate function and Taylor series\n",
    "x = np.linspace(-2*np.pi,2*np.pi,41)\n",
    "y = f(x)\n",
    "y2 = taylor(x,x0=0,n=0)\n",
    "\n",
    "# plot series\n",
    "plt.ylim([-1,1])\n",
    "plt.plot(x,y)\n",
    "plt.plot(x,y2)"
   ]
  },
  {
   "cell_type": "markdown",
   "metadata": {},
   "source": [
    "Use build-in python3 function for derivatives."
   ]
  },
  {
   "cell_type": "code",
   "execution_count": null,
   "metadata": {
    "collapsed": false
   },
   "outputs": [],
   "source": [
    "%matplotlib inline\n",
    "import numpy as np\n",
    "from scipy.misc import derivative as deriv\n",
    "import matplotlib.pyplot as plt\n",
    "import sys\n",
    "\n",
    "def f(x):\n",
    "    y = np.sin(x)\n",
    "    return y\n",
    "\n",
    "def df(x,n):\n",
    "    # define function and derivatives\n",
    "    if (n % 2 == 0):\n",
    "        order = n+1\n",
    "    else:\n",
    "        order = n+2\n",
    "    y = deriv(f,x,dx=0.1,n=n,order=order)\n",
    "    return y\n",
    "\n",
    "def fac(n):\n",
    "    # define factorial\n",
    "    fac = 1\n",
    "    if (n == 0):\n",
    "        return fac\n",
    "    elif (n == 1):\n",
    "        return fac\n",
    "    else:\n",
    "        for i in np.arange(n,1,step=-1):\n",
    "            fac = fac*i\n",
    "        return fac\n",
    "\n",
    "def taylor(x,x0=0,n=2):\n",
    "    # define Taylor series\n",
    "    taylor = 0.\n",
    "    for i in np.arange(0,n+1):\n",
    "        deriv = df(x0,n=i)\n",
    "        taylor = taylor + deriv/fac(i)*(x-x0)**i\n",
    "    return taylor\n",
    "\n",
    "# define interval and calculate function and Taylor series\n",
    "x = np.linspace(-2*np.pi,2*np.pi,41)\n",
    "y = f(x)\n",
    "y2 = taylor(x,x0=0,n=2)\n",
    "\n",
    "# plot series\n",
    "plt.ylim([-1,1])\n",
    "plt.plot(x,y)\n",
    "plt.plot(x,y2)"
   ]
  },
  {
   "cell_type": "code",
   "execution_count": null,
   "metadata": {
    "collapsed": true
   },
   "outputs": [],
   "source": []
  }
 ],
 "metadata": {
  "kernelspec": {
   "display_name": "Python 3",
   "language": "python",
   "name": "python3"
  },
  "language_info": {
   "codemirror_mode": {
    "name": "ipython",
    "version": 3
   },
   "file_extension": ".py",
   "mimetype": "text/x-python",
   "name": "python",
   "nbconvert_exporter": "python",
   "pygments_lexer": "ipython3",
   "version": "3.4.8"
  }
 },
 "nbformat": 4,
 "nbformat_minor": 0
}
