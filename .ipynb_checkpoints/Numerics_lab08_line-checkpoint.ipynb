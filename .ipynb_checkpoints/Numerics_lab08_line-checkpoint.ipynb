{
 "cells": [
  {
   "cell_type": "markdown",
   "metadata": {},
   "source": [
    "<table>\n",
    "<tr><td><img style=\"height: 150px;\" src=\"images/geo_hydro1.jpg\"></td>\n",
    "<td bgcolor=\"#FFFFFF\">\n",
    "    <p style=\"font-size: xx-large; font-weight: 900; line-height: 100%\">AG Dynamics of the Earth</p>\n",
    "    <p style=\"font-size: large; color: rgba(0,0,0,0.5);\">Juypter notebooks</p>\n",
    "    <p style=\"font-size: large; color: rgba(0,0,0,0.5);\">Georg Kaufmann</p>\n",
    "    </td>\n",
    "</tr>\n",
    "</table>"
   ]
  },
  {
   "cell_type": "markdown",
   "metadata": {},
   "source": [
    "# Numerical methods:  8. Optimisation\n",
    "## Linear fit with straight line\n",
    "----\n",
    "*Georg Kaufmann,\n",
    "Geophysics Section,\n",
    "Institute of Geological Sciences,\n",
    "Freie Universität Berlin,\n",
    "Germany*"
   ]
  },
  {
   "cell_type": "code",
   "execution_count": null,
   "metadata": {},
   "outputs": [],
   "source": [
    "import numpy as np\n",
    "import matplotlib.pyplot as plt\n",
    "import csv\n",
    "import scipy.optimize\n",
    "\n",
    "import numerics.change_fonts\n",
    "numerics.change_fonts.change_fontsize()"
   ]
  },
  {
   "cell_type": "markdown",
   "metadata": {},
   "source": [
    "## Load and plot test data\n",
    "\n",
    "The test data set are **beach lines** from Richmond Gulf, an area along the shores of Hudson Bay in Canada.\n",
    "\n",
    "We load the data set with the `csv` package:"
   ]
  },
  {
   "cell_type": "code",
   "execution_count": null,
   "metadata": {},
   "outputs": [],
   "source": [
    "csvfile = open('data/fit_richmondgulf.in', newline='')\n",
    "beachlines = csv.reader(csvfile)\n",
    "next(beachlines)\n",
    "i=0\n",
    "tobs=np.array([])\n",
    "terr=np.array([])\n",
    "hobs=np.array([])\n",
    "herr=np.array([])\n",
    "for row in beachlines:\n",
    "    #print (row[0].split())\n",
    "    tobs = np.append(tobs,float(row[0].split()[0]))\n",
    "    terr = np.append(terr,float(row[0].split()[1]))\n",
    "    hobs = np.append(hobs,float(row[0].split()[2]))\n",
    "    herr = np.append(herr,float(row[0].split()[3]))\n",
    "    i=i+1"
   ]
  },
  {
   "cell_type": "code",
   "execution_count": null,
   "metadata": {},
   "outputs": [],
   "source": [
    "plt.figure(figsize=(10,6))\n",
    "plt.title('Richmond Gulf, Hudson Bay, Canada')\n",
    "plt.xlim([10000,0])\n",
    "plt.ylim([0,320])\n",
    "plt.xlabel('Time [a]')\n",
    "plt.ylabel('Relative sea level [m]')\n",
    "plt.errorbar(tobs,hobs,xerr=terr,yerr=herr,linewidth=0,elinewidth=3,ecolor='black')\n",
    "plt.plot(tobs,hobs,linewidth=0,marker='o',markersize=10,label='data')\n",
    "plt.legend()"
   ]
  },
  {
   "cell_type": "markdown",
   "metadata": {},
   "source": [
    "----\n",
    "## Linear fit\n",
    "\n",
    "As a first case, we define a **straight line** to fit our data points. We therefore define\n",
    "the **predictions** $p_i$ as\n",
    "$$\n",
    "p_i(a_j) = a_1 + a_2 x\n",
    "$$\n",
    "\n",
    "Inserting this prediction function into the **least-squares fit**\n",
    "$$\n",
    "\\chi^2 = \\sum\\limits_{i=1}^{n} \\left( \\frac{o_i - p_i}{\\sigma_i} \\right)^2\n",
    "$$\n",
    "yields:\n",
    "$$\n",
    "\\chi^2 = \\sum\\limits_{i=1}^{n} \\left( \\frac{o_i - a_1 - a_2 x}{\\sigma_i} \\right)^2\n",
    "$$\n",
    "\n",
    "We find the **best fit** by minimising $\\chi^2$ with respect to the **model parameter vector**\n",
    "$a_j$, and setting the partial derivates to zero (see lecture). \n",
    "\n",
    "We obtain both **intercept** and **slope** of the best-fitting line as:\n",
    "$$\n",
    "\\begin{array}{rcl}\n",
    " a_1 & = & \\frac{S_{xx} S_{o} - S_{x} S_{xo}}{S S_{xx} - S_{x}^2} \\\\\n",
    " a_2 & = & \\frac{S S_{xo} - S_{x} S_{o}}{S S_{xx} - S_{x}^2}\n",
    "\\end{array}\n",
    "$$\n",
    "with the sums defined as:\n",
    "$$\n",
    "\\begin{array}{rclrcl}\n",
    " S       & = & \\sum\\limits_{i=1}^{n} \\frac{1}{\\sigma_i^2} &\n",
    " S_{x}   & = & \\sum\\limits_{i=1}^{n} \\frac{x_i}{\\sigma_i^2} \\\\\n",
    " S_{o}   & = & \\sum\\limits_{i=1}^{n} \\frac{o_i}{\\sigma_i^2} &\n",
    " S_{xx}  & = & \\sum\\limits_{i=1}^{n} \\frac{x_i^2}{\\sigma_i^2} \\\\\n",
    " S_{xo}  & = & \\sum\\limits_{i=1}^{n} \\frac{x_i o_i}{\\sigma_i^2}\n",
    "\\end{array}\n",
    "$$"
   ]
  },
  {
   "cell_type": "code",
   "execution_count": null,
   "metadata": {},
   "outputs": [],
   "source": [
    "def fit_linear(x,y,yerr):\n",
    "    n = len(x)\n",
    "    # define weights\n",
    "    s = 0.\n",
    "    sx = 0.\n",
    "    sy = 0.\n",
    "    sxx = 0.\n",
    "    sxy = 0.\n",
    "    for i in range(n):\n",
    "        s   = s + 1 / yerr[i]**2\n",
    "        sx  = sx + x[i] / yerr[i]**2\n",
    "        sy  = sy + y[i] / yerr[i]**2\n",
    "        sxx = sxx + x[i]**2 / yerr[i]**2\n",
    "        sxy = sxy + x[i]*y[i] / yerr[i]**2\n",
    "    delta = s*sxx - sx**2\n",
    "    # determine coefficients and uncertainties\n",
    "    a     = (sxx*sy-sx*sxy) / delta\n",
    "    b     = (s*sxy-sx*sy) / delta\n",
    "    siga  = sxx / delta\n",
    "    sigb  = s / delta\n",
    "    \n",
    "    # regression and chi2 value\n",
    "    r     = -sx/np.sqrt(s*sxx)\n",
    "    chi2  = 0.\n",
    "    for i in range(n):\n",
    "        chi2  = chi2 + ((y[i]-a-b*x[i])**2 / yerr[i]**2)\n",
    "    \n",
    "    return a,b,r,chi2"
   ]
  },
  {
   "cell_type": "code",
   "execution_count": null,
   "metadata": {},
   "outputs": [],
   "source": [
    "a,b,r,chi2 = fit_linear(tobs,hobs,herr)"
   ]
  },
  {
   "cell_type": "code",
   "execution_count": null,
   "metadata": {},
   "outputs": [],
   "source": [
    "print (a,b,r,chi2)"
   ]
  },
  {
   "cell_type": "code",
   "execution_count": null,
   "metadata": {},
   "outputs": [],
   "source": [
    "plt.figure(figsize=(10,6))\n",
    "plt.title('Richmond Gulf, Hudson Bay, Canada')\n",
    "plt.xlim([10000,0])\n",
    "plt.ylim([0,320])\n",
    "plt.xlabel('Time [a BP]')\n",
    "plt.ylabel('Relative sea level [m]')\n",
    "plt.errorbar(tobs,hobs,xerr=terr,yerr=herr,linewidth=0,elinewidth=3,ecolor='black')\n",
    "plt.plot(tobs,hobs,linewidth=0,marker='o',markersize=10,label='data')\n",
    "plt.plot(tobs,a+b*tobs,linewidth=2,color='red',label='linear fit')\n",
    "plt.text(8000.,300.,'$\\chi^2$='+str(round(chi2,2)))\n",
    "plt.legend()"
   ]
  },
  {
   "cell_type": "markdown",
   "metadata": {},
   "source": [
    "----\n",
    "[next>](Numerics_lab08_linear_functions.ipynb)"
   ]
  }
 ],
 "metadata": {
  "kernelspec": {
   "display_name": "Python 3",
   "language": "python",
   "name": "python3"
  },
  "language_info": {
   "codemirror_mode": {
    "name": "ipython",
    "version": 3
   },
   "file_extension": ".py",
   "mimetype": "text/x-python",
   "name": "python",
   "nbconvert_exporter": "python",
   "pygments_lexer": "ipython3",
   "version": "3.7.3"
  }
 },
 "nbformat": 4,
 "nbformat_minor": 2
}
