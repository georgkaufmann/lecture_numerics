{
 "cells": [
  {
   "cell_type": "markdown",
   "metadata": {},
   "source": [
    "<table>\n",
    "<tr><td><img style=\"height: 150px;\" src=\"images/geo_hydro1.jpg\"></td>\n",
    "<td bgcolor=\"#FFFFFF\">\n",
    "    <p style=\"font-size: xx-large; font-weight: 900; line-height: 100%\">AG Dynamics of the Earth</p>\n",
    "    <p style=\"font-size: large; color: rgba(0,0,0,0.5);\">Juypter notebooks</p>\n",
    "    <p style=\"font-size: large; color: rgba(0,0,0,0.5);\">Georg Kaufmann</p>\n",
    "    </td>\n",
    "</tr>\n",
    "</table>"
   ]
  },
  {
   "cell_type": "markdown",
   "metadata": {},
   "source": [
    "# Chapter08: Inversion example\n",
    "***"
   ]
  },
  {
   "cell_type": "code",
   "execution_count": null,
   "metadata": {},
   "outputs": [],
   "source": [
    "%matplotlib inline\n",
    "import numpy as np\n",
    "import matplotlib.pyplot as plt"
   ]
  },
  {
   "cell_type": "markdown",
   "metadata": {},
   "source": [
    "In geophysics, our *measurements* are often *indirect* measurements of a material property characterising the sub-surface. Examples:\n",
    "\n",
    "- **Gravity:** The Bouguer anomaly $\\Delta g_b$ [mGal] maps density differences $\\Delta \\rho$ [kg/m$^3$] in the sub-surface.\n",
    "\n",
    "- **Magnetics:** The Total-field anomaly $T$ [T] maps the presense of magnetised material $M$ [A/m].\n",
    "\n",
    "- **Geoelectrics:** The measured potential difference $U$ [V] maps the resistivity $\\rho$ [$\\Omega$m] of the sub-surface."
   ]
  },
  {
   "cell_type": "markdown",
   "metadata": {},
   "source": [
    "We formalise the above-mentioned statements with the definition of data and model.\n",
    "\n",
    "We define a *data vector* as\n",
    "$$\n",
    "d_i = (d_1,d_2, \\dots, d_n)^T, i=1,n\n",
    "$$\n",
    "with $n$ measured data points."
   ]
  },
  {
   "cell_type": "markdown",
   "metadata": {},
   "source": [
    "We define a model, which predicts these data points for the same locations as *prediction vector*\n",
    "$$\n",
    "p_i = (p_1,p_2,\\dots,p_n)^T, i=1,n\n",
    "$$\n",
    "\n",
    "The underlying model used for the prediction is based on our *physical knowledge* of the sub-surface. E.g. for predicting the Bouguer gravity, we define a (three-dimensional) density distribution of the sub-surface. By adjusting the different density values, we try to match data and model vectors:\n",
    "$$\n",
    "d_i \\simeq p_i\n",
    "$$"
   ]
  },
  {
   "cell_type": "markdown",
   "metadata": {},
   "source": [
    "## Error estimation\n",
    "\n",
    "If we want to express the above relation between data and model vector as accurate, we have to allow for an\n",
    "*error vector* $e_i$, describing the deviation between data and model at a particular point:\n",
    "$$\n",
    "d_i = p_i + e_i \\Delta d_i\n",
    "$$\n",
    "Here, $\\Delta d_i$ is the data *uncertainty*."
   ]
  },
  {
   "cell_type": "markdown",
   "metadata": {},
   "source": [
    "Solving the equation for the error vector, we obtain:\n",
    "$$\n",
    "e_i = {{d_i - p_i} \\over {\\Delta d_i}}\n",
    "$$"
   ]
  },
  {
   "cell_type": "markdown",
   "metadata": {},
   "source": [
    "Instead of looking at each single error for each location, we summarize all errors with the $\\chi^2$-function\n",
    "as a *goodness-of-fit*:\n",
    "$$\n",
    "\\chi^2 = \\sum\\limits_{i=1}^{n} \\left( {{d_i - p_i} \\over {\\Delta d_i}} \\right)^2\n",
    "$$"
   ]
  },
  {
   "cell_type": "markdown",
   "metadata": {},
   "source": [
    "We identify the $\\chi^2$-function as the scalar product of the error vector by rewriting:\n",
    "$$\n",
    "\\chi^2 \n",
    "=\\sum\\limits_{i=1}^{n} \\left( {{d_i - p_i} \\over {\\Delta d_i}} \\right)^2\n",
    "=[d_i - p_i]^T \\left( {{1} \\over {\\Delta d_i}} \\right)^2 [d_i - p_i]\n",
    "= [d_i - p_i]^T \n",
    "\\left( \\begin{array}{ccc}\n",
    "{{1}\\over{\\Delta d_1^2}} & 0 & 0 \\\\\n",
    "0&\\dots&0\\\\\n",
    "0&0&{{1}\\over{\\Delta d_1^2}}\n",
    "\\end{array} \\right) [d_j - p_j]\n",
    "= [d_i - p_i]^T [Co^d_{ij}]^{-1} [d_j - p_j]\n",
    "$$\n",
    "Note that we are picky in writing the error vector once as column, once as row vector (transposed). Also, the\n",
    "data uncertainties have been expanded into a matrix, with the uncertainties $\\Delta d_i$ on the main diagonal.\n",
    "\n",
    "We call $[Co^d_{ij}]$ the *co-variance matrix*.\n",
    "\n",
    "We will see later, why we complicated the goddness-of-fit..."
   ]
  },
  {
   "cell_type": "markdown",
   "metadata": {},
   "source": [
    "## Non-linear models\n",
    "\n",
    "Next, we need to define our *preditive model* $G$. \n",
    "As a general setup, we use a prediction $G$ based on a pre-defined start model vector $m$:\n",
    "$$\n",
    "p_i = G_{ij} (m_j)\n",
    "$$\n",
    "Here, our knowledge about the processes is described as model matrix $G_{ij}$ with non-linear model coefficients\n",
    "$m_i$. The model is called *non-linear inverse problem*.\n",
    "\n",
    "An example: We have two Sinusoidal time series with different amplitudes $A_i$ and different \n",
    "frequencies $\\omega_i$:\n",
    "$$\n",
    " p_i = A_1 \\sin (\\omega_1 t) + A_2 \\sin (\\omega_2 t)\n",
    "$$\n",
    "While this model is *linear* in the coefficients $A_1$ and $A_2$, it is *non-linear* with respect to the\n",
    "two frequenies, $\\omega_1$ and $\\omega_2$. Our model vector is $m_j=(A_1,A_2,\\omega_1,\\omega_2)^T$, and as\n",
    "data vector we would take some samples from the time series, $d_i=d_i(t_i)$."
   ]
  },
  {
   "cell_type": "markdown",
   "metadata": {},
   "source": [
    "## Linear models\n",
    "\n",
    "We start discussing a linear problem first. As an example, assume a straight line fit:\n",
    "$$\n",
    "p_i = a + b x_i\n",
    "$$\n",
    "\n",
    "In that case we can separate the model vector $m_j$ from the predictive model $G_{ij}$:\n",
    "$$\n",
    "p_i = G_{ij} m_j\n",
    "$$\n",
    "Now, the matrix is decoupled from the model vector, and the problem can be called *linear inverse problem*.\n",
    "\n",
    "With this definition, we can rewrite the goodness-of-fit to:"
   ]
  },
  {
   "cell_type": "markdown",
   "metadata": {},
   "source": [
    "$$\n",
    "\\chi^2 \n",
    "=\\sum\\limits_{i=1}^{n} \\left( {{d_i - G_{ij}m_j} \\over {\\Delta d_i}} \\right)^2\n",
    "=[d_i - G_{ij}m_j]^T \\left( {{1} \\over {\\Delta d_i}} \\right)^2 [d_i - G_{ij}m_j]\n",
    "= [d_i - G_{ij} m_j]^T \n",
    "\\left( \\begin{array}{ccc}\n",
    "{{1}\\over{\\Delta d_1^2}} & 0 & 0 \\\\\n",
    "0&\\dots&0\\\\\n",
    "0&0&{{1}\\over{\\Delta d_1^2}}\n",
    "\\end{array} \\right) [d_i - G_{ij} m_j]\n",
    "= [d_i - G_{ij} m_j]^T [Co^d]^{-1} [d_i - G_{ij} m_j]\n",
    "$$"
   ]
  },
  {
   "cell_type": "markdown",
   "metadata": {},
   "source": [
    "A solution of the linear inverse problem is now found by minimising the least-squares term $\\chi^2$. This is\n",
    "achieved by taking the derivatives of $\\chi^2$ with respect to the model vector $m_j$ and setting each\n",
    "derivative to zero, because this marks our extremum. We will demonstrate this with an example."
   ]
  },
  {
   "cell_type": "markdown",
   "metadata": {},
   "source": [
    "## Example: Linear Regression"
   ]
  },
  {
   "cell_type": "markdown",
   "metadata": {},
   "source": [
    "We define a set of points distributed irregularly along the $x$-axis, $d_i=d_(x_i)$:"
   ]
  },
  {
   "cell_type": "code",
   "execution_count": null,
   "metadata": {},
   "outputs": [],
   "source": [
    "# define data vector\n",
    "n = 101\n",
    "x = np.sort(np.random.uniform(-2,2,n))\n",
    "#x = np.linspace(-2,2,n)\n",
    "d = x**3 + np.random.uniform(-2,2,n)\n",
    "\n",
    "# plot data points\n",
    "plt.plot(x,d,marker='.',linestyle='none',color='red',label='data')\n",
    "plt.legend()\n",
    "plt.show()"
   ]
  },
  {
   "cell_type": "markdown",
   "metadata": {},
   "source": [
    "## Polynomial fit\n",
    "\n",
    "We can now make use of the in-build *polyfit*-function of python (numpy) and fit a linear polynom through the data points:"
   ]
  },
  {
   "cell_type": "code",
   "execution_count": null,
   "metadata": {},
   "outputs": [],
   "source": [
    "plt.style.use('ggplot')\n",
    "# function to reassemble polynomial\n",
    "def poly(x,coeff):\n",
    "    n = len(coeff)-1\n",
    "    y = 0\n",
    "    for i in range(0,len(coeff)):\n",
    "        y = y + coeff[i]*x**(n-i)\n",
    "    return y\n",
    "\n",
    "# define data vector\n",
    "n = 101\n",
    "x = np.sort(np.random.uniform(-2,2,n))\n",
    "#x = np.linspace(-2,2,n)\n",
    "d = x**3 + np.random.uniform(-2,2,n)\n",
    "\n",
    "# calculate fitting polynomial of degree m\n",
    "m = 3\n",
    "coeff = np.polyfit(x,d,m)\n",
    "print ('coeff: ',coeff)\n",
    "\n",
    "# calculate prediction\n",
    "p=poly(x,coeff)\n",
    "\n",
    "# plot data and model vector\n",
    "plt.plot(x,d,marker='.',linestyle='none',color='red',label='data')\n",
    "plt.plot(x,p,linestyle='-',color='blue',label='polynom of degree '+str(m))\n",
    "plt.grid(True)\n",
    "plt.legend()\n",
    "plt.show()"
   ]
  },
  {
   "cell_type": "markdown",
   "metadata": {},
   "source": [
    "### Analytical linear fit\n",
    "\n",
    "However, we want to know, how the fitting procedure works.\n",
    "\n",
    "We first derive an analytical solution for the least-squares fit using a linear regression function:\n",
    "$$\n",
    "p_i = a + b x_i\n",
    "$$\n",
    "\n",
    "Inserting this function into our goodness-of-fit criterion:\n",
    "$$\n",
    "\\chi^2 = \\sum\\limits_{i=1}^{n} \\left( {{d_i - p_i} \\over {\\Delta d_i}} \\right)^2\n",
    "= \\sum\\limits_{i=1}^{n} \\left( {{d_i - a - b x_i} \\over {\\Delta d_i}} \\right)^2\n",
    "$$"
   ]
  },
  {
   "cell_type": "markdown",
   "metadata": {},
   "source": [
    "We take the derivative of $\\chi^2$ with respect to the model coefficients $a$ and $b$:\n",
    "$$\n",
    "\\begin{array}{rclcl}\n",
    "{{\\partial \\chi^2}\\over{\\partial a}} \n",
    "& = & \\sum\\limits_{i=1}^{n} 2 \\left( {{d_i - a - b x_i} \\over {\\Delta d_i^2}} \\right) (-1) &=&0\\\\\n",
    "{{\\partial \\chi^2}\\over{\\partial b}} \n",
    "& = & \\sum\\limits_{i=1}^{n} 2 \\left( {{d_i - a - b x_i} \\over {\\Delta d_i^2}} \\right) (-x_i) &=&0\n",
    "\\end{array}\n",
    "$$"
   ]
  },
  {
   "cell_type": "markdown",
   "metadata": {},
   "source": [
    "Rearranging these two equations leads to the linear system of equations:\n",
    "$$\n",
    "\\begin{array}{rcl}\n",
    " \\sum\\limits_{i=1}^{n} {{a} \\over {\\Delta d_i^2}}\n",
    "+\\sum\\limits_{i=1}^{n} {{b x_i} \\over {\\Delta d_i^2}}\n",
    "&=&\\sum\\limits_{i=1}^{n} {{d_i} \\over {\\Delta d_i^2}} \\\\\n",
    " \\sum\\limits_{i=1}^{n} {{a x_i} \\over {\\Delta d_i^2}}\n",
    "+\\sum\\limits_{i=1}^{n} {{b x_i^2} \\over {\\Delta d_i^2}}\n",
    "&=&\\sum\\limits_{i=1}^{n} {{d_i x_i} \\over {\\Delta d_i^2}}\n",
    "\\end{array}\n",
    "$$\n",
    "or, by moving the coefficients $a$ and $b$ in front of the sums:\n",
    "$$\n",
    "\\begin{array}{rcl}\n",
    " a \\sum\\limits_{i=1}^{n} {{1} \\over {\\Delta d_i^2}}\n",
    "+b \\sum\\limits_{i=1}^{n} {{x_i} \\over {\\Delta d_i^2}}\n",
    "&=&\\sum\\limits_{i=1}^{n} {{d_i} \\over {\\Delta d_i^2}} \\\\\n",
    " a \\sum\\limits_{i=1}^{n} {{x_i} \\over {\\Delta d_i^2}}\n",
    "+b \\sum\\limits_{i=1}^{n} {{x_i^2} \\over {\\Delta d_i^2}}\n",
    "&=&\\sum\\limits_{i=1}^{n} {{d_i x_i} \\over {\\Delta d_i^2}}\n",
    "\\end{array}\n",
    "$$"
   ]
  },
  {
   "cell_type": "markdown",
   "metadata": {},
   "source": [
    "We can rearrange these to equations to formal $2x2$-system of euqations\n",
    "$$\n",
    "\\left(\n",
    "\\begin{array}{cc}\n",
    "\\sum\\limits_{i=1}^{n} {{1} \\over {\\Delta d_i^2}} & \\sum\\limits_{i=1}^{n} {{x_i} \\over {\\Delta d_i^2}} \\\\\n",
    "\\sum\\limits_{i=1}^{n} {{x_i} \\over {\\Delta d_i^2}} & \\sum\\limits_{i=1}^{n} {{x_i^2} \\over {\\Delta d_i^2}}\n",
    "\\end{array}\n",
    "\\right)\n",
    "\\left(\n",
    "\\begin{array}{rcl} a \\\\ b\n",
    "\\end{array}\n",
    "\\right)\n",
    "= \\left(\n",
    "\\begin{array}{cc}\n",
    "\\sum\\limits_{i=1}^{n} {{d_i} \\over {\\Delta d_i^2}} \\\\\n",
    "\\sum\\limits_{i=1}^{n} {{d_i x_i} \\over {\\Delta d_i^2}}\n",
    "\\end{array}\n",
    "\\right)\n",
    "$$ \n",
    "for the two unknowns $a$ and $b$, which has a unique solution."
   ]
  },
  {
   "cell_type": "code",
   "execution_count": null,
   "metadata": {},
   "outputs": [],
   "source": [
    "# define data vector\n",
    "n    = 101\n",
    "x    = np.sort(np.random.uniform(-2,2,n))\n",
    "d    = x**3 + np.random.uniform(-2,2,n)\n",
    "derr = np.ones(n)*2.\n",
    "\n",
    "# solve linear regression\n",
    "A11 = sum(1/derr**2)\n",
    "A12 = sum(x/derr**2)\n",
    "A21 = A12\n",
    "A22 = sum(x**2/derr**2)\n",
    "B1  = sum(d/derr**2)\n",
    "B2  = sum(x*d/derr**2)\n",
    "delta = A11*A22 - A12**2\n",
    "a = (A22*B1-A12*B2) / delta\n",
    "b = (A11*B2-A12*B1) / delta\n",
    "print (a,b)\n",
    "\n",
    "# plot data and model vector\n",
    "plt.plot(x,d,marker='.',linestyle='none',color='red',label='data')\n",
    "plt.plot(x,a+b*x,linestyle='-',color='blue',label='linear fit with y-errors')\n",
    "plt.grid(True)\n",
    "plt.legend()\n",
    "plt.show()"
   ]
  },
  {
   "cell_type": "markdown",
   "metadata": {},
   "source": [
    "### Formal linear inversion\n",
    "\n",
    "Remember that we defined our *linear inverse problem* as:\n",
    "$$\n",
    "p_i = a + b x_i\n",
    "$$\n",
    "and the *goodness-of-fit* as:\n",
    "$$\n",
    "\\chi^2 = [d_i - p_i]^T [Co^d_{ij}]^{-1} [d_j - p_j]\n",
    "$$\n",
    "with $d_i$ the data vector.\n",
    "\n",
    "Inserting the linear inverse problem into the goodness-of-fit then yields:\n",
    "$$\n",
    "\\chi^2 = [d_i - G_{ij} m_j]^T [Co^d]^{-1} [d_i - G_{ij} m_j]\n",
    "$$\n",
    "where our **model vector** has been defined as\n",
    "$$\n",
    "m_i = (a,b)^T\n",
    "$$\n",
    "and the **model matrix** as\n",
    "$$\n",
    "G_{ij} = \n",
    "\\left( \\begin{array}{cc}\n",
    "1 & x_1 \\\\\n",
    "\\dots & \\dots \\\\\n",
    "1 & x_n\n",
    "\\end{array} \\right)\n",
    "$$\n",
    "and the data **covariance matrix**:\n",
    "$$\n",
    "Co^d_{ij} =\n",
    "\\left( \\begin{array}{ccc}\n",
    "{{1}\\over{\\Delta d_1^2}} & 0 & 0 \\\\\n",
    "0&\\dots&0\\\\\n",
    "0&0&{{1}\\over{\\Delta d_1^2}}\n",
    "\\end{array} \\right)\n",
    "$$"
   ]
  },
  {
   "cell_type": "markdown",
   "metadata": {},
   "source": [
    "The solution vector $m_i$ is found by taking the partial derviatives from $\\chi^2$ with respect to $m_j$:\n",
    "$$\n",
    "m_j = \\left\\{ G_{ij}^T (Co^d_{ii})^{-1} G_{ij} \\right\\}^{-1} G_{ij}^T (Co^d_{ii})^{-1} d_i\n",
    "$$\n",
    "\n",
    "We therefore need to assemble all matrices, vectors, calculate inverse and transpose matrices,\n",
    "and combine them ..."
   ]
  },
  {
   "cell_type": "code",
   "execution_count": null,
   "metadata": {},
   "outputs": [],
   "source": [
    "from numpy import matmul\n",
    "from numpy.linalg import inv as matinv\n",
    "# define data vector\n",
    "n    = 101\n",
    "x    = np.sort(np.random.uniform(-2,2,n))\n",
    "d    = x**3 + np.random.uniform(-2,2,n)\n",
    "derr = np.ones(n)*2.\n",
    "\n",
    "# define data covariance matrix and its inverse\n",
    "Cod  = np.eye(n,n)\n",
    "for i in np.arange(0,len(derr)):\n",
    "    Cod[i][i] = 1. / derr[i]**2\n",
    "Codi = matinv(Cod)\n",
    "\n",
    "# define model matrix\n",
    "G    = np.array([[1,x[0]]])\n",
    "for i in np.arange(1,len(d)):\n",
    "    G = np.append(G,[[1,x[i]]],axis=0)\n",
    "\n",
    "# calculate model vector\n",
    "GT_Codi_Gi = matinv(matmul(G.transpose(),matmul(Codi,G)))\n",
    "GT_Codi_d  = matmul(G.transpose(),matmul(Codi,d))\n",
    "model      = matmul(GT_Codi_Gi,GT_Codi_d)\n",
    "print (model.ndim,model.shape,model)\n",
    "\n",
    "# plot data and model vector\n",
    "plt.plot(x,d,marker='.',linestyle='none',color='red',label='data')\n",
    "plt.plot(x,model[0]+model[1]*x,linestyle='-',color='blue',label='formal linear inversion')\n",
    "plt.grid(True)\n",
    "plt.legend()\n",
    "plt.show()"
   ]
  },
  {
   "cell_type": "markdown",
   "metadata": {},
   "source": [
    "--- continue ---"
   ]
  },
  {
   "cell_type": "code",
   "execution_count": null,
   "metadata": {},
   "outputs": [],
   "source": [
    "import numpy as np\n",
    "a1 = np.array([[1,2,3],[4,5,6],[7,8,9]])\n",
    "b1 = np.array([10,11])\n",
    "#b = b[np.newaxis,:]\n",
    "print ('original')\n",
    "print (a1.shape,'\\n',a1)\n",
    "print (b1.shape,'\\n',b1)\n",
    "# transpose\n",
    "a2 = a1.transpose()\n",
    "b2 = b1.transpose()\n",
    "print ('transposed')\n",
    "print (a2.shape,'\\n',a2)\n",
    "print (b2.shape,'\\n',b2)\n",
    "# inverted\n",
    "print ('inverted')\n",
    "a1 = np.array([[1,2,3],[0,1,5],[5,6,0]])\n",
    "a3 = np.linalg.inv(a1)\n",
    "print(a1)\n",
    "print (a3.shape,'\\n',a3)\n",
    "np.allclose(np.dot(a1, a3), np.eye(a1.shape[0]))"
   ]
  },
  {
   "cell_type": "code",
   "execution_count": null,
   "metadata": {},
   "outputs": [],
   "source": [
    "import numpy as np\n",
    "a = np.array([1,2,3,4])\n",
    "print ('a: ',a.shape,'\\n',a)\n",
    "b=a[np.newaxis,:]\n",
    "print ('b: ',b.shape,'\\n',b)\n",
    "c=a[:,np.newaxis,]\n",
    "print ('c: ',c.shape,'\\n',c)\n",
    "print (c.transpose())"
   ]
  },
  {
   "cell_type": "code",
   "execution_count": null,
   "metadata": {},
   "outputs": [],
   "source": [
    "import numpy as np\n",
    "print(np.array([[1],[2],[3]]))\n",
    "print(np.array([[1,2,3]]))"
   ]
  },
  {
   "cell_type": "code",
   "execution_count": null,
   "metadata": {},
   "outputs": [],
   "source": []
  }
 ],
 "metadata": {
  "kernelspec": {
   "display_name": "Python 3",
   "language": "python",
   "name": "python3"
  },
  "language_info": {
   "codemirror_mode": {
    "name": "ipython",
    "version": 3
   },
   "file_extension": ".py",
   "mimetype": "text/x-python",
   "name": "python",
   "nbconvert_exporter": "python",
   "pygments_lexer": "ipython3",
   "version": "3.7.3"
  }
 },
 "nbformat": 4,
 "nbformat_minor": 1
}
