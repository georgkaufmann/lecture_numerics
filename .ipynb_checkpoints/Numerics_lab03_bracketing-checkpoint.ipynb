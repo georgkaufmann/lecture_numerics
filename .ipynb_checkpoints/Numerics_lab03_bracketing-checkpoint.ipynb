{
 "cells": [
  {
   "cell_type": "markdown",
   "metadata": {},
   "source": [
    "<table>\n",
    "<tr><td><img style=\"height: 150px;\" src=\"images/geo_hydro1.jpg\"></td>\n",
    "<td bgcolor=\"#FFFFFF\">\n",
    "    <p style=\"font-size: xx-large; font-weight: 900; line-height: 100%\">AG Dynamics of the Earth</p>\n",
    "    <p style=\"font-size: large; color: rgba(0,0,0,0.5);\">Juypter notebooks</p>\n",
    "    <p style=\"font-size: large; color: rgba(0,0,0,0.5);\">Georg Kaufmann</p>\n",
    "    </td>\n",
    "</tr>\n",
    "</table>"
   ]
  },
  {
   "cell_type": "markdown",
   "metadata": {},
   "source": [
    "# Numerical methods: Bracketing possible roots\n",
    "----\n",
    "*Georg Kaufmann,\n",
    "Geophysics Section,\n",
    "Institute of Geological Sciences,\n",
    "Freie Universität Berlin,\n",
    "Germany*\n",
    "\n",
    "In this notebook, we learn how to bracket possible roots for a function $f(x)$ with one variable $x$,\n",
    "defined over the interval $[a,b]$.\n",
    "\n",
    "We first import some libraries..."
   ]
  },
  {
   "cell_type": "code",
   "execution_count": null,
   "metadata": {},
   "outputs": [],
   "source": [
    "import numpy as np\n",
    "import matplotlib.pyplot as plt"
   ]
  },
  {
   "cell_type": "markdown",
   "metadata": {},
   "source": [
    "## Function\n",
    "Next, we define the function, which we would like to examine:"
   ]
  },
  {
   "cell_type": "code",
   "execution_count": null,
   "metadata": {},
   "outputs": [],
   "source": [
    "def root_f(x):\n",
    "    y = np.sin(x)\n",
    "    return y"
   ]
  },
  {
   "cell_type": "markdown",
   "metadata": {},
   "source": [
    "## Bracketing algorithm\n",
    "Next, we define the **bracketing algorithm** as a function.\n",
    "1. We first need to define two arrays, $xb1$ and $xb1$, which will hold start- und end points of the\n",
    "sub-intervals, where a sign change occurs for $f$.\n",
    "2. We then define the stepsize $dx$, controlled by the number of sub-intervals $n$.\n",
    "3. We then start at the left side of the first sub-interval with $a$ as argument and $f(a)$ as value.\n",
    "4. Finally, we iterative over all sub-intervals and search for sign changes of $f$.\n",
    "5. If a sign change of $f$ occurs, we store the left and right side of the sub-interval in out arrays."
   ]
  },
  {
   "cell_type": "code",
   "execution_count": null,
   "metadata": {},
   "outputs": [],
   "source": [
    "def root_bracket (a,b,n):\n",
    "    '''\n",
    "    #-----------------------------------------------------------------------\n",
    "    # Given a function fx defined on the intervall [a,b], subdivide the\n",
    "    # intervall in n equally spaced segments, and search for zero crossings\n",
    "    # of the function. nb is input as the maximum number of roots searched,\n",
    "    # it is reset to the number of bracketing pairs found, xb1(1:nb),xb2(1:nb).\n",
    "    # (c) Numerical recipes \n",
    "    #-----------------------------------------------------------------------\n",
    "    '''\n",
    "    nb  = 0\n",
    "    xb1 = np.zeros([0])\n",
    "    xb2 = np.zeros([0])\n",
    "    x   = a\n",
    "    dx  = (b-a)/n\n",
    "    fa  = root_f(x)\n",
    "    for i in np.linspace(1,n,n,dtype=int):\n",
    "        x = x + dx\n",
    "        fb = root_f(x)\n",
    "        if (fa*fb <= 0):\n",
    "            nb = nb + 1\n",
    "            xb1 = np.append(xb1,x-dx)\n",
    "            xb2 = np.append(xb2,x)\n",
    "        fa = fb\n",
    "    return xb1,xb2,nb "
   ]
  },
  {
   "cell_type": "markdown",
   "metadata": {},
   "source": [
    "## Test the algorithm\n",
    "Next, we test our **bracketing algorithm** with the function $f(x)=\\sin(x)$, given in the interval $[0,2\\pi]$:"
   ]
  },
  {
   "cell_type": "code",
   "execution_count": null,
   "metadata": {},
   "outputs": [],
   "source": [
    "#-----------------------------------------------------------------------\n",
    "# define interval and number of segments\n",
    "#-----------------------------------------------------------------------\n",
    "a   = -0.1\n",
    "b   = 2.1*np.pi\n",
    "n   = 10\n",
    "nb  = 0\n",
    "#-----------------------------------------------------------------------\n",
    "# call bracketing algorithm\n",
    "#-----------------------------------------------------------------------\n",
    "[xb1,xb2,nb] = root_bracket(a,b,n)"
   ]
  },
  {
   "cell_type": "code",
   "execution_count": null,
   "metadata": {},
   "outputs": [],
   "source": [
    "print ('nb: ',nb)\n",
    "for i in range(nb):\n",
    "    print(\"%s %10.2f %10.2f\" % ('xb1 xb2:',xb1[i],xb2[i]))"
   ]
  },
  {
   "cell_type": "markdown",
   "metadata": {},
   "source": [
    "Plot the function and the intervals with sign change found:"
   ]
  },
  {
   "cell_type": "code",
   "execution_count": null,
   "metadata": {},
   "outputs": [],
   "source": [
    "x=np.linspace(a,b,201)\n",
    "y=root_f(x)\n",
    "\n",
    "plt.figure(figsize=(12,8))\n",
    "plt.plot([a,b],[0,0],linewidth=1,color='gray')\n",
    "plt.plot(x,y,linewidth=2,color='blue')\n",
    "for i in range(len(xb1)):\n",
    "    plt.plot([xb1[i],xb2[i]],[0,0],linewidth=3,color='red')\n",
    "    plt.plot(xb1[i],[0],marker='|',markeredgewidth=3,color='red')\n",
    "    plt.plot(xb2[i],[0],marker='|',markeredgewidth=3,color='red')"
   ]
  },
  {
   "cell_type": "markdown",
   "metadata": {},
   "source": [
    "## Use with weird function ..."
   ]
  },
  {
   "cell_type": "code",
   "execution_count": null,
   "metadata": {},
   "outputs": [],
   "source": [
    "# define function\n",
    "def root_f(x):\n",
    "    y = x*np.sin(1/x)\n",
    "    return y\n",
    "\n",
    "# define interval and sub-division\n",
    "a   = -0.2\n",
    "b   =  0.2\n",
    "n   = 21\n",
    "nb  = 0\n",
    "\n",
    "# find possible intervals\n",
    "[xb1,xb2,nb] = root_bracket(a,b,n)\n",
    "\n",
    "# plot\n",
    "x=np.linspace(a,b,201)\n",
    "y=root_f(x)\n",
    "plt.figure(figsize=(12,8))\n",
    "#plt.ylim([-2,2])\n",
    "plt.plot([a,b],[0,0],linewidth=1,color='gray')\n",
    "plt.plot(x,y,linewidth=2,color='blue')\n",
    "for i in range(len(xb1)):\n",
    "    plt.plot([xb1[i],xb2[i]],[0,0],linewidth=3,color='red')\n",
    "    plt.plot(xb1[i],[0],marker='|',markeredgewidth=3,color='red')\n",
    "    plt.plot(xb2[i],[0],marker='|',markeredgewidth=3,color='red')"
   ]
  },
  {
   "cell_type": "markdown",
   "metadata": {},
   "source": [
    "----\n",
    "[next >](Numerics_lab03_bisection.ipynb)"
   ]
  }
 ],
 "metadata": {
  "kernelspec": {
   "display_name": "Python 3",
   "language": "python",
   "name": "python3"
  },
  "language_info": {
   "codemirror_mode": {
    "name": "ipython",
    "version": 3
   },
   "file_extension": ".py",
   "mimetype": "text/x-python",
   "name": "python",
   "nbconvert_exporter": "python",
   "pygments_lexer": "ipython3",
   "version": "3.7.3"
  }
 },
 "nbformat": 4,
 "nbformat_minor": 2
}
