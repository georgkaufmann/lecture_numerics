{
 "cells": [
  {
   "cell_type": "markdown",
   "metadata": {},
   "source": [
    "<table>\n",
    "<tr><td><img style=\"height: 150px;\" src=\"images/geo_hydro1.jpg\"></td>\n",
    "<td bgcolor=\"#FFFFFF\">\n",
    "    <p style=\"font-size: xx-large; font-weight: 900; line-height: 100%\">AG Dynamics of the Earth</p>\n",
    "    <p style=\"font-size: large; color: rgba(0,0,0,0.5);\">Jupyter notebooks</p>\n",
    "    <p style=\"font-size: large; color: rgba(0,0,0,0.5);\">Georg Kaufmann</p>\n",
    "    </td>\n",
    "</tr>\n",
    "</table>"
   ]
  },
  {
   "cell_type": "markdown",
   "metadata": {},
   "source": [
    "# Numerical methods: 3. Roots\n",
    "## Multiple equations\n",
    "----\n",
    "*Georg Kaufmann,\n",
    "Geophysics Section,\n",
    "Institute of Geological Sciences,\n",
    "Freie Universität Berlin,\n",
    "Germany*\n",
    "\n",
    "In this notebook, we expand into root-finding with multiple equations and variables."
   ]
  },
  {
   "cell_type": "code",
   "execution_count": null,
   "metadata": {},
   "outputs": [],
   "source": [
    "import numpy as np\n",
    "import scipy.optimize\n",
    "import matplotlib.pyplot as plt"
   ]
  },
  {
   "cell_type": "markdown",
   "metadata": {},
   "source": [
    "## One function with one variable\n",
    "\n",
    "$$\n",
    "\\fbox{$f(x)=0$}\n",
    "$$\n",
    "with $f(x)=x^2-1$\n",
    "\n",
    "Roots are $x^0_1=-1$ and $x^0_2=+1$.\n",
    "\n",
    "Define the $x$ range and the function $f(x)$ as function:"
   ]
  },
  {
   "cell_type": "code",
   "execution_count": null,
   "metadata": {},
   "outputs": [],
   "source": [
    "x=np.linspace(-3,3,21)\n",
    "def f(x):\n",
    "    # shifted parabola\n",
    "    y = x**2 - 1\n",
    "    return y"
   ]
  },
  {
   "cell_type": "code",
   "execution_count": null,
   "metadata": {},
   "outputs": [],
   "source": [
    "plt.figure(figsize=(8,6))\n",
    "plt.xlabel('x')\n",
    "plt.ylabel('f(x)')\n",
    "plt.title('f(x)=x$^2$-1')\n",
    "plt.plot([-3,3],[0,0],linewidth=1,color='grey')\n",
    "plt.plot(x,f(x))"
   ]
  },
  {
   "cell_type": "markdown",
   "metadata": {},
   "source": [
    "We use `newton` from the `scipy.optimize` package to find the roots.\n",
    "1. We first have to **bracket** possible roots ...\n",
    "2. ..then **search** for the roots.\n",
    "\n",
    "The bracketing is done in a loop, the calculation of the root with the `newton` method.\n",
    "\n",
    "**Note:** Despite its name `newton`, the root-finding procedure is the **secant** method,\n",
    "when we do not hand down a derivative $f'$! Check the manual, e.g. print(scipy.optimize.newton.__doc__)"
   ]
  },
  {
   "cell_type": "code",
   "execution_count": null,
   "metadata": {},
   "outputs": [],
   "source": [
    "x0 = np.array([])\n",
    "for i in range(len(x)-1):\n",
    "    if (f(x[i])==0.):\n",
    "        x0 = np.append(roots,x[i])\n",
    "    elif (f(x[i+1])==0.):\n",
    "        x0 = np.append(roots,x[i+1])\n",
    "    elif (f(x[i])*f(x[i+1])<0):\n",
    "        root=scipy.optimize.newton(f,(x[i]+x[i+1])/2)\n",
    "        x0 = np.append(x0,root)\n",
    "print(x0)"
   ]
  },
  {
   "cell_type": "code",
   "execution_count": null,
   "metadata": {},
   "outputs": [],
   "source": [
    "#print(scipy.optimize.newton.__doc__)"
   ]
  },
  {
   "cell_type": "code",
   "execution_count": null,
   "metadata": {},
   "outputs": [],
   "source": [
    "plt.figure(figsize=(8,6))\n",
    "plt.xlabel('x')\n",
    "plt.ylabel('f(x)')\n",
    "plt.title('f(x)=x$^2$-1')\n",
    "plt.plot([-3,3],[0,0],linewidth=1,color='grey')\n",
    "plt.plot(x,f(x))\n",
    "plt.plot(x0,np.zeros(len(x0)),linewidth=0,marker='o',markersize=10,color='green')"
   ]
  },
  {
   "cell_type": "markdown",
   "metadata": {},
   "source": [
    "## One function with two variables\n",
    "\n",
    "$$\n",
    "\\fbox{$f(x,y)=0$}\n",
    "$$\n",
    "with $f(x,y)=xy-1$\n",
    "\n",
    "Roots are $x^0={{1}\\over{y^0}}$.\n",
    "\n",
    "Define the $x$ and $y$ ranges and the function $f(x,y)$ as function:"
   ]
  },
  {
   "cell_type": "code",
   "execution_count": null,
   "metadata": {},
   "outputs": [],
   "source": [
    "x=np.linspace(-3,3,21)\n",
    "y=np.linspace(-3,3,21)\n",
    "X, Y = np.meshgrid(x, y)\n",
    "def fxy(x,y):\n",
    "    y= x*y - 1\n",
    "    return y\n"
   ]
  },
  {
   "cell_type": "code",
   "execution_count": null,
   "metadata": {},
   "outputs": [],
   "source": [
    "plt.figure(figsize=(8,6))\n",
    "plt.xlabel('x')\n",
    "plt.ylabel('y')\n",
    "plt.title('f(x,y)=xy-1')\n",
    "plt.contourf(X, Y, fxy(X,Y), 20, cmap='RdGy')\n",
    "plt.colorbar()\n",
    "zero=plt.contour(X, Y, fxy(X,Y), 1, colors='black')\n",
    "plt.clabel(zero, inline=True, fontsize=8)"
   ]
  },
  {
   "cell_type": "markdown",
   "metadata": {},
   "source": [
    "To find the roots $x^0,y^0$, we need to fix one variable (e.g. $y^0$), then search for the root(s) of the \n",
    "other variable (e.g. $x$), and then repeat this for all $y$.\n",
    "\n",
    "*-not shown-*"
   ]
  },
  {
   "cell_type": "markdown",
   "metadata": {},
   "source": [
    "## Multiple functions with multiple variables\n",
    "\n",
    "$$\n",
    "\\fbox{$\\vec{F}(\\vec{x})=\\vec{0}$}\n",
    "$$\n",
    "\n",
    "$$\n",
    "\\begin{array}{rcl}\n",
    "f_1(x_1,x_2) &=& x_1 - x_2 \\\\\n",
    "f_2(x_1,x_2) &=& x_1 x_2 -1\n",
    "\\end{array}\n",
    "$$\n",
    "\n",
    "Roots are $\\vec{x}^0=(1,1)$ or $\\vec{x}^0=(-1,-1)$.\n",
    "\n",
    "We first define the two functions as $f_1$ and $f_2$:"
   ]
  },
  {
   "cell_type": "code",
   "execution_count": null,
   "metadata": {},
   "outputs": [],
   "source": [
    "def f1(x):\n",
    "    # first function\n",
    "    f1 = x[0]-x[1]\n",
    "    return f1\n",
    "\n",
    "def f2(x):\n",
    "    # second function\n",
    "    f2 = x[0]*x[1]-1\n",
    "    return f2"
   ]
  },
  {
   "cell_type": "markdown",
   "metadata": {},
   "source": [
    "**Our algorithm**\n",
    "\n",
    "Initial guess:\n",
    "$$ \n",
    "x_0 = (guess)\n",
    "$$\n",
    "Iterative improvement:\n",
    "$$\n",
    "x_{i+1} = x_i - J_{ij}^{-1} f_i(x_j), \\qquad i=1,n\n",
    "$$\n",
    "Jacobi matrix:\n",
    "$$\n",
    " J_{ij}(x_k)  =\n",
    " \\left[\n",
    "\\begin{array}{cccc}\n",
    " \\frac{\\partial f_1}{\\partial x_1}(x_k) &\n",
    " \\frac{\\partial f_1}{\\partial x_2}(x_k) &\n",
    " \\dots &\n",
    " \\frac{\\partial f_1}{\\partial x_n}(x_k) \\\\\n",
    " \\vdots &&& \\vdots \\\\\n",
    " \\frac{\\partial f_n}{\\partial x_1}(x_k) &\n",
    " \\frac{\\partial f_n}{\\partial x_2}(x_k) &\n",
    " \\dots &\n",
    " \\frac{\\partial f_n}{\\partial x_n}(x_k) \\\\\n",
    "\\end{array}\n",
    " \\right]\n",
    "$$"
   ]
  },
  {
   "cell_type": "markdown",
   "metadata": {},
   "source": [
    "We then find the roots by:\n",
    "1. Arranging the **individual functions** into an array ...\n",
    "2. Calculate the **Jacobi matrix** of partial derivatives ...\n",
    "3. **Inverting** the Jacobi matrix"
   ]
  },
  {
   "cell_type": "code",
   "execution_count": null,
   "metadata": {},
   "outputs": [],
   "source": [
    "# start vector\n",
    "x = [4,+2]\n",
    "#x = [4,-2]\n",
    "\n",
    "# iterative improvment\n",
    "converged=False\n",
    "while converged != True:\n",
    "    f    = np.array([f1(x),f2(x)])\n",
    "    J    = np.array([[1,-1],[x[1],x[0]]])\n",
    "    invJ = np.linalg.inv(J)\n",
    "    converged=np.allclose(np.dot(invJ, f), [0,0])\n",
    "    print (x,converged)\n",
    "    x[0] = x[0] - invJ[0][0]*f[0] - invJ[0][1]*f[1]\n",
    "    x[1] = x[1] - invJ[1][0]*f[0] - invJ[1][1]*f[1]"
   ]
  },
  {
   "cell_type": "markdown",
   "metadata": {},
   "source": [
    "And finally with the `root` function from the `scipy.optimize` package.\n",
    "\n",
    "We first need to group our two functions into an array of functions, $vecf(x,y)$"
   ]
  },
  {
   "cell_type": "code",
   "execution_count": null,
   "metadata": {},
   "outputs": [],
   "source": [
    "def vecf(x):\n",
    "    y = [f1(x),f2(x)]   \n",
    "    return y\n",
    "print(vecf([4.,2.]))"
   ]
  },
  {
   "cell_type": "markdown",
   "metadata": {},
   "source": [
    "Then we call the `scipy.optimize.root` method. Check the manual!\n",
    "\n",
    "It needs the array of function, and array of initial guesses, and the Jacobian matrix.\n",
    "\n",
    "For the latter, several choices are available... With `jac=False`, we ask scipy to calculate the Jacobian ..."
   ]
  },
  {
   "cell_type": "code",
   "execution_count": null,
   "metadata": {},
   "outputs": [],
   "source": [
    "sol = scipy.optimize.root(vecf, [0, -1], jac=False, method='hybr')\n",
    "sol.x"
   ]
  },
  {
   "cell_type": "markdown",
   "metadata": {},
   "source": [
    "Here with an explicit definition of the Jacobian matrix:"
   ]
  },
  {
   "cell_type": "code",
   "execution_count": null,
   "metadata": {},
   "outputs": [],
   "source": [
    "def fun(x):\n",
    "    return [x[0]  + 0.5 * (x[0] - x[1])**3 - 1.0,\n",
    "            0.5 * (x[1] - x[0])**3 + x[1]]\n",
    "\n",
    "print(fun([0,0]))\n",
    "\n",
    "def jac(x):\n",
    "    return np.array([[1 + 1.5 * (x[0] - x[1])**2,\n",
    "                      -1.5 * (x[0] - x[1])**2],\n",
    "                     [-1.5 * (x[1] - x[0])**2,\n",
    "                      1 + 1.5 * (x[1] - x[0])**2]])\n",
    "\n",
    "print(jac([0,0]))"
   ]
  },
  {
   "cell_type": "code",
   "execution_count": null,
   "metadata": {},
   "outputs": [],
   "source": [
    "sol = scipy.optimize.root(fun, [0, -1], jac=jac, method='hybr')\n",
    "sol.x"
   ]
  },
  {
   "cell_type": "code",
   "execution_count": null,
   "metadata": {},
   "outputs": [],
   "source": [
    "fun(sol.x)"
   ]
  },
  {
   "cell_type": "markdown",
   "metadata": {},
   "source": [
    "----\n",
    "[next >](lib03_roots.ipynb)"
   ]
  }
 ],
 "metadata": {
  "kernelspec": {
   "display_name": "Python 3",
   "language": "python",
   "name": "python3"
  },
  "language_info": {
   "codemirror_mode": {
    "name": "ipython",
    "version": 3
   },
   "file_extension": ".py",
   "mimetype": "text/x-python",
   "name": "python",
   "nbconvert_exporter": "python",
   "pygments_lexer": "ipython3",
   "version": "3.7.3"
  }
 },
 "nbformat": 4,
 "nbformat_minor": 2
}
