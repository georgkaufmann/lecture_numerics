{
 "cells": [
  {
   "cell_type": "markdown",
   "metadata": {},
   "source": [
    "<table>\n",
    "<tr><td><img style=\"height: 150px;\" src=\"images/geo_hydro1.jpg\"></td>\n",
    "<td bgcolor=\"#FFFFFF\">\n",
    "    <p style=\"font-size: xx-large; font-weight: 900; line-height: 100%\">AG Dynamics of the Earth</p>\n",
    "    <p style=\"font-size: large; color: rgba(0,0,0,0.5);\">Juypter notebooks</p>\n",
    "    <p style=\"font-size: large; color: rgba(0,0,0,0.5);\">Georg Kaufmann</p>\n",
    "    </td>\n",
    "</tr>\n",
    "</table>"
   ]
  },
  {
   "cell_type": "markdown",
   "metadata": {},
   "source": [
    "# Numerical methods: Multiple equations\n",
    "----\n",
    "*Georg Kaufmann,\n",
    "Geophysics Section,\n",
    "Institute of Geological Sciences,\n",
    "Freie Universität Berlin,\n",
    "Germany*\n",
    "\n",
    "In this notebook, we expand into root-finding with multiple equations and variables."
   ]
  },
  {
   "cell_type": "code",
   "execution_count": null,
   "metadata": {},
   "outputs": [],
   "source": [
    "import numpy as np\n",
    "import matplotlib.pyplot as plt"
   ]
  },
  {
   "cell_type": "markdown",
   "metadata": {},
   "source": [
    "## One function with one variable\n",
    "\n",
    "$$\n",
    "\\fbox{$f(x)=0$}\n",
    "$$\n",
    "with $f(x)=x^2-1$\n",
    "\n",
    "Roots are $x^0_1=-1$ and $x^0_2=+1$."
   ]
  },
  {
   "cell_type": "code",
   "execution_count": null,
   "metadata": {},
   "outputs": [],
   "source": [
    "x=np.linspace(-3,3,21)\n",
    "y=np.linspace(-3,3,21)\n",
    "z=x**2-1"
   ]
  },
  {
   "cell_type": "code",
   "execution_count": null,
   "metadata": {},
   "outputs": [],
   "source": [
    "plt.figure(figsize=(8,6))\n",
    "plt.xlabel('x')\n",
    "plt.ylabel('f(x)')\n",
    "plt.title('f(x)=x$^2$-1')\n",
    "plt.plot([-3,3],[0,0],linewidth=1,color='grey')\n",
    "plt.plot(x,z)"
   ]
  },
  {
   "cell_type": "markdown",
   "metadata": {},
   "source": [
    "## One function with two variables\n",
    "\n",
    "$$\n",
    "\\fbox{$f(x,y)=0$}\n",
    "$$\n",
    "with $f(x,y)=xy-1$\n",
    "\n",
    "Roots are $x^0={{1}\\over{y}}$."
   ]
  },
  {
   "cell_type": "code",
   "execution_count": null,
   "metadata": {},
   "outputs": [],
   "source": [
    "X, Y = np.meshgrid(x, y)\n",
    "Z    = X*Y-1"
   ]
  },
  {
   "cell_type": "code",
   "execution_count": null,
   "metadata": {},
   "outputs": [],
   "source": [
    "plt.figure(figsize=(8,6))\n",
    "plt.xlabel('x')\n",
    "plt.ylabel('y')\n",
    "plt.title('f(x,y)=xy-1')\n",
    "plt.contourf(X, Y, Z, 20, cmap='RdGy')\n",
    "plt.colorbar()\n",
    "zero=plt.contour(X, Y, Z, 1, colors='black')\n",
    "plt.clabel(zero, inline=True, fontsize=8)"
   ]
  },
  {
   "cell_type": "markdown",
   "metadata": {},
   "source": [
    "## Multiple functions with multiple variables\n",
    "\n",
    "$$\n",
    "\\fbox{$\\vec{F}(\\vec{x})=\\vec{0}$}\n",
    "$$\n",
    "\n",
    "$$\n",
    "\\begin{array}{rcl}\n",
    "f_1(x_1,x_2) &=& x_1 - x_2 \\\\\n",
    "f_2(x_1,x_2) &=& x_1 x_2 -1\n",
    "\\end{array}\n",
    "$$\n",
    "\n",
    "Roots are $\\vec{x}^0=(1,1)$ or $\\vec{x}^0=(-1,-1)$."
   ]
  },
  {
   "cell_type": "code",
   "execution_count": null,
   "metadata": {},
   "outputs": [],
   "source": [
    "def f1(x):\n",
    "    # first function\n",
    "    f1 = x[0]-x[1]\n",
    "    return f1\n",
    "\n",
    "def f2(x):\n",
    "    # second function\n",
    "    f2 = x[0]*x[1]-1\n",
    "    return f2\n",
    "\n",
    "# start vector\n",
    "x = [4,+2]\n",
    "\n",
    "# iterative improvment\n",
    "converged=False\n",
    "while converged != True:\n",
    "    f    = np.array([f1(x),f2(x)])\n",
    "    J    = np.array([[1,-1],[x[1],x[0]]])\n",
    "    invJ = np.linalg.inv(J)\n",
    "    converged=np.allclose(np.dot(invJ, f), [0,0])\n",
    "    print (x,converged)\n",
    "    x[0] = x[0] - invJ[0][0]*f[0] - invJ[0][1]*f[1]\n",
    "    x[1] = x[1] - invJ[1][0]*f[0] - invJ[1][1]*f[1]"
   ]
  },
  {
   "cell_type": "markdown",
   "metadata": {},
   "source": [
    "----\n",
    "[next >](Numerics_lab03_driver.ipynb)"
   ]
  }
 ],
 "metadata": {
  "kernelspec": {
   "display_name": "Python 3",
   "language": "python",
   "name": "python3"
  },
  "language_info": {
   "codemirror_mode": {
    "name": "ipython",
    "version": 3
   },
   "file_extension": ".py",
   "mimetype": "text/x-python",
   "name": "python",
   "nbconvert_exporter": "python",
   "pygments_lexer": "ipython3",
   "version": "3.7.3"
  }
 },
 "nbformat": 4,
 "nbformat_minor": 2
}
