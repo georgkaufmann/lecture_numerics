{
 "cells": [
  {
   "cell_type": "code",
   "execution_count": 1,
   "id": "513f4649",
   "metadata": {},
   "outputs": [],
   "source": [
    "import numpy as np"
   ]
  },
  {
   "cell_type": "markdown",
   "id": "44f8a762",
   "metadata": {},
   "source": [
    "----\n",
    "## Exercise 1.1"
   ]
  },
  {
   "cell_type": "code",
   "execution_count": 7,
   "id": "87405642",
   "metadata": {},
   "outputs": [],
   "source": [
    "def abs_error(a,b,idigit=5):\n",
    "    abs = np.abs(round(a,idigit)-round(b,idigit))\n",
    "    return abs\n",
    "\n",
    "def rel_error(a,b,idigit=5):\n",
    "    rel = np.abs((round(p1,idigit)-round(p2,idigit)) / round(p1,idigit))\n",
    "    return rel"
   ]
  },
  {
   "cell_type": "code",
   "execution_count": 16,
   "id": "ffa52557",
   "metadata": {},
   "outputs": [
    {
     "name": "stdout",
     "output_type": "stream",
     "text": [
      "3 3.141592653589793 3.142857142857143  abs. error:  0.001\n",
      "3 3.141592653589793 3.142857142857143  rel error:  0.0\n",
      "5 3.141592653589793 3.142857142857143  abs. error:  0.00127\n",
      "5 3.141592653589793 3.142857142857143  rel error:  0.0004\n"
     ]
    }
   ],
   "source": [
    "a=np.pi\n",
    "b=22/7\n",
    "\n",
    "for idigit in [3,5]:          \n",
    "    print(idigit,a,b,' abs. error: ',round(abs_error(a,b,idigit),idigit))\n",
    "    print(idigit,a,b,' rel error: ',round(rel_error(a,b,idigit),idigit))"
   ]
  },
  {
   "cell_type": "code",
   "execution_count": 21,
   "id": "543b4875",
   "metadata": {},
   "outputs": [
    {
     "name": "stdout",
     "output_type": "stream",
     "text": [
      "3 3.141592653589793 3.1416  abs. error:  0.0\n",
      "3 3.141592653589793 3.1416  rel error:  0.0\n",
      "3 3.141592653589793 3.1416  abs. error:  0.0\n",
      "3 3.141592653589793 3.1416  rel error:  0.0\n",
      "5 3.141592653589793 3.1416  abs. error:  1e-05\n",
      "5 3.141592653589793 3.1416  rel error:  0.0004\n",
      "5 3.141592653589793 3.1416  abs. error:  1e-05\n",
      "5 3.141592653589793 3.1416  rel error:  0.0004\n"
     ]
    }
   ],
   "source": [
    "a=np.pi\n",
    "b=3.1416\n",
    "\n",
    "for idigit in [3,5]:          \n",
    "    print(idigit,a,b,' abs. error: ',round(abs_error(a,b,idigit),idigit))\n",
    "    print(idigit,a,b,' rel error: ',round(rel_error(a,b,idigit),idigit))"
   ]
  },
  {
   "cell_type": "code",
   "execution_count": 17,
   "id": "3091eb77",
   "metadata": {},
   "outputs": [
    {
     "name": "stdout",
     "output_type": "stream",
     "text": [
      "2.718281828459045\n",
      "3 2.718281828459045 2.718  abs. error:  0.0\n",
      "3 2.718281828459045 2.718  rel error:  0.0\n",
      "5 2.718281828459045 2.718  abs. error:  0.00028\n",
      "5 2.718281828459045 2.718  rel error:  0.0004\n"
     ]
    }
   ],
   "source": [
    "a=np.e\n",
    "b=2.718\n",
    "\n",
    "for idigit in [3,5]:          \n",
    "    print(idigit,a,b,' abs. error: ',round(abs_error(a,b,idigit),idigit))\n",
    "    print(idigit,a,b,' rel error: ',round(rel_error(a,b,idigit),idigit))"
   ]
  },
  {
   "cell_type": "code",
   "execution_count": 18,
   "id": "b97aeff9",
   "metadata": {},
   "outputs": [
    {
     "name": "stdout",
     "output_type": "stream",
     "text": [
      "3 1.4142135623730951 1.414  abs. error:  0.0\n",
      "3 1.4142135623730951 1.414  rel error:  0.0\n",
      "5 1.4142135623730951 1.414  abs. error:  0.00021\n",
      "5 1.4142135623730951 1.414  rel error:  0.0004\n"
     ]
    }
   ],
   "source": [
    "a=np.sqrt(2)\n",
    "b=1.414\n",
    "\n",
    "for idigit in [3,5]:          \n",
    "    print(idigit,a,b,' abs. error: ',round(abs_error(a,b,idigit),idigit))\n",
    "    print(idigit,a,b,' rel error: ',round(rel_error(a,b,idigit),idigit))"
   ]
  },
  {
   "cell_type": "raw",
   "id": "c88db68a",
   "metadata": {},
   "source": []
  },
  {
   "cell_type": "markdown",
   "id": "18fc7a3d",
   "metadata": {},
   "source": [
    "## Careful ..."
   ]
  },
  {
   "cell_type": "code",
   "execution_count": 23,
   "id": "b9ccb7ab",
   "metadata": {},
   "outputs": [
    {
     "name": "stdout",
     "output_type": "stream",
     "text": [
      "2.67\n",
      "2.68\n"
     ]
    }
   ],
   "source": [
    "print(round(2.675, 2))\n",
    "print(np.round(2.675, 2))"
   ]
  },
  {
   "cell_type": "markdown",
   "id": "3b17548f",
   "metadata": {},
   "source": [
    "----"
   ]
  }
 ],
 "metadata": {
  "kernelspec": {
   "display_name": "Python 3 (ipykernel)",
   "language": "python",
   "name": "python3"
  },
  "language_info": {
   "codemirror_mode": {
    "name": "ipython",
    "version": 3
   },
   "file_extension": ".py",
   "mimetype": "text/x-python",
   "name": "python",
   "nbconvert_exporter": "python",
   "pygments_lexer": "ipython3",
   "version": "3.10.6"
  }
 },
 "nbformat": 4,
 "nbformat_minor": 5
}
