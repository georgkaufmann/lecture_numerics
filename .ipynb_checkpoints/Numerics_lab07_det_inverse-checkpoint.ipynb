{
 "cells": [
  {
   "cell_type": "markdown",
   "metadata": {},
   "source": [
    "<table>\n",
    "<tr><td><img style=\"height: 150px;\" src=\"images/geo_hydro1.jpg\"></td>\n",
    "<td bgcolor=\"#FFFFFF\">\n",
    "    <p style=\"font-size: xx-large; font-weight: 900; line-height: 100%\">AG Dynamics of the Earth</p>\n",
    "    <p style=\"font-size: large; color: rgba(0,0,0,0.5);\">Juypter notebooks</p>\n",
    "    <p style=\"font-size: large; color: rgba(0,0,0,0.5);\">Georg Kaufmann</p>\n",
    "    </td>\n",
    "</tr>\n",
    "</table>"
   ]
  },
  {
   "cell_type": "markdown",
   "metadata": {},
   "source": [
    "# Numerical methods: 7. Linear systems\n",
    "## Inverse matrix, determinant of matrix\n",
    "----\n",
    "*Georg Kaufmann,\n",
    "Geophysics Section,\n",
    "Institute of Geological Sciences,\n",
    "Freie Universität Berlin,\n",
    "Germany*"
   ]
  },
  {
   "cell_type": "code",
   "execution_count": null,
   "metadata": {},
   "outputs": [],
   "source": [
    "import numpy as np\n",
    "import numpy.linalg\n",
    "import scipy.linalg"
   ]
  },
  {
   "cell_type": "markdown",
   "metadata": {},
   "source": [
    "Define test matrix ${\\bf A}$ for notebook:"
   ]
  },
  {
   "cell_type": "code",
   "execution_count": null,
   "metadata": {},
   "outputs": [],
   "source": [
    "a = np.array([[1., 2.], [3., 4.]])\n",
    "#a = np.array([[2, 5, 8, 7], [5, 2, 2, 8], [7, 5, 6, 6], [5, 4, 4, 8]])\n",
    "print(a)"
   ]
  },
  {
   "cell_type": "markdown",
   "metadata": {},
   "source": [
    "## LU decomposition\n",
    "\n",
    "Test LU decomposition with our routines and the in-buld `python` routines."
   ]
  },
  {
   "cell_type": "code",
   "execution_count": null,
   "metadata": {},
   "outputs": [],
   "source": [
    "def lin_lu_decompose(a):\n",
    "    '''\n",
    "    #----------------------------------------------------------------------\n",
    "    # subroutine decomposes matrix A \n",
    "    # into lower L and upper U triangular matrices, using LU decompostion\n",
    "    # Input:\n",
    "    # a(n,n)  - coefficient matrix\n",
    "    # Output:\n",
    "    # l(n,n)  - lower triangular matrix\n",
    "    # u(n,n)  - upper triangular matrix\n",
    "    # (c) Georg Kaufmann\n",
    "    #----------------------------------------------------------------------\n",
    "    '''\n",
    "    n = a.shape[0]\n",
    "    l = np.zeros([n,n])\n",
    "    u = np.zeros([n,n])\n",
    "    for j in np.arange(1,n+1): # 1,n\n",
    "        l[j-1][j-1] = 1.\n",
    "        u[1-1][j-1] = a[1-1][j-1]\n",
    "        l[j-1][1-1] = a[j-1][1-1] / u[1-1][1-1]\n",
    "    for i in np.arange(2,n+1): # 2,n\n",
    "        sum = 0.\n",
    "        for k in np.arange(1,i): # 1,i-1\n",
    "            sum = sum + l[i-1][k-1]*u[k-1][i-1]\n",
    "        u[i-1][i-1] = a[i-1][i-1] - sum\n",
    "        for j in np.arange(i+1,n+1): # i+1,n\n",
    "            sum = 0.\n",
    "            for k in np.arange(1,i): # 1,i-1\n",
    "                sum = sum + l[i-1][k-1]*u[k-1][j-1]\n",
    "            u[i-1][j-1] = (a[i-1][j-1] -  sum) / l[i-1][i-1]\n",
    "            sum = 0.\n",
    "            for k in np.arange(1,i): # 1,i-1\n",
    "                sum = sum + l[j-1][k-1]*u[k-1][i-1]\n",
    "            l[j-1][i-1] = (a[j-1][i-1] - sum) / u[i-1][i-1]\n",
    "    return l,u\n",
    "\n",
    "\n",
    "def lin_lu_solve(l,u,b):\n",
    "    '''\n",
    "    #----------------------------------------------------------------------\n",
    "    # subroutine solves the system of linear equations\n",
    "    # a(n,n)*x(n) = b(n)\n",
    "    # using the lower and upper triangular matrices L and U\n",
    "    # obtained from LU decomposition\n",
    "    # Input:\n",
    "    # a(n,n)  - coefficient matrix\n",
    "    # b(n)    - rhs vector\n",
    "    # Output:\n",
    "    # x(n)    - solution vector\n",
    "    # (c) Georg Kaufmann\n",
    "    #----------------------------------------------------------------------\n",
    "    '''\n",
    "    n = len(b)\n",
    "    # solve decomposed system Ly=b with forward substitution\n",
    "    for i in np.arange(1,n+1): # 1,n\n",
    "        sum = 0.\n",
    "        for j in np.arange(1,i): # 1,i-1\n",
    "            sum = sum + l[i-1][j-1] * b[j-1]\n",
    "        b[i-1] = (b[i-1] - sum) / l[i-1][i-1]\n",
    "    # solve decomposed system Ux=y with backward substitution\n",
    "    x = np.zeros([n])\n",
    "    for i in np.arange(n-1,-1,step=-1): # n,1,-1\n",
    "        sum = 0.0\n",
    "        for j in np.arange(i+1,n): # i+1,n\n",
    "            sum = sum + u[i][j] * x[j]\n",
    "        x[i] = (b[i] - sum) / u[i][i]\n",
    "    return x"
   ]
  },
  {
   "cell_type": "code",
   "execution_count": null,
   "metadata": {},
   "outputs": [],
   "source": [
    "a2 = np.copy(a)\n",
    "l,u = lin_lu_decompose(a2)\n",
    "print(l)\n",
    "print(u)\n",
    "print(np.allclose(a2 - l @ u, np.zeros((a.shape[0], a.shape[0]))))\n",
    "\n",
    "a2 = np.copy(a)\n",
    "p, l, u = scipy.linalg.lu(a2)\n",
    "#print(p)\n",
    "print(l)\n",
    "print(u)\n",
    "print(np.allclose(a2 - p @ l @ u, np.zeros((a.shape[0], a.shape[0]))))"
   ]
  },
  {
   "cell_type": "markdown",
   "metadata": {},
   "source": [
    "## Determinant\n",
    "Test calculation of determinant of matrix ${\\bf A}$ with our routines and the in-buld `python` routines."
   ]
  },
  {
   "cell_type": "code",
   "execution_count": null,
   "metadata": {},
   "outputs": [],
   "source": [
    "def lin_det(a):\n",
    "    l,u = lin_lu_decompose(a)\n",
    "    det = 1.\n",
    "    for i in range(a.shape[0]):\n",
    "        det = det * u[i,i]\n",
    "    return det"
   ]
  },
  {
   "cell_type": "code",
   "execution_count": null,
   "metadata": {},
   "outputs": [],
   "source": [
    "a2 = np.copy(a)\n",
    "det = lin_det(a2)\n",
    "print (det)\n",
    "\n",
    "a2 = np.copy(a)\n",
    "det = numpy.linalg.det(a2)\n",
    "print (det)"
   ]
  },
  {
   "cell_type": "markdown",
   "metadata": {},
   "source": [
    "## Inversion\n",
    "Test calculation of inverse ${\\bf A}^{-1}$ with our routines and the in-buld `python` routines."
   ]
  },
  {
   "cell_type": "code",
   "execution_count": null,
   "metadata": {},
   "outputs": [],
   "source": [
    "def lin_inverse(a):\n",
    "    n = a.shape[0]\n",
    "    ainv = np.zeros(n*n).reshape(n,n)\n",
    "    for i in range(n):\n",
    "        ainv[i,i] = 1.\n",
    "    l,u = lin_lu_decompose(a)\n",
    "    for i in range(n):\n",
    "        ainv[:,i] = lin_lu_solve(l,u,ainv[:,i])\n",
    "    return ainv"
   ]
  },
  {
   "cell_type": "code",
   "execution_count": null,
   "metadata": {},
   "outputs": [],
   "source": [
    "a2 = np.copy(a)\n",
    "ainv=lin_inverse(a2)\n",
    "print (ainv)\n",
    "print(np.allclose(np.dot(a2, ainv), np.eye(a.shape[0])))\n",
    "\n",
    "a2 = np.copy(a)\n",
    "ainv=numpy.linalg.inv(a2)\n",
    "print (ainv)\n",
    "print(np.allclose(np.dot(a2, ainv), np.eye(a.shape[0])))"
   ]
  },
  {
   "cell_type": "markdown",
   "metadata": {},
   "source": [
    "----\n",
    "[next>](lib07_linearsystems.ipynb)"
   ]
  }
 ],
 "metadata": {
  "kernelspec": {
   "display_name": "Python 3",
   "language": "python",
   "name": "python3"
  },
  "language_info": {
   "codemirror_mode": {
    "name": "ipython",
    "version": 3
   },
   "file_extension": ".py",
   "mimetype": "text/x-python",
   "name": "python",
   "nbconvert_exporter": "python",
   "pygments_lexer": "ipython3",
   "version": "3.7.3"
  }
 },
 "nbformat": 4,
 "nbformat_minor": 2
}
