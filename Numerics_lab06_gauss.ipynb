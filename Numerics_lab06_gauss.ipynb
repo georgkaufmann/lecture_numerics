{
 "cells": [
  {
   "cell_type": "markdown",
   "metadata": {},
   "source": [
    "<table>\n",
    "<tr><td><img style=\"height: 150px;\" src=\"images/geo_hydro1.jpg\"></td>\n",
    "<td bgcolor=\"#FFFFFF\">\n",
    "    <p style=\"font-size: xx-large; font-weight: 900; line-height: 100%\">AG Dynamics of the Earth</p>\n",
    "    <p style=\"font-size: large; color: rgba(0,0,0,0.5);\">Jupyter notebooks</p>\n",
    "    <p style=\"font-size: large; color: rgba(0,0,0,0.5);\">Georg Kaufmann</p>\n",
    "    </td>\n",
    "</tr>\n",
    "</table>"
   ]
  },
  {
   "cell_type": "markdown",
   "metadata": {},
   "source": [
    "# Numerical methods: 6. Integration\n",
    "## Gauss quadrature integration method\n",
    "----\n",
    "*Georg Kaufmann,\n",
    "Geophysics Section,\n",
    "Institute of Geological Sciences,\n",
    "Freie Universität Berlin,\n",
    "Germany*"
   ]
  },
  {
   "cell_type": "markdown",
   "metadata": {},
   "source": [
    "In this notebook, we extend the simple integration rules to the Gauss quadrature rules by sub-dividing the\n",
    "integral interval $[a,b]$ into $n$ sub-intervals, which follow a **non-linear spacing** defined by the roots\n",
    "of the **Legendre polynomials**.\n",
    "\n",
    "First, we load the standrd `python` libraries."
   ]
  },
  {
   "cell_type": "code",
   "execution_count": null,
   "metadata": {},
   "outputs": [],
   "source": [
    "import numpy as np\n",
    "import matplotlib.pyplot as plt\n",
    "import ipywidgets as widgets"
   ]
  },
  {
   "cell_type": "markdown",
   "metadata": {},
   "source": [
    "## Function\n",
    "\n",
    "We first define the function $f$, which we want to integrate between $x \\in [a,b]$:\n",
    "$$\n",
    "\\int\\limits_a^b f(x) dx\n",
    "$$\n",
    "\n",
    "Example:\n",
    "$$\n",
    "\\int\\limits_{0}^{\\pi} \\sin x dx\n",
    "= \\left[-\\cos x \\right]_{0}^{\\pi}\n",
    "= -\\cos (\\pi) - (-\\cos 0)\n",
    "= -(-1) + 1\n",
    "= 2\n",
    "$$"
   ]
  },
  {
   "cell_type": "code",
   "execution_count": null,
   "metadata": {},
   "outputs": [],
   "source": [
    "def int_f(x):\n",
    "    '''\n",
    "    #----------------------------------------------------------------------\n",
    "    # function f(x)\n",
    "    #----------------------------------------------------------------------\n",
    "    '''\n",
    "    int_f = np.sin(x)\n",
    "    return int_f"
   ]
  },
  {
   "cell_type": "code",
   "execution_count": null,
   "metadata": {},
   "outputs": [],
   "source": [
    "a = 0.\n",
    "b = np.pi\n",
    "x = np.linspace(a,b,51)\n",
    "y = int_f(x)\n",
    "\n",
    "plt.xlabel('x')\n",
    "plt.ylabel('f(x)')\n",
    "plt.xlim([a,b])\n",
    "#plt.ylim([-0.1,1.1])\n",
    "plt.fill_between(x,y,linewidth=1,color='lightgrey')\n",
    "plt.plot(x,y,linewidth=5,color='red',label='sin(x)')"
   ]
  },
  {
   "cell_type": "markdown",
   "metadata": {},
   "source": [
    "## Legendre polynomials\n",
    "\n",
    "To approximate the integral, we use the **Gauss quadrature**:\n",
    "\n",
    "$$\n",
    " \\int\\limits_a^b f(x) dx \n",
    " = \\sum\\limits_{i=1}^{n} c_i f(x_{i}) + R_n\n",
    "$$\n",
    "\n",
    "The **sampling points** $x_i$ and the **weights** $c_i$ need to be calculated first.\n",
    "\n",
    "For the sampling points $x_i$, we need to introduce the **Legendre polynomials** $P_n(x)$, \n",
    "defined on the interval $[-1,1]$ which can be calculated recursively from the relation:\n",
    "$$\n",
    "(n+1) P_{n+1}(x) = (2n+1) x P_{n}(x) - n P_{n-1}(x)\n",
    "$$\n",
    "For the first two Legendre polynomials, we use:\n",
    "$$\n",
    "\\begin{array}{rcl}\n",
    " P_0(x) & = & 1 \\\\\n",
    " P_1(x) & = & x \\\\\n",
    "\\end{array}\n",
    "$$\n",
    "\n",
    "Here, we use the `legendre` module from the `scipy.special` package to plot the first $nmax$\n",
    "Legendre polynomials. Note that the degree $n$ defines the **number of roots** of $P_n$!"
   ]
  },
  {
   "cell_type": "code",
   "execution_count": null,
   "metadata": {},
   "outputs": [],
   "source": [
    "from scipy.special import legendre\n",
    "\n",
    "nmax=6\n",
    "plt.figure(figsize=(10,6))\n",
    "plt.xlim([-1.,1.])\n",
    "plt.ylim([-1.1,1.1])\n",
    "plt.xlabel('x')\n",
    "plt.ylabel('P$_n$(x)')\n",
    "plt.title('Legendre polynomials')\n",
    "for n in range(nmax):\n",
    "    Pn=legendre(n)\n",
    "    #print(Pn)\n",
    "    x=np.linspace(-1.,1.,41)\n",
    "    plt.plot(x,Pn(x),linewidth=3,label='P$_{'+str(n)+'}$')\n",
    "plt.legend()"
   ]
  },
  {
   "cell_type": "markdown",
   "metadata": {},
   "source": [
    "To find the **roots** $x_i$ of $P_n(x)$, we have to use a root-searching algorithm. \n",
    "The **weights** $c_i(x)$ are defined as:\n",
    "$$\n",
    "c_i(x) = \\int\\limits_{-1}^{1} \\prod\\limits_{j=1, j \\ne i}^{n} \n",
    "       \\left( \\frac{x-x_j}{x_i-x_j} \\right) dx, \\quad i=1,\\dots,n\n",
    "$$\n",
    "\n",
    "We use the `leggauss` module from the `numpy.polynomial.legendre` package to find both\n",
    "roots and weights:"
   ]
  },
  {
   "cell_type": "code",
   "execution_count": null,
   "metadata": {},
   "outputs": [],
   "source": [
    "from numpy.polynomial.legendre import leggauss\n",
    "\n",
    "def root_and_weights(n=10):\n",
    "    xroot,croot =leggauss(n)\n",
    "    #print('x0: ',xroot)\n",
    "    #print('c:  ',croot)\n",
    "\n",
    "    plt.figure(figsize=(10,6))\n",
    "    plt.xlim([-1.,1.])\n",
    "    plt.xlabel('x')\n",
    "    plt.ylabel('P$_n$(x)')\n",
    "    plt.title('Legendre polynomials')\n",
    "    Pn=legendre(n)\n",
    "    x=np.linspace(-1.,1.,101)\n",
    "    plt.plot(x,Pn(x),linewidth=2,label='P$_{'+str(n)+'}$')\n",
    "    plt.plot(xroot,[0 for i in range(n)],marker='o',markersize=10,linewidth=0)\n",
    "    plt.legend()\n",
    "    \n",
    "root_and_weights()"
   ]
  },
  {
   "cell_type": "code",
   "execution_count": null,
   "metadata": {},
   "outputs": [],
   "source": [
    "# call interactive module\n",
    "w = dict(\n",
    "n=widgets.IntSlider(min=1,max=20,step=1,value=1,description='n'))\n",
    "\n",
    "output = widgets.interactive_output(root_and_weights, w)\n",
    "box = widgets.VBox([widgets.HBox([*w.values()]), output])\n",
    "display(box)"
   ]
  },
  {
   "cell_type": "markdown",
   "metadata": {},
   "source": [
    "## Gauss quadrature\n",
    "\n",
    "Now we can define the Gauss quadrature integration as function.\n",
    "\n",
    "We compare our method with two in-build `python` methods, `scipy.integrate.simps` and\n",
    "`scipy.integrate.quadrature`."
   ]
  },
  {
   "cell_type": "code",
   "execution_count": null,
   "metadata": {},
   "outputs": [],
   "source": [
    "def int_gauss(f,a,b,n):\n",
    "    from numpy.polynomial.legendre import leggauss\n",
    "    xroot,croot =leggauss(n)\n",
    "    int_gauss = 0.\n",
    "    for i in range(1,n+1):\n",
    "        xx = ((b-a)*xroot[i-1]+a+b)/2.\n",
    "        int_gauss = int_gauss + croot[i-1]*f(xx)\n",
    "    int_gauss = (b-a) / 2. * int_gauss\n",
    "    return int_gauss "
   ]
  },
  {
   "cell_type": "code",
   "execution_count": null,
   "metadata": {},
   "outputs": [],
   "source": [
    "import scipy.integrate\n",
    "print (\"%12s%12.2f%12.2f\" % ('[a,b]:   ',a,b))\n",
    "print (\"%12s%12s%12s%12s\" % (\n",
    "          '           n',\n",
    "          '  PythonSimp',\n",
    "          '       Gauss',\n",
    "          ' PythonGauss'))\n",
    "#-----------------------------------------------------------------------\n",
    "# call integration method\n",
    "#-----------------------------------------------------------------------\n",
    "int = np.zeros(3)\n",
    "for n in np.arange(2,14,2):\n",
    "    x = np.linspace(a,b,n)\n",
    "    y = int_f(x)\n",
    "    int[0] = scipy.integrate.simps (y,x,even='avg')\n",
    "    int[1] = int_gauss(int_f,a,b,n)\n",
    "    [int[2],err] = scipy.integrate.quadrature (int_f,a,b,maxiter=n)\n",
    "    print (\"%9s%3i%12.4f%12.4f%12.4f\" % ('',n,int[0],int[1],int[2]))"
   ]
  },
  {
   "cell_type": "markdown",
   "metadata": {},
   "source": [
    "[next >](Numerics_lab06_romberg.ipynb)"
   ]
  }
 ],
 "metadata": {
  "kernelspec": {
   "display_name": "Python 3",
   "language": "python",
   "name": "python3"
  },
  "language_info": {
   "codemirror_mode": {
    "name": "ipython",
    "version": 3
   },
   "file_extension": ".py",
   "mimetype": "text/x-python",
   "name": "python",
   "nbconvert_exporter": "python",
   "pygments_lexer": "ipython3",
   "version": "3.7.3"
  }
 },
 "nbformat": 4,
 "nbformat_minor": 1
}
