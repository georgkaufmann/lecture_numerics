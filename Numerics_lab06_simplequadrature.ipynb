{
 "cells": [
  {
   "cell_type": "markdown",
   "metadata": {},
   "source": [
    "<table>\n",
    "<tr><td><img style=\"height: 150px;\" src=\"images/geo_hydro1.jpg\"></td>\n",
    "<td bgcolor=\"#FFFFFF\">\n",
    "    <p style=\"font-size: xx-large; font-weight: 900; line-height: 100%\">AG Dynamics of the Earth</p>\n",
    "    <p style=\"font-size: large; color: rgba(0,0,0,0.5);\">Juypter notebooks</p>\n",
    "    <p style=\"font-size: large; color: rgba(0,0,0,0.5);\">Georg Kaufmann</p>\n",
    "    </td>\n",
    "</tr>\n",
    "</table>"
   ]
  },
  {
   "cell_type": "markdown",
   "metadata": {},
   "source": [
    "# Numerical methods: Simple quadrature integration methods\n",
    "----\n",
    "*Georg Kaufmann,\n",
    "Geophysics Section,\n",
    "Institute of Geological Sciences,\n",
    "Freie Universität Berlin,\n",
    "Germany*"
   ]
  },
  {
   "cell_type": "code",
   "execution_count": null,
   "metadata": {},
   "outputs": [],
   "source": [
    "import numpy as np\n",
    "import matplotlib.pyplot as plt"
   ]
  },
  {
   "cell_type": "markdown",
   "metadata": {},
   "source": [
    "## Function\n",
    "\n",
    "Define function $f$, which should be integrated between $x \\in [a,b]$:\n",
    "$$\n",
    "\\int\\limits_a^b f(x)\n",
    "$$"
   ]
  },
  {
   "cell_type": "code",
   "execution_count": null,
   "metadata": {},
   "outputs": [],
   "source": [
    "def int_f(x):\n",
    "    '''\n",
    "    #----------------------------------------------------------------------\n",
    "    # function f(x)\n",
    "    #----------------------------------------------------------------------\n",
    "    '''\n",
    "    int_f = np.sin(x)\n",
    "    return int_f"
   ]
  },
  {
   "cell_type": "code",
   "execution_count": null,
   "metadata": {},
   "outputs": [],
   "source": [
    "a = 0.\n",
    "b = np.pi/2\n",
    "x = np.linspace(a,b,51)\n",
    "y = int_f(x)\n",
    "\n",
    "plt.xlabel('x')\n",
    "plt.ylabel('f(x)')\n",
    "plt.xlim([a,b])\n",
    "#plt.ylim([-0.1,1.1])\n",
    "plt.plot(x,y,linewidth=5,color='red',label='sin(x)')"
   ]
  },
  {
   "cell_type": "markdown",
   "metadata": {},
   "source": [
    "## Mid-point rule\n",
    "\n",
    "With the **mid-point rule**, derived from a Lagrange interpolation polynomial of **degree 0**,\n",
    "we approximate the integral in the interval $[a,b]$ by calculating a single function value\n",
    "in the middle of the interval, $f({{a+b}\\over{2}})$:\n",
    "\n",
    "$$\n",
    "\\int\\limits_a^b f(x) = (b-a) f({{a+b}\\over{2}})\n",
    "$$"
   ]
  },
  {
   "cell_type": "code",
   "execution_count": null,
   "metadata": {},
   "outputs": [],
   "source": [
    "def simple_midpoint(f,a,b):\n",
    "    simple_midpoint = (b-a) * f((a+b)/2)\n",
    "    return simple_midpoint"
   ]
  },
  {
   "cell_type": "code",
   "execution_count": null,
   "metadata": {},
   "outputs": [],
   "source": [
    "n = 0\n",
    "h = (b-a) \n",
    "x0 = np.array([(a+b)/2])\n",
    "print(a,b,n,h,x0)\n",
    "I1 = simple_midpoint(int_f,a,b)\n",
    "print ('Mid-point: ',I1)\n",
    "\n",
    "plt.figure(figsize=(10,6))\n",
    "plt.xlabel('x')\n",
    "plt.ylabel('f(x)')\n",
    "plt.xlim([a,b])\n",
    "#plt.ylim([0.0,1.1])\n",
    "plt.plot(x,y,linewidth=5,color='red',label='sin(x)')\n",
    "plt.fill_between([a,b], [int_f(x0[0]),int_f(x0[0])],0.,alpha=0.5,edgecolor='b',linewidth=2,label='Mid-point')\n",
    "plt.text(0.1,0.8,'Mid-point: '+str(round(I1,4)))\n",
    "plt.legend()"
   ]
  },
  {
   "cell_type": "markdown",
   "metadata": {},
   "source": [
    "## Trapez rule\n",
    "\n",
    "With the **Trapez rule**, derived from a Lagrange interpolation polynomial of **degree 1**,\n",
    "we approximate the integral in the interval $[a,b]$ by calculating two function values\n",
    "at the end-points of the interval, $f(a)$ and $f(b)$:\n",
    "\n",
    "$$\n",
    "\\int\\limits_a^b f(x) = (b-a) {{f(a)+f(b)}\\over{2}}\n",
    "$$"
   ]
  },
  {
   "cell_type": "code",
   "execution_count": null,
   "metadata": {},
   "outputs": [],
   "source": [
    "def simple_trapez(f,a,b):\n",
    "    simple_trapez = (b-a)/2. * (f(a) + f(b))\n",
    "    return simple_trapez"
   ]
  },
  {
   "cell_type": "code",
   "execution_count": null,
   "metadata": {},
   "outputs": [],
   "source": [
    "n = 1\n",
    "h = (b-a) / n\n",
    "x0 = np.array([a,a+h])\n",
    "print(a,b,n,h,x0)\n",
    "I2 = simple_trapez(int_f,a,b)\n",
    "print ('Trapez: ',I2)\n",
    "\n",
    "plt.figure(figsize=(10,6))\n",
    "plt.xlabel('x')\n",
    "plt.ylabel('f(x)')\n",
    "plt.xlim([a,b])\n",
    "plt.ylim([0.0,1.1])\n",
    "plt.plot(x,y,linewidth=5,color='red',label='sin(x)')\n",
    "plt.fill_between(x0, int_f(x0),0.,alpha=0.5,edgecolor='b',linewidth=2,label='Trapez')\n",
    "plt.text(0.1,0.8,'Trapez: '+str(round(I2,4)))\n",
    "plt.legend()"
   ]
  },
  {
   "cell_type": "markdown",
   "metadata": {},
   "source": [
    "## Simpson rule\n",
    "\n",
    "With the **Simpson rule**, derived from a Lagrange interpolation polynomial of **degree 2**,\n",
    "we approximate the integral in the interval $[a,b]$ by calculating three function values\n",
    "at the end-points of the interval and in the center, $f(a)$, $f({{a+b}\\over{2}})$ and $f(b)$:\n",
    "\n",
    "$$\n",
    "\\int\\limits_a^b f(x) = {{(b-a)}\\over{6}} \\left[ f(a) + 4 f({{a+b}\\over{2}}) +f(b) \\right]\n",
    "$$"
   ]
  },
  {
   "cell_type": "code",
   "execution_count": null,
   "metadata": {},
   "outputs": [],
   "source": [
    "def simple_simpson(f,a,b):\n",
    "    simple_simpson = (b-a)/6. * (f(a) + 4.*f((a+b)/2.)+ f(b))\n",
    "    return simple_simpson"
   ]
  },
  {
   "cell_type": "code",
   "execution_count": null,
   "metadata": {},
   "outputs": [],
   "source": [
    "n = 2\n",
    "h = (b-a) / n\n",
    "x0 = np.array([a,a+h,a+2*h])\n",
    "print(a,b,n,h,x0)\n",
    "I3 = simple_simpson(int_f,a,b)\n",
    "print ('Simpson: ',I3)\n",
    "\n",
    "plt.figure(figsize=(10,6))\n",
    "plt.xlabel('x')\n",
    "plt.ylabel('f(x)')\n",
    "plt.xlim([a,b])\n",
    "plt.ylim([0,1.1])\n",
    "plt.plot(x,y,linewidth=5,color='red',label='sin(x)')\n",
    "plt.fill_between(x0, int_f(x0),0.,alpha=0.5,edgecolor='b',linewidth=2,label='Simpson')\n",
    "plt.text(0.1,0.8,'Simpson: '+str(round(I3,4)))\n",
    "plt.legend()"
   ]
  },
  {
   "cell_type": "markdown",
   "metadata": {},
   "source": [
    "----\n",
    "## Example from lecture"
   ]
  },
  {
   "cell_type": "code",
   "execution_count": null,
   "metadata": {},
   "outputs": [],
   "source": [
    "def f1(x):\n",
    "    f1 = x**2\n",
    "    return f1\n",
    "\n",
    "def f2(x):\n",
    "    f2 = x**4\n",
    "    return f2\n",
    "\n",
    "a=1.0\n",
    "b=2.\n",
    "\n",
    "exact1=b**3/3 - a**3/3\n",
    "exact2=b**5/5 - a**5/5\n",
    "print(\"%15s %10.3f %10.3f\" % ('Exact:     ',exact1,exact2))\n",
    "print(\"%15s %10.3f %10.3f\" % ('Mid-point: ',simple_midpoint(f1,a,b),simple_midpoint(f2,a,b)))\n",
    "print(\"%15s %10.3f %10.3f\" % ('Trapez:    ',simple_trapez(f1,a,b),simple_trapez(f2,a,b)))\n",
    "print(\"%15s %10.3f %10.3f\" % ('Simpson:   ',simple_simpson(f1,a,b),simple_simpson(f2,a,b)))"
   ]
  },
  {
   "cell_type": "markdown",
   "metadata": {},
   "source": [
    "[next >](Numerics_lab06_quadrature.ipynb)"
   ]
  }
 ],
 "metadata": {
  "kernelspec": {
   "display_name": "Python 3",
   "language": "python",
   "name": "python3"
  },
  "language_info": {
   "codemirror_mode": {
    "name": "ipython",
    "version": 3
   },
   "file_extension": ".py",
   "mimetype": "text/x-python",
   "name": "python",
   "nbconvert_exporter": "python",
   "pygments_lexer": "ipython3",
   "version": "3.7.3"
  }
 },
 "nbformat": 4,
 "nbformat_minor": 1
}
