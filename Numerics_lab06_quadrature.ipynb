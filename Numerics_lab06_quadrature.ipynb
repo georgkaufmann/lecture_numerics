{
 "cells": [
  {
   "cell_type": "markdown",
   "metadata": {},
   "source": [
    "<table>\n",
    "<tr><td><img style=\"height: 150px;\" src=\"images/geo_hydro1.jpg\"></td>\n",
    "<td bgcolor=\"#FFFFFF\">\n",
    "    <p style=\"font-size: xx-large; font-weight: 900; line-height: 100%\">AG Dynamics of the Earth</p>\n",
    "    <p style=\"font-size: large; color: rgba(0,0,0,0.5);\">Juypter notebooks</p>\n",
    "    <p style=\"font-size: large; color: rgba(0,0,0,0.5);\">Georg Kaufmann</p>\n",
    "    </td>\n",
    "</tr>\n",
    "</table>"
   ]
  },
  {
   "cell_type": "markdown",
   "metadata": {},
   "source": [
    "# Numerical methods: 6. Integration\n",
    "## Extended quadrature integration methods\n",
    "----\n",
    "*Georg Kaufmann,\n",
    "Geophysics Section,\n",
    "Institute of Geological Sciences,\n",
    "Freie Universität Berlin,\n",
    "Germany*"
   ]
  },
  {
   "cell_type": "markdown",
   "metadata": {},
   "source": [
    "In this notebook, we extend the simple integration rules to the full quadrature rules by sub-dividing the\n",
    "integral interval $[a,b]$ into $n$ sub-intervals.\n",
    "\n",
    "First, we load the standrd `python` libraries."
   ]
  },
  {
   "cell_type": "code",
   "execution_count": 1,
   "metadata": {},
   "outputs": [],
   "source": [
    "import numpy as np\n",
    "import matplotlib.pyplot as plt"
   ]
  },
  {
   "cell_type": "markdown",
   "metadata": {},
   "source": [
    "## Function\n",
    "\n",
    "We then define a function $f$, which should be integrated between $x \\in [a,b]$:\n",
    "$$\n",
    "\\int\\limits_a^b f(x) dx\n",
    "$$\n",
    "\n",
    "Example:\n",
    "$$\n",
    "\\int\\limits_{0}^{\\pi} \\sin x dx\n",
    "= \\left[-\\cos x \\right]_{0}^{\\pi}\n",
    "= -\\cos (\\pi) - (-\\cos 0)\n",
    "= -(-1) + 1\n",
    "= 2\n",
    "$$"
   ]
  },
  {
   "cell_type": "code",
   "execution_count": 2,
   "metadata": {},
   "outputs": [],
   "source": [
    "def int_f(x):\n",
    "    '''\n",
    "    #----------------------------------------------------------------------\n",
    "    # function f(x)\n",
    "    #----------------------------------------------------------------------\n",
    "    '''\n",
    "    int_f = np.sin(x)\n",
    "    return int_f"
   ]
  },
  {
   "cell_type": "code",
   "execution_count": 3,
   "metadata": {},
   "outputs": [
    {
     "data": {
      "text/plain": [
       "[<matplotlib.lines.Line2D at 0x116982b00>]"
      ]
     },
     "execution_count": 3,
     "metadata": {},
     "output_type": "execute_result"
    },
    {
     "data": {
      "image/png": "[encoded data removed]",
      "text/plain": [
       "<Figure size 640x480 with 1 Axes>"
      ]
     },
     "metadata": {},
     "output_type": "display_data"
    }
   ],
   "source": [
    "a = 0.\n",
    "b = np.pi\n",
    "x = np.linspace(a,b,51)\n",
    "y = int_f(x)\n",
    "\n",
    "plt.xlabel('x')\n",
    "plt.ylabel('f(x)')\n",
    "plt.xlim([a,b])\n",
    "#plt.ylim([-0.1,1.1])\n",
    "plt.plot(x,y,linewidth=5,color='red',label='sin(x)')"
   ]
  },
  {
   "cell_type": "markdown",
   "metadata": {},
   "source": [
    "## Trapez rule\n",
    "\n",
    "The **Trapez rule** needs $n+1$ calculations of the function $f$:\n",
    "\n",
    "$$\n",
    " \\int\\limits_a^b f(x) dx \n",
    " = \\frac{h}{2} \n",
    "   \\left[ f(a) \n",
    "          +2 \\sum\\limits_{j=1}^{n-1} f(x_{j})\n",
    "          +f(b)                  \n",
    "   \\right]\n",
    "$$"
   ]
  },
  {
   "cell_type": "code",
   "execution_count": 4,
   "metadata": {},
   "outputs": [],
   "source": [
    "def int_trapez (int_f,a,b,n):\n",
    "    '''\n",
    "    #----------------------------------------------------------------------\n",
    "    # function integrates the function f(x) between a and b\n",
    "    # using the extended Trapezoidal rule for n subintervals\n",
    "    # input:\n",
    "    # a        - lower integration limit\n",
    "    # b        - upper integration limit\n",
    "    # n        - number of sub-intervals\n",
    "    # f        - external function\n",
    "    # output:\n",
    "    # int_trapez - value of interval\n",
    "    # (c) Georg Kaufmann\n",
    "    #----------------------------------------------------------------------\n",
    "    '''\n",
    "    # calculate stepsize\n",
    "    h = (b-a) / float(n)\n",
    "    # calculate integral\n",
    "    int_trapez = int_f(a) + int_f(b)\n",
    "    for i in np.arange(1,n): # i = 1,n-1\n",
    "        int_trapez = int_trapez + 2.0*int_f(a+i*h)\n",
    "    int_trapez = h / 2.0 * int_trapez\n",
    "    return int_trapez"
   ]
  },
  {
   "cell_type": "code",
   "execution_count": 6,
   "metadata": {},
   "outputs": [
    {
     "name": "stdout",
     "output_type": "stream",
     "text": [
      "  n     Trapez   Error[%]\n",
      "  2   1.570796  42.920367\n",
      "  4   1.896119  10.388110\n",
      "  6   1.954097   4.590277\n",
      "  8   1.974232   2.576840\n",
      " 10   1.983524   1.647646\n",
      " 12   1.988564   1.143622\n",
      " 14   1.991600   0.839957\n",
      " 16   1.993570   0.642966\n",
      " 18   1.994920   0.507954\n"
     ]
    }
   ],
   "source": [
    "print(\"%3s %10s %10s\" % ('n','Trapez','Error[%]'))\n",
    "for n in range(2,19,2):\n",
    "    I1 = int_trapez(int_f,a,b,n)\n",
    "    print(\"%3i %10.6f %10.6f\" % (n,I1,100*np.abs(I1-2.)))"
   ]
  },
  {
   "cell_type": "markdown",
   "metadata": {},
   "source": [
    "## Simpson rule\n",
    "\n",
    "The **Simpson rule** needs $n+1$ calculations of the function $f$:\n",
    "\n",
    "$$\n",
    "\\int\\limits_a^b f(x) dx \n",
    " = \\frac{h}{3} \n",
    "   \\left[ f(a) \n",
    "          +2 \\sum\\limits_{j=1}^{{n \\over 2}-1} f(x_{2j})\n",
    "          +4 \\sum\\limits_{j=1}^{{n \\over 2}} f(x_{2j-1})\n",
    "          +f(b)                  \n",
    "   \\right]\n",
    "$$"
   ]
  },
  {
   "cell_type": "code",
   "execution_count": 7,
   "metadata": {},
   "outputs": [],
   "source": [
    "def int_simpson (int_f,a,b,n):\n",
    "    '''\n",
    "    #----------------------------------------------------------------------\n",
    "    # function integrates the function f(x) between a and b\n",
    "    # using the extended Simpson rule for n subintervals\n",
    "    # input:\n",
    "    # a        - lower integration limit\n",
    "    # b        - upper integration limit\n",
    "    # n        - number of sub-intervals\n",
    "    # f        - external function\n",
    "    # output:\n",
    "    # int_simpson - value of interval\n",
    "    # (c) Georg Kaufmann\n",
    "    #----------------------------------------------------------------------\n",
    "    '''\n",
    "    # calculate stepsize\n",
    "    if (n%2 != 0):\n",
    "        exit ('int_simpson: n must be even')\n",
    "    h = (b-a) / float(n)\n",
    "    int_simpson = int_f(a) + int_f(b)\n",
    "    for i in np.arange(1,n/2):  # i = 1,n/2-1\n",
    "        int_simpson = int_simpson + 2.0*int_f(a+(2*i)*h)\n",
    "    for i in np.arange(1,n/2+1): #  1,n/2\n",
    "        int_simpson = int_simpson + 4.0*int_f(a+(2*i-1)*h)\n",
    "    int_simpson = h/3.0 * int_simpson\n",
    "    return int_simpson"
   ]
  },
  {
   "cell_type": "code",
   "execution_count": 9,
   "metadata": {},
   "outputs": [
    {
     "name": "stdout",
     "output_type": "stream",
     "text": [
      "  n     Trapez   Error[%]    Simpson   Error[%]\n",
      "  2   1.570796  42.920367   2.094395   9.439510\n",
      "  4   1.896119  10.388110   2.004560   0.455975\n",
      "  6   1.954097   4.590277   2.000863   0.086319\n",
      "  8   1.974232   2.576840   2.000269   0.026917\n",
      " 10   1.983524   1.647646   2.000110   0.010952\n",
      " 12   1.988564   1.143622   2.000053   0.005262\n",
      " 14   1.991600   0.839957   2.000028   0.002834\n",
      " 16   1.993570   0.642966   2.000017   0.001659\n",
      " 18   1.994920   0.507954   2.000010   0.001035\n"
     ]
    }
   ],
   "source": [
    "print(\"%3s %10s %10s %10s %10s\" % ('n','Trapez','Error[%]','Simpson','Error[%]'))\n",
    "for n in range(2,19,2):\n",
    "    I1 = int_trapez(int_f,a,b,n)\n",
    "    I2 = int_simpson(int_f,a,b,n)\n",
    "    print(\"%3i %10.6f %10.6f %10.6f %10.6f\" % (n,I1,100*np.abs(I1-2.),I2,100*np.abs(I2-2.)))"
   ]
  },
  {
   "cell_type": "markdown",
   "metadata": {},
   "source": [
    "[next>](Numerics_lab06_gauss.ipynb)"
   ]
  }
 ],
 "metadata": {
  "kernelspec": {
   "display_name": "Python 3 (ipykernel)",
   "language": "python",
   "name": "python3"
  },
  "language_info": {
   "codemirror_mode": {
    "name": "ipython",
    "version": 3
   },
   "file_extension": ".py",
   "mimetype": "text/x-python",
   "name": "python",
   "nbconvert_exporter": "python",
   "pygments_lexer": "ipython3",
   "version": "3.10.8"
  }
 },
 "nbformat": 4,
 "nbformat_minor": 1
}
