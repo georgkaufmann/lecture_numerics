{
 "cells": [
  {
   "cell_type": "markdown",
   "metadata": {},
   "source": [
    "<table>\n",
    "<tr><td><img style=\"height: 150px;\" src=\"images/geo_hydro1.jpg\"></td>\n",
    "<td bgcolor=\"#FFFFFF\">\n",
    "    <p style=\"font-size: xx-large; font-weight: 900; line-height: 100%\">AG Dynamics of the Earth</p>\n",
    "    <p style=\"font-size: large; color: rgba(0,0,0,0.5);\">Juypter notebooks</p>\n",
    "    <p style=\"font-size: large; color: rgba(0,0,0,0.5);\">Georg Kaufmann</p>\n",
    "    </td>\n",
    "</tr>\n",
    "</table>"
   ]
  },
  {
   "cell_type": "markdown",
   "metadata": {},
   "source": [
    "# Numerical methods: Numbers\n",
    "----\n",
    "*Georg Kaufmann,\n",
    "Geophysics Section,\n",
    "Institute of Geological Sciences,\n",
    "Freie Universität Berlin,\n",
    "Germany*"
   ]
  },
  {
   "cell_type": "markdown",
   "metadata": {},
   "source": [
    "In this notebook, we will discuss the use and storage of integer and real numbers in a computer.\n",
    "\n",
    "We first test the examples from the lecture ..."
   ]
  },
  {
   "cell_type": "code",
   "execution_count": null,
   "metadata": {},
   "outputs": [],
   "source": [
    "import numpy as np\n",
    "print(2+2 == 4)\n",
    "print(4*4 == 16)\n",
    "print(np.sqrt(3)**2 == 3)"
   ]
  },
  {
   "cell_type": "code",
   "execution_count": null,
   "metadata": {},
   "outputs": [],
   "source": [
    "sum = 0\n",
    "max = 31\n",
    "for i in range(0,max+1):\n",
    "    sum = sum + 2**i\n",
    "print (sum,2**(max+1))"
   ]
  },
  {
   "cell_type": "code",
   "execution_count": null,
   "metadata": {},
   "outputs": [],
   "source": [
    "print(\"%30.20f\" % (3))\n",
    "print(\"%30.20f\" % (np.sqrt(3)**2))\n",
    "print(\"%30.20f\" % (np.sqrt(3**2)))"
   ]
  },
  {
   "cell_type": "markdown",
   "metadata": {},
   "source": [
    "## Prefixes\n",
    "In the early days, memory and disk space was given in units of $1024$, based\n",
    "on the binary unit system. Nowadays, the unit is based on the more natural\n",
    "metric (SI) system, based on multiples of $1000$.\n",
    "\n",
    "$$\n",
    "\\begin{array}{llllll}\n",
    "Metric   &      &  & Binary    &      &  \\\\\n",
    "1000^0 & =10^{0}  & byte   & 1024^0  & =2^{0}  & byte \\\\\n",
    "1000^1 & =10^{3}  & KB     & 1024^1  & =2^{10}  & KiB \\\\\n",
    "1000^2 & =10^{6}  & MB     & 1024^2  & =2^{20}  & MiB \\\\\n",
    "1000^3 & =10^{9}  & GB     & 1024^3  & =2^{30}  & GiB \\\\ \n",
    "1000^4 & =10^{12} & TB     & 1024^4  & =2^{40}  & TiB \\\\\n",
    "\\end{array}\n",
    "$$"
   ]
  },
  {
   "cell_type": "markdown",
   "metadata": {},
   "source": [
    "## Storing numbers\n",
    "A computer stores numbers in a binary manner, that is in either one of two states.\n",
    "A magnetic tape or a hard drive use magnetic polarization, which was either upward or downward.\n",
    "A CD or DVD etches small pits into the surface, representing one state, no pit the other state.\n",
    "\n",
    "This single binary information, termed $0$ or $1$, is called a *single bit*: **bit**.\n",
    "Eight bits are grouped together tow form *one byte*: **byte**. The byte is usually\n",
    "the smallest unit of stored information. As one byte with its 8 locations holds 8 times\n",
    "a $0$ or a $1$, $2^8=256$ different numbers can be stored.\n",
    "\n",
    "### Integer numbers\n",
    "For *integer numbers*, we can store 256 different integer numbers with\n",
    "a binary representation such as:\n",
    "$$\n",
    "\\begin{array}{lll}\n",
    "00000000 & = & 0 \\\\\n",
    "00000001 & = & 1 \\\\\n",
    "00000010 & = & 2 \\\\\n",
    "00000011 & = & 3 \\\\\n",
    "00000100 & = & 4 \\\\\n",
    "00000101 & = & 5 \\\\\n",
    "\\dots    &   & \\\\\n",
    "11111111 & = & 255 \\\\\n",
    "\\end{array}\n",
    "$$\n",
    "\n",
    "How do we read these binary integer numbers? As powers of 2:\n",
    "$$\n",
    " 00000011 = 0 \\times 2^7\n",
    "          + 0 \\times 2^6\n",
    "          + 0 \\times 2^5\n",
    "          + 0 \\times 2^4\n",
    "          + 0 \\times 2^3\n",
    "          + 0 \\times 2^2\n",
    "          + 1 \\times 2^1\n",
    "          + 1 \\times 2^0\n",
    "          = 2^1 + 2^0 = 2 + 1 = 3\n",
    "$$\n",
    "$$\n",
    " 00000101 = 0 \\times 2^7\n",
    "          + 0 \\times 2^6\n",
    "          + 0 \\times 2^5\n",
    "          + 0 \\times 2^4\n",
    "          + 0 \\times 2^3\n",
    "          + 1 \\times 2^2\n",
    "          + 0 \\times 2^1\n",
    "          + 1 \\times 2^0\n",
    "          = 2^2 + 2^0 = 4 + 1 = 5\n",
    "$$\n",
    "\n",
    "Testing with a little `python` script:"
   ]
  },
  {
   "cell_type": "code",
   "execution_count": null,
   "metadata": {},
   "outputs": [],
   "source": [
    "myByte = input('8-digit byte sequence: ')\n",
    "myInt  = int(myByte[0])*2**7 \\\n",
    "       +int(myByte[1])*2**6 \\\n",
    "       +int(myByte[2])*2**5 \\\n",
    "       +int(myByte[3])*2**4 \\\n",
    "       +int(myByte[4])*2**3 \\\n",
    "       +int(myByte[5])*2**2 \\\n",
    "       +int(myByte[6])*2**1 \\\n",
    "       +int(myByte[7])*2**0\n",
    "\n",
    "print('byte:    ',myByte)\n",
    "print('Integer: ',myInt)"
   ]
  },
  {
   "cell_type": "markdown",
   "metadata": {},
   "source": [
    "If we, however, want to store larger integer numbers or negative numbers, we have to use\n",
    "more bytes for storage. Usually, *single-precision integer numbers* are stored in\n",
    "4 bytes (32 bits). We reserve one bit for the sign of the integer numbers, which leaves\n",
    "us with 31 bits for the integer itself. Thus our largest integer would be $2^{31}=2147483648$,\n",
    "and of course the negative integer numbers.\n",
    "\n",
    "Note that we have stored the $0$ twice, as $+0$ and $-0$! Thus, in practice a slightly\n",
    "different storage system is used (two's complement representation)."
   ]
  },
  {
   "cell_type": "markdown",
   "metadata": {},
   "source": [
    "### Real numbers\n",
    "\n",
    "If we need to represent real floating numbers in the computer, we need more storage to keep\n",
    "track of the decimal digits. Here, we make use of the negative powers of two, $2^{-n}$.\n",
    "For example,\n",
    "$$\n",
    " 1*2^2 + 0*2^1 + 1*2^0 + 1*2^{-1} + 0*2^{-2} + 1*2^{-3} = 4 + 1 + 0.5 + 0.125\n",
    "$$\n",
    "represents the real number $5.625$, or in binary notation $101.101$.\n",
    "For storing larger numbers, real numbers in computers are either stored with:\n",
    "$$\n",
    "\\begin{array}{lll}\n",
    "  4~bytes & (32~bit)  & \\mbox{single precision} \\\\\n",
    "  8~bytes & (64~bit)  & \\mbox{double precision} \\\\\n",
    " 16~bytes & (128~bit) & \\mbox{quadruple precision}\n",
    "\\end{array}\n",
    "$$\n",
    "The real numbers $x$ are stored as\n",
    "$$\n",
    " x = s \\cdot m \\cdot b^e,\n",
    "$$\n",
    "with $s$ the sign, $m$ the mantissa, $e$ the exponent, and $b=2$ the standard binary base.\n",
    "In `Fortran`, single precision numbers use 1 bit for the sign ($s$),\n",
    "23~bits for the mantissa ($m$), and 8 bits for the exponent ($e$) of the base ($b$).\n",
    "Double precision numbers use 1 bit for the sign ($s$), 52 bits for the mantissa ($m$),\n",
    "and 11 bits for the exponent ($e$) of the base ($b$).\n",
    "In `Python`, standard float numbers are double precision.\n",
    "\n",
    "Note that real numbers are normalized before storage, so that the condition\n",
    "$$\n",
    " 1 \\le m < b\n",
    "$$\n",
    "holds. Thus, our real number $5.625$ will be represented as $0.5625 \\times 10^{-1}$.\n",
    "\n",
    "Let's test this with a simple example, the float numbers $0.1$ and $0.3$. We use `python` to test the\n",
    "accuracy of the internally stored numbers by printing $a$ and $b$ to standard out with no specific formatting instruction."
   ]
  },
  {
   "cell_type": "code",
   "execution_count": null,
   "metadata": {},
   "outputs": [],
   "source": [
    "a=0.1\n",
    "b=0.3\n",
    "print (a,b)"
   ]
  },
  {
   "cell_type": "markdown",
   "metadata": {},
   "source": [
    "The two float numbers are returned as desired, as it seems. But is $a$ really equal to $0.1$, and $b$ really equal to $0.3$? We test this by comparing the variable to the desired number, using the equality operator *==*."
   ]
  },
  {
   "cell_type": "code",
   "execution_count": null,
   "metadata": {},
   "outputs": [],
   "source": [
    "a=0.1\n",
    "b=0.3\n",
    "print(a==0.1);print(b==0.3)"
   ]
  },
  {
   "cell_type": "markdown",
   "metadata": {},
   "source": [
    "Ok, the variables are, within their numerical accuracy, equal to the desired values. Now we multiply $a$ by 3. The result should be equal to $b$, or? Let's test it:"
   ]
  },
  {
   "cell_type": "code",
   "execution_count": null,
   "metadata": {},
   "outputs": [],
   "source": [
    "a=0.1\n",
    "b=0.3\n",
    "3*a==b"
   ]
  },
  {
   "cell_type": "markdown",
   "metadata": {},
   "source": [
    "No, they are not equal! Why? Because both numbers cannot be represented accurately in the binary system! We will show this by plotting both $a$ and $b$ with different numbers of significant digits. For ten significant digits, the numbers seem to be correct, but printing then with 20 significant digits, we realize that the are **not** represented accurately! "
   ]
  },
  {
   "cell_type": "code",
   "execution_count": null,
   "metadata": {},
   "outputs": [],
   "source": [
    "a=0.1\n",
    "b=0.3\n",
    "print (\"%30.10f %30.10f\" % (a,b))\n",
    "print (\"%30.20f %30.20f\" % (a,b))"
   ]
  },
  {
   "cell_type": "markdown",
   "metadata": {},
   "source": [
    "Is a simple summation really commutative? Let's test it!"
   ]
  },
  {
   "cell_type": "code",
   "execution_count": null,
   "metadata": {},
   "outputs": [],
   "source": [
    "a1=1/10\n",
    "a2=1/13\n",
    "a3=1/17\n",
    "print (a1+a2+a3)\n",
    "print (a3+a2+a1)"
   ]
  },
  {
   "cell_type": "markdown",
   "metadata": {},
   "source": [
    "### Text\n",
    "Text is stored as single characters. With a single byte we have seen, that 256cdifferent\n",
    "variables can be stored. Consider the alphabet with 26cletters, both need to be stored as\n",
    "lower case and upper case. Then the three Umlaute (also in lower- and upper case), and the\n",
    "ß (both in lower and upper case). Then the numbers 0-9, makes altogether 70 fields.\n",
    "Add various fields for special symbols (e.g. \\$,\\%, \\dots). Collect all these fields in\n",
    "a table, and define them as a *standard encoding*, e.g. **UTF-8** for our western standard."
   ]
  },
  {
   "cell_type": "markdown",
   "metadata": {},
   "source": [
    "## Stable and instable algorithms"
   ]
  },
  {
   "cell_type": "code",
   "execution_count": null,
   "metadata": {},
   "outputs": [],
   "source": [
    "p0=[];p1=[];p2=[]\n",
    "p1.append(1.)\n",
    "p2.append(1.)\n",
    "p2.append(0.333)\n",
    "print(\"%10s %10s %10s %10s\" % ('n','p0','p1','p2'))\n",
    "for n in range(0,11):\n",
    "    p0.append((1./3.)**n)\n",
    "    if (n >= 1):\n",
    "        p1.append(p1[n-1]/3.)\n",
    "    if (n >= 2):\n",
    "        p2.append(10.*p2[n-1]/3. - p2[n-2])\n",
    "    print (\"%10i %10.7f %10.7f %10.7f\" % (n,p0[n],p1[n],p2[n]))"
   ]
  },
  {
   "cell_type": "code",
   "execution_count": 3,
   "metadata": {},
   "outputs": [
    {
     "name": "stdout",
     "output_type": "stream",
     "text": [
      "         n         p0         p2\n",
      "         0  1.0000000  1.0000000\n",
      "         1  3.0000000  3.0000000\n",
      "         2  9.0000000  9.0000000\n",
      "         3 27.0000000 27.0000000\n",
      "         4 81.0000000 81.0000000\n",
      "         5 243.0000000 243.0000000\n",
      "         6 729.0000000 729.0000000\n",
      "         7 2187.0000000 2187.0000000\n",
      "         8 6561.0000000 6561.0000000\n",
      "         9 19683.0000000 19683.0000000\n",
      "        10 59049.0000000 59049.0000000\n"
     ]
    }
   ],
   "source": [
    "p0=[];p1=[];p2=[]\n",
    "p2.append(1.)\n",
    "p2.append(3.)\n",
    "print(\"%10s %10s %10s\" % ('n','p0','p2'))\n",
    "for n in range(0,11):\n",
    "    p0.append((3.)**n)\n",
    "    if (n >= 2):\n",
    "        p2.append(10.*p2[n-1]/3. - p2[n-2])\n",
    "    print (\"%10i %10.7f %10.7f\" % (n,p0[n],p2[n]))"
   ]
  },
  {
   "cell_type": "code",
   "execution_count": null,
   "metadata": {},
   "outputs": [],
   "source": []
  }
 ],
 "metadata": {
  "kernelspec": {
   "display_name": "Python 3",
   "language": "python",
   "name": "python3"
  },
  "language_info": {
   "codemirror_mode": {
    "name": "ipython",
    "version": 3
   },
   "file_extension": ".py",
   "mimetype": "text/x-python",
   "name": "python",
   "nbconvert_exporter": "python",
   "pygments_lexer": "ipython3",
   "version": "3.7.3"
  }
 },
 "nbformat": 4,
 "nbformat_minor": 1
}
