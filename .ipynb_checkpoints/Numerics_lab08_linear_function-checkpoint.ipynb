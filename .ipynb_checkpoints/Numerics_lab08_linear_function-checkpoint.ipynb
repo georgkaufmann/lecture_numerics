{
 "cells": [
  {
   "cell_type": "markdown",
   "metadata": {},
   "source": [
    "<table>\n",
    "<tr><td><img style=\"height: 150px;\" src=\"images/geo_hydro1.jpg\"></td>\n",
    "<td bgcolor=\"#FFFFFF\">\n",
    "    <p style=\"font-size: xx-large; font-weight: 900; line-height: 100%\">AG Dynamics of the Earth</p>\n",
    "    <p style=\"font-size: large; color: rgba(0,0,0,0.5);\">Juypter notebooks</p>\n",
    "    <p style=\"font-size: large; color: rgba(0,0,0,0.5);\">Georg Kaufmann</p>\n",
    "    </td>\n",
    "</tr>\n",
    "</table>"
   ]
  },
  {
   "cell_type": "markdown",
   "metadata": {},
   "source": [
    "# Numerical methods: Approximation\n",
    "----\n",
    "*Georg Kaufmann,\n",
    "Geophysics Section,\n",
    "Institute of Geological Sciences,\n",
    "Freie Universität Berlin,\n",
    "Germany*"
   ]
  },
  {
   "cell_type": "code",
   "execution_count": 1,
   "metadata": {},
   "outputs": [],
   "source": [
    "import numpy as np\n",
    "import matplotlib.pyplot as plt\n",
    "import csv\n",
    "import scipy.optimize"
   ]
  },
  {
   "cell_type": "markdown",
   "metadata": {},
   "source": [
    "## Load and plot test data\n",
    "\n",
    "The test data set are **beach lines** from Richmond Gulf, an area along the shores of Hudson Bay in Canada.\n",
    "\n",
    "We load the data set with the `csv` package:"
   ]
  },
  {
   "cell_type": "code",
   "execution_count": 2,
   "metadata": {},
   "outputs": [],
   "source": [
    "csvfile = open('data/fit_richmondgulf.in', newline='')\n",
    "beachlines = csv.reader(csvfile)\n",
    "next(beachlines)\n",
    "i=0\n",
    "tobs=np.array([])\n",
    "terr=np.array([])\n",
    "hobs=np.array([])\n",
    "herr=np.array([])\n",
    "for row in beachlines:\n",
    "    #print (row[0].split())\n",
    "    tobs = np.append(tobs,float(row[0].split()[0]))\n",
    "    terr = np.append(terr,float(row[0].split()[1]))\n",
    "    hobs = np.append(hobs,float(row[0].split()[2]))\n",
    "    herr = np.append(herr,float(row[0].split()[3]))\n",
    "    i=i+1"
   ]
  },
  {
   "cell_type": "markdown",
   "metadata": {},
   "source": [
    "----\n",
    "## Fit with linear functions\n",
    "\n",
    "Text ..."
   ]
  },
  {
   "cell_type": "code",
   "execution_count": 34,
   "metadata": {},
   "outputs": [],
   "source": [
    "def lin_lu_decompose(a):\n",
    "    '''\n",
    "    #----------------------------------------------------------------------\n",
    "    # subroutine decomposes matrix A \n",
    "    # into lower L and upper U triangular matrices, using LU decompostion\n",
    "    # Input:\n",
    "    # a(n,n)  - coefficient matrix\n",
    "    # Output:\n",
    "    # l(n,n)  - lower triangular matrix\n",
    "    # u(n,n)  - upper triangular matrix\n",
    "    # (c) Georg Kaufmann\n",
    "    #----------------------------------------------------------------------\n",
    "    '''\n",
    "    n = a.shape[0]\n",
    "    l = np.zeros([n,n])\n",
    "    u = np.zeros([n,n])\n",
    "    for j in np.arange(1,n+1): # 1,n\n",
    "        l[j-1][j-1] = 1.\n",
    "        u[1-1][j-1] = a[1-1][j-1]\n",
    "        l[j-1][1-1] = a[j-1][1-1] / u[1-1][1-1]\n",
    "    for i in np.arange(2,n+1): # 2,n\n",
    "        sum = 0.\n",
    "        for k in np.arange(1,i): # 1,i-1\n",
    "            sum = sum + l[i-1][k-1]*u[k-1][i-1]\n",
    "        u[i-1][i-1] = a[i-1][i-1] - sum\n",
    "        for j in np.arange(i+1,n+1): # i+1,n\n",
    "            sum = 0.\n",
    "            for k in np.arange(1,i): # 1,i-1\n",
    "                sum = sum + l[i-1][k-1]*u[k-1][j-1]\n",
    "            u[i-1][j-1] = (a[i-1][j-1] -  sum) / l[i-1][i-1]\n",
    "            sum = 0.\n",
    "            for k in np.arange(1,i): # 1,i-1\n",
    "                sum = sum + l[j-1][k-1]*u[k-1][i-1]\n",
    "            l[j-1][i-1] = (a[j-1][i-1] - sum) / u[i-1][i-1]\n",
    "    return l,u"
   ]
  },
  {
   "cell_type": "code",
   "execution_count": 35,
   "metadata": {},
   "outputs": [],
   "source": [
    "def lin_lu_solve(l,u,b):\n",
    "    '''\n",
    "    #----------------------------------------------------------------------\n",
    "    # subroutine solves the system of linear equations\n",
    "    # a(n,n)*x(n) = b(n)\n",
    "    # using the lower and upper triangular matrices L and U\n",
    "    # obtained from LU decomposition\n",
    "    # Input:\n",
    "    # a(n,n)  - coefficient matrix\n",
    "    # b(n)    - rhs vector\n",
    "    # Output:\n",
    "    # x(n)    - solution vector\n",
    "    # (c) Georg Kaufmann\n",
    "    #----------------------------------------------------------------------\n",
    "    '''\n",
    "    n = len(b)\n",
    "    # solve decomposed system Ly=b with forward substitution\n",
    "    for i in np.arange(1,n+1): # 1,n\n",
    "        sum = 0.\n",
    "        for j in np.arange(1,i): # 1,i-1\n",
    "            sum = sum + l[i-1][j-1] * b[j-1]\n",
    "        b[i-1] = (b[i-1] - sum) / l[i-1][i-1]\n",
    "    # solve decomposed system Ux=y with backward substitution\n",
    "    x = np.zeros([n])\n",
    "    for i in np.arange(n-1,-1,step=-1): # n,1,-1\n",
    "        sum = 0.0\n",
    "        for j in np.arange(i+1,n): # i+1,n\n",
    "            sum = sum + u[i][j] * x[j]\n",
    "        x[i] = (b[i] - sum) / u[i][i]\n",
    "    return x"
   ]
  },
  {
   "cell_type": "code",
   "execution_count": 36,
   "metadata": {},
   "outputs": [],
   "source": [
    "def f_poly(i,x):\n",
    "    y = x**i\n",
    "    return y"
   ]
  },
  {
   "cell_type": "code",
   "execution_count": 37,
   "metadata": {},
   "outputs": [],
   "source": [
    "def fit_function(f,x,y,yerr,m=4):\n",
    "    n = len(x)\n",
    "    alpha = np.zeros(m*m).reshape(m,m)\n",
    "    beta  = np.zeros(m)\n",
    "    # fill design matrix and rhs vector\n",
    "    for j in range(m):\n",
    "        for k in range(m):\n",
    "            for i in range(n):    \n",
    "                alpha[k,j] = alpha[k,j] + f(j,x[i])*f(k,x[i])/yerr[i]**2\n",
    "\n",
    "    for k in range(m):\n",
    "        for i in range(n):\n",
    "            beta[k] = beta[k] + y[i]*f(k,x[i])/yerr[i]**2\n",
    "    # solve system with LU decomposition\n",
    "    l,u = lin_lu_decompose(alpha)\n",
    "    a = lin_lu_solve(l,u,beta)\n",
    "    # chi2 value\n",
    "    chi2  = 0.\n",
    "    for i in range(n):\n",
    "        model = 0.\n",
    "        for j in range(m):\n",
    "            model = model + a[j]*f(j,x[i])\n",
    "        chi2 = chi2 + ((y[i]-model)**2 / yerr[i]**2)\n",
    "    return a,chi2"
   ]
  },
  {
   "cell_type": "code",
   "execution_count": 38,
   "metadata": {},
   "outputs": [],
   "source": [
    "m=4\n",
    "a,chi2 = fit_function(f_poly,tobs,hobs,herr,m)"
   ]
  },
  {
   "cell_type": "code",
   "execution_count": 39,
   "metadata": {},
   "outputs": [
    {
     "name": "stdout",
     "output_type": "stream",
     "text": [
      "[ 1.37068322e-01  1.55163117e-02 -1.00395490e-06  2.33614283e-10] 2.1553174187162143\n"
     ]
    }
   ],
   "source": [
    "print(a,chi2)"
   ]
  },
  {
   "cell_type": "code",
   "execution_count": 40,
   "metadata": {},
   "outputs": [],
   "source": [
    "n = len(tobs)\n",
    "hpred = np.zeros(n)\n",
    "for i in range(n):\n",
    "    for j in range(m):\n",
    "        hpred[i] = hpred[i] + a[j]*f_poly(j,tobs[i])"
   ]
  },
  {
   "cell_type": "code",
   "execution_count": 41,
   "metadata": {},
   "outputs": [
    {
     "data": {
      "text/plain": [
       "<matplotlib.legend.Legend at 0x1171796a0>"
      ]
     },
     "execution_count": 41,
     "metadata": {},
     "output_type": "execute_result"
    },
    {
     "data": {
      "image/png": "[encoded data removed]",
      "text/plain": [
       "<Figure size 720x432 with 1 Axes>"
      ]
     },
     "metadata": {
      "needs_background": "light"
     },
     "output_type": "display_data"
    }
   ],
   "source": [
    "plt.figure(figsize=(10,6))\n",
    "plt.title('Richmond Gulf, Hudson Bay, Canada')\n",
    "plt.xlim([10000,0])\n",
    "plt.ylim([0,320])\n",
    "plt.xlabel('Time [a]')\n",
    "plt.ylabel('Relative sea level [m]')\n",
    "plt.errorbar(tobs,hobs,xerr=terr,yerr=herr,linewidth=0,elinewidth=3,ecolor='black')\n",
    "plt.plot(tobs,hobs,linewidth=0,marker='o',markersize=10,label='data')\n",
    "plt.plot(tobs,hpred,linewidth=2,color='red',label='linear function fit')\n",
    "plt.text(5000.,300.,'$\\chi^2$='+str(round(chi2,2))+' (m='+str(m)+')')\n",
    "plt.legend()"
   ]
  },
  {
   "cell_type": "markdown",
   "metadata": {},
   "source": [
    "[next>](Numerics_lab08_nonlinear_functions.ipynb)"
   ]
  }
 ],
 "metadata": {
  "kernelspec": {
   "display_name": "Python 3",
   "language": "python",
   "name": "python3"
  },
  "language_info": {
   "codemirror_mode": {
    "name": "ipython",
    "version": 3
   },
   "file_extension": ".py",
   "mimetype": "text/x-python",
   "name": "python",
   "nbconvert_exporter": "python",
   "pygments_lexer": "ipython3",
   "version": "3.7.3"
  }
 },
 "nbformat": 4,
 "nbformat_minor": 2
}
