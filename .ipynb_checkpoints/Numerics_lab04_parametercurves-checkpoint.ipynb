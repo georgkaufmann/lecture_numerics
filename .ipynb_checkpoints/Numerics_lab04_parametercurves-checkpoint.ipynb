{
 "cells": [
  {
   "cell_type": "markdown",
   "metadata": {},
   "source": [
    "<table>\n",
    "<tr><td><img style=\"height: 150px;\" src=\"images/geo_hydro1.jpg\"></td>\n",
    "<td bgcolor=\"#FFFFFF\">\n",
    "    <p style=\"font-size: xx-large; font-weight: 900; line-height: 100%\">AG Dynamics of the Earth</p>\n",
    "    <p style=\"font-size: large; color: rgba(0,0,0,0.5);\">Juypter notebooks</p>\n",
    "    <p style=\"font-size: large; color: rgba(0,0,0,0.5);\">Georg Kaufmann</p>\n",
    "    </td>\n",
    "</tr>\n",
    "</table>"
   ]
  },
  {
   "cell_type": "markdown",
   "metadata": {},
   "source": [
    "# Numerical methods: Parameter curves\n",
    "----\n",
    "*Georg Kaufmann,\n",
    "Geophysics Section,\n",
    "Institute of Geological Sciences,\n",
    "Freie Universität Berlin,\n",
    "Germany*\n",
    "\n",
    "In this notebook, we learn how to fit a smooth line to a set of discrete points.\n",
    "\n",
    "We first import the `python` libraries needed."
   ]
  },
  {
   "cell_type": "code",
   "execution_count": null,
   "metadata": {},
   "outputs": [],
   "source": [
    "import numpy as np\n",
    "import matplotlib.pyplot as plt\n",
    "import ipywidgets as widgets"
   ]
  },
  {
   "cell_type": "markdown",
   "metadata": {},
   "source": [
    "## Data points\n",
    "Next, we define the data point sin the $x$-$y$ domain:"
   ]
  },
  {
   "cell_type": "code",
   "execution_count": null,
   "metadata": {},
   "outputs": [],
   "source": [
    "# define points in 2D space\n",
    "xdata = np.array([-1.0,-0.25, 1.0, 0.0, 1.0])\n",
    "ydata = np.array([ 0.0, 1.0, 0.5, 0.0,-1.0])"
   ]
  },
  {
   "cell_type": "code",
   "execution_count": null,
   "metadata": {},
   "outputs": [],
   "source": [
    "plt.figure(figsize=(8.0, 8.0))\n",
    "plt.rc(\"font\",size=14)\n",
    "plt.title('Parameter curve',size=12)\n",
    "plt.xlabel('x',size=12)\n",
    "plt.ylabel('y',size=12)\n",
    "plt.plot(xdata,ydata,color='blue',marker='o',markersize=12,linewidth=0,label='Sampled')\n",
    "plt.legend(loc='upper right',shadow=True,fontsize=10)\n",
    "plt.show()"
   ]
  },
  {
   "cell_type": "markdown",
   "metadata": {},
   "source": [
    "We recall the definition of the **Lagrange basis functions** and the\n",
    "**Lagrange interpolation polynomial**."
   ]
  },
  {
   "cell_type": "code",
   "execution_count": null,
   "metadata": {},
   "outputs": [],
   "source": [
    "def pol_lagrange_basis(xint,xdata,n,k):\n",
    "    '''\n",
    "    #----------------------------------------------------------------------\n",
    "    # calculate Lagrange basis function L_{n,k}\n",
    "    # (c) Georg Kaufmann\n",
    "    #----------------------------------------------------------------------\n",
    "    '''\n",
    "    P = 1\n",
    "    for i in np.arange(0,n+1):\n",
    "        if (i!=k):\n",
    "            P = P * (xint-xdata[i]) / (xdata[k]-xdata[i])\n",
    "    return P"
   ]
  },
  {
   "cell_type": "code",
   "execution_count": null,
   "metadata": {},
   "outputs": [],
   "source": [
    "def pol_lagrange (xint,xdata,ydata):\n",
    "    '''\n",
    "    #----------------------------------------------------------------------\n",
    "    # given the arrays xdata(0:n) and ydata(0:n) of length n, which tabulate\n",
    "    # a function (with the xdata's in ascending order), and a coordinate xint\n",
    "    # calculate the Lagrange interpolation polynomial of order n\n",
    "    # (c) Georg Kaufmann\n",
    "    #----------------------------------------------------------------------\n",
    "    '''\n",
    "    n = len(xdata)-1\n",
    "    yint = 0.\n",
    "    for k in np.arange(0,n+1):\n",
    "        yint = yint + ydata[k] * pol_lagrange_basis(xint,xdata,n,k)\n",
    "    return yint"
   ]
  },
  {
   "cell_type": "markdown",
   "metadata": {},
   "source": [
    "Next, we parameterise a function "
   ]
  },
  {
   "cell_type": "code",
   "execution_count": null,
   "metadata": {},
   "outputs": [],
   "source": [
    "#-----------------------------------------------------------------------\n",
    "# create points along trace (from [0,1])\n",
    "#-----------------------------------------------------------------------\n",
    "n = len(xdata)\n",
    "tdata = np.zeros([n])\n",
    "#print(type(tdata),tdata.ndim,tdata.shape)\n",
    "for i in np.arange(0,n):\n",
    "    tdata[i] = float(i) / float(n-1)"
   ]
  },
  {
   "cell_type": "code",
   "execution_count": null,
   "metadata": {},
   "outputs": [],
   "source": [
    "print (xdata,ydata,tdata)"
   ]
  },
  {
   "cell_type": "code",
   "execution_count": null,
   "metadata": {},
   "outputs": [],
   "source": [
    "def plot_curve(x1=-0.25,y1=1.):\n",
    "    xdata[1]=x1\n",
    "    ydata[1]=y1\n",
    "    #-----------------------------------------------------------------------\n",
    "    # set interpolation points and interpolate\n",
    "    #-----------------------------------------------------------------------\n",
    "    nint = 41\n",
    "    xint = np.zeros([nint])\n",
    "    yint = np.zeros([nint])\n",
    "    tint = np.zeros([nint])\n",
    "    for i in np.arange(0,nint):\n",
    "        tint[i] = float(i) / float(nint-1)\n",
    "        xint[i]  = pol_lagrange(tint[i],tdata,xdata)\n",
    "        yint[i]  = pol_lagrange(tint[i],tdata,ydata)\n",
    "    plt.figure(figsize=(8.0, 8.0))\n",
    "    plt.rc(\"font\",size=14)\n",
    "    plt.title('Parameter curve',size=12)\n",
    "    plt.xlabel('x',size=12)\n",
    "    plt.ylabel('y',size=12)\n",
    "    plt.xlim([-1.4,1.4])\n",
    "    plt.ylim([-1.4,1.4])\n",
    "    plt.plot(xint,yint,color='red',linestyle='solid',linewidth=2,label='Lagrange')\n",
    "    plt.plot(xdata,ydata,color='blue',marker='o',markersize=12,linewidth=0,label='Sampled')\n",
    "    plt.legend(loc='upper right',shadow=True,fontsize=10)\n",
    "    plt.show()\n",
    "\n",
    "#plot_curve(0.25)"
   ]
  },
  {
   "cell_type": "code",
   "execution_count": null,
   "metadata": {},
   "outputs": [],
   "source": [
    "# call interactive module\n",
    "w = dict(\n",
    "x1=widgets.FloatSlider(min=-1.,max=1.,step=0.1,value=-0.25,description='xdata[1]'),\n",
    "y1=widgets.FloatSlider(min=-1.,max=1.,step=0.1,value=1.,description='ydata[1]')\n",
    ")\n",
    "\n",
    "output = widgets.interactive_output(plot_curve, w)\n",
    "box = widgets.VBox([widgets.HBox([*w.values()]), output])\n",
    "display(box)"
   ]
  },
  {
   "cell_type": "markdown",
   "metadata": {},
   "source": [
    "[next >](lib04_interpolate.ipynb)"
   ]
  }
 ],
 "metadata": {
  "kernelspec": {
   "display_name": "Python 3",
   "language": "python",
   "name": "python3"
  },
  "language_info": {
   "codemirror_mode": {
    "name": "ipython",
    "version": 3
   },
   "file_extension": ".py",
   "mimetype": "text/x-python",
   "name": "python",
   "nbconvert_exporter": "python",
   "pygments_lexer": "ipython3",
   "version": "3.7.3"
  }
 },
 "nbformat": 4,
 "nbformat_minor": 1
}
