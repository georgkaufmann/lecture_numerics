{
 "cells": [
  {
   "cell_type": "markdown",
   "metadata": {},
   "source": [
    "<table>\n",
    "<tr><td><img style=\"height: 150px;\" src=\"images/geo_hydro1.jpg\"></td>\n",
    "<td bgcolor=\"#FFFFFF\">\n",
    "    <p style=\"font-size: xx-large; font-weight: 900; line-height: 100%\">AG Dynamics of the Earth</p>\n",
    "    <p style=\"font-size: large; color: rgba(0,0,0,0.5);\">Juypter notebooks</p>\n",
    "    <p style=\"font-size: large; color: rgba(0,0,0,0.5);\">Georg Kaufmann</p>\n",
    "    </td>\n",
    "</tr>\n",
    "</table>"
   ]
  },
  {
   "cell_type": "markdown",
   "metadata": {},
   "source": [
    "# Numerical methods: Lagrangre polynomials\n",
    "----\n",
    "*Georg Kaufmann,\n",
    "Geophysics Section,\n",
    "Institute of Geological Sciences,\n",
    "Freie Universität Berlin,\n",
    "Germany*\n",
    "\n",
    "In this notebook, we learn how to assemble a **Lagrange polynomial** as an approximation of\n",
    "discrete data.\n",
    "\n",
    "We first import the `python` libraries needed."
   ]
  },
  {
   "cell_type": "code",
   "execution_count": null,
   "metadata": {},
   "outputs": [],
   "source": [
    "import numpy as np\n",
    "import matplotlib.pyplot as plt\n",
    "import ipywidgets as widgets"
   ]
  },
  {
   "cell_type": "markdown",
   "metadata": {},
   "source": [
    "## Function\n",
    "Next, we define the function, which we would like to examine."
   ]
  },
  {
   "cell_type": "code",
   "execution_count": null,
   "metadata": {},
   "outputs": [],
   "source": [
    "def pol_f(x):\n",
    "    '''\n",
    "    # Calculate function\n",
    "    '''\n",
    "    pol_f = x*np.exp(-x/5.e0)\n",
    "    return pol_f"
   ]
  },
  {
   "cell_type": "markdown",
   "metadata": {},
   "source": [
    "We calculate the function on the interval $[0,50]$, once with high resolution to plot\n",
    "(orig), once sampled for the approximation (data):"
   ]
  },
  {
   "cell_type": "code",
   "execution_count": null,
   "metadata": {},
   "outputs": [],
   "source": [
    "# define interval\n",
    "a     = 0.e0\n",
    "b     = 50.e0\n",
    "## create \"original\" data (high resolution)\n",
    "iorig = 101\n",
    "xorig = np.linspace(a,b,iorig)\n",
    "yorig = pol_f(xorig)\n",
    "# create sample data (lower resolution)\n",
    "idata = 11\n",
    "xdata = np.linspace(a,b,idata)\n",
    "ydata = pol_f(xdata)\n",
    "# plot\n",
    "plt.figure(figsize=(10.0, 6.0))\n",
    "plt.rc(\"font\",size=14)\n",
    "plt.title('Lagrange Polynom interpolation',size=12)\n",
    "plt.xlabel('x',size=12)\n",
    "plt.ylabel('f(x)',size=12)\n",
    "plt.plot(xorig,yorig,color=(0.7,0.7,0.7),linestyle='solid',linewidth=7,label='Original')\n",
    "plt.plot(xdata,ydata,color='blue',marker='X',markersize=12,linewidth=0,label='Sampled')\n",
    "#plt.plot(xint,yint,color='red',linestyle='solid',linewidth=2,label='Lagrange')\n",
    "plt.legend(loc='upper right',shadow=True,fontsize=10)"
   ]
  },
  {
   "cell_type": "markdown",
   "metadata": {},
   "source": [
    "## Lagrange basis functions\n",
    "Next, we need to calculate the Lagrange basis functions:\n",
    "$$\n",
    " L_{n,k}(x) = \\frac{(x-x_0) (x-x_1) \\dots (x-x_{k-1}) (x-x_{k+1}) \\dots (x-x_n)}\n",
    "                   {(x_k-x_0) (x_k-x_1) \\dots (x_k-x_{k-1}) (x_k-x_{k+1}) \\dots (x_k-x_n)}\n",
    "$$\n",
    "$$\n",
    "L_{n,k}(x) =\\prod\\limits_{j=0, j \\ne k}^{n} \\frac{(x-x_j)}{(x_k-x_j)}\n",
    "$$"
   ]
  },
  {
   "cell_type": "code",
   "execution_count": null,
   "metadata": {},
   "outputs": [],
   "source": [
    "def pol_lagrange_basis(xint,xdata,n,k):\n",
    "    '''\n",
    "    #----------------------------------------------------------------------\n",
    "    # calculate Lagrange basis function L_{n,k}\n",
    "    # (c) Georg Kaufmann\n",
    "    #----------------------------------------------------------------------\n",
    "    '''\n",
    "    P = 1\n",
    "    for i in np.arange(0,n+1):\n",
    "        if (i!=k):\n",
    "            P = P * (xint-xdata[i]) / (xdata[k]-xdata[i])\n",
    "    return P"
   ]
  },
  {
   "cell_type": "markdown",
   "metadata": {},
   "source": [
    "Plot the Lagrange basis functions for a set of points in the interval $[-1,1]$:"
   ]
  },
  {
   "cell_type": "code",
   "execution_count": null,
   "metadata": {},
   "outputs": [],
   "source": [
    "def show_lagrange_basis(n):\n",
    "    # n-number of data points\n",
    "    # data points\n",
    "    xdata = np.linspace(-1,1,n)\n",
    "    # interpolation points\n",
    "    xint  = np.linspace(-1,1,10*n)\n",
    "    #print(xdata)\n",
    "    n=len(xdata)-1\n",
    "\n",
    "    # plot\n",
    "    plt.figure(figsize=(10,6))\n",
    "    plt.xlabel('x')\n",
    "    plt.ylabel('P$_{n,k}$(x)')\n",
    "    for k in range(n+1):\n",
    "        #print('n= ',n,'k= ',k)\n",
    "        P=pol_lagrange_basis(xint,xdata,n,k)\n",
    "        #print(P)\n",
    "        plt.plot(xint,P,linewidth=2,label='P$_{'+str(n)+','+str(k)+'}$')\n",
    "    plt.legend()\n",
    "    \n",
    "#lagrange_basis(4)"
   ]
  },
  {
   "cell_type": "code",
   "execution_count": null,
   "metadata": {},
   "outputs": [],
   "source": [
    "# call interactive module\n",
    "w = dict(\n",
    "n=widgets.IntSlider(min=2,max=10,step=1,value=2,description='n'))\n",
    "\n",
    "output = widgets.interactive_output(show_lagrange_basis, w)\n",
    "box = widgets.VBox([widgets.HBox([*w.values()]), output])\n",
    "display(box)"
   ]
  },
  {
   "cell_type": "markdown",
   "metadata": {},
   "source": [
    "## Lagrange interpolation polynomial\n",
    "\n",
    "Next, we define the Lagrange interpolation polynomial:\n",
    "$$\n",
    "\\fbox{$\n",
    " P_n(x) =  \\sum\\limits_{k=0}^{n} f(x_k) L_{n,k}(x)$}\n",
    "$$"
   ]
  },
  {
   "cell_type": "code",
   "execution_count": null,
   "metadata": {},
   "outputs": [],
   "source": [
    "def pol_lagrange (xint,xdata,ydata):\n",
    "    '''\n",
    "    #----------------------------------------------------------------------\n",
    "    # given the arrays xdata(0:n) and ydata(0:n) of length n, which tabulate\n",
    "    # a function (with the xdata's in ascending order), and a coordinate xint\n",
    "    # calculate the Lagrange interpolation polynomial of order n\n",
    "    # (c) Georg Kaufmann\n",
    "    #----------------------------------------------------------------------\n",
    "    '''\n",
    "    n = len(xdata)-1\n",
    "    yint = 0.\n",
    "    for k in np.arange(0,n+1):\n",
    "        yint = yint + ydata[k] * pol_lagrange_basis(xint,xdata,n,k)\n",
    "    return yint"
   ]
  },
  {
   "cell_type": "markdown",
   "metadata": {},
   "source": [
    "Finally, interpolate our re-sampled function with the Lagrange interpolation polynomial."
   ]
  },
  {
   "cell_type": "code",
   "execution_count": null,
   "metadata": {},
   "outputs": [],
   "source": [
    "def show_lagrange_interpol(n):\n",
    "    # create sample data (lower resolution)\n",
    "    idata = n\n",
    "    xdata = np.linspace(a,b,idata)\n",
    "    ydata = pol_f(xdata)\n",
    "    iint  = 41\n",
    "    xint  = np.linspace(a,b,iint)\n",
    "    yint  = np.zeros(iint)\n",
    "    for i in np.arange(0,len(xint)):\n",
    "        yint[i]  = pol_lagrange(xint[i],xdata,ydata)\n",
    "    # plot\n",
    "    plt.figure(figsize=(10.0, 6.0))\n",
    "    plt.rc(\"font\",size=14)\n",
    "    plt.title('Lagrange Polynom interpolation P$_{'+str(idata-1)+'}$(x)',size=12)\n",
    "    plt.xlim([a,b])\n",
    "    plt.ylim([-0.5,2])\n",
    "    plt.xlabel('x',size=12)\n",
    "    plt.ylabel('f(x)',size=12)\n",
    "    plt.plot(xorig,yorig,color=(0.7,0.7,0.7),linestyle='solid',linewidth=7,label='Original')\n",
    "    plt.plot(xdata,ydata,color='blue',marker='X',markersize=12,linewidth=0,label='Sampled')\n",
    "    plt.plot(xint,yint,color='red',linestyle='solid',linewidth=2,label='Lagrange')\n",
    "    plt.legend(loc='upper right',shadow=True,fontsize=10)"
   ]
  },
  {
   "cell_type": "code",
   "execution_count": null,
   "metadata": {},
   "outputs": [],
   "source": [
    "# call interactive module\n",
    "w = dict(\n",
    "n=widgets.IntSlider(min=2,max=15,step=1,value=2,description='n'))\n",
    "\n",
    "output = widgets.interactive_output(show_lagrange_interpol, w)\n",
    "box = widgets.VBox([widgets.HBox([*w.values()]), output])\n",
    "display(box)"
   ]
  },
  {
   "cell_type": "markdown",
   "metadata": {},
   "source": [
    "## And back to the example $f(x)={{1}\\over{x}}$ example"
   ]
  },
  {
   "cell_type": "code",
   "execution_count": null,
   "metadata": {},
   "outputs": [],
   "source": [
    "from scipy.interpolate import lagrange\n",
    "from numpy.polynomial.polynomial import Polynomial\n",
    "# define function\n",
    "def f(x):\n",
    "    f = 1/x\n",
    "    return f\n",
    "# define analytical solution\n",
    "xorig = np.linspace(0.1,6,61)\n",
    "yorig = f(xorig)\n",
    "# define sampling points and use lagrange from python\n",
    "x = np.array([2.0,2.5,4.0])\n",
    "y = f(x)\n",
    "poly = lagrange(x, y)\n",
    "coeff = Polynomial(poly).coef\n",
    "# plot\n",
    "plt.figure(figsize=(10,6))\n",
    "plt.xlabel('x')\n",
    "plt.ylabel('f(x)')\n",
    "plt.ylim([0,6])\n",
    "plt.plot(xorig,yorig,linewidth=8,color='gray',label='f(x)=1/x')\n",
    "plt.plot(xorig,coeff[0]*xorig**2+coeff[1]*xorig+coeff[2],linewidth=3,color='red',label='P$_2$(x)')\n",
    "plt.legend()"
   ]
  },
  {
   "cell_type": "markdown",
   "metadata": {},
   "source": [
    "[next >](Numerics_lab04_splines.ipynb)"
   ]
  }
 ],
 "metadata": {
  "kernelspec": {
   "display_name": "Python 3",
   "language": "python",
   "name": "python3"
  },
  "language_info": {
   "codemirror_mode": {
    "name": "ipython",
    "version": 3
   },
   "file_extension": ".py",
   "mimetype": "text/x-python",
   "name": "python",
   "nbconvert_exporter": "python",
   "pygments_lexer": "ipython3",
   "version": "3.7.3"
  }
 },
 "nbformat": 4,
 "nbformat_minor": 1
}
