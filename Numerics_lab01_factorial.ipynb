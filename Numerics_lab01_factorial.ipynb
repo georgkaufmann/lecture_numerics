{
 "cells": [
  {
   "cell_type": "markdown",
   "metadata": {},
   "source": [
    "<table>\n",
    "<tr><td><img style=\"height: 150px;\" src=\"images/geo_hydro1.jpg\"></td>\n",
    "<td bgcolor=\"#FFFFFF\">\n",
    "    <p style=\"font-size: xx-large; font-weight: 900; line-height: 100%\">AG Dynamics of the Earth</p>\n",
    "    <p style=\"font-size: large; color: rgba(0,0,0,0.5);\">Juypter notebooks</p>\n",
    "    <p style=\"font-size: large; color: rgba(0,0,0,0.5);\">Georg Kaufmann</p>\n",
    "    </td>\n",
    "</tr>\n",
    "</table>"
   ]
  },
  {
   "cell_type": "markdown",
   "metadata": {},
   "source": [
    "# Numerical methods: 1. Introduction\n",
    "## Recursive functions\n",
    "----\n",
    "*Georg Kaufmann,\n",
    "Geophysics Section,\n",
    "Institute of Geological Sciences,\n",
    "Freie Universität Berlin,\n",
    "Germany*\n",
    "\n",
    "We use the calculation of the factorial $n!$ as example for a **recursive** function."
   ]
  },
  {
   "cell_type": "code",
   "execution_count": 1,
   "metadata": {},
   "outputs": [],
   "source": [
    "import numpy as np"
   ]
  },
  {
   "cell_type": "markdown",
   "metadata": {},
   "source": [
    "## Task:\n",
    "Calculate $n!$, the factorial of $n$:\n",
    "$$\n",
    "\\fbox{$n! = n * (n-1) * (n-2) * \\dots * 1$}\n",
    "$$\n",
    "By definition, we have $0!=1$.\n",
    "\n",
    "1. Define an **explicit** calculation of the factorial..."
   ]
  },
  {
   "cell_type": "code",
   "execution_count": 2,
   "metadata": {},
   "outputs": [],
   "source": [
    "def fac(n):\n",
    "    \"\"\"\n",
    "    This is a non-recursive factorial calculation\n",
    "    \"\"\" \n",
    "    fac = 1\n",
    "    if (n == 0):\n",
    "        return fac\n",
    "    elif (n == 1):\n",
    "        return fac\n",
    "    else:\n",
    "        for i in np.arange(n,1,step=-1):\n",
    "            fac = fac*i\n",
    "        return fac"
   ]
  },
  {
   "cell_type": "markdown",
   "metadata": {},
   "source": [
    "2. ... and a **recursive** calculation with a function, which calls itself:"
   ]
  },
  {
   "cell_type": "code",
   "execution_count": 3,
   "metadata": {},
   "outputs": [],
   "source": [
    "def factorial(n):\n",
    "    \"\"\"\n",
    "    This is a recursive function\n",
    "    to find the factorial of an integer\n",
    "    \"\"\"\n",
    "    if n == 1:\n",
    "        return 1\n",
    "    else:\n",
    "        return (n * factorial(n-1))"
   ]
  },
  {
   "cell_type": "code",
   "execution_count": 4,
   "metadata": {},
   "outputs": [
    {
     "name": "stdout",
     "output_type": "stream",
     "text": [
      "\n",
      "    This is a non-recursive factorial calculation\n",
      "    \n",
      "\n",
      "    This is a recursive function\n",
      "    to find the factorial of an integer\n",
      "    \n"
     ]
    }
   ],
   "source": [
    "print(fac.__doc__)\n",
    "print(factorial.__doc__)"
   ]
  },
  {
   "cell_type": "markdown",
   "metadata": {},
   "source": [
    "Basically, we save to code the explicit loop, it is done by recursion! Test:"
   ]
  },
  {
   "cell_type": "code",
   "execution_count": 7,
   "metadata": {},
   "outputs": [
    {
     "name": "stdout",
     "output_type": "stream",
     "text": [
      "non-recursive:  1!     1\n",
      "recursive:      1!     1\n",
      "non-recursive:  2!     2\n",
      "recursive:      2!     2\n",
      "non-recursive:  3!     6\n",
      "recursive:      3!     6\n",
      "non-recursive:  4!    24\n",
      "recursive:      4!    24\n",
      "non-recursive:  5!   120\n",
      "recursive:      5!   120\n",
      "non-recursive:  6!   720\n",
      "recursive:      6!   720\n",
      "non-recursive:  7!  5040\n",
      "recursive:      7!  5040\n",
      "non-recursive:  8! 40320\n",
      "recursive:      8! 40320\n"
     ]
    }
   ],
   "source": [
    "for n in range(1,9):\n",
    "    print(\"%s %1i%1s%6i\" % ('non-recursive: ',n,'!',fac(n)))\n",
    "    print(\"%s %1i%1s%6i\" % ('recursive:     ',n,'!',factorial(n)))"
   ]
  },
  {
   "cell_type": "markdown",
   "metadata": {},
   "source": [
    "Test with $0!$ ...\n",
    "\n",
    "----\n",
    "## What does the **recursive function**? \n",
    "\n",
    "It calls itself!\n",
    "\n",
    "It is therefore **important** to define a stop condition, as in the above example the $n==1$ condition.\n",
    "\n",
    "The the stop condition is **not** defined, the recursive function calls itself infinitely often. \n",
    "Here, the program/interpreter needs to stop it ..."
   ]
  },
  {
   "cell_type": "code",
   "execution_count": 8,
   "metadata": {},
   "outputs": [
    {
     "ename": "RecursionError",
     "evalue": "maximum recursion depth exceeded",
     "output_type": "error",
     "traceback": [
      "\u001b[0;31m---------------------------------------------------------------------------\u001b[0m",
      "\u001b[0;31mRecursionError\u001b[0m                            Traceback (most recent call last)",
      "Cell \u001b[0;32mIn [8], line 3\u001b[0m\n\u001b[1;32m      1\u001b[0m \u001b[38;5;28;01mdef\u001b[39;00m \u001b[38;5;21mrecursor\u001b[39m():\n\u001b[1;32m      2\u001b[0m     recursor()\n\u001b[0;32m----> 3\u001b[0m \u001b[43mrecursor\u001b[49m\u001b[43m(\u001b[49m\u001b[43m)\u001b[49m\n",
      "Cell \u001b[0;32mIn [8], line 2\u001b[0m, in \u001b[0;36mrecursor\u001b[0;34m()\u001b[0m\n\u001b[1;32m      1\u001b[0m \u001b[38;5;28;01mdef\u001b[39;00m \u001b[38;5;21mrecursor\u001b[39m():\n\u001b[0;32m----> 2\u001b[0m     \u001b[43mrecursor\u001b[49m\u001b[43m(\u001b[49m\u001b[43m)\u001b[49m\n",
      "Cell \u001b[0;32mIn [8], line 2\u001b[0m, in \u001b[0;36mrecursor\u001b[0;34m()\u001b[0m\n\u001b[1;32m      1\u001b[0m \u001b[38;5;28;01mdef\u001b[39;00m \u001b[38;5;21mrecursor\u001b[39m():\n\u001b[0;32m----> 2\u001b[0m     \u001b[43mrecursor\u001b[49m\u001b[43m(\u001b[49m\u001b[43m)\u001b[49m\n",
      "    \u001b[0;31m[... skipping similar frames: recursor at line 2 (2970 times)]\u001b[0m\n",
      "Cell \u001b[0;32mIn [8], line 2\u001b[0m, in \u001b[0;36mrecursor\u001b[0;34m()\u001b[0m\n\u001b[1;32m      1\u001b[0m \u001b[38;5;28;01mdef\u001b[39;00m \u001b[38;5;21mrecursor\u001b[39m():\n\u001b[0;32m----> 2\u001b[0m     \u001b[43mrecursor\u001b[49m\u001b[43m(\u001b[49m\u001b[43m)\u001b[49m\n",
      "\u001b[0;31mRecursionError\u001b[0m: maximum recursion depth exceeded"
     ]
    }
   ],
   "source": [
    "def recursor():\n",
    "    recursor()\n",
    "recursor()"
   ]
  },
  {
   "cell_type": "markdown",
   "metadata": {},
   "source": [
    "**Advantages**\n",
    "1. Recursive functions make the code look clean and elegant.\n",
    "2. A complex task can be broken down into simpler sub-problems using recursion.\n",
    "3. Sequence generation is easier with recursion than using some nested iteration.\n",
    "\n",
    "**Disadvantages**\n",
    "1. Sometimes the logic behind recursion is hard to follow through.\n",
    "2. Recursive calls are expensive (inefficient) as they take up a lot of memory and time.\n",
    "3. Recursive functions are hard to debug."
   ]
  },
  {
   "cell_type": "markdown",
   "metadata": {},
   "source": [
    "...done"
   ]
  }
 ],
 "metadata": {
  "kernelspec": {
   "display_name": "Python 3 (ipykernel)",
   "language": "python",
   "name": "python3"
  },
  "language_info": {
   "codemirror_mode": {
    "name": "ipython",
    "version": 3
   },
   "file_extension": ".py",
   "mimetype": "text/x-python",
   "name": "python",
   "nbconvert_exporter": "python",
   "pygments_lexer": "ipython3",
   "version": "3.10.6"
  }
 },
 "nbformat": 4,
 "nbformat_minor": 2
}
