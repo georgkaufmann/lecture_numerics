{
 "cells": [
  {
   "cell_type": "markdown",
   "metadata": {},
   "source": [
    "<table>\n",
    "<tr><td><img style=\"height: 150px;\" src=\"images/geo_hydro1.jpg\"></td>\n",
    "<td bgcolor=\"#FFFFFF\">\n",
    "    <p style=\"font-size: xx-large; font-weight: 900; line-height: 100%\">AG Dynamics of the Earth</p>\n",
    "    <p style=\"font-size: large; color: rgba(0,0,0,0.5);\">Juypter notebooks</p>\n",
    "    <p style=\"font-size: large; color: rgba(0,0,0,0.5);\">Georg Kaufmann</p>\n",
    "    </td>\n",
    "</tr>\n",
    "</table>"
   ]
  },
  {
   "cell_type": "markdown",
   "metadata": {},
   "source": [
    "# Roots: Library version"
   ]
  },
  {
   "cell_type": "code",
   "execution_count": null,
   "metadata": {},
   "outputs": [],
   "source": [
    "import numpy as np\n",
    "import matplotlib.pyplot as plt\n",
    "import csv\n",
    "\n",
    "import numerics.roots\n",
    "import numerics.change_fonts;numerics.change_fonts.change_fontsize()"
   ]
  },
  {
   "cell_type": "code",
   "execution_count": null,
   "metadata": {},
   "outputs": [],
   "source": [
    "def root_f(x):\n",
    "    y = np.sin(x)\n",
    "    return y\n",
    "\n",
    "def root_df(x):\n",
    "    root_df = np.cos(x)\n",
    "    return root_df"
   ]
  },
  {
   "cell_type": "markdown",
   "metadata": {},
   "source": [
    "## Bisection method"
   ]
  },
  {
   "cell_type": "code",
   "execution_count": null,
   "metadata": {},
   "outputs": [],
   "source": [
    "a   = -0.1\n",
    "b   = 2.1*np.pi\n",
    "n   = 10\n",
    "nb  = 0\n",
    "\n",
    "[xb1,xb2,nb] = numerics.roots.root_bracket(root_f,a,b,n)\n",
    "print(xb1,xb2,nb)\n",
    "\n",
    "x0 = np.empty(nb)\n",
    "y0 = np.empty(nb)\n",
    "for i in range(nb):\n",
    "    x0[i] = numerics.roots.root_bisection(root_f,xb1[i],xb2[i],tol=0.0001)\n",
    "    y0[i] = root_f(x0[i])\n",
    "    print (\"%5i %10.5f %10.5f\" % (i,x0[i],y0[i]))"
   ]
  },
  {
   "cell_type": "markdown",
   "metadata": {},
   "source": [
    "## Secant method"
   ]
  },
  {
   "cell_type": "code",
   "execution_count": null,
   "metadata": {},
   "outputs": [],
   "source": [
    "a   = -0.1\n",
    "b   = 2.1*np.pi\n",
    "n   = 10\n",
    "nb  = 0\n",
    "\n",
    "[xb1,xb2,nb] = numerics.roots.root_bracket(root_f,a,b,n)\n",
    "print(xb1,xb2,nb)\n",
    "\n",
    "x0 = np.empty(nb)\n",
    "y0 = np.empty(nb)\n",
    "for i in range(nb):\n",
    "    x0[i] = numerics.roots.root_secant(root_f,xb1[i],xb2[i],tol=0.0001)\n",
    "    y0[i] = root_f(x0[i])\n",
    "    print (\"%5i %10.5f %10.5f\" % (i,x0[i],y0[i]))"
   ]
  },
  {
   "cell_type": "markdown",
   "metadata": {},
   "source": [
    "## Newton-Raphson method"
   ]
  },
  {
   "cell_type": "code",
   "execution_count": null,
   "metadata": {},
   "outputs": [],
   "source": [
    "x0 = np.empty(nb)\n",
    "y0 = np.empty(nb)\n",
    "for i in range(nb):\n",
    "    x0[i] = numerics.roots.root_newton(root_f,root_df,(xb1[i]+xb2[i])/2,tol=0.0001)\n",
    "    y0[i] = root_f(x0[i])\n",
    "    print (\"%5i %10.5f %10.5f\" % (i,x0[i],y0[i]))"
   ]
  },
  {
   "cell_type": "code",
   "execution_count": null,
   "metadata": {},
   "outputs": [],
   "source": [
    "x=np.linspace(a,b,201)\n",
    "y=root_f(x)\n",
    "\n",
    "plt.figure(figsize=(12,8))\n",
    "plt.plot([a,b],[0,0],linewidth=1,color='gray')\n",
    "plt.plot(x,y,linewidth=2,color='blue')\n",
    "for i in range(nb):\n",
    "    plt.plot([xb1[i],xb2[i]],[0,0],linewidth=3,color='red')\n",
    "    plt.plot(xb1[i],[0],marker='|',markeredgewidth=3,color='red')\n",
    "    plt.plot(xb2[i],[0],marker='|',markeredgewidth=3,color='red')\n",
    "    plt.plot(x0,y0,marker='o',linewidth=0,markersize=15,color='green')"
   ]
  },
  {
   "cell_type": "markdown",
   "metadata": {},
   "source": [
    "... done"
   ]
  }
 ],
 "metadata": {
  "kernelspec": {
   "display_name": "Python 3",
   "language": "python",
   "name": "python3"
  },
  "language_info": {
   "codemirror_mode": {
    "name": "ipython",
    "version": 3
   },
   "file_extension": ".py",
   "mimetype": "text/x-python",
   "name": "python",
   "nbconvert_exporter": "python",
   "pygments_lexer": "ipython3",
   "version": "3.7.3"
  }
 },
 "nbformat": 4,
 "nbformat_minor": 2
}
