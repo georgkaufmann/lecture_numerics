{
 "cells": [
  {
   "cell_type": "markdown",
   "metadata": {},
   "source": [
    "<table>\n",
    "<tr><td><img style=\"height: 150px;\" src=\"images/geo_hydro1.jpg\"></td>\n",
    "<td bgcolor=\"#FFFFFF\">\n",
    "    <p style=\"font-size: xx-large; font-weight: 900; line-height: 100%\">AG Dynamics of the Earth</p>\n",
    "    <p style=\"font-size: large; color: rgba(0,0,0,0.5);\">Juypter notebooks</p>\n",
    "    <p style=\"font-size: large; color: rgba(0,0,0,0.5);\">Georg Kaufmann</p>\n",
    "    </td>\n",
    "</tr>\n",
    "</table>"
   ]
  },
  {
   "cell_type": "markdown",
   "metadata": {},
   "source": [
    "# Numerical methods: 7. Linear systems\n",
    "## Working with scalars, vector, and matrices\n",
    "----\n",
    "*Georg Kaufmann,\n",
    "Geophysics Section,\n",
    "Institute of Geological Sciences,\n",
    "Freie Universität Berlin,\n",
    "Germany*"
   ]
  },
  {
   "cell_type": "markdown",
   "metadata": {},
   "source": [
    "In this notebook, we refresh our knowledge on **matrix algebra** and implement vectors and matrices in python."
   ]
  },
  {
   "cell_type": "code",
   "execution_count": 1,
   "metadata": {},
   "outputs": [],
   "source": [
    "import numpy as np\n",
    "import numpy.linalg"
   ]
  },
  {
   "cell_type": "markdown",
   "metadata": {},
   "source": [
    "----\n",
    "## Scalars\n",
    "\n",
    "We first define two **scalars**, $\\alpha$ as integer and $\\beta$ as float:\n",
    "$$\n",
    "\\begin{array}{rcl}\n",
    "\\alpha &=& 1 \\\\\n",
    "\\beta &=& 2.\n",
    "\\end{array}\n",
    "$$\n",
    "Examine in `python`:"
   ]
  },
  {
   "cell_type": "code",
   "execution_count": 2,
   "metadata": {},
   "outputs": [
    {
     "name": "stdout",
     "output_type": "stream",
     "text": [
      "scalar alpha\n",
      "1 <class 'int'>\n",
      "scalar beta\n",
      "2.0 <class 'float'>\n"
     ]
    }
   ],
   "source": [
    "alpha = 1\n",
    "beta  = 2.\n",
    "print ('scalar alpha')\n",
    "print(alpha,type(alpha))\n",
    "print ('scalar beta')\n",
    "print(beta,type(beta))"
   ]
  },
  {
   "cell_type": "markdown",
   "metadata": {},
   "source": [
    "----\n",
    "## Vectors\n",
    "\n",
    "Next, we define two vectors.\n",
    "\n",
    "A **row** vector:\n",
    "$$\n",
    "\\vec{a} = (1,2,3)\n",
    "$$\n",
    "and a **column** vector:\n",
    "$$\n",
    "\\vec{b} = \\left(\n",
    "\\begin{array}{c}\n",
    "1\\\\2\\\\3\n",
    "\\end{array}\n",
    "\\right)\n",
    "$$\n",
    "In general, there is no real difference between these two, ecept when you write them\n",
    "as ($1 \\times n$)-matrix (row vector) or ($n \\times 1$)-matrix (column vector).\n",
    "\n",
    "We express both vectors with `python`, and calculate the\n",
    "**scalar product**\n",
    "$$\n",
    "\\vec{a} \\cdot \\vec{b}\n",
    "$$"
   ]
  },
  {
   "cell_type": "code",
   "execution_count": 8,
   "metadata": {},
   "outputs": [
    {
     "name": "stdout",
     "output_type": "stream",
     "text": [
      "row vector a\n",
      "[1 2 3] 1 (3,)\n",
      "column vector b\n",
      "[[1]\n",
      " [2]\n",
      " [3]] 2 (3, 1)\n",
      "scalar product a*b\n",
      "[14]\n"
     ]
    }
   ],
   "source": [
    "# row vector\n",
    "a=np.array([1,2,3])\n",
    "print('row vector a')\n",
    "print(a,a.ndim,a.shape)\n",
    "# column vector (as m x 1 matrix)\n",
    "b=np.array([1,2,3]).reshape(3,1)\n",
    "print('column vector b')\n",
    "print(b,b.ndim,b.shape)\n",
    "# scalar product\n",
    "print('scalar product a*b')\n",
    "print(np.dot(a,b))\n",
    "\n",
    "# careful!!\n",
    "#print(a+b)"
   ]
  },
  {
   "cell_type": "markdown",
   "metadata": {},
   "source": [
    "----\n",
    "## Matrices\n",
    "\n",
    "Now, we define a general ($n \\times m$)-matrix $A_{n,m}$ with $n=3$ and $m=3$:\n",
    "$$\n",
    "\\mathbb{A} = \\left[\n",
    "\\begin{array}{ccc}\n",
    "1 & 2 & 3 \\\\\n",
    "4 & 5 & 6 \\\\\n",
    "7 & 8 & 9\n",
    "\\end{array}\n",
    "\\right]\n",
    "$$\n",
    "\n",
    "The **unity matrix** $\\mathbb{I}$ is defined as being **one** on the main diagonal,\n",
    "and **zero** elsewhere:\n",
    "$$\n",
    "\\mathbb{I} = \\left[\n",
    "\\begin{array}{ccc}\n",
    "1 & 0 & 0 \\\\\n",
    "0 & 1 & 0 \\\\\n",
    "0 & 0 & 1\n",
    "\\end{array}\n",
    "\\right]\n",
    "$$\n",
    "\n",
    "We then perform the **matrix-matrix multiplication**:\n",
    "$$\n",
    "\\mathbb{A} \\cdot \\mathbb{I}\n",
    "$$\n",
    "and a **matrix-vector multiplication**:\n",
    "$$\n",
    "\\mathbb{I} \\cdot \\vec{a}\n",
    "$$\n",
    "In `python` this read:"
   ]
  },
  {
   "cell_type": "code",
   "execution_count": 9,
   "metadata": {},
   "outputs": [
    {
     "name": "stdout",
     "output_type": "stream",
     "text": [
      "matrix A\n",
      "[[1 2 3]\n",
      " [4 5 6]\n",
      " [7 8 9]] 2 (3, 3)\n",
      "Unity matrix I\n",
      "[[1. 0. 0.]\n",
      " [0. 1. 0.]\n",
      " [0. 0. 1.]] 2 (3, 3)\n",
      "matrix-matrix product B= A*I\n",
      "[[1. 2. 3.]\n",
      " [4. 5. 6.]\n",
      " [7. 8. 9.]] 2 (3, 3)\n",
      "matrix-vector product C=I*a\n",
      "[1. 2. 3.]\n"
     ]
    }
   ],
   "source": [
    "#A=np.array([[1,2,3],[4,5,6],[7,8,9]])\n",
    "A=np.array([1,2,3,4,5,6,7,8,9]).reshape(3,3)\n",
    "print('matrix A')\n",
    "print(A,A.ndim,A.shape)\n",
    "# unity matrix\n",
    "I=np.eye(3)\n",
    "print('Unity matrix I')\n",
    "print(I,I.ndim,I.shape)\n",
    "# matrix x matrix\n",
    "B=np.matmul(A,I)\n",
    "print('matrix-matrix product B= A*I')\n",
    "print(B,B.ndim,B.shape)\n",
    "# matrix x vector\n",
    "C=np.matmul(I,a)\n",
    "print('matrix-vector product C=I*a')\n",
    "print(C)"
   ]
  },
  {
   "cell_type": "markdown",
   "metadata": {},
   "source": [
    "A **transposed** matrix $\\mathbb{A}^{T}$ can be obtained by swapping rows and columns:\n",
    "$$\n",
    "\\mathbb{A}^T = a^T_{ij} = a_{ji}\n",
    "$$\n",
    "\n",
    "As **inverse** matrix $\\mathbb{D}^{-1}$ we define a matrix, for which\n",
    "$$\n",
    "\\mathbb{D} \\cdot \\mathbb{D}^{-1} = \\mathbb{I}\n",
    "$$\n",
    "holds.\n",
    "Check with `python`."
   ]
  },
  {
   "cell_type": "code",
   "execution_count": 10,
   "metadata": {},
   "outputs": [
    {
     "name": "stdout",
     "output_type": "stream",
     "text": [
      "transposed matrix A^T\n",
      "[[1 4 7]\n",
      " [2 5 8]\n",
      " [3 6 9]]\n",
      "matrix D\n",
      "[[1. 2.]\n",
      " [3. 4.]]\n",
      "inverse matrix D^{-1}\n",
      "[[-2.   1. ]\n",
      " [ 1.5 -0.5]]\n",
      "D D^{-1}\n",
      "[[1.0000000e+00 0.0000000e+00]\n",
      " [8.8817842e-16 1.0000000e+00]]\n"
     ]
    }
   ],
   "source": [
    "At=A.transpose()\n",
    "print('transposed matrix A^T')\n",
    "print(At)\n",
    "\n",
    "D=np.array([[1., 2.], [3., 4.]])\n",
    "Di=numpy.linalg.inv(D)\n",
    "print('matrix D')\n",
    "print(D)\n",
    "print('inverse matrix D^{-1}')\n",
    "print(Di)\n",
    "print('D D^{-1}')\n",
    "print(np.dot(D,Di))"
   ]
  },
  {
   "cell_type": "markdown",
   "metadata": {},
   "source": [
    "A note on matrix multiplications in `python`."
   ]
  },
  {
   "cell_type": "code",
   "execution_count": 11,
   "metadata": {},
   "outputs": [
    {
     "name": "stdout",
     "output_type": "stream",
     "text": [
      "[[1. 1.]\n",
      " [1. 1.]] (2, 2)\n",
      "[[2. 2.]\n",
      " [2. 2.]] (2, 2)\n",
      "np.matmul(A,B): matrix multiplication\n",
      "[[4. 4.]\n",
      " [4. 4.]]\n",
      "np.multiply(A,B): element-wise multiplication\n",
      "[[2. 2.]\n",
      " [2. 2.]]\n",
      "A*B: as np.multiply\n",
      "[[2. 2.]\n",
      " [2. 2.]]\n",
      "np.dot(A,B): as np.matmul (but check man page)\n",
      "[[4. 4.]\n",
      " [4. 4.]]\n",
      "A@B: as np.matmul\n",
      "[[4. 4.]\n",
      " [4. 4.]]\n"
     ]
    }
   ],
   "source": [
    "A = np.ones((2,2))\n",
    "B = 2*A\n",
    "print(A,A.shape)\n",
    "print(B,B.shape)\n",
    "\n",
    "print('np.matmul(A,B): matrix multiplication')\n",
    "print(np.matmul(A,B))\n",
    "print('np.multiply(A,B): element-wise multiplication')\n",
    "print(np.multiply(A,B))\n",
    "print('A*B: as np.multiply')\n",
    "print(A*B)\n",
    "print('np.dot(A,B): as np.matmul (but check man page)')\n",
    "print(np.dot(A,B))\n",
    "print('A@B: as np.matmul')\n",
    "print(A @ B)"
   ]
  },
  {
   "cell_type": "markdown",
   "metadata": {},
   "source": [
    "[next>](Numerics_lab07_gauss.ipynb)"
   ]
  }
 ],
 "metadata": {
  "kernelspec": {
   "display_name": "Python 3 (ipykernel)",
   "language": "python",
   "name": "python3"
  },
  "language_info": {
   "codemirror_mode": {
    "name": "ipython",
    "version": 3
   },
   "file_extension": ".py",
   "mimetype": "text/x-python",
   "name": "python",
   "nbconvert_exporter": "python",
   "pygments_lexer": "ipython3",
   "version": "3.10.8"
  }
 },
 "nbformat": 4,
 "nbformat_minor": 2
}
