{
 "cells": [
  {
   "cell_type": "markdown",
   "metadata": {},
   "source": [
    "<table>\n",
    "<tr><td><img style=\"height: 150px;\" src=\"images/geo_hydro1.jpg\"></td>\n",
    "<td bgcolor=\"#FFFFFF\">\n",
    "    <p style=\"font-size: xx-large; font-weight: 900; line-height: 100%\">AG Dynamics of the Earth</p>\n",
    "    <p style=\"font-size: large; color: rgba(0,0,0,0.5);\">Jupyter notebooks</p>\n",
    "    <p style=\"font-size: large; color: rgba(0,0,0,0.5);\">Georg Kaufmann</p>\n",
    "    </td>\n",
    "</tr>\n",
    "</table>"
   ]
  },
  {
   "cell_type": "markdown",
   "metadata": {},
   "source": [
    "# Numerical methods: 3. Roots\n",
    "## Overview\n",
    "----\n",
    "*Georg Kaufmann,\n",
    "Geophysics Section,\n",
    "Institute of Geological Sciences,\n",
    "Freie Universität Berlin,\n",
    "Germany*"
   ]
  },
  {
   "cell_type": "markdown",
   "metadata": {},
   "source": [
    "In this notebook, we learn to code a simple example to create our own root-finding function.\n",
    "Then we use the functions discussed in the lecture.\n",
    "\n",
    "****\n",
    "## Simple example\n",
    "<img src=images/newton.jpg style=width:10cm>\n",
    "\n",
    "## Finding a root\n",
    "\n",
    "We want to find the square root $s$ of a positive number $x$.\n",
    "$$\n",
    " s = \\sqrt{x}\n",
    "$$\n",
    "While this function is usually embedded as *intrinsic function*\n",
    "to the language, we use our own definition, an iterature procedure:\n",
    "$$\n",
    "\\begin{array}{rcll}\n",
    " s_0 & = & \\mbox{initial guess} & i=0\\\\\n",
    " s_i & = & \\frac{1}{2} \\left( s_i + \\frac{x}{s_i} \\right) & i =1,n\n",
    "\\end{array}\n",
    "$$\n",
    "Here, $s_i$ is the root to find from the number $x$, with the index $i$ indicating the different\n",
    "iterations, and $s_0$ an initial guess. Try this equation out for $x=9$ for different starting\n",
    "values $s_0=1,2,9$. How many iterations do you need to achieve an accuracy of $acc=0.01$?\n",
    "\n",
    "For $x=9$ and $s_0=9$ this are:\n",
    "$$\n",
    "\\begin{array}{rcll}\n",
    "                                           &   & 9 & i=0 \\\\\n",
    "\\frac{1}{2} \\left( 9 + \\frac{9}{9} \\right) & = & 5 & i=1 \\\\\n",
    "\\frac{1}{2} \\left( 5 + \\frac{9}{5} \\right) & = & 3.40 & i=2 \\\\\n",
    "\\frac{1}{2} \\left( 3.40 + \\frac{9}{3.40} \\right) & = & 3.02 & i=3 \\\\\n",
    "\\frac{1}{2} \\left( 3.02 + \\frac{9}{3.02} \\right) & = & 3.00(007) & i=4 \\\\\n",
    "\\end{array}\n",
    "$$\n",
    "\n",
    "With this simple example we also introduce the concept of defining our own functions\n",
    "in the programming language, be it `Fortran`, `Python`, or another\n",
    "language. Using definitions like functions and/or subroutines we are able to structure\n",
    "our code and make it more readable and logically structured.\n",
    "\n",
    "Next, we will learn to implement our simple iterative procedure into a `python`script."
   ]
  },
  {
   "cell_type": "code",
   "execution_count": null,
   "metadata": {},
   "outputs": [],
   "source": [
    "%matplotlib inline\n",
    "import numpy as np\n",
    "import matplotlib.pyplot as plt"
   ]
  },
  {
   "cell_type": "code",
   "execution_count": null,
   "metadata": {},
   "outputs": [],
   "source": [
    "def mysqrt(x):\n",
    "    #----------------------------------------------------------------------\n",
    "    # define sqrt function\n",
    "    #----------------------------------------------------------------------\n",
    "    debug    = False\n",
    "    accuracy = 1.e-4\n",
    "    kmax     = 6\n",
    "    sold     = 10*x\n",
    "    s        = x\n",
    "    if (debug): \n",
    "        print (\"Initial value: %s\" % (s))\n",
    "    while (abs(s-sold) > accuracy):\n",
    "        sold = s\n",
    "        s    = 0.5*(s+x/s)\n",
    "        if (debug): \n",
    "            print (\"Iteration value: %s\" % (s))\n",
    "    return s"
   ]
  },
  {
   "cell_type": "code",
   "execution_count": null,
   "metadata": {},
   "outputs": [],
   "source": [
    "x = float(input('Enter number: '))\n",
    "y1 = mysqrt(x)\n",
    "y2 = np.sqrt(x)\n",
    "print('Root of ',x,' is ',y1,' (mysqrt)')\n",
    "print('Root of ',x,' is ',y2,' (np.sqrt)')"
   ]
  },
  {
   "cell_type": "markdown",
   "metadata": {},
   "source": [
    "We have seen that our iterative algorithmus is successful in calculating the\n",
    "square root of a positive number. But why is the algorithm working?\n",
    "Well, because it is a solution of the *root-finding problem*, based on the\n",
    "*Newton-Raphson method*.\n",
    "\n",
    "We first reformulate the equation finding the square root to a classical\n",
    "root-finding equation by first taking the power of 2 and then moving\n",
    "everything to the left-hand side:\n",
    "$$\n",
    "\\begin{array}{rcl}\n",
    " s       & = & \\sqrt{x} \\\\\n",
    " s^2     & = & x \\\\\n",
    " s^2 - x & = & 0\n",
    "\\end{array}\n",
    "$$\n",
    "We thus search the result for the case where the  function $f(s)=s^2-x$\n",
    "equals zero for a given $x$. We develop the function into a *Taylor series*\n",
    "around the perspective root $s^0$:\n",
    "$$\n",
    " f(s^0) \\simeq f(s_i) + f'(s_i) (s^0-s_i) = 0,\n",
    "$$\n",
    "with $f'(s)$ the first derivative with respect to $s$: ${{df} \\over {ds}}=2s$.\n",
    "Note that the Taylor series expansion is truncated after the linear term, thus\n",
    "in order to be accurate enough, we need to start the iteration somewhere close\n",
    "to the real solution. \n",
    "\n",
    "We solve this equation for the wanted root $s^0$\n",
    "$$\n",
    " s^0 = s_i - \\frac{f(s_i)}{f'(s_i)}.\n",
    "$$\n",
    "Because we do not know the exact solution $s^0$ after this one step, we end up with\n",
    "an approximation of the real solution, $s^0 \\simeq s_{i+1}$, thus\n",
    "$$\n",
    " s_{i+1} = s_i - \\frac{f(s_i)}{f'(s_i)}.\n",
    "$$\n",
    "\n",
    "Inserting the function and its derivative, we obtain\n",
    "$$\n",
    "\\begin{array}{rcl}\n",
    " s_{i+1} & = & s_i - \\frac{f(s_i)}{f'(s_i)} \\\\\n",
    "         & = & s_i - \\frac{s^2_i-x}{2 s_i} \\\\\n",
    "         & = & \\frac{2 s^2_i-s_i^2+x}{2 s_i} \\\\\n",
    "         & = & \\frac{s^2_i+x}{2 s_i} \\\\\n",
    "         & = & \\frac{1}{2} \\left( s_i + \\frac{x}{s_i} \\right).\n",
    "\\end{array}\n",
    "$$\n",
    "Voila, there is our iterative algorithm!"
   ]
  },
  {
   "cell_type": "markdown",
   "metadata": {},
   "source": [
    "----\n",
    "[next >](Numerics_lab03_bracketing.ipynb)"
   ]
  }
 ],
 "metadata": {
  "kernelspec": {
   "display_name": "Python 3",
   "language": "python",
   "name": "python3"
  },
  "language_info": {
   "codemirror_mode": {
    "name": "ipython",
    "version": 3
   },
   "file_extension": ".py",
   "mimetype": "text/x-python",
   "name": "python",
   "nbconvert_exporter": "python",
   "pygments_lexer": "ipython3",
   "version": "3.7.3"
  }
 },
 "nbformat": 4,
 "nbformat_minor": 1
}
