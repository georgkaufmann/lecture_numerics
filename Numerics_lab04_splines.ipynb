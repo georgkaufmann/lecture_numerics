{
 "cells": [
  {
   "cell_type": "markdown",
   "metadata": {},
   "source": [
    "<table>\n",
    "<tr><td><img style=\"height: 150px;\" src=\"images/geo_hydro1.jpg\"></td>\n",
    "<td bgcolor=\"#FFFFFF\">\n",
    "    <p style=\"font-size: xx-large; font-weight: 900; line-height: 100%\">AG Dynamics of the Earth</p>\n",
    "    <p style=\"font-size: large; color: rgba(0,0,0,0.5);\">Juypter notebooks</p>\n",
    "    <p style=\"font-size: large; color: rgba(0,0,0,0.5);\">Georg Kaufmann</p>\n",
    "    </td>\n",
    "</tr>\n",
    "</table>"
   ]
  },
  {
   "cell_type": "markdown",
   "metadata": {},
   "source": [
    "# Numerical methods: Splines\n",
    "----\n",
    "*Georg Kaufmann,\n",
    "Geophysics Section,\n",
    "Institute of Geological Sciences,\n",
    "Freie Universität Berlin,\n",
    "Germany*\n",
    "\n",
    "In this notebook, we learn how to assemble **splines** as an approximation of\n",
    "discrete data.\n",
    "\n",
    "We first import the `python` libraries needed."
   ]
  },
  {
   "cell_type": "code",
   "execution_count": null,
   "metadata": {},
   "outputs": [],
   "source": [
    "import numpy as np\n",
    "import matplotlib.pyplot as plt\n",
    "import ipywidgets as widgets"
   ]
  },
  {
   "cell_type": "markdown",
   "metadata": {},
   "source": [
    "## Function\n",
    "Next, we define the function, which we would like to examine."
   ]
  },
  {
   "cell_type": "code",
   "execution_count": null,
   "metadata": {},
   "outputs": [],
   "source": [
    "def pol_f(x):\n",
    "    '''\n",
    "    # Calculate function\n",
    "    '''\n",
    "    pol_f = x*np.exp(-x/5.e0)\n",
    "    return pol_f"
   ]
  },
  {
   "cell_type": "markdown",
   "metadata": {},
   "source": [
    "We calculate the function on the interval $[0,50]$, once with high resolution to plot\n",
    "(orig), once sampled for the approximation (data):"
   ]
  },
  {
   "cell_type": "code",
   "execution_count": null,
   "metadata": {},
   "outputs": [],
   "source": [
    "# define interval\n",
    "a     = 0.e0\n",
    "b     = 50.e0\n",
    "## create \"original\" data (high resolution)\n",
    "iorig = 101\n",
    "xorig = np.linspace(a,b,iorig)\n",
    "yorig = pol_f(xorig)\n",
    "# create sample data (lower resolution)\n",
    "idata = 11\n",
    "xdata = np.linspace(a,b,idata)\n",
    "ydata = pol_f(xdata)\n",
    "# plot\n",
    "plt.figure(figsize=(10.0, 6.0))\n",
    "plt.rc(\"font\",size=14)\n",
    "plt.title('Lagrange Polynom interpolation',size=12)\n",
    "plt.xlabel('x',size=12)\n",
    "plt.ylabel('f(x)',size=12)\n",
    "plt.plot(xorig,yorig,color=(0.7,0.7,0.7),linestyle='solid',linewidth=7,label='Original')\n",
    "plt.plot(xdata,ydata,color='blue',marker='X',markersize=12,linewidth=0,label='Sampled')\n",
    "#plt.plot(xint,yint,color='red',linestyle='solid',linewidth=2,label='Lagrange')\n",
    "plt.legend(loc='upper right',shadow=True,fontsize=10)"
   ]
  },
  {
   "cell_type": "markdown",
   "metadata": {},
   "source": [
    "## Linear spline\n",
    "\n",
    "Next, we need to calculate a peace-wise **linear spline** for $n$ intervals, defined\n",
    "by $n+1$ points $x_i$. The function values at this points are $y_i=f(x_i)$:\n",
    "$$\n",
    "\\fbox{$\n",
    " S^{1,0}_i(x) = a_i + b_i (x-x_i), \\quad i=1,n-1\n",
    " $}\n",
    "$$\n",
    "For the coefficients $a_i$ and $b_i$, we find:\n",
    "$$\n",
    "\\begin{array}{rcl}\n",
    "a_i &=& f(x_i) \\\\\n",
    "b_i &=& {{a_{i+1}-a_i}\\over{x_{i+1}-x_i}}\n",
    "\\end{array}\n",
    "$$"
   ]
  },
  {
   "cell_type": "code",
   "execution_count": null,
   "metadata": {},
   "outputs": [],
   "source": [
    "def pol_spline10(x,y):\n",
    "    '''\n",
    "    #----------------------------------------------------------------------\n",
    "    # subroutine calculates coefficients for linear spline\n",
    "    # (c) Georg Kaufmann\n",
    "    #----------------------------------------------------------------------\n",
    "    '''\n",
    "    n = len(x)\n",
    "    b10 = np.zeros(n)\n",
    "    for i in np.arange(0,n-1):\n",
    "        b10[i] = (y[i+1]-y[i]) / (x[i+1]-x[i])\n",
    "    return b10"
   ]
  },
  {
   "cell_type": "markdown",
   "metadata": {},
   "source": [
    "To assemble the piece-wise linear splines $S^{1,0}$, we need to code the equation:\n",
    "$$\n",
    "S^{1,0}_i(x) = a_i + b_i (x-x_i)\n",
    "$$"
   ]
  },
  {
   "cell_type": "code",
   "execution_count": null,
   "metadata": {},
   "outputs": [],
   "source": [
    "def pol_splint10(xint,x,y,b10):\n",
    "    '''\n",
    "    #----------------------------------------------------------------------\n",
    "    # subroutine calculates linear spline\n",
    "    # (c) Georg Kaufmann\n",
    "    ----------------------------------------------------------------------\n",
    "    '''\n",
    "    n = len(x)\n",
    "    # if xint is outside the x() interval take a boundary value (left or right)\n",
    "    if (xint <= x[0]):\n",
    "        yint10 = y[0]\n",
    "    elif (xint >= x[n-1]):\n",
    "        yint10 = y[n-1]\n",
    "    # find interval and evaluate spline interpolation\n",
    "    else:\n",
    "        for i in np.arange(0,n-1):\n",
    "            if (xint >= x[i] and xint <= x[i+1]):\n",
    "                h      = xint - x[i]\n",
    "                yint10 = y[i] + b10[i]*h\n",
    "    return yint10"
   ]
  },
  {
   "cell_type": "markdown",
   "metadata": {},
   "source": [
    "Finally, interpolate our re-sampled function with the **linear spline**."
   ]
  },
  {
   "cell_type": "code",
   "execution_count": null,
   "metadata": {},
   "outputs": [],
   "source": [
    "def show_linear_spline(n):\n",
    "    # initialize spline\n",
    "    b10 = pol_spline10 (xdata,ydata)\n",
    "    #[b32,c32,d32] = pol_spline32(xdata,ydata)\n",
    "    #spline = scipy.interpolate.CubicSpline(xdata,ydata)\n",
    "    # calculate interpolated points\n",
    "    iint  = n\n",
    "    xint  = np.linspace(a,b,iint)\n",
    "    yint10  = np.zeros(iint)\n",
    "    for i in np.arange(0,len(xint)):\n",
    "        yint10[i]  = pol_splint10(xint[i],xdata,ydata,b10)\n",
    "    # plot\n",
    "    plt.figure(figsize=(10.0, 6.0))\n",
    "    plt.rc(\"font\",size=14)\n",
    "    plt.title('Linear spline S$^{1,0}$',size=12)\n",
    "    plt.xlim([a,b])\n",
    "    plt.ylim([-0.5,2])\n",
    "    plt.xlabel('x',size=12)\n",
    "    plt.ylabel('f(x)',size=12)\n",
    "    plt.plot(xorig,yorig,color=(0.7,0.7,0.7),linestyle='solid',linewidth=7,label='Original')\n",
    "    plt.plot(xdata,ydata,color='blue',marker='X',markersize=12,linewidth=0,label='Sampled')\n",
    "    plt.plot(xint,yint10,color='green',linestyle='dashed',linewidth=2,label='Spline (1,0)')\n",
    "    plt.legend(loc='upper right',shadow=True,fontsize=10)"
   ]
  },
  {
   "cell_type": "code",
   "execution_count": null,
   "metadata": {},
   "outputs": [],
   "source": [
    "# call interactive module\n",
    "w = dict(\n",
    "n=widgets.IntSlider(min=2,max=40,step=1,value=2,description='n'))\n",
    "\n",
    "output = widgets.interactive_output(show_linear_spline, w)\n",
    "box = widgets.VBox([widgets.HBox([*w.values()]), output])\n",
    "display(box)"
   ]
  },
  {
   "cell_type": "markdown",
   "metadata": {},
   "source": [
    "## Cubic spline\n",
    "\n",
    "Next, we need to calculate a peace-wise **cubic spline** for $n$ intervals, defined\n",
    "by $n+1$ points $x_i$. The function values at this points are $y_i=f(x_i)$:\n",
    "$$\n",
    "\\fbox{$\n",
    " S_i(x) = a_i + b_i (x-x_i) + c_i (x-x_i)^2 + d_i (x-x_i)^3, \\quad i=1,\\dots,n-1\n",
    " $}\n",
    "$$\n",
    "For the coefficients $a_i$, $b_i$, $c_i$, and $d_i$, we find:\n",
    "$$\n",
    "\\begin{array}{rcl}\n",
    "a_i &=& f(x_i) \\\\\n",
    "b_i &=& ...\n",
    "\\end{array}\n",
    "$$"
   ]
  },
  {
   "cell_type": "code",
   "execution_count": null,
   "metadata": {},
   "outputs": [],
   "source": [
    "def pol_spline32(x,y):\n",
    "    '''\n",
    "    # subroutine calculates coefficients for cubic spline\n",
    "    # (c) Georg Kaufmann\n",
    "    '''\n",
    "    n = len(x)\n",
    "    b32 = np.zeros(n)\n",
    "    c32 = np.zeros(n)\n",
    "    d32 = np.zeros(n)\n",
    "    # step 1: preparation\n",
    "    d32[0] = x[1] - x[0]\n",
    "    c32[1] = (y[1] - y[0])/d32[0]\n",
    "    for i in np.arange(2,n): # 2,n-1\n",
    "        d32[i-1]   = x[i] - x[i-1]\n",
    "        b32[i-1]   = 2.0*(d32[i-2] + d32[i-1])\n",
    "        c32[i] = (y[i] - y[i-1])/d32[i-1]\n",
    "        c32[i-1]   = c32[i] - c32[i-1]\n",
    "    # step 2: end conditions\n",
    "    b32[0]   = -d32[0]\n",
    "    b32[n-1] = -d32[n-2]\n",
    "    c32[0]   = 0.0\n",
    "    c32[n-1] = 0.0\n",
    "    if (n != 3):\n",
    "        c32[0]   = c32[2]/(x[3]-x[1]) - c32[1]/(x[2]-x[0])\n",
    "        c32[n-1] = c32[n-2]/(x[n-1]-x[n-3]) - c32[n-3]/(x[n-2]-x[n-4])\n",
    "        c32[0]   = c32[0]*d32[0]**2/(x[3]-x[0])\n",
    "        c32[n-1] = -c32[n-1]*d32[n-2]**2/(x[n-1]-x[n-4])\n",
    "    # step 3: forward elimination\n",
    "    for i in np.arange(2,n+1): # 2,n\n",
    "         h        = d32[i-2]/b32[i-2]\n",
    "         b32[i-1] = b32[i-1] - h*d32[i-2]\n",
    "         c32[i-1] = c32[i-1] - h*c32[i-2]\n",
    "    # step 4: back substitution\n",
    "    c32[n-1] = c32[n-1]/b32[n-1]\n",
    "    for j in np.arange(1,n): # 1,n-1\n",
    "         i      = n-j\n",
    "         c32[i-1] = (c32[i-1] - d32[i-1]*c32[i])/b32[i-1]\n",
    "    # step 5: compute spline coefficients\n",
    "    b32[n-1] = (y[n-1] - y[n-2])/d32[n-2] + d32[n-2]*(c32[n-2] + 2.0*c32[n-1])\n",
    "    for i in np.arange(1,n): # i = 1,n-1\n",
    "        b32[i-1] = (y[i] - y[i-1])/d32[i-1] - d32[i-1]*(c32[i] + 2.0*c32[i-1])\n",
    "        d32[i-1] = (c32[i] - c32[i-1])/d32[i-1]\n",
    "        c32[i-1] = 3.0*c32[i-1]\n",
    "    c32[n-1] = 3.0*c32[n-1]\n",
    "    d32[n-1] = d32[n-2]\n",
    "    return b32,c32,d32"
   ]
  },
  {
   "cell_type": "code",
   "execution_count": null,
   "metadata": {},
   "outputs": [],
   "source": [
    "def pol_splint32(xint,x,y,b32,c32,d32):\n",
    "    '''\n",
    "    #----------------------------------------------------------------------\n",
    "    # subroutine calculates cubic spline\n",
    "    # (c) Georg Kaufmann\n",
    "    #----------------------------------------------------------------------\n",
    "    '''\n",
    "    n = len(x)\n",
    "    # if xint is outside the x() interval take a boundary value (left)\n",
    "    if (xint <= x[0]):\n",
    "        yint32 = y[0]\n",
    "    # if xint is outside the x() interval take a boundary value (right)\n",
    "    elif (xint >= x[n-1]):\n",
    "        yint32 = y[n-1]\n",
    "    # find interval and evaluate spline interpolation\n",
    "    else:\n",
    "        for i in np.arange(0,n-1): # 1,n-1\n",
    "            if (xint >= x[i] and xint <= x[i+1]):\n",
    "                h      = xint - x[i]\n",
    "                yint32 = y[i] + b32[i]*h + c32[i]*(h**2) + d32[i]*(h**3)\n",
    "    return yint32"
   ]
  },
  {
   "cell_type": "code",
   "execution_count": null,
   "metadata": {},
   "outputs": [],
   "source": [
    "def show_cubic_spline(n):\n",
    "    # initialize spline\n",
    "    b10 = pol_spline10 (xdata,ydata)\n",
    "    [b32,c32,d32] = pol_spline32(xdata,ydata)\n",
    "    #spline = scipy.interpolate.CubicSpline(xdata,ydata)\n",
    "    # calculate interpolated points\n",
    "    iint  = n\n",
    "    xint  = np.linspace(a,b,iint)\n",
    "    yint10  = np.zeros(iint)\n",
    "    yint32  = np.zeros(iint)\n",
    "    for i in np.arange(0,len(xint)):\n",
    "        yint10[i]  = pol_splint10(xint[i],xdata,ydata,b10)\n",
    "        yint32[i]  = pol_splint32(xint[i],xdata,ydata,b32,c32,d32)\n",
    "    # plot\n",
    "    plt.figure(figsize=(10.0, 6.0))\n",
    "    plt.rc(\"font\",size=14)\n",
    "    plt.title('Cubic spline S$^{3,2}$',size=12)\n",
    "    plt.xlim([a,b])\n",
    "    plt.ylim([-0.5,2])\n",
    "    plt.xlabel('x',size=12)\n",
    "    plt.ylabel('f(x)',size=12)\n",
    "    plt.plot(xorig,yorig,color=(0.7,0.7,0.7),linestyle='solid',linewidth=7,label='Original')\n",
    "    plt.plot(xdata,ydata,color='blue',marker='X',markersize=12,linewidth=0,label='Sampled')\n",
    "    plt.plot(xint,yint32,color='red',linestyle='solid',linewidth=3,label='Spline (3,2)')\n",
    "    plt.plot(xint,yint10,color='green',linestyle='dashed',linewidth=2,label='Spline (1,0)')\n",
    "    plt.legend(loc='upper right',shadow=True,fontsize=10)"
   ]
  },
  {
   "cell_type": "code",
   "execution_count": null,
   "metadata": {},
   "outputs": [],
   "source": [
    "# call interactive module\n",
    "w = dict(\n",
    "n=widgets.IntSlider(min=3,max=40,step=1,value=3,description='n'))\n",
    "\n",
    "output = widgets.interactive_output(show_cubic_spline, w)\n",
    "box = widgets.VBox([widgets.HBox([*w.values()]), output])\n",
    "display(box)"
   ]
  },
  {
   "cell_type": "markdown",
   "metadata": {},
   "source": [
    "## And back to the example $f(x)={{1}\\over{x}}$ example"
   ]
  },
  {
   "cell_type": "code",
   "execution_count": null,
   "metadata": {},
   "outputs": [],
   "source": [
    "import scipy.interpolate\n",
    "from numerics.pol import *\n",
    "\n",
    "# define function\n",
    "def f(x):\n",
    "    f = 1/x\n",
    "    return f\n",
    "# define analytical solution\n",
    "xorig = np.linspace(0.1,6,61)\n",
    "yorig = f(xorig)\n",
    "# define sampling points and use lagrange from python\n",
    "xdata = np.array([2.0,2.5,4.0])\n",
    "ydata = f(xdata)\n",
    "spline = scipy.interpolate.CubicSpline(xdata,ydata)\n",
    "\n",
    "\n",
    "# plot\n",
    "plt.figure(figsize=(10,6))\n",
    "plt.xlabel('x')\n",
    "plt.ylabel('f(x)')\n",
    "plt.ylim([0,6])\n",
    "plt.plot(xorig,yorig,linewidth=8,color='gray',label='f(x)=1/x')\n",
    "plt.plot(xorig,spline(xorig),linewidth=3,color='red',label='S$^{(3,2)}$(x)')\n",
    "plt.legend()"
   ]
  },
  {
   "cell_type": "markdown",
   "metadata": {},
   "source": [
    "[next >](Numerics_lab04_parametercurves.ipynb)"
   ]
  }
 ],
 "metadata": {
  "kernelspec": {
   "display_name": "Python 3",
   "language": "python",
   "name": "python3"
  },
  "language_info": {
   "codemirror_mode": {
    "name": "ipython",
    "version": 3
   },
   "file_extension": ".py",
   "mimetype": "text/x-python",
   "name": "python",
   "nbconvert_exporter": "python",
   "pygments_lexer": "ipython3",
   "version": "3.7.3"
  }
 },
 "nbformat": 4,
 "nbformat_minor": 1
}
