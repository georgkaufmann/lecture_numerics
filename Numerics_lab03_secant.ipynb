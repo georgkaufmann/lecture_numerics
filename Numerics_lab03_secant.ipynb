{
 "cells": [
  {
   "cell_type": "markdown",
   "metadata": {},
   "source": [
    "<table>\n",
    "<tr><td><img style=\"height: 150px;\" src=\"images/geo_hydro1.jpg\"></td>\n",
    "<td bgcolor=\"#FFFFFF\">\n",
    "    <p style=\"font-size: xx-large; font-weight: 900; line-height: 100%\">AG Dynamics of the Earth</p>\n",
    "    <p style=\"font-size: large; color: rgba(0,0,0,0.5);\">Juypter notebooks</p>\n",
    "    <p style=\"font-size: large; color: rgba(0,0,0,0.5);\">Georg Kaufmann</p>\n",
    "    </td>\n",
    "</tr>\n",
    "</table>"
   ]
  },
  {
   "cell_type": "markdown",
   "metadata": {},
   "source": [
    "# Numerical methods: 3. Roots\n",
    "## Secant method\n",
    "----\n",
    "*Georg Kaufmann,\n",
    "Geophysics Section,\n",
    "Institute of Geological Sciences,\n",
    "Freie Universität Berlin,\n",
    "Germany*\n",
    "\n",
    "In this notebook, we allpy the **secant method** to find roots of the function $f(x)$ with one variable $x$,\n",
    "defined over the interval $[a,b]$. We base our search on the bracketing algorithm introduced before ...\n",
    "\n",
    "We first import some libraries..."
   ]
  },
  {
   "cell_type": "code",
   "execution_count": null,
   "metadata": {},
   "outputs": [],
   "source": [
    "import numpy as np\n",
    "import matplotlib.pyplot as plt"
   ]
  },
  {
   "cell_type": "markdown",
   "metadata": {},
   "source": [
    "## Function\n",
    "Next, we define the function, which we would like to examine:"
   ]
  },
  {
   "cell_type": "code",
   "execution_count": null,
   "metadata": {},
   "outputs": [],
   "source": [
    "def root_f(x):\n",
    "    y = np.sin(x)\n",
    "    return y"
   ]
  },
  {
   "cell_type": "markdown",
   "metadata": {},
   "source": [
    "## Bracketing algorithm\n",
    "As we have introduced the **bracketing algorithm** before, we simply run it for the defined function and interval."
   ]
  },
  {
   "cell_type": "code",
   "execution_count": null,
   "metadata": {},
   "outputs": [],
   "source": [
    "def root_bracket (f,a,b,n):\n",
    "    '''\n",
    "    #-----------------------------------------------------------------------\n",
    "    # Given a function fx defined on the intervall [a,b], subdivide the\n",
    "    # intervall in n equally spaced segments, and search for zero crossings\n",
    "    # of the function. nb is input as the maximum number of roots searched,\n",
    "    # it is reset to the number of bracketing pairs found, xb1(1:nb),xb2(1:nb).\n",
    "    # (c) Numerical recipes \n",
    "    #-----------------------------------------------------------------------\n",
    "    '''\n",
    "    nb  = 0\n",
    "    xb1 = np.zeros([0])\n",
    "    xb2 = np.zeros([0])\n",
    "    x   = a\n",
    "    dx  = (b-a)/n\n",
    "    fa  = f(x)\n",
    "    for i in np.linspace(1,n,n,dtype=int):\n",
    "        x = x + dx\n",
    "        fb = f(x)\n",
    "        if (fa*fb <= 0):\n",
    "            nb = nb + 1\n",
    "            xb1 = np.append(xb1,x-dx)\n",
    "            xb2 = np.append(xb2,x)\n",
    "        fa = fb\n",
    "    return xb1,xb2,nb "
   ]
  },
  {
   "cell_type": "code",
   "execution_count": null,
   "metadata": {},
   "outputs": [],
   "source": [
    "#-----------------------------------------------------------------------\n",
    "# define interval and number of segments\n",
    "#-----------------------------------------------------------------------\n",
    "a   = -0.1\n",
    "b   = 2.1*np.pi\n",
    "n   = 10\n",
    "nb  = 0\n",
    "#-----------------------------------------------------------------------\n",
    "# call bracketing algorithm\n",
    "#-----------------------------------------------------------------------\n",
    "[xb1,xb2,nb] = root_bracket(root_f,a,b,n)"
   ]
  },
  {
   "cell_type": "markdown",
   "metadata": {},
   "source": [
    "## Secant method\n",
    "Next, we define the **secant method** as a function.\n",
    "1. We first hand down an interval $[a,b]$and a tolerance level $tol$.\n",
    "2. Then a maximum number of iterations, $nmax$, is set, and the function is calculated\n",
    "at the initial end points of the interval, $f(a)$ and $f(b)$.\n",
    "3. We test, if there is really a potential root by checking the bracketing condition $f(a) \\cdot f(b) <0$.\n",
    "4. We determine, if the functional value $f(a)$ at the left side of the interval is positive or netative.\n",
    "If positive, the search direction has to be from right to left...\n",
    "5. We iterate over the maximum number of iterations $nmax$, set $a$ and $b$, calculate the mid point $x0$\n",
    "and its functional value $f(x0)$.\n",
    "6. Then the accuracy of the procedure is tested, using different criteria. If one of the defined\n",
    "criteria is met, the function returns the estimate of the root. Otherwise, it stops and reports an error."
   ]
  },
  {
   "cell_type": "code",
   "execution_count": null,
   "metadata": {},
   "outputs": [],
   "source": [
    "def root_secant(f,a,b,tol):\n",
    "    '''\n",
    "    #-----------------------------------------------------------------------\n",
    "    # Given a function fx defined on the intervall [a,b], which contains\n",
    "    # a possible root (bracketing!), the root is found by halving the\n",
    "    # interval, until the desired accuracy +/-acc is achieved, otherwise\n",
    "    # the algorithm quits.\n",
    "    # (c) Georg Kaufmann\n",
    "    #-----------------------------------------------------------------------\n",
    "    '''\n",
    "    nmax = 20\n",
    "    for i in np.arange(1,nmax):\n",
    "        fa   = f(a)\n",
    "        fb   = f(b)\n",
    "        x0   = b - fb * (b-a) / (fb-fa)\n",
    "        fx0  = f(x0)\n",
    "        dx   = b-a\n",
    "       #print (i,a,b,dx,x0,fx0)\n",
    "        a  = b\n",
    "        b  = x0\n",
    "        root_secant = x0\n",
    "        if (np.abs(dx) <= tol or fx0 == 0.):\n",
    "            return root_secant\n",
    "    exit ('root_secant: too many iterations in root_secant')"
   ]
  },
  {
   "cell_type": "markdown",
   "metadata": {},
   "source": [
    "## Test the algorithm\n",
    "Next, we test our **secant method** with the function $f(x)=\\sin(x)$, given in the interval $[0,2\\pi]$,\n",
    "by looping over the bracketed intervals:"
   ]
  },
  {
   "cell_type": "code",
   "execution_count": null,
   "metadata": {},
   "outputs": [],
   "source": [
    "x0 = np.empty(nb)\n",
    "y0 = np.empty(nb)\n",
    "for i in range(nb):\n",
    "    x0[i] = root_secant(root_f,xb1[i],xb2[i],tol=0.0001)\n",
    "    y0[i] = root_f(x0[i])\n",
    "    print (\"%5i %10.5f %10.5f\" % (i,x0[i],y0[i]))"
   ]
  },
  {
   "cell_type": "markdown",
   "metadata": {},
   "source": [
    "Plot the function and the intervals with sign change found:"
   ]
  },
  {
   "cell_type": "code",
   "execution_count": null,
   "metadata": {},
   "outputs": [],
   "source": [
    "x=np.linspace(a,b,201)\n",
    "y=root_f(x)\n",
    "\n",
    "plt.figure(figsize=(12,8))\n",
    "plt.plot([a,b],[0,0],linewidth=1,color='gray')\n",
    "plt.plot(x,y,linewidth=2,color='blue')\n",
    "for i in range(nb):\n",
    "    plt.plot([xb1[i],xb2[i]],[0,0],linewidth=3,color='red')\n",
    "    plt.plot(xb1[i],[0],marker='|',markeredgewidth=3,color='red')\n",
    "    plt.plot(xb2[i],[0],marker='|',markeredgewidth=3,color='red')\n",
    "    plt.plot(x0,y0,marker='o',linewidth=0,markersize=15,color='green')\n"
   ]
  },
  {
   "cell_type": "markdown",
   "metadata": {},
   "source": [
    "## Use with polynomial function ..."
   ]
  },
  {
   "cell_type": "code",
   "execution_count": null,
   "metadata": {},
   "outputs": [],
   "source": [
    "# define function\n",
    "def root_f(x):\n",
    "    y = x**3 + 4*x**2 - 10\n",
    "    return y\n",
    "\n",
    "# define interval and sub-division\n",
    "a   = 1.\n",
    "b   = 2.\n",
    "n   = 21\n",
    "nb  = 0\n",
    "\n",
    "# find possible intervals\n",
    "[xb1,xb2,nb] = root_bracket(root_f,a,b,n)\n",
    "\n",
    "# run secant method\n",
    "x0 = np.empty(nb)\n",
    "y0 = np.empty(nb)\n",
    "for i in range(nb):\n",
    "    x0[i] = root_secant(root_f,xb1[i],xb2[i],tol=0.0005)\n",
    "    y0[i] = root_f(x0[i])\n",
    "\n",
    "# plot\n",
    "x=np.linspace(a,b,201)\n",
    "y=root_f(x)\n",
    "plt.figure(figsize=(12,8))\n",
    "#plt.ylim([-2,2])\n",
    "plt.plot([a,b],[0,0],linewidth=1,color='gray')\n",
    "plt.plot(x,y,linewidth=2,color='blue')\n",
    "for i in range(len(xb1)):\n",
    "    plt.plot([xb1[i],xb2[i]],[0,0],linewidth=3,color='red')\n",
    "    plt.plot(xb1[i],[0],marker='|',markeredgewidth=3,color='red')\n",
    "    plt.plot(xb2[i],[0],marker='|',markeredgewidth=3,color='red')\n",
    "    plt.plot(x0,y0,marker='o',linewidth=0,markersize=15,color='green')"
   ]
  },
  {
   "cell_type": "markdown",
   "metadata": {},
   "source": [
    "----\n",
    "[next >](Numerics_lab03_newton.ipynb)"
   ]
  }
 ],
 "metadata": {
  "kernelspec": {
   "display_name": "Python 3",
   "language": "python",
   "name": "python3"
  },
  "language_info": {
   "codemirror_mode": {
    "name": "ipython",
    "version": 3
   },
   "file_extension": ".py",
   "mimetype": "text/x-python",
   "name": "python",
   "nbconvert_exporter": "python",
   "pygments_lexer": "ipython3",
   "version": "3.7.3"
  }
 },
 "nbformat": 4,
 "nbformat_minor": 2
}
