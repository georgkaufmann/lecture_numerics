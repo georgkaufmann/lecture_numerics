{
 "cells": [
  {
   "cell_type": "markdown",
   "metadata": {},
   "source": [
    "<table>\n",
    "<tr><td><img style=\"height: 150px;\" src=\"images/geo_hydro1.jpg\"></td>\n",
    "<td bgcolor=\"#FFFFFF\">\n",
    "    <p style=\"font-size: xx-large; font-weight: 900; line-height: 100%\">AG Dynamics of the Earth</p>\n",
    "    <p style=\"font-size: large; color: rgba(0,0,0,0.5);\">Jupyter notebooks</p>\n",
    "    <p style=\"font-size: large; color: rgba(0,0,0,0.5);\">Georg Kaufmann</p>\n",
    "    </td>\n",
    "</tr>\n",
    "</table>"
   ]
  },
  {
   "cell_type": "markdown",
   "metadata": {},
   "source": [
    "# Numerical methods: Tri-diagonal system\n",
    "----\n",
    "*Georg Kaufmann,\n",
    "Geophysics Section,\n",
    "Institute of Geological Sciences,\n",
    "Freie Universität Berlin,\n",
    "Germany*"
   ]
  },
  {
   "cell_type": "code",
   "execution_count": 1,
   "metadata": {},
   "outputs": [],
   "source": [
    "import numpy as np\n",
    "import numpy.linalg\n",
    "import scipy.linalg"
   ]
  },
  {
   "cell_type": "markdown",
   "metadata": {},
   "source": [
    "Define test matrix ${\\bf A}$ for notebook:"
   ]
  },
  {
   "cell_type": "code",
   "execution_count": 2,
   "metadata": {},
   "outputs": [
    {
     "name": "stdout",
     "output_type": "stream",
     "text": [
      "[[2. 3. 0. 0.]\n",
      " [6. 3. 9. 0.]\n",
      " [0. 2. 5. 2.]\n",
      " [0. 0. 4. 3.]]\n"
     ]
    }
   ],
   "source": [
    "a = np.array([[2.,3.,0.,0.], [6.,3.,9.,0.],[0.,2.,5.,2.],[0.,0.,4.,3.]])\n",
    "print(a)"
   ]
  },
  {
   "cell_type": "code",
   "execution_count": 3,
   "metadata": {},
   "outputs": [],
   "source": [
    "a = np.array([2.,3.,5.,3.])\n",
    "b = np.array([3.,9.,2.])\n",
    "c = np.array([6.,2.,4.])\n",
    "rhs = np.array([21,69,34,22])"
   ]
  },
  {
   "cell_type": "markdown",
   "metadata": {},
   "source": [
    "## LU decomposition\n",
    "\n",
    "Test LU decomposition with our routines and the in-buld `python` routines."
   ]
  },
  {
   "cell_type": "code",
   "execution_count": 4,
   "metadata": {},
   "outputs": [],
   "source": [
    "def lin_tridiag(a,b,c,rhs):\n",
    "    '''\n",
    "    !-----------------------------------------------------------------------\n",
    "    ! subroutine solves the system of linear equations\n",
    "    ! a(n,n)*x(n) = b(n)\n",
    "    ! for a tri-diagonal band matrix a(n,n), stored as\n",
    "    ! vectors a(n),b(n),c(n)\n",
    "    ! Input:\n",
    "    ! n       - number of equations\n",
    "    ! a(n)    - coefficient vector\n",
    "    ! b(n)    - coefficient vector\n",
    "    ! c(n)    - coefficient vector\n",
    "    ! rhs(n)  - rhs vector\n",
    "    ! Output:\n",
    "    ! x(n)    - solution vector\n",
    "    ! (c) Georg Kaufmann\n",
    "    !-----------------------------------------------------------------------\n",
    "    '''\n",
    "    n = rhs.shape[0]\n",
    "    # use LU decomposition Ax=LUx=b => Ly=b and Ux=y\n",
    "    l = np.zeros([n]); u =np.zeros([n])\n",
    "    l[0] = a[0]\n",
    "    u[0] = b[0]/a[0]\n",
    "    for i in range(1,n): #i=1,n-1\n",
    "        l[i-1] = a[i-1] - c[i-1]*u[i-2]\n",
    "        u[i-1] = b[i-1] / l[i-1]\n",
    "    l[n-1] = a[n-1] - c[n-1]*u[n-2]\n",
    "\n",
    "    # solve decomposed system Ly=b with forward substitution\n",
    "    y[0] = rhs[0]/l[0]\n",
    "    for i in range(2,n+1): # i=2,n\n",
    "        y[i-1] = (rhs[i-1]-c[i-1]*y[i-2])/l[i-1]\n",
    "    \n",
    "    # solve decomposed system Ux=y with backward substitution\n",
    "    x[n-1] = y[n-1]\n",
    "    for j in range(1,n): # j=1,n-1\n",
    "        i    =  n-j\n",
    "        x[i-1] =  x[i-1]-u[i-1]*y[i]\n",
    "    return x"
   ]
  },
  {
   "cell_type": "code",
   "execution_count": 5,
   "metadata": {},
   "outputs": [
    {
     "name": "stderr",
     "output_type": "stream",
     "text": [
      "/opt/local/Library/Frameworks/Python.framework/Versions/3.7/lib/python3.7/site-packages/ipykernel_launcher.py:26: RuntimeWarning: divide by zero encountered in double_scalars\n"
     ]
    },
    {
     "ename": "IndexError",
     "evalue": "index 3 is out of bounds for axis 0 with size 3",
     "output_type": "error",
     "traceback": [
      "\u001b[0;31m---------------------------------------------------------------------------\u001b[0m",
      "\u001b[0;31mIndexError\u001b[0m                                Traceback (most recent call last)",
      "\u001b[0;32m<ipython-input-5-4530012ed836>\u001b[0m in \u001b[0;36m<module>\u001b[0;34m\u001b[0m\n\u001b[0;32m----> 1\u001b[0;31m \u001b[0mx\u001b[0m \u001b[0;34m=\u001b[0m \u001b[0mlin_tridiag\u001b[0m\u001b[0;34m(\u001b[0m\u001b[0ma\u001b[0m\u001b[0;34m,\u001b[0m\u001b[0mb\u001b[0m\u001b[0;34m,\u001b[0m\u001b[0mc\u001b[0m\u001b[0;34m,\u001b[0m\u001b[0mrhs\u001b[0m\u001b[0;34m)\u001b[0m\u001b[0;34m\u001b[0m\u001b[0;34m\u001b[0m\u001b[0m\n\u001b[0m\u001b[1;32m      2\u001b[0m \u001b[0mprint\u001b[0m\u001b[0;34m(\u001b[0m\u001b[0mx\u001b[0m\u001b[0;34m)\u001b[0m\u001b[0;34m\u001b[0m\u001b[0;34m\u001b[0m\u001b[0m\n\u001b[1;32m      3\u001b[0m \u001b[0;31m#print(np.allclose(a2 - l @ u, np.zeros((a.shape[0], a.shape[0]))))\u001b[0m\u001b[0;34m\u001b[0m\u001b[0;34m\u001b[0m\u001b[0;34m\u001b[0m\u001b[0m\n",
      "\u001b[0;32m<ipython-input-4-bcd17a83acff>\u001b[0m in \u001b[0;36mlin_tridiag\u001b[0;34m(a, b, c, rhs)\u001b[0m\n\u001b[1;32m     25\u001b[0m         \u001b[0ml\u001b[0m\u001b[0;34m[\u001b[0m\u001b[0mi\u001b[0m\u001b[0;34m-\u001b[0m\u001b[0;36m1\u001b[0m\u001b[0;34m]\u001b[0m \u001b[0;34m=\u001b[0m \u001b[0ma\u001b[0m\u001b[0;34m[\u001b[0m\u001b[0mi\u001b[0m\u001b[0;34m-\u001b[0m\u001b[0;36m1\u001b[0m\u001b[0;34m]\u001b[0m \u001b[0;34m-\u001b[0m \u001b[0mc\u001b[0m\u001b[0;34m[\u001b[0m\u001b[0mi\u001b[0m\u001b[0;34m-\u001b[0m\u001b[0;36m1\u001b[0m\u001b[0;34m]\u001b[0m\u001b[0;34m*\u001b[0m\u001b[0mu\u001b[0m\u001b[0;34m[\u001b[0m\u001b[0mi\u001b[0m\u001b[0;34m-\u001b[0m\u001b[0;36m2\u001b[0m\u001b[0;34m]\u001b[0m\u001b[0;34m\u001b[0m\u001b[0;34m\u001b[0m\u001b[0m\n\u001b[1;32m     26\u001b[0m         \u001b[0mu\u001b[0m\u001b[0;34m[\u001b[0m\u001b[0mi\u001b[0m\u001b[0;34m-\u001b[0m\u001b[0;36m1\u001b[0m\u001b[0;34m]\u001b[0m \u001b[0;34m=\u001b[0m \u001b[0mb\u001b[0m\u001b[0;34m[\u001b[0m\u001b[0mi\u001b[0m\u001b[0;34m-\u001b[0m\u001b[0;36m1\u001b[0m\u001b[0;34m]\u001b[0m \u001b[0;34m/\u001b[0m \u001b[0ml\u001b[0m\u001b[0;34m[\u001b[0m\u001b[0mi\u001b[0m\u001b[0;34m-\u001b[0m\u001b[0;36m1\u001b[0m\u001b[0;34m]\u001b[0m\u001b[0;34m\u001b[0m\u001b[0;34m\u001b[0m\u001b[0m\n\u001b[0;32m---> 27\u001b[0;31m     \u001b[0ml\u001b[0m\u001b[0;34m[\u001b[0m\u001b[0mn\u001b[0m\u001b[0;34m-\u001b[0m\u001b[0;36m1\u001b[0m\u001b[0;34m]\u001b[0m \u001b[0;34m=\u001b[0m \u001b[0ma\u001b[0m\u001b[0;34m[\u001b[0m\u001b[0mn\u001b[0m\u001b[0;34m-\u001b[0m\u001b[0;36m1\u001b[0m\u001b[0;34m]\u001b[0m \u001b[0;34m-\u001b[0m \u001b[0mc\u001b[0m\u001b[0;34m[\u001b[0m\u001b[0mn\u001b[0m\u001b[0;34m-\u001b[0m\u001b[0;36m1\u001b[0m\u001b[0;34m]\u001b[0m\u001b[0;34m*\u001b[0m\u001b[0mu\u001b[0m\u001b[0;34m[\u001b[0m\u001b[0mn\u001b[0m\u001b[0;34m-\u001b[0m\u001b[0;36m2\u001b[0m\u001b[0;34m]\u001b[0m\u001b[0;34m\u001b[0m\u001b[0;34m\u001b[0m\u001b[0m\n\u001b[0m\u001b[1;32m     28\u001b[0m \u001b[0;34m\u001b[0m\u001b[0m\n\u001b[1;32m     29\u001b[0m     \u001b[0;31m# solve decomposed system Ly=b with forward substitution\u001b[0m\u001b[0;34m\u001b[0m\u001b[0;34m\u001b[0m\u001b[0;34m\u001b[0m\u001b[0m\n",
      "\u001b[0;31mIndexError\u001b[0m: index 3 is out of bounds for axis 0 with size 3"
     ]
    }
   ],
   "source": [
    "x = lin_tridiag(a,b,c,rhs)\n",
    "print(x)\n",
    "#print(np.allclose(a2 - l @ u, np.zeros((a.shape[0], a.shape[0]))))\n"
   ]
  },
  {
   "cell_type": "markdown",
   "metadata": {},
   "source": [
    "## Determinant\n",
    "Test calculation of determinant of matrix ${\\bf A}$ with our routines and the in-buld `python` routines."
   ]
  },
  {
   "cell_type": "code",
   "execution_count": null,
   "metadata": {},
   "outputs": [],
   "source": [
    "def lin_det(a):\n",
    "    l,u = lin_lu_decompose(a)\n",
    "    det = 1.\n",
    "    for i in range(a.shape[0]):\n",
    "        det = det * u[i,i]\n",
    "    return det"
   ]
  },
  {
   "cell_type": "code",
   "execution_count": null,
   "metadata": {},
   "outputs": [],
   "source": [
    "a2 = np.copy(a)\n",
    "det = lin_det(a2)\n",
    "print (det)\n",
    "\n",
    "a2 = np.copy(a)\n",
    "det = numpy.linalg.det(a2)\n",
    "print (det)"
   ]
  },
  {
   "cell_type": "markdown",
   "metadata": {},
   "source": [
    "## Inversion\n",
    "Test calculation of inverse ${\\bf A}^{-1}$ with our routines and the in-buld `python` routines."
   ]
  },
  {
   "cell_type": "code",
   "execution_count": null,
   "metadata": {},
   "outputs": [],
   "source": [
    "def lin_inverse(a):\n",
    "    n = a.shape[0]\n",
    "    ainv = np.zeros(n*n).reshape(n,n)\n",
    "    for i in range(n):\n",
    "        ainv[i,i] = 1.\n",
    "    l,u = lin_lu_decompose(a)\n",
    "    for i in range(n):\n",
    "        ainv[:,i] = lin_lu_solve(l,u,ainv[:,i])\n",
    "    return ainv"
   ]
  },
  {
   "cell_type": "code",
   "execution_count": null,
   "metadata": {},
   "outputs": [],
   "source": [
    "a2 = np.copy(a)\n",
    "ainv=lin_inverse(a2)\n",
    "print (ainv)\n",
    "print(np.allclose(np.dot(a2, ainv), np.eye(a.shape[0])))\n",
    "\n",
    "a2 = np.copy(a)\n",
    "ainv=numpy.linalg.inv(a2)\n",
    "print (ainv)\n",
    "print(np.allclose(np.dot(a2, ainv), np.eye(a.shape[0])))"
   ]
  },
  {
   "cell_type": "markdown",
   "metadata": {},
   "source": [
    "... done"
   ]
  }
 ],
 "metadata": {
  "kernelspec": {
   "display_name": "Python 3",
   "language": "python",
   "name": "python3"
  },
  "language_info": {
   "codemirror_mode": {
    "name": "ipython",
    "version": 3
   },
   "file_extension": ".py",
   "mimetype": "text/x-python",
   "name": "python",
   "nbconvert_exporter": "python",
   "pygments_lexer": "ipython3",
   "version": "3.7.3"
  }
 },
 "nbformat": 4,
 "nbformat_minor": 2
}
