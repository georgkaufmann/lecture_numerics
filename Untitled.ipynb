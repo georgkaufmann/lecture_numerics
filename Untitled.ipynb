{
 "cells": [
  {
   "cell_type": "code",
   "execution_count": 2,
   "metadata": {},
   "outputs": [],
   "source": [
    "# show plots in notebook workspace\n",
    "%matplotlib inline\n",
    "# import libraries\n",
    "import warnings\n",
    "import numpy as np\n",
    "import matplotlib.pyplot as plt\n",
    "# do not show warnings\n",
    "warnings.filterwarnings('ignore')\n",
    "# define plot layout\n",
    "plt.style.use('ggplot')\n",
    "plt.rcParams['figure.figsize'] = 15,6\n",
    "#plt.rcParams['axes.titlepad'] = 10"
   ]
  },
  {
   "cell_type": "code",
   "execution_count": 3,
   "metadata": {},
   "outputs": [],
   "source": [
    "def function(x,a=1.,b=0.,c=0.):\n",
    "    y = a*x**2 + b*x + c\n",
    "    return y"
   ]
  },
  {
   "cell_type": "code",
   "execution_count": 4,
   "metadata": {},
   "outputs": [
    {
     "name": "stdout",
     "output_type": "stream",
     "text": [
      "<class 'list'> <class 'numpy.ndarray'> 2 (2, 6)\n",
      "z:  [-1.0, -0.5, 0.0, 0.5, 1.0]\n",
      "x:  [[-2.         -1.72727273 -1.45454545 -1.18181818 -0.90909091 -0.63636364]\n",
      " [-0.36363636 -0.09090909  0.18181818  0.45454545  0.72727273  1.        ]]\n",
      "y:  [[-2.         -1.72727273 -1.45454545 -1.18181818 -0.90909091 -0.63636364]\n",
      " [-0.36363636 -0.09090909  0.18181818  0.45454545  0.72727273  1.        ]]\n"
     ]
    },
    {
     "data": {
      "text/plain": [
       "[<matplotlib.lines.Line2D at 0x112be1e10>,\n",
       " <matplotlib.lines.Line2D at 0x112be1f60>,\n",
       " <matplotlib.lines.Line2D at 0x112bf00f0>,\n",
       " <matplotlib.lines.Line2D at 0x112bf0240>,\n",
       " <matplotlib.lines.Line2D at 0x112bf0390>,\n",
       " <matplotlib.lines.Line2D at 0x112bf04e0>]"
      ]
     },
     "execution_count": 4,
     "metadata": {},
     "output_type": "execute_result"
    },
    {
     "data": {
      "image/png": "[encoded data removed]",
      "text/plain": [
       "<Figure size 432x288 with 1 Axes>"
      ]
     },
     "metadata": {
      "needs_background": "light"
     },
     "output_type": "display_data"
    }
   ],
   "source": [
    "# set variables\n",
    "a=0;b=1;c=0\n",
    "# set variablex and calculate function values y\n",
    "z = [-1.,-0.5,0.,0.5,1.]\n",
    "x = np.linspace(-2.,1.,12).reshape(2,6)\n",
    "print (type(z),type(x),x.ndim,x.shape)\n",
    "y = function(x,a,b,c)\n",
    "print ('z: ',z)\n",
    "print ('x: ',x)\n",
    "print ('y: ',y)\n",
    "# plot results\n",
    "plt.plot(x,y)"
   ]
  },
  {
   "cell_type": "code",
   "execution_count": null,
   "metadata": {},
   "outputs": [],
   "source": [
    "xl = -1.\n",
    "xu = 1.\n",
    "xinc=0.1\n",
    "xspace = np.arange(xl, xu + xinc, xinc)\n",
    "for i,x in enumerate(xspace):\n",
    "    print (i,x)"
   ]
  },
  {
   "cell_type": "code",
   "execution_count": null,
   "metadata": {},
   "outputs": [],
   "source": []
  }
 ],
 "metadata": {
  "kernelspec": {
   "display_name": "Python 3",
   "language": "python",
   "name": "python3"
  },
  "language_info": {
   "codemirror_mode": {
    "name": "ipython",
    "version": 3
   },
   "file_extension": ".py",
   "mimetype": "text/x-python",
   "name": "python",
   "nbconvert_exporter": "python",
   "pygments_lexer": "ipython3",
   "version": "3.7.3"
  }
 },
 "nbformat": 4,
 "nbformat_minor": 2
}
