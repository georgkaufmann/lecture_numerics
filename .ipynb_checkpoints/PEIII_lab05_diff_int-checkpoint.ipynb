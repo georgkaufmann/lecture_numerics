{
 "cells": [
  {
   "cell_type": "markdown",
   "metadata": {},
   "source": [
    "# Chapter05: Differentiation and Integration\n",
    "***\n",
    "\n",
    "## Differentiation"
   ]
  },
  {
   "cell_type": "code",
   "execution_count": null,
   "metadata": {
    "collapsed": false
   },
   "outputs": [],
   "source": [
    "\"\"\"\n",
    "PROGRAM driver_differentiation\n",
    "calculate derivation of a function\n",
    "(c) Georg Kaufmann\n",
    "\"\"\"\n",
    "info = ''\n",
    "info = info+'-----------------------------------------------------\\n'\n",
    "info = info+'driver_differentiation:\\n'\n",
    "info = info+'calculate derivation of a function\\n'\n",
    "info = info+'-----------------------------------------------------'\n",
    "\n",
    "# import libraries\n",
    "import numpy as np\n",
    "import scipy.misc\n",
    "from numerics.diff import *\n",
    "\n",
    "# main program\n",
    "def main():\n",
    "    #-----------------------------------------------------------------------\n",
    "    # define point and stepsize\n",
    "    #-----------------------------------------------------------------------\n",
    "    x   = 2.0;\n",
    "    h  = 0.1;\n",
    "    #-----------------------------------------------------------------------\n",
    "    # call integration method\n",
    "    #-----------------------------------------------------------------------\n",
    "    print (\"%s\" % (info))\n",
    "    print (\"%35s %12.4f\" % ('x: ',x))\n",
    "    print (\"%35s %12.4f\" % ('h: ',h))\n",
    "    df = np.zeros(5)\n",
    "    # 2-point forward difference\n",
    "    df[0]  = diff_forward2(x,h)\n",
    "    print (\"%35s %12.4f\" % ('2-point forward difference: ',df[0]))\n",
    "    # 3-point end difference\n",
    "    df[1]  = diff_end3(x,h)\n",
    "    print (\"%35s %12.4f\" % ('3-point end difference: ',df[1]))\n",
    "    # 3-point central difference\n",
    "    df[2]  = diff_central3(x,h)\n",
    "    print (\"%35s %12.4f\" % ('3-point central difference: ',df[2]))\n",
    "    # 5-point central difference\n",
    "    df[3]  = diff_central5(x,h)\n",
    "    print (\"%35s %12.4f\" % ('5-point central difference: ',df[3]))\n",
    "    # in-build python3\n",
    "    df[4]  = scipy.misc.derivative(diff_f,x,dx=h,n=1)\n",
    "    print (\"%35s %12.4f\" % ('python central difference: ',df[4]))\n",
    "    return\n",
    "\n",
    "# call main program\n",
    "main()"
   ]
  },
  {
   "cell_type": "markdown",
   "metadata": {},
   "source": [
    "## Integration"
   ]
  },
  {
   "cell_type": "code",
   "execution_count": null,
   "metadata": {
    "collapsed": false
   },
   "outputs": [],
   "source": [
    "\"\"\"\n",
    "PROGRAM driver_integration\n",
    "calculate integral of a function\n",
    "(c) Georg Kaufmann\n",
    "\"\"\"\n",
    "info = ''\n",
    "info = info+'-----------------------------------------------------\\n'\n",
    "info = info+'driver_integration:\\n'\n",
    "info = info+'calculate integral of a function\\n'\n",
    "info = info+'-----------------------------------------------------'\n",
    "\n",
    "# import libraries\n",
    "import numpy as np\n",
    "import scipy.integrate\n",
    "from numerics.int import *\n",
    "\n",
    "# main program\n",
    "def main():\n",
    "    #-----------------------------------------------------------------------\n",
    "    # define interval and tolerance\n",
    "    #-----------------------------------------------------------------------\n",
    "    a = 0.e0\n",
    "    b = np.pi\n",
    "    print (info)\n",
    "    print (\"%12s %12.2f %12.2f\" % ('[a,b]:   ',a,b))\n",
    "    print (\"%12s %12s%12s%12s%12s%12s\" % ('            ',\n",
    "              '      Trapez',\n",
    "              '     Simpson',\n",
    "              '  PythonSimp',\n",
    "              '       Gauss',\n",
    "              ' PythonGauss'))\n",
    "    #-----------------------------------------------------------------------\n",
    "    # call integration method\n",
    "    #-----------------------------------------------------------------------\n",
    "    int = np.zeros(5)\n",
    "    for n in np.arange(2,14,2):\n",
    "        x = np.linspace(a,b,n)\n",
    "        y = int_f(x)\n",
    "        int[0] = int_trapez(a,b,n)\n",
    "        int[1] = int_simpson(a,b,n)\n",
    "        int[2] = scipy.integrate.simps (y,x,even='avg')\n",
    "        #int[3] = int_gauss(a,b,n)\n",
    "        [int[4],err] = scipy.integrate.quadrature (int_f,a,b)\n",
    "        print (\"%12s %12.2f%12.2f%12.2f%12.2f%12.2f\" % ('',int[0],int[1],int[2],int[3],int[4]))\n",
    "    return\n",
    "\n",
    "# call main program\n",
    "main()"
   ]
  },
  {
   "cell_type": "code",
   "execution_count": null,
   "metadata": {
    "collapsed": true
   },
   "outputs": [],
   "source": []
  }
 ],
 "metadata": {
  "kernelspec": {
   "display_name": "Python 3",
   "language": "python",
   "name": "python3"
  },
  "language_info": {
   "codemirror_mode": {
    "name": "ipython",
    "version": 3
   },
   "file_extension": ".py",
   "mimetype": "text/x-python",
   "name": "python",
   "nbconvert_exporter": "python",
   "pygments_lexer": "ipython3",
   "version": "3.4.8"
  }
 },
 "nbformat": 4,
 "nbformat_minor": 0
}
