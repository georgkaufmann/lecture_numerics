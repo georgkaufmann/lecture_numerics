{
 "cells": [
  {
   "cell_type": "markdown",
   "id": "c582ded6",
   "metadata": {},
   "source": [
    "----\n",
    "# Why is pure advection so tricky?"
   ]
  },
  {
   "cell_type": "markdown",
   "id": "65592a7a",
   "metadata": {},
   "source": [
    "We try to solve the **transient advection equation** for the variable $u$ in one spatial dimension $x$ [m]\n",
    "and the time $t$ [s]:\n",
    "$$\n",
    "\\frac{\\partial u}{\\partial t} + v \\frac{\\partial u}{\\partial x} = 0\n",
    "$$\n",
    "\n",
    "- We need to define the velocity $v$ [m/s]\n",
    "- We need an initial solution $u(t=0)=u_0$.\n",
    "\n",
    "We use **two** schemes to solve for the diffusion term ..."
   ]
  },
  {
   "cell_type": "markdown",
   "id": "7f298ed5",
   "metadata": {},
   "source": [
    "----\n",
    "## FTCS scheme (forward time centered space)\n",
    "\n",
    "Our first scheme is called `FTCS`, forward time, centered space, thus the derivatives in the\n",
    "transient advection equations are replaced by **forward differences in time** and \n",
    "**central differences is space**:\n",
    "$$\n",
    "\\frac{c_{i}^{n+1}-c_{i}^{n}}{\\Delta t}\n",
    "=\n",
    "-v \\frac{c_{i+1}^{n}-c_{i-1}^{n}}{2 \\Delta x}\n",
    "$$\n",
    "or solved for the next time step\n",
    "$$\n",
    "c_{i}^{n+1}\n",
    "=\n",
    "c_{i}^{n} -\\frac{v \\Delta t}{2 \\Delta x} \\left( c_{i+1}^{n}-c_{i-1}^{n} \\right)\n",
    "$$\n",
    "\n",
    "<b style=color:red;>Unconditionally unstable!</b>"
   ]
  },
  {
   "cell_type": "markdown",
   "id": "a18b4d5e",
   "metadata": {},
   "source": [
    "----\n",
    "## Upwind scheme\n",
    "\n",
    "Our second scheme is from the group of `upwind scheme`, which promote a solution skewed in the direction\n",
    "of the advective flow, thus on $c$. We keep the **forward operator in time**, and implement \n",
    "a **backward operator in space**, for $v>0$:\n",
    "$$\n",
    "\\frac{c_{i}^{n+1}-c_{i}^{n}}{\\Delta t} =-v \\frac{c_{i}^{n}-c_{i-1}^{n}}{\\Delta x}, \\quad v>0\n",
    "$$\n",
    "or solved for the next time step\n",
    "$$\n",
    "c_{i}^{n+1} = c_{i}^{n}-\\frac{v \\Delta t}{\\Delta x} \\left( c_{i}^{n}-c_{i-1}^{n} \\right), \\quad v>0\n",
    "$$\n",
    "\n",
    "<b style=color:green;>Stable, if CFL criterion is obeyed!</b>"
   ]
  },
  {
   "cell_type": "markdown",
   "id": "36edcbbf",
   "metadata": {},
   "source": [
    "----\n",
    "## Comparison of the advection terms\n",
    "\n",
    "We examine the advection term from the upwind scheme, \n",
    "and compare it to the advection term of the FTCS scheme.\n",
    "\n",
    "by re-writing the advection term:\n",
    "- add a new central-difference advective term ...\n",
    "- ... substract the same term ...\n",
    "- ... then rearrange terms\n",
    "\n",
    "$$\n",
    "\\begin{array}{rcl}\n",
    "v \\Delta t \\frac{c_{i}^{n}-c_{i-1}^{n}}{\\Delta x}\n",
    "&=&\n",
    " v \\Delta t \\frac{c_{i+1}^{n}-c_{i-1}^{n}}{2\\Delta x}\n",
    "-v \\Delta t \\frac{c_{i+1}^{n}-c_{i-1}^{n}}{2\\Delta x}\n",
    "+v \\Delta t \\frac{c_{i}^{n}-c_{i-1}^{n}}{\\Delta x} \\\\\n",
    "&=&\n",
    " v \\Delta t \\frac{c_{i+1}^{n}-c_{i-1}^{n}}{2\\Delta x}\n",
    "+v \\Delta t \\frac{2c_i - 2c_{i-1} - c_{i+1} + c_{i-1}}{2 \\Delta x} \\\\\n",
    "&=&\n",
    "v \\Delta t \\underbrace{\\frac{c_{i+1}^{n}-c_{i-1}^{n}}{2\\Delta x}}_{\\mbox{FTCS}}\n",
    "- v \\Delta t \\frac{\\Delta x}{2} \\underbrace{\\frac{c_{i+1} - 2c_{i} + c_{i-1}}{\\Delta x^2}}_{\\mbox{numerical diffusion}}\n",
    "\\end{array}\n",
    "$$\n",
    "\n",
    "The **upwind scheme** is a **forward time centered space scheme**, but with **numerical diffusion**,\n",
    "which stabilises the solution!\n",
    "\n",
    "This means, with the **upwind scheme** we numerically solve an **advection-diffusion problem**,\n",
    "were the numerical diffusion $D_{num}$ scales with advection velocity and spatial discretisation:\n",
    "$$\n",
    "\\frac{\\partial c}{\\partial t} + v \\frac{\\partial c}{\\partial x} \n",
    "= \\underbrace{\\frac{v \\Delta x}{2}}_{D_{num}} \\frac{\\partial^2 c}{\\partial x^2}\n",
    "$$"
   ]
  },
  {
   "cell_type": "markdown",
   "id": "737cc0f8",
   "metadata": {},
   "source": [
    "----"
   ]
  }
 ],
 "metadata": {
  "kernelspec": {
   "display_name": "Python 3 (ipykernel)",
   "language": "python",
   "name": "python3"
  },
  "language_info": {
   "codemirror_mode": {
    "name": "ipython",
    "version": 3
   },
   "file_extension": ".py",
   "mimetype": "text/x-python",
   "name": "python",
   "nbconvert_exporter": "python",
   "pygments_lexer": "ipython3",
   "version": "3.10.8"
  }
 },
 "nbformat": 4,
 "nbformat_minor": 5
}
