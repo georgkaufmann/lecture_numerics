{
 "cells": [
  {
   "cell_type": "markdown",
   "metadata": {},
   "source": [
    "<table>\n",
    "<tr><td><img style=\"height: 150px;\" src=\"images/geo_hydro1.jpg\"></td>\n",
    "<td bgcolor=\"#FFFFFF\">\n",
    "    <p style=\"font-size: xx-large; font-weight: 900; line-height: 100%\">AG Dynamics of the Earth</p>\n",
    "    <p style=\"font-size: large; color: rgba(0,0,0,0.5);\">Juypter notebooks</p>\n",
    "    <p style=\"font-size: large; color: rgba(0,0,0,0.5);\">Georg Kaufmann</p>\n",
    "    </td>\n",
    "</tr>\n",
    "</table>"
   ]
  },
  {
   "cell_type": "markdown",
   "metadata": {},
   "source": [
    "# Numerical methods: LU decomposition\n",
    "----\n",
    "*Georg Kaufmann,\n",
    "Geophysics Section,\n",
    "Institute of Geological Sciences,\n",
    "Freie Universität Berlin,\n",
    "Germany*"
   ]
  },
  {
   "cell_type": "markdown",
   "metadata": {},
   "source": [
    "In this notebook, we implement **LU decomposition** as a method to solve \n",
    "a system of linear equations."
   ]
  },
  {
   "cell_type": "code",
   "execution_count": null,
   "metadata": {},
   "outputs": [],
   "source": [
    "import numpy as np"
   ]
  },
  {
   "cell_type": "markdown",
   "metadata": {},
   "source": [
    "----\n",
    "## LU decomposition\n",
    "\n",
    "We need to define three steps for the method.\n",
    "\n",
    "1. \n",
    "\n",
    "Examine in `python`:"
   ]
  },
  {
   "cell_type": "code",
   "execution_count": null,
   "metadata": {},
   "outputs": [],
   "source": [
    "def lin_lu(a,b,n):\n",
    "    '''\n",
    "    #----------------------------------------------------------------------\n",
    "    # subroutine solves the system of linear equations\n",
    "    # a(n,n)*x(n) = b(n)\n",
    "    # using the LU decomposition\n",
    "    # Input:\n",
    "    # n       - number of equations\n",
    "    # a(n,n)  - coefficient matrix\n",
    "    # b(n)    - rhs vector\n",
    "    # Output:\n",
    "    # x(n)    - solution vector\n",
    "    # (c) Georg Kaufmann\n",
    "    #----------------------------------------------------------------------\n",
    "    '''\n",
    "    l = np.zeros([n,n])\n",
    "    u = np.zeros([n,n])\n",
    "    for j in np.arange(1,n+1): # 1,n\n",
    "        l[j-1][j-1] = 1.\n",
    "        u[1-1][j-1] = a[1-1][j-1]\n",
    "        l[j-1][1-1] = a[j-1][1-1] / u[1-1][1-1]\n",
    "    for i in np.arange(2,n+1): # 2,n\n",
    "        sum = 0.\n",
    "        for k in np.arange(1,i): # 1,i-1\n",
    "            sum = sum + l[i-1][k-1]*u[k-1][i-1]\n",
    "        u[i-1][i-1] = a[i-1][i-1] - sum\n",
    "        for j in np.arange(i+1,n+1): # i+1,n\n",
    "            sum = 0.\n",
    "            for k in np.arange(1,i): # 1,i-1\n",
    "                sum = sum + l[i-1][k-1]*u[k-1][j-1]\n",
    "            u[i-1][j-1] = (a[i-1][j-1] -  sum) / l[i-1][i-1]\n",
    "            sum = 0.\n",
    "            for k in np.arange(1,i): # 1,i-1\n",
    "                sum = sum + l[j-1][k-1]*u[k-1][i-1]\n",
    "            l[j-1][i-1] = (a[j-1][i-1] - sum) / u[i-1][i-1]\n",
    "    # solve decomposed system Ly=b with forward substitution\n",
    "    for i in np.arange(1,n+1): # 1,n\n",
    "        sum = 0.\n",
    "        for j in np.arange(1,i): # 1,i-1\n",
    "            sum = sum + l[i-1][j-1] * b[j-1]\n",
    "        b[i-1] = (b[i-1] - sum) / l[i-1][i-1]\n",
    "    # solve decomposed system Ux=y with backward substitution\n",
    "    x = np.zeros([n])\n",
    "    for i in np.arange(n-1,-1,step=-1): # n,1,-1\n",
    "        sum = 0.0\n",
    "        for j in np.arange(i+1,n): # i+1,n\n",
    "            sum = sum + u[i][j] * x[j]\n",
    "        x[i] = (b[i] - sum) / u[i][i]\n",
    "    return x"
   ]
  },
  {
   "cell_type": "markdown",
   "metadata": {},
   "source": [
    "## Examples\n",
    "\n",
    "We test the **LU decomposition method** with two examples:\n",
    "\n",
    "1. ${\\bf A} {\\bf x} = {\\bf b}$\n",
    "\n",
    "with \n",
    "$$\n",
    "{\\bf A} = \\left[\n",
    "\\begin{array}{ccc}\n",
    "2&1&-1 \\\\ 1&3&1 \\\\ -1&1&4\n",
    "\\end{array}\n",
    "\\right];\n",
    "{\\bf b} = \\left[\n",
    "\\begin{array}{c} 4 \\\\ 3 \\\\ 4 \\end{array}\n",
    "\\right]\n",
    "$$\n",
    "The solution vector is ${\\bf x} \\simeq (3.46,-0.85,2.08)$."
   ]
  },
  {
   "cell_type": "code",
   "execution_count": null,
   "metadata": {},
   "outputs": [],
   "source": [
    "a=np.array([[2.,1.,-1.],[1.,3.,1.],[-1.,1.,4.]])\n",
    "b=np.array([4.,3.,4.])\n",
    "\n",
    "a2=np.copy(a); b2=np.copy(b)\n",
    "print('A_ij: ',a,a.ndim,a.shape)\n",
    "print('b_j:  ',b,b.ndim,b.shape)\n",
    "a2=np.copy(a); b2=np.copy(b)\n",
    "x=lin_lu(a2,b2,len(b2))\n",
    "print('x_i:  ',x,x.ndim,x.shape)\n",
    "print(np.allclose(np.dot(a, x), b))\n",
    "\n",
    "# check against numpy solution\n",
    "a2=np.copy(a); b2=np.copy(b)\n",
    "x = np.linalg.solve(a2, b2)\n",
    "print('x_i:  ',x,x.ndim,x.shape)\n",
    "print(np.allclose(np.dot(a, x), b))"
   ]
  },
  {
   "cell_type": "markdown",
   "metadata": {},
   "source": [
    "2. ${\\bf A} {\\bf x} = {\\bf b}$\n",
    "\n",
    "with \n",
    "$$\n",
    "{\\bf A} = \\left[\n",
    "\\begin{array}{cccc}\n",
    "  1 &  1 &  0 &  3 \\\\\n",
    "  2 &  1 & -1 &  1 \\\\\n",
    "  3 & -1 & -1 &  2 \\\\\n",
    " -1 &  2 &  3 & -1 \n",
    "\\end{array} \n",
    "\\right];\n",
    "{\\bf b} = \\left[\n",
    "\\begin{array}{c} 4 \\\\ 1 \\\\ -3 \\\\ 4 \\end{array}\n",
    "\\right]\n",
    "$$\n",
    "The solution vector is ${\\bf x} = (−1,2,0,1)$."
   ]
  },
  {
   "cell_type": "code",
   "execution_count": null,
   "metadata": {},
   "outputs": [],
   "source": [
    "a=np.array([[1,1,0,3],[2,1,-1,1],[3,-1,-1,2],[-1,2,3,-1]])\n",
    "b=np.array([4,1,-3,4])\n",
    "\n",
    "a2=np.copy(a); b2=np.copy(b)\n",
    "print('A_ij: ',a,a.ndim,a.shape)\n",
    "print('b_j:  ',b,b.ndim,b.shape)\n",
    "a2=np.copy(a); b2=np.copy(b)\n",
    "x=lin_lu(a2,b2,len(b2))\n",
    "print('x_i:  ',x,x.ndim,x.shape)\n",
    "print(np.allclose(np.dot(a, x), b))\n",
    "\n",
    "# check against numpy solution\n",
    "a2=np.copy(a); b2=np.copy(b)\n",
    "x = np.linalg.solve(a2, b2)\n",
    "print('x_i:  ',x,x.ndim,x.shape)\n",
    "print(np.allclose(np.dot(a, x), b))"
   ]
  },
  {
   "cell_type": "markdown",
   "metadata": {},
   "source": [
    "[next](Numerics_lab07_cholesky.ipynb)"
   ]
  }
 ],
 "metadata": {
  "kernelspec": {
   "display_name": "Python 3",
   "language": "python",
   "name": "python3"
  },
  "language_info": {
   "codemirror_mode": {
    "name": "ipython",
    "version": 3
   },
   "file_extension": ".py",
   "mimetype": "text/x-python",
   "name": "python",
   "nbconvert_exporter": "python",
   "pygments_lexer": "ipython3",
   "version": "3.7.3"
  }
 },
 "nbformat": 4,
 "nbformat_minor": 2
}
