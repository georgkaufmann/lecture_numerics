{
 "cells": [
  {
   "cell_type": "markdown",
   "metadata": {},
   "source": [
    "<table>\n",
    "<tr><td><img style=\"height: 150px;\" src=\"images/geo_hydro1.jpg\"></td>\n",
    "<td bgcolor=\"#FFFFFF\">\n",
    "    <p style=\"font-size: xx-large; font-weight: 900; line-height: 100%\">AG Dynamics of the Earth</p>\n",
    "    <p style=\"font-size: large; color: rgba(0,0,0,0.5);\">Juypter notebooks</p>\n",
    "    <p style=\"font-size: large; color: rgba(0,0,0,0.5);\">Georg Kaufmann</p>\n",
    "    </td>\n",
    "</tr>\n",
    "</table>"
   ]
  },
  {
   "cell_type": "markdown",
   "metadata": {},
   "source": [
    "# Interpolation: Library version"
   ]
  },
  {
   "cell_type": "code",
   "execution_count": null,
   "metadata": {},
   "outputs": [],
   "source": [
    "import numpy as np\n",
    "import matplotlib.pyplot as plt\n",
    "import csv\n",
    "\n",
    "import numerics.interpolate\n",
    "import numerics.change_fonts;numerics.change_fonts.change_fontsize()"
   ]
  },
  {
   "cell_type": "code",
   "execution_count": null,
   "metadata": {},
   "outputs": [],
   "source": [
    "def pol_f(x):\n",
    "    '''\n",
    "    # Calculate function\n",
    "    '''\n",
    "    pol_f = x*np.exp(-x/5.e0)\n",
    "    return pol_f"
   ]
  },
  {
   "cell_type": "code",
   "execution_count": null,
   "metadata": {},
   "outputs": [],
   "source": [
    "# define interval\n",
    "a     = 0.e0\n",
    "b     = 50.e0\n",
    "## create \"original\" data (high resolution)\n",
    "iorig = 101\n",
    "xorig = np.linspace(a,b,iorig)\n",
    "yorig = pol_f(xorig)\n",
    "# create sample data (lower resolution)\n",
    "idata = 11\n",
    "xdata = np.linspace(a,b,idata)\n",
    "ydata = pol_f(xdata)"
   ]
  },
  {
   "cell_type": "markdown",
   "metadata": {},
   "source": [
    "## Lagrange interpolation polynomial"
   ]
  },
  {
   "cell_type": "code",
   "execution_count": null,
   "metadata": {},
   "outputs": [],
   "source": [
    "iint  = 41\n",
    "xint  = np.linspace(a,b,iint)\n",
    "yint  = np.zeros(iint)\n",
    "for i in np.arange(0,len(xint)):\n",
    "        yint[i]  = numerics.interpolate.pol_lagrange(xint[i],xdata,ydata)"
   ]
  },
  {
   "cell_type": "markdown",
   "metadata": {},
   "source": [
    "## Splines"
   ]
  },
  {
   "cell_type": "code",
   "execution_count": null,
   "metadata": {},
   "outputs": [],
   "source": [
    "yint10  = np.zeros(iint)\n",
    "yint32  = np.zeros(iint)\n",
    "b10 = numerics.interpolate.pol_spline10 (xdata,ydata)\n",
    "[b32,c32,d32] = numerics.interpolate.pol_spline32(xdata,ydata)\n",
    "for i in np.arange(0,len(xint)):\n",
    "    yint10[i]  = numerics.interpolate.pol_splint10(xint[i],xdata,ydata,b10)\n",
    "    yint32[i]  = numerics.interpolate.pol_splint32(xint[i],xdata,ydata,b32,c32,d32)"
   ]
  },
  {
   "cell_type": "code",
   "execution_count": null,
   "metadata": {},
   "outputs": [],
   "source": [
    "plt.figure(figsize=(10.0, 6.0))\n",
    "plt.rc(\"font\",size=14)\n",
    "plt.title('Linear spline S$^{1,0}$',size=12)\n",
    "plt.xlim([a,b])\n",
    "plt.ylim([-0.5,2])\n",
    "plt.xlabel('x',size=12)\n",
    "plt.ylabel('f(x)',size=12)\n",
    "plt.plot(xorig,yorig,color=(0.7,0.7,0.7),linestyle='solid',linewidth=7,label='Original')\n",
    "plt.plot(xdata,ydata,color='blue',marker='X',markersize=12,linewidth=0,label='Sampled')\n",
    "plt.plot(xint,yint,color='blue',linestyle='solid',linewidth=2,label='Lagrange')\n",
    "plt.plot(xint,yint32,color='red',linestyle='solid',linewidth=3,label='Spline (3,2)')\n",
    "plt.plot(xint,yint10,color='green',linestyle='dashed',linewidth=2,label='Spline (1,0)')\n",
    "plt.legend(loc='upper right',shadow=True,fontsize=10)"
   ]
  },
  {
   "cell_type": "markdown",
   "metadata": {},
   "source": [
    "... done"
   ]
  }
 ],
 "metadata": {
  "kernelspec": {
   "display_name": "Python 3",
   "language": "python",
   "name": "python3"
  },
  "language_info": {
   "codemirror_mode": {
    "name": "ipython",
    "version": 3
   },
   "file_extension": ".py",
   "mimetype": "text/x-python",
   "name": "python",
   "nbconvert_exporter": "python",
   "pygments_lexer": "ipython3",
   "version": "3.7.3"
  }
 },
 "nbformat": 4,
 "nbformat_minor": 2
}
