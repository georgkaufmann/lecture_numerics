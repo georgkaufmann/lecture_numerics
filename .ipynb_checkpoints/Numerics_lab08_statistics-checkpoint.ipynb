{
 "cells": [
  {
   "cell_type": "markdown",
   "metadata": {},
   "source": [
    "<table>\n",
    "<tr><td><img style=\"height: 150px;\" src=\"images/geo_hydro1.jpg\"></td>\n",
    "<td bgcolor=\"#FFFFFF\">\n",
    "    <p style=\"font-size: xx-large; font-weight: 900; line-height: 100%\">AG Dynamics of the Earth</p>\n",
    "    <p style=\"font-size: large; color: rgba(0,0,0,0.5);\">Juypter notebooks</p>\n",
    "    <p style=\"font-size: large; color: rgba(0,0,0,0.5);\">Georg Kaufmann</p>\n",
    "    </td>\n",
    "</tr>\n",
    "</table>"
   ]
  },
  {
   "cell_type": "markdown",
   "metadata": {},
   "source": [
    "# Numerical methods:  8. Optimisation\n",
    "## Statistics\n",
    "----\n",
    "*Georg Kaufmann,\n",
    "Geophysics Section,\n",
    "Institute of Geological Sciences,\n",
    "Freie Universität Berlin,\n",
    "Germany*"
   ]
  },
  {
   "cell_type": "code",
   "execution_count": null,
   "metadata": {},
   "outputs": [],
   "source": [
    "import numpy as np\n",
    "import matplotlib.pyplot as plt"
   ]
  },
  {
   "cell_type": "markdown",
   "metadata": {},
   "source": [
    "## Statistics\n",
    "\n",
    "We define a set of $n$ *real numbers* as observations $o_i$:\n",
    "$$\n",
    "o_i = (o_1,o_2,\\dots,o_n)^T, \\quad i=1,n\n",
    "$$\n",
    "\n",
    "If we want to describe the *likelihood* that a certain number is taken out of the entire set, and\n",
    "we assume that the chance to draw a certain number is equal for all numbers, we can define the\n",
    "probability as\n",
    "$$\n",
    "p_i = {{1} \\over{n}}, \\quad i=1,n.\n",
    "$$\n",
    "\n",
    "We then define the *arithmetic mean* of the distribution as:\n",
    "$$\n",
    "\\bar{o} = \\sum\\limits_{i} o_i p_i = {{1} \\over{n}} \\sum\\limits_{i} o_i\n",
    "$$\n",
    "\n",
    "The *variance* of the distribution is:\n",
    "$$\n",
    "var(o) = \\sigma^2 = {{1} \\over{n}} \\sum\\limits_{i}  (o_i - \\bar{o})^2\n",
    "$$\n",
    "\n",
    "Finally, the *standard deviation* is defined as:\n",
    "$$\n",
    "\\sigma_o = \\sqrt{var(o)}\n",
    "$$\n",
    "\n",
    "*Skewness* and *kurtosis*, ...\n",
    "\n",
    "Let's play a bit with `python`: We define an array of eleven integer numbers, then\n",
    "check the type of the array and the type of a number:"
   ]
  },
  {
   "cell_type": "code",
   "execution_count": null,
   "metadata": {},
   "outputs": [],
   "source": [
    "# define an array of numbers\n",
    "x = np.array([1,2,3,4,5,6,7,8,9,10,11])"
   ]
  },
  {
   "cell_type": "markdown",
   "metadata": {},
   "source": [
    "We then calculate mean and standard deviation by ourselves..."
   ]
  },
  {
   "cell_type": "code",
   "execution_count": null,
   "metadata": {},
   "outputs": [],
   "source": [
    "# MEAN our way\n",
    "mean1 = 0\n",
    "for i in range(len(x)):\n",
    "    mean1 = mean1 + x[i]\n",
    "mean1 = mean1 / len(x)\n",
    "print ('mean1:  ',mean1)\n",
    "\n",
    "# STANDARD DEVIATION our way\n",
    "sigma1 = 0\n",
    "for i in range(len(x)):\n",
    "    sigma1 = sigma1 + (x[i]-mean1)**2\n",
    "sigma1 = sigma1 / (len(x))\n",
    "if (sigma1 != 0):\n",
    "    sigma1 = np.sqrt(sigma1)\n",
    "print ('sigma1: ',sigma1)"
   ]
  },
  {
   "cell_type": "markdown",
   "metadata": {},
   "source": [
    "... and the `python` way:"
   ]
  },
  {
   "cell_type": "code",
   "execution_count": null,
   "metadata": {},
   "outputs": [],
   "source": [
    "# MEAN python way\n",
    "mean2 = x.mean()\n",
    "print ('mean2:  ',mean2)\n",
    "\n",
    "# STANDARD DEVIATION python way\n",
    "sigma2 = x.std()\n",
    "print ('sigma2: ',sigma2)"
   ]
  },
  {
   "cell_type": "markdown",
   "metadata": {},
   "source": [
    "## Random numbers\n",
    "\n",
    "Now we can move on to look at `random numbers`.\n",
    "We first draw a single random number from a uniform distrubution."
   ]
  },
  {
   "cell_type": "code",
   "execution_count": null,
   "metadata": {},
   "outputs": [],
   "source": [
    "x1 = np.random.random(1)\n",
    "print(x1)"
   ]
  },
  {
   "cell_type": "markdown",
   "metadata": {},
   "source": [
    "The random number is taken from the interval $[0,1[$, with $1$ excluded.\n",
    "\n",
    "Repeat the cell, and you will see that the random number is always different!\n",
    "\n",
    "What if we want to always draw the same sequence of 6 numbers? Here we go with calling `seed`\n",
    "each time before the call to random, always with a fixed number:"
   ]
  },
  {
   "cell_type": "code",
   "execution_count": null,
   "metadata": {},
   "outputs": [],
   "source": [
    "np.random.seed(12)\n",
    "x1 = np.random.random(6)\n",
    "print(x1)\n",
    "np.random.seed(13)\n",
    "x1 = np.random.random(6)\n",
    "print(x1)\n",
    "np.random.seed(12)\n",
    "x1 = np.random.random(6)\n",
    "print(x1)"
   ]
  },
  {
   "cell_type": "markdown",
   "metadata": {},
   "source": [
    "Now we want to dice. We want to draw an *integer number* out of the sequence (1,2,3,4,5,6). \n",
    "There is a way to draw integer random numbers, but we want to code it by ourselves.\n",
    "\n",
    "We throw the dice $n=20$ times by drwaing uniform random numbers, \n",
    "which are between 0 and 1 (floats). We multiply them by 6,\n",
    "then they are in the interval $[0,6[$, with 6 excluded. Add 1 on top, then convert \n",
    "to integer numbers:"
   ]
  },
  {
   "cell_type": "code",
   "execution_count": null,
   "metadata": {},
   "outputs": [],
   "source": [
    "n = 20\n",
    "x1 = (1+6*np.random.random(n)).astype(int)\n",
    "print(x1)\n",
    "x,y,z=plt.hist(x1,bins=6)"
   ]
  },
  {
   "cell_type": "markdown",
   "metadata": {},
   "source": [
    "Play with the number $n$, the larger it gets, the more **uniform** the distribution is!\n",
    "\n",
    "Check the `numpy documentation` (in the net) to learn more about the `hist` command from `matplotlib`."
   ]
  },
  {
   "cell_type": "markdown",
   "metadata": {},
   "source": [
    "## The temperature example\n",
    "\n",
    "Now we continue with different random number distribuations, namely the **uniform** and the **normal**\n",
    "distribution. We first create the two different distributions and plot them. We discuss the latter \n",
    "one in more detail later."
   ]
  },
  {
   "cell_type": "code",
   "execution_count": null,
   "metadata": {},
   "outputs": [],
   "source": [
    "# set numbers drawn\n",
    "n = 500\n",
    "# define a mean and a standard deviation\n",
    "mu    = 20.\n",
    "sigma = 1.\n",
    "# call uniform random numbers\n",
    "np.random.seed(12)\n",
    "x1 = np.random.uniform(mu-sigma,mu+sigma,n)\n",
    "# call normal random numbers\n",
    "np.random.seed(12)\n",
    "x2 = np.random.normal(mu,sigma,n)\n",
    "#print (x2)\n",
    "# plot them side by side\n",
    "fig=plt.figure(figsize=(14.0,10.0))\n",
    "\n",
    "plot1=plt.subplot2grid((2,2), (0,0), colspan=1)\n",
    "plot1.set_xlim([0,n])\n",
    "plot1.set_ylim([16,24])\n",
    "plot1.plot(x1,label='uniform')\n",
    "plot1.legend()\n",
    "\n",
    "plot2=plt.subplot2grid((2,2), (0,1), colspan=1,rowspan=1)\n",
    "plot2.set_xlim([0,n])\n",
    "plot2.set_ylim([16,24])\n",
    "plot2.plot(x2,label='normal')\n",
    "\n",
    "plot2.legend()"
   ]
  },
  {
   "cell_type": "markdown",
   "metadata": {},
   "source": [
    "The histogram for the **uniform** distribution is flat, indicating that all numbers within our range\n",
    "are statistically equally distributed."
   ]
  },
  {
   "cell_type": "code",
   "execution_count": null,
   "metadata": {},
   "outputs": [],
   "source": [
    "fig=plt.figure(figsize=(14.0,10.0))\n",
    "plot1=plt.subplot2grid((2,2), (0,0), colspan=1)\n",
    "plot2=plt.subplot2grid((2,2), (0,1), colspan=1,rowspan=1)\n",
    "plot1.set_title('uniform distribution')\n",
    "plot1.set_xlim([0,n])\n",
    "plot1.set_ylim([16,24])\n",
    "plot1.plot(x1)\n",
    "x,y,z=plot2.hist(x1,bins=50)"
   ]
  },
  {
   "cell_type": "code",
   "execution_count": null,
   "metadata": {},
   "outputs": [],
   "source": [
    "fig=plt.figure(figsize=(14.0,10.0))\n",
    "plot1=plt.subplot2grid((2,2), (0,0), colspan=1)\n",
    "plot2=plt.subplot2grid((2,2), (0,1), colspan=1,rowspan=1)\n",
    "plot1.set_title('normal distribution')\n",
    "plot1.set_xlim([0,n])\n",
    "plot1.set_ylim([16,24])\n",
    "plot1.plot(x2)\n",
    "x,y,z=plot2.hist(x2,bins=50)"
   ]
  },
  {
   "cell_type": "markdown",
   "metadata": {},
   "source": [
    "In the case of the **normal** distribution, the histogram follows an inverse exponential function.\n",
    "\n",
    "This is the classical **Gaussian** curve, given as probability:\n",
    "$$\n",
    "p_i = {{1} \\over {\\sqrt{2\\pi \\sigma^2}}} e^{-{{(x_i-\\mu)^2} \\over {2\\sigma^2}}}\n",
    "$$\n",
    "Plotting this probalility function on top of the histogram for the **normal** distribution proves\n",
    "that the **normal** distribution follows a Gaussian curve.\n",
    "\n",
    "Note that the need the keyword `density=True` in the `hist` command to create a normalised\n",
    "probability density function."
   ]
  },
  {
   "cell_type": "code",
   "execution_count": null,
   "metadata": {},
   "outputs": [],
   "source": [
    "plt.figure(figsize=(12.0,6.0))\n",
    "plt.title('normal distribution')\n",
    "count, bins, ignored = plt.hist(x2,bins=50,density=True)\n",
    "plt.plot(bins, 1/(sigma * np.sqrt(2*np.pi)) * np.exp( -(bins-mu)**2 / (2*sigma**2) ),lw=3, alpha=0.7,c='r')"
   ]
  },
  {
   "cell_type": "markdown",
   "metadata": {},
   "source": [
    "In the plot above, we find our standard deviation $\\sigma$ as half-width. \n",
    "\n",
    "- Around 68.27 % of all points are within the $1 \\sigma$ uncertainty.\n",
    "- Around 95.45 % of all points are within the $2 \\sigma$ uncertainty.\n",
    "- Around 99.73 % of all points are within the $3 \\sigma$ uncertainty.\n",
    "\n",
    "We can figure this numbers out by integrating the above curve ..."
   ]
  },
  {
   "cell_type": "markdown",
   "metadata": {},
   "source": [
    "----\n",
    "[next>](Numerics_lab08_chi2.ipynb)"
   ]
  }
 ],
 "metadata": {
  "kernelspec": {
   "display_name": "Python 3",
   "language": "python",
   "name": "python3"
  },
  "language_info": {
   "codemirror_mode": {
    "name": "ipython",
    "version": 3
   },
   "file_extension": ".py",
   "mimetype": "text/x-python",
   "name": "python",
   "nbconvert_exporter": "python",
   "pygments_lexer": "ipython3",
   "version": "3.7.3"
  }
 },
 "nbformat": 4,
 "nbformat_minor": 2
}
