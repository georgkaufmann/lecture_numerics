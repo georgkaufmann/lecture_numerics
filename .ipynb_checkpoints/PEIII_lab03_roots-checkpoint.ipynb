{
 "cells": [
  {
   "cell_type": "markdown",
   "metadata": {},
   "source": [
    "# Chapter03: Roots\n",
    "***\n",
    "\n",
    "## Bracketing"
   ]
  },
  {
   "cell_type": "code",
   "execution_count": null,
   "metadata": {
    "collapsed": false
   },
   "outputs": [],
   "source": [
    "\"\"\"\n",
    "PROGRAM driver_root_bracket\n",
    "find possible root intervals through bracketing\n",
    "(c) Georg Kaufmann\n",
    "\"\"\"\n",
    "info = ''\n",
    "info = info+'-----------------------------------------------------\\n'\n",
    "info = info+'driver_root_bracket:\\n'\n",
    "info = info+'bracket possible roots of a function\\n'\n",
    "info = info+'-----------------------------------------------------'\n",
    "\n",
    "# import libraries\n",
    "import numpy as np\n",
    "from numerics.root import *\n",
    "\n",
    "# main program\n",
    "def main():\n",
    "    #-----------------------------------------------------------------------\n",
    "    # define interval and number of segments\n",
    "    #-----------------------------------------------------------------------\n",
    "    a   = -0.1\n",
    "    b   = 2.1*np.pi\n",
    "    n   = 11\n",
    "    nb  = 0\n",
    "    #-----------------------------------------------------------------------\n",
    "    # call bracketing algorithm\n",
    "    #-----------------------------------------------------------------------\n",
    "    [xb1,xb2,nb] = root_bracket(a,b,n)\n",
    "    print (\"%s\" % (info))\n",
    "    print (\"%20s %10.2f %10.2f\" % ('Interval [a,b]: ',a,b))\n",
    "    print (\"%20s %10i\" %   ('Spacing: ',n))\n",
    "    print (\"%20s %10i\" % ('Roots bracketed nb: ',nb))\n",
    "    for i in range(0,len(xb1)):\n",
    "        print (\"%20s %10i %12.2f %12.2f\" % ('Root bracketed: ',i,xb1[i],xb2[i]))\n",
    "\n",
    "# call main program\n",
    "main()"
   ]
  },
  {
   "cell_type": "markdown",
   "metadata": {},
   "source": [
    "## Finding roots"
   ]
  },
  {
   "cell_type": "code",
   "execution_count": null,
   "metadata": {
    "collapsed": false
   },
   "outputs": [],
   "source": [
    "\"\"\"\n",
    "PROGRAM driver_root\n",
    "find roots using different algorithms\n",
    "(c) Georg Kaufmann\n",
    "\"\"\"\n",
    "info = ''\n",
    "info = info+'-----------------------------------------------------\\n'\n",
    "info = info+'driver_root:\\n'\n",
    "info = info+'find roots using different algorithms\\n'\n",
    "info = info+'-----------------------------------------------------'\n",
    "\n",
    "# import libraries\n",
    "import numpy as np\n",
    "import scipy.optimize\n",
    "from numerics.root import *\n",
    "\n",
    "# main program\n",
    "def main():\n",
    "    #-----------------------------------------------------------------------\n",
    "    # define interval and toleance\n",
    "    #-----------------------------------------------------------------------\n",
    "    a   = 0.9*np.pi #-0.1\n",
    "    b   = 1.1*np.pi #0.2\n",
    "    tol = 1.e-4\n",
    "    roots = np.zeros(5)\n",
    "    #-----------------------------------------------------------------------\n",
    "    # call method\n",
    "    #-----------------------------------------------------------------------\n",
    "    print (\"%s\" % (info))\n",
    "    # bi-section method\n",
    "    roots[0] = root_interval(a,b,tol)\n",
    "    print (\"%30s %12.5f %12.5f\" % ('root_interval [x,f(x)]: ',roots[0],root_f(roots[0])))\n",
    "    # secant method\n",
    "    roots[1] = root_sekant(a,b,tol)\n",
    "    print (\"%30s %12.5f %12.5f\" % ('root_sekant [x,f(x)]: ',roots[1],root_f(roots[1])))\n",
    "    # newton method\n",
    "    roots[2] = root_newton(a,tol)\n",
    "    print (\"%30s %12.5f %12.5f\" % ('root_newton [x,f(x)]: ',roots[2],root_f(roots[2])))\n",
    "    # in-build python\n",
    "    roots[3]=scipy.optimize.brentq(root_f, a,b,args=(),xtol=1.e-8,maxiter=50)\n",
    "    print (\"%30s %12.5f %12.5f\" % ('root_python(brent) [x,f(x)]: ',roots[3],root_f(roots[3])))\n",
    "    roots[4]=scipy.optimize.newton(root_f, a,fprime=None,args=(),tol=1.e-8,maxiter=50)\n",
    "    print (\"%30s %12.5f %12.5f\" % ('root_python(newton) [x,f(x)]: ',roots[4],root_f(roots[4])))\n",
    "    return\n",
    "\n",
    "# call main program\n",
    "main()"
   ]
  },
  {
   "cell_type": "code",
   "execution_count": null,
   "metadata": {
    "collapsed": true
   },
   "outputs": [],
   "source": []
  }
 ],
 "metadata": {
  "kernelspec": {
   "display_name": "Python 3",
   "language": "python",
   "name": "python3"
  },
  "language_info": {
   "codemirror_mode": {
    "name": "ipython",
    "version": 3
   },
   "file_extension": ".py",
   "mimetype": "text/x-python",
   "name": "python",
   "nbconvert_exporter": "python",
   "pygments_lexer": "ipython3",
   "version": "3.4.8"
  }
 },
 "nbformat": 4,
 "nbformat_minor": 0
}
