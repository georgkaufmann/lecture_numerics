{
 "cells": [
  {
   "cell_type": "markdown",
   "metadata": {},
   "source": [
    "<table>\n",
    "<tr><td><img style=\"height: 150px;\" src=\"images/geo_hydro1.jpg\"></td>\n",
    "<td bgcolor=\"#FFFFFF\">\n",
    "    <p style=\"font-size: xx-large; font-weight: 900; line-height: 100%\">AG Dynamics of the Earth</p>\n",
    "    <p style=\"font-size: large; color: rgba(0,0,0,0.5);\">Juypter notebooks</p>\n",
    "    <p style=\"font-size: large; color: rgba(0,0,0,0.5);\">Georg Kaufmann</p>\n",
    "    </td>\n",
    "</tr>\n",
    "</table>"
   ]
  },
  {
   "cell_type": "markdown",
   "metadata": {},
   "source": [
    "# Numerical methods: 7. Linear systems\n",
    "## Sparse systems\n",
    "----\n",
    "*Georg Kaufmann,\n",
    "Geophysics Section,\n",
    "Institute of Geological Sciences,\n",
    "Freie Universität Berlin,\n",
    "Germany*"
   ]
  },
  {
   "cell_type": "markdown",
   "metadata": {},
   "source": [
    "In this notebook, we discuss matrix storage for larger systems of linear equations.\n",
    "Here, storing a full $ n \\times n$ matrix becomes inefficient."
   ]
  },
  {
   "cell_type": "code",
   "execution_count": null,
   "metadata": {},
   "outputs": [],
   "source": [
    "import numpy as np\n",
    "import matplotlib.pyplot as plt\n",
    "import scipy.linalg\n",
    "import scipy.sparse\n",
    "from sys import getsizeof"
   ]
  },
  {
   "cell_type": "markdown",
   "metadata": {},
   "source": [
    "----\n",
    "## Compressed row storage\n",
    "\n",
    "We follow here the [wikipedia](https://de.wikipedia.org/wiki/Compressed_Row_Storage) entry \n",
    "to **compressed row storage**, a method to keep only the **non-zero** entries of a matrix in memory.\n",
    "\n",
    "Consider the 4x5-matrix:\n",
    "\n",
    "$$\n",
    "A=\n",
    "  \\begin{pmatrix} \n",
    "    \\underset{({\\color{Blue}0},{\\color{Green}0})}{10} & 0 & 0 & \\underset{({\\color{Blue}0},{\\color{Green}3})}{12} & 0 \\\\ \n",
    "    0 & 0 & \\underset{({\\color{Blue}1},{\\color{Green}2})}{11} & 0 & \\underset{({\\color{Blue}1},{\\color{Green}4})}{13} \\\\\n",
    "    0 & \\underset{({\\color{Blue}2},{\\color{Green}1})}{16} & 0 & 0 & 0 \\\\\n",
    "    0 & 0 & \\underset{({\\color{Blue}3},{\\color{Green}2})}{11} & 0 & \\underset{({\\color{Blue}3},{\\color{Green}4})}{13} \\\\\n",
    "  \\end{pmatrix}\n",
    "$$\n",
    "In every row, we have only one or two non-zero entries, which we store in a 1D array:\n",
    "$$\n",
    "A_{sparse} = \\left( 10, 12, 11, 13, 16, 11, 13 \\right)\n",
    "$$\n",
    "We then need to use to integer arrays to store the locations of the non-zeros entries.\n",
    "Ther first array, $icol$, markes the column positions of each entry (the green enties above):\n",
    "$$\n",
    "icol = \\left( 0,3,2,4,1,2,4 \\right)\n",
    "$$\n",
    "To identify, to which row these colunm indices belong, a second integer array $irow$ is used:\n",
    "$$\n",
    "irow = \\left( 0,2,4,5,7 \\right)\n",
    "$$\n",
    "This array marks the starting position of column entries for a specific row in $icol$.\n",
    "\n",
    "We recover the positions for the non-zero entries with a small `python` script:"
   ]
  },
  {
   "cell_type": "code",
   "execution_count": null,
   "metadata": {},
   "outputs": [],
   "source": [
    "Awiki = np.array([10,12,11,13,16,11,13],dtype=float)\n",
    "icol = np.array([0,3,2,4,1,2,4],dtype=int)\n",
    "irow = np.array([0,2,4,5,7],dtype=int)\n",
    "\n",
    "print('i j A[i,j]')\n",
    "for i in range(len(irow)-1):\n",
    "    for j in range(irow[i],irow[i+1]):\n",
    "        print(i,icol[j],Awiki[j])"
   ]
  },
  {
   "cell_type": "markdown",
   "metadata": {},
   "source": [
    "----\n",
    "## Example of full random matrix\n",
    "\n",
    "We create a $n \\times n$ matrix $A$ with random entries and a right-hand side vector $b$,\n",
    "also filled with random values. Note that we fixed the random seed to replicate the random numbers.\n",
    "\n",
    "We use the `plt.spy` routine from `matplotlib` to visualise the storage of non-zero\n",
    "elements of the matrix A."
   ]
  },
  {
   "cell_type": "code",
   "execution_count": null,
   "metadata": {},
   "outputs": [],
   "source": [
    "n = 10\n",
    "np.random.seed(11)\n",
    "A = np.random.random(n*n).reshape(n,n)\n",
    "b = np.random.random(n)\n",
    "\n",
    "plt.spy(A,marker='o', markersize=9)"
   ]
  },
  {
   "cell_type": "markdown",
   "metadata": {},
   "source": [
    "We solve this random system with `solve` from the `scipy.linalg` package (which is similar to the\n",
    "one in the `numpy` package)."
   ]
  },
  {
   "cell_type": "code",
   "execution_count": null,
   "metadata": {},
   "outputs": [],
   "source": [
    "x = scipy.linalg.solve(A,b)\n",
    "print('x:\\n',x)\n",
    "print(np.allclose(np.dot(A,x),b))"
   ]
  },
  {
   "cell_type": "markdown",
   "metadata": {},
   "source": [
    "We check to storage size occupied by matrix $A$ with `getsize` from the `sys` package:"
   ]
  },
  {
   "cell_type": "code",
   "execution_count": null,
   "metadata": {},
   "outputs": [],
   "source": [
    "print(getsizeof(A),' bytes')"
   ]
  },
  {
   "cell_type": "markdown",
   "metadata": {},
   "source": [
    "----\n",
    "## Example with banded matrix\n",
    "\n",
    "Next, we create a **banded matrix** with \n",
    "- the main diagonal filled with $-2$,\n",
    "- both first side diagonals filled with $1$,\n",
    "- otherwise entries are zero.\n",
    "\n",
    "We use `np.ones`first to create an 1D array with the non-zero values for each diagonal,\n",
    "then expand these non-zero entries into a 2D array, using `np.diag`."
   ]
  },
  {
   "cell_type": "code",
   "execution_count": null,
   "metadata": {},
   "outputs": [],
   "source": [
    "print(np.ones(n))\n",
    "print(np.diag(np.ones(n)))"
   ]
  },
  {
   "cell_type": "code",
   "execution_count": null,
   "metadata": {},
   "outputs": [],
   "source": [
    "np.random.seed(11)\n",
    "A = np.diag(-2*np.ones(n)) + np.diag(np.ones(n-1),k=1) + np.diag(np.ones(n-1),k=-1)\n",
    "b = np.random.random(n)\n",
    "print(A)\n",
    "plt.spy(A,marker='o', markersize=9)\n",
    "\n",
    "print(getsizeof(A),' bytes')"
   ]
  },
  {
   "cell_type": "markdown",
   "metadata": {},
   "source": [
    "We solve this banded system again with `solve` from the `scipy.linalg` package (which is similar to the\n",
    "one in the `numpy` package)."
   ]
  },
  {
   "cell_type": "code",
   "execution_count": null,
   "metadata": {},
   "outputs": [],
   "source": [
    "x = scipy.linalg.solve(A,b)\n",
    "print('x:\\n',x)\n",
    "print(np.allclose(np.dot(A,x),b))"
   ]
  },
  {
   "cell_type": "markdown",
   "metadata": {},
   "source": [
    "----\n",
    "## Sparse storage and sparse solver\n",
    "\n",
    "We rearrange the banded matrix $A$ into a **compressed row storage**, using the\n",
    "`csr_matrix` routine from the `scipy.sparse` package.\n",
    "\n",
    "With `print()`, we check to sparse matrix, and with the function `toarray()`, we can convert\n",
    "it back to full storage (which we need for the check of the solution later ...)."
   ]
  },
  {
   "cell_type": "code",
   "execution_count": null,
   "metadata": {},
   "outputs": [],
   "source": [
    "Asparse = scipy.sparse.csr_matrix(A)\n",
    "print(getsizeof(Asparse),' bytes')\n",
    "print('A:\\n',Asparse)\n",
    "print('A:\\n',Asparse.toarray())\n",
    "print('b:\\n',b)\n",
    "\n",
    "plt.spy(Asparse)"
   ]
  },
  {
   "cell_type": "code",
   "execution_count": null,
   "metadata": {},
   "outputs": [],
   "source": [
    "x =scipy.sparse.linalg.spsolve(Asparse,b)\n",
    "print('x:\\n',x)\n",
    "print(np.allclose(np.dot(Asparse.toarray(),x),b))"
   ]
  },
  {
   "cell_type": "markdown",
   "metadata": {},
   "source": [
    "----\n",
    "## Check the wikipedia example ..."
   ]
  },
  {
   "cell_type": "code",
   "execution_count": null,
   "metadata": {},
   "outputs": [],
   "source": [
    "A = np.array([[10,0,0,12,0],[0,0,11,0,13],[0,16,0,0,0],[0,0,11,0,13]])\n",
    "Asparse = scipy.sparse.csr_matrix(A)\n",
    "print(Asparse)"
   ]
  },
  {
   "cell_type": "markdown",
   "metadata": {},
   "source": [
    "----\n",
    "## Condition number\n",
    "\n",
    "Test the **condition number** of a matrix. Use as example\n",
    "$$\n",
    "A = \\left[\n",
    "\\begin{array}{cc}\n",
    "1 & 2 \\\\\n",
    "1.0001 & 2\n",
    "\\end{array}\n",
    "\\right]\n",
    "$$\n",
    "The condition number $K$ can be calculated from the matrix norm:\n",
    "$$\n",
    "K(A) = ||A|| \\cdot ||A^{-1}||\n",
    "$$\n",
    "Here, as norm, the $l_2$ norm, the $l_{\\infty}$ norm, or another norm can be used."
   ]
  },
  {
   "cell_type": "code",
   "execution_count": null,
   "metadata": {},
   "outputs": [],
   "source": [
    "A = np.array([[1,2],[1.0001,2]],dtype=float)\n",
    "K    = np.linalg.cond(A)\n",
    "K2   = np.linalg.cond(A,2)\n",
    "Kinf = np.linalg.cond(A,np.inf)\n",
    "\n",
    "print('K: ',round(K,2), ' default, L2 norm')\n",
    "print('K: ',round(K2,2),' L2 norm')\n",
    "print('K: ',round(Kinf,2),' Linfty norm')"
   ]
  },
  {
   "cell_type": "markdown",
   "metadata": {},
   "source": [
    "----"
   ]
  }
 ],
 "metadata": {
  "kernelspec": {
   "display_name": "Python 3 (ipykernel)",
   "language": "python",
   "name": "python3"
  },
  "language_info": {
   "codemirror_mode": {
    "name": "ipython",
    "version": 3
   },
   "file_extension": ".py",
   "mimetype": "text/x-python",
   "name": "python",
   "nbconvert_exporter": "python",
   "pygments_lexer": "ipython3",
   "version": "3.10.8"
  }
 },
 "nbformat": 4,
 "nbformat_minor": 2
}
