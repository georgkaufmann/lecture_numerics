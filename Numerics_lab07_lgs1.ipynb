{
 "cells": [
  {
   "cell_type": "markdown",
   "metadata": {},
   "source": [
    "<table>\n",
    "<tr><td><img style=\"height: 150px;\" src=\"images/geo_hydro1.jpg\"></td>\n",
    "<td bgcolor=\"#FFFFFF\">\n",
    "    <p style=\"font-size: xx-large; font-weight: 900; line-height: 100%\">AG Dynamics of the Earth</p>\n",
    "    <p style=\"font-size: large; color: rgba(0,0,0,0.5);\">Jupyter notebooks</p>\n",
    "    <p style=\"font-size: large; color: rgba(0,0,0,0.5);\">Georg Kaufmann</p>\n",
    "    </td>\n",
    "</tr>\n",
    "</table>"
   ]
  },
  {
   "cell_type": "markdown",
   "metadata": {},
   "source": [
    "# Chapter06: Linear system of equation -direct solvers-\n",
    "***\n",
    "\n",
    "## Gaus-Pivoting, LU decomposition"
   ]
  },
  {
   "cell_type": "code",
   "execution_count": 1,
   "metadata": {},
   "outputs": [
    {
     "name": "stdout",
     "output_type": "stream",
     "text": [
      "-----------------------------------------------------\n",
      "driver_lingl: \n",
      "solve system of linear equations\n",
      "-----------------------------------------------------\n",
      "reading file:  data/driver_lingl.in\n",
      "matrix a \n",
      "[[ 3.000e-03  5.914e+01]\n",
      " [ 5.291e+00 -6.130e+00]]\n",
      "rhs b    \n",
      "[59.17 46.78]\n",
      "reading file:  data/driver_lingl.in\n",
      "solution x (lin_gauss)\n",
      "[10.  1.] True\n",
      "reading file:  data/driver_lingl.in\n",
      "solution x (lin_lu)\n",
      "[10.  1.] True\n",
      "solution x (numpy)\n",
      "[10.  1.] True\n"
     ]
    }
   ],
   "source": [
    "\"\"\"\n",
    "PROGRAM driver_lingl\n",
    "solve system of linear equations\n",
    "(c) Georg Kaufmann\n",
    "\"\"\"\n",
    "info = ''\n",
    "info = info+'-----------------------------------------------------\\n'\n",
    "info = info+'driver_lingl: \\n'\n",
    "info = info+'solve system of linear equations\\n'\n",
    "info = info+'-----------------------------------------------------'\n",
    "\n",
    "# import libraries\n",
    "import numpy as np\n",
    "from numerics.lingl import *\n",
    "\n",
    "# main program\n",
    "def main():\n",
    "    print (\"%s\" % (info))\n",
    "    # read data file\n",
    "    infile = 'data/driver_lingl.in'\n",
    "    [a,b,n] = lingl_read(infile)\n",
    "    print('matrix a ');print (a)\n",
    "    print('rhs b    ');print (b)\n",
    "    # solve with Gauss pivoting\n",
    "    x1 = lin_gauss (a,b,n)\n",
    "    [a,b,n] = lingl_read(infile)\n",
    "    print('solution x (lin_gauss)');print (x1,np.allclose(np.dot(a,x1),b))\n",
    "    # solve with LU decomposition\n",
    "    x2 = lin_lu (a,b,n)\n",
    "    [a,b,n] = lingl_read(infile)\n",
    "    print('solution x (lin_lu)');print (x2,np.allclose(np.dot(a,x1),b))\n",
    "    # solve with python algorithm\n",
    "    x3 = np.linalg.solve(a,b)\n",
    "    print('solution x (numpy)');print (x3,np.allclose(np.dot(a,x3),b))\n",
    "    \n",
    "def lingl_read(infile):\n",
    "    # read ascii data file\n",
    "    print (\"%s %s\" % ('reading file: ',infile))\n",
    "    # open file and read in as object file\n",
    "    file = open (infile,'r')\n",
    "    # split object into lines\n",
    "    line = file.readlines()\n",
    "    # first line, first element: n\n",
    "    n=int(line[0].split()[0])\n",
    "    a = np.zeros([n,n])\n",
    "    b = np.zeros([n])\n",
    "    for i in np.arange(0,int(n)):\n",
    "        for j in np.arange(0,int(n)):\n",
    "            a[i][j] = float(line[i+1].split()[j])\n",
    "    for i in np.arange(0,int(n)):\n",
    "        b[i] = float(line[i+n+1].split()[0])\n",
    "   #print (a,b)\n",
    "    return a,b,n\n",
    "\n",
    "# call main program\n",
    "main()"
   ]
  },
  {
   "cell_type": "code",
   "execution_count": null,
   "metadata": {
    "collapsed": true
   },
   "outputs": [],
   "source": []
  }
 ],
 "metadata": {
  "kernelspec": {
   "display_name": "Python 3",
   "language": "python",
   "name": "python3"
  },
  "language_info": {
   "codemirror_mode": {
    "name": "ipython",
    "version": 3
   },
   "file_extension": ".py",
   "mimetype": "text/x-python",
   "name": "python",
   "nbconvert_exporter": "python",
   "pygments_lexer": "ipython3",
   "version": "3.7.3"
  }
 },
 "nbformat": 4,
 "nbformat_minor": 1
}
