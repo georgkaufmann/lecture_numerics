{
 "cells": [
  {
   "cell_type": "markdown",
   "metadata": {},
   "source": [
    "<table>\n",
    "<tr><td><img style=\"height: 150px;\" src=\"images/geo_hydro1.jpg\"></td>\n",
    "<td bgcolor=\"#FFFFFF\">\n",
    "    <p style=\"font-size: xx-large; font-weight: 900; line-height: 100%\">AG Dynamics of the Earth</p>\n",
    "    <p style=\"font-size: large; color: rgba(0,0,0,0.5);\">Juypter notebooks</p>\n",
    "    <p style=\"font-size: large; color: rgba(0,0,0,0.5);\">Georg Kaufmann</p>\n",
    "    </td>\n",
    "</tr>\n",
    "</table>"
   ]
  },
  {
   "cell_type": "markdown",
   "metadata": {},
   "source": [
    "# Chapter 9: Ordinary differential equations\n",
    "***"
   ]
  },
  {
   "cell_type": "markdown",
   "metadata": {},
   "source": [
    "## Euler method"
   ]
  },
  {
   "cell_type": "code",
   "execution_count": null,
   "metadata": {},
   "outputs": [],
   "source": [
    "%matplotlib inline\n",
    "\"\"\"\n",
    "driver_ode1:\n",
    "solve initial value problem y'=f(t,y) for y(0)=alpha, t in [a,b]\n",
    "single equation\n",
    "example is weird function\n",
    "(c) Georg Kaufmann\n",
    "\"\"\"\n",
    "info = ''\n",
    "info = info+'-----------------------------------------------------\\n'\n",
    "info = info+'driver_ode1:\\n'\n",
    "info = info+'solve initial value problem\\n'\n",
    "info = info+'-----------------------------------------------------'\n",
    "\n",
    "# import libraries\n",
    "import numpy as np\n",
    "import scipy.misc\n",
    "import matplotlib.pyplot as plt\n",
    "from numerics.ode import *\n",
    "\n",
    "# main program\n",
    "def main():\n",
    "    #-----------------------------------------------------------------------\n",
    "    # define points and stepsize\n",
    "    #-----------------------------------------------------------------------\n",
    "    print (\"%s\" % (info))\n",
    "    a = 0.\n",
    "    b = 5.\n",
    "    alpha = 0.5\n",
    "    n = 21\n",
    "    h = (b-a) / float(n-1)\n",
    "    print (\"%3s %5.2f %3s %5.2f %7s %5.2f %3s %4i %3s %5.2f\" % ('a:',a,'b:',b,'alpha:',alpha,'n:',n,'h:',h))\n",
    "    t = []; y = []; yexact = []\n",
    "    # initial values\n",
    "    t.append(a)\n",
    "    y.append(alpha)\n",
    "    yexact.append(alpha)\n",
    "    print (\"%4i %10.4f %10.2f %10.2f %10.2f\" % (0,h,t[0],y[0],yexact[0]))\n",
    "    # run over interal\n",
    "    for i in np.arange(1,n):\n",
    "        t.append(t[i-1]+h)\n",
    "        ynew = odei_euler(t[i-1],y[i-1],h)\n",
    "        y.append(ynew)\n",
    "        yexact.append(((t[i]+1)**2-0.5*np.exp(t[i])))\n",
    "        print (\"%4i %10.4f %10.2f %10.2f %10.2f\" % (i,h,t[i],y[i],yexact[i]))\n",
    "    return t,y,yexact\n",
    "        \n",
    "# call main program\n",
    "[t,y,yexact] = main()\n",
    "\n",
    "plt.plot(t,yexact,linewidth=4,color='gray',label='y(t)=(t+1)$^2$-0.5*e$^t$')\n",
    "plt.plot(t,y,linewidth=2,color='red',label='Euler')\n",
    "plt.legend()\n"
   ]
  },
  {
   "cell_type": "markdown",
   "metadata": {},
   "source": [
    "## Modified Euler method"
   ]
  },
  {
   "cell_type": "code",
   "execution_count": null,
   "metadata": {},
   "outputs": [],
   "source": [
    "%matplotlib inline\n",
    "\"\"\"\n",
    "driver_ode1:\n",
    "solve initial value problem y'=f(t,y) for y(0)=alpha, t in [a,b]\n",
    "single equation\n",
    "example is weird function\n",
    "(c) Georg Kaufmann\n",
    "\"\"\"\n",
    "info = ''\n",
    "info = info+'-----------------------------------------------------\\n'\n",
    "info = info+'driver_ode1:\\n'\n",
    "info = info+'solve initial value problem\\n'\n",
    "info = info+'-----------------------------------------------------'\n",
    "\n",
    "# import libraries\n",
    "import numpy as np\n",
    "import scipy.misc\n",
    "import matplotlib.pyplot as plt\n",
    "from numerics.ode import *\n",
    "\n",
    "# main program\n",
    "def main():\n",
    "    #-----------------------------------------------------------------------\n",
    "    # define points and stepsize\n",
    "    #-----------------------------------------------------------------------\n",
    "    print (\"%s\" % (info))\n",
    "    a = 0.\n",
    "    b = 5.\n",
    "    alpha = 0.5\n",
    "    n = 21\n",
    "    h = (b-a) / float(n-1)\n",
    "    print (\"%3s %5.2f %3s %5.2f %7s %5.2f %3s %4i %3s %5.2f\" % ('a:',a,'b:',b,'alpha:',alpha,'n:',n,'h:',h))\n",
    "    t = []; y1 = []; y2 = []; yexact = []\n",
    "    # initial values\n",
    "    t.append(a)\n",
    "    y1.append(alpha)\n",
    "    y2.append(alpha)\n",
    "    yexact.append(alpha)\n",
    "    print (\"%4i %10.4f %10.4f %10.2f %10.2f %10.2f\" % (0,h,t[0],y1[0],y2[0],yexact[0]))\n",
    "    # run over interal\n",
    "    for i in np.arange(1,n):\n",
    "        t.append(t[i-1]+h)\n",
    "        ynew = odei_euler(t[i-1],y1[i-1],h)\n",
    "        y1.append(ynew)\n",
    "        ynew = odei_eulermod(t[i-1],y2[i-1],h)\n",
    "        y2.append(ynew)\n",
    "        yexact.append(((t[i]+1)**2-0.5*np.exp(t[i])))\n",
    "        print (\"%4i %10.4f %10.4f %10.2f %10.2f %10.2f\" % (i,h,t[i],y1[i],y2[i],yexact[i]))\n",
    "    return t,y1,y2,yexact\n",
    "        \n",
    "# call main program\n",
    "[t,y1,y2,yexact] = main()\n",
    "\n",
    "plt.plot(t,yexact,linewidth=4,color='gray',label='y(t)=(t+1)$^2$-0.5*e$^t$')\n",
    "plt.plot(t,y1,linewidth=2,color='red',label='Euler')\n",
    "plt.plot(t,y2,linewidth=2,color='blue',label='Mod. Euler')\n",
    "plt.legend()\n"
   ]
  },
  {
   "cell_type": "markdown",
   "metadata": {
    "collapsed": true
   },
   "source": [
    "## Runge-Kutta method"
   ]
  },
  {
   "cell_type": "code",
   "execution_count": 1,
   "metadata": {},
   "outputs": [
    {
     "name": "stdout",
     "output_type": "stream",
     "text": [
      "-----------------------------------------------------\n",
      "driver_ode1:\n",
      "solve initial value problem (Runge-Kutta)\n",
      "-----------------------------------------------------\n",
      " a:  0.00  b:  5.00  alpha:  0.50  n:   21  h:  0.25\n",
      "   0     0.2500     0.0000       0.50       0.50       0.50       0.50\n",
      "   1     0.2500     0.2500       0.88       0.91       0.92       0.92\n",
      "   2     0.2500     0.5000       1.33       1.41       1.42       1.43\n",
      "   3     0.2500     0.7500       1.85       1.98       1.99       2.00\n",
      "   4     0.2500     1.0000       2.42       2.61       2.61       2.64\n",
      "   5     0.2500     1.2500       3.02       3.27       3.27       3.32\n",
      "   6     0.2500     1.5000       3.64       3.94       3.95       4.01\n",
      "   7     0.2500     1.7500       4.24       4.60       4.60       4.69\n",
      "   8     0.2500     2.0000       4.78       5.19       5.19       5.31\n",
      "   9     0.2500     2.2500       5.22       5.68       5.68       5.82\n",
      "  10     0.2500     2.5000       5.52       5.99       5.98       6.16\n",
      "  11     0.2500     2.7500       5.58       6.03       6.02       6.24\n",
      "  12     0.2500     3.0000       5.34       5.70       5.68       5.96\n",
      "  13     0.2500     3.2500       4.67       4.86       4.84       5.17\n",
      "  14     0.2500     3.5000       3.45       3.32       3.29       3.69\n",
      "  15     0.2500     3.7500       1.50       0.87       0.83       1.30\n",
      "  16     0.2500     4.0000      -1.40      -2.81      -2.86      -2.30\n",
      "  17     0.2500     4.2500      -5.49      -8.07      -8.14      -7.49\n",
      "  18     0.2500     4.5000     -11.13     -15.42     -15.51     -14.76\n",
      "  19     0.2500     4.7500     -18.73     -25.46     -25.57     -24.73\n",
      "  20     0.2500     5.0000     -28.80     -38.98     -39.14     -38.21\n"
     ]
    },
    {
     "data": {
      "text/plain": [
       "<matplotlib.legend.Legend at 0x110e5ccc0>"
      ]
     },
     "execution_count": 1,
     "metadata": {},
     "output_type": "execute_result"
    },
    {
     "data": {
      "image/png": "[encoded data removed]",
      "text/plain": [
       "<Figure size 432x288 with 1 Axes>"
      ]
     },
     "metadata": {
      "needs_background": "light"
     },
     "output_type": "display_data"
    }
   ],
   "source": [
    "%matplotlib inline\n",
    "\"\"\"\n",
    "driver_ode1:\n",
    "solve initial value problem y'=f(t,y) for y(0)=alpha, t in [a,b]\n",
    "single equation\n",
    "example is weird function\n",
    "(c) Georg Kaufmann\n",
    "\"\"\"\n",
    "info = ''\n",
    "info = info+'-----------------------------------------------------\\n'\n",
    "info = info+'driver_ode1:\\n'\n",
    "info = info+'solve initial value problem (Runge-Kutta)\\n'\n",
    "info = info+'-----------------------------------------------------'\n",
    "\n",
    "# import libraries\n",
    "import numpy as np\n",
    "import scipy.misc\n",
    "import matplotlib.pyplot as plt\n",
    "from numerics.ode import *\n",
    "\n",
    "# main program\n",
    "def main():\n",
    "    #-----------------------------------------------------------------------\n",
    "    # define points and stepsize\n",
    "    #-----------------------------------------------------------------------\n",
    "    print (\"%s\" % (info))\n",
    "    a = 0.\n",
    "    b = 5.\n",
    "    alpha = 0.5\n",
    "    n = 21\n",
    "    h = (b-a) / float(n-1)\n",
    "    print (\"%3s %5.2f %3s %5.2f %7s %5.2f %3s %4i %3s %5.2f\" % ('a:',a,'b:',b,'alpha:',alpha,'n:',n,'h:',h))\n",
    "    t = []; y1 = []; y2 = []; y3 = []; yexact = []\n",
    "    # initial values\n",
    "    t.append(a)\n",
    "    y1.append(alpha)\n",
    "    y2.append(alpha)\n",
    "    y3.append(alpha)\n",
    "    yexact.append(alpha)\n",
    "    print (\"%4i %10.4f %10.4f %10.2f %10.2f %10.2f %10.2f\" % (0,h,t[0],y1[0],y2[0],y3[0],yexact[0]))\n",
    "    # run over interal\n",
    "    for i in np.arange(1,n):\n",
    "        t.append(t[i-1]+h)\n",
    "        ynew = odei_euler(t[i-1],y1[i-1],h)\n",
    "        y1.append(ynew)\n",
    "        ynew = odei_eulermod(t[i-1],y2[i-1],h)\n",
    "        y2.append(ynew)\n",
    "        ynew = odei_rk4(t[i-1],y2[i-1],h)\n",
    "        y3.append(ynew)\n",
    "        yexact.append(((t[i]+1)**2-0.5*np.exp(t[i])))\n",
    "        print (\"%4i %10.4f %10.4f %10.2f %10.2f %10.2f %10.2f\" % (i,h,t[i],y1[i],y2[i],y3[i],yexact[i]))\n",
    "    return t,y1,y2,y3,yexact\n",
    "        \n",
    "# call main program\n",
    "[t,y1,y2,y3,yexact] = main()\n",
    "\n",
    "plt.plot(t,yexact,linewidth=4,color='gray',label='y(t)=(t+1)$^2$-0.5*e$^t$')\n",
    "plt.plot(t,y1,linewidth=2,color='red',label='Euler')\n",
    "plt.plot(t,y2,linewidth=2,color='blue',label='Mod. Euler')\n",
    "plt.plot(t,y3,linewidth=2,color='green',label='Runge-Kutta')\n",
    "plt.legend()\n"
   ]
  },
  {
   "cell_type": "markdown",
   "metadata": {
    "collapsed": true
   },
   "source": [
    "## Predictor-Corrector method"
   ]
  },
  {
   "cell_type": "code",
   "execution_count": null,
   "metadata": {},
   "outputs": [],
   "source": [
    "%matplotlib inline\n",
    "\"\"\"\n",
    "driver_ode1:\n",
    "solve initial value problem y'=f(t,y) for y(0)=alpha, t in [a,b]\n",
    "single equation\n",
    "example is weird function\n",
    "(c) Georg Kaufmann\n",
    "\"\"\"\n",
    "info = ''\n",
    "info = info+'-----------------------------------------------------\\n'\n",
    "info = info+'driver_ode1:\\n'\n",
    "info = info+'solve initial value problem (Runge-Kutta)\\n'\n",
    "info = info+'-----------------------------------------------------'\n",
    "\n",
    "# import libraries\n",
    "import numpy as np\n",
    "import scipy.misc\n",
    "import matplotlib.pyplot as plt\n",
    "from numerics.ode import *\n",
    "\n",
    "# main program\n",
    "def main():\n",
    "    #-----------------------------------------------------------------------\n",
    "    # define points and stepsize\n",
    "    #-----------------------------------------------------------------------\n",
    "    print (\"%s\" % (info))\n",
    "    a = 0.\n",
    "    b = 5.\n",
    "    alpha = 0.5\n",
    "    n = 21\n",
    "    h = (b-a) / float(n-1)\n",
    "    print (\"%3s %5.2f %3s %5.2f %7s %5.2f %3s %4i %3s %5.2f\" % ('a:',a,'b:',b,'alpha:',alpha,'n:',n,'h:',h))\n",
    "    t = []; y4 = []; yexact = []\n",
    "    # initial values\n",
    "    t.append(a)\n",
    "    y4.append(alpha)\n",
    "    yexact.append(alpha)\n",
    "    print (\"%4i %10.4f %10.4f %10.2f %10.2f\" % (0,h,t[0],y4[0],yexact[0]))\n",
    "    # run over interal\n",
    "    for i in np.arange(1,4):\n",
    "        t.append(t[i-1]+h)\n",
    "        ynew = odei_rk4(t[i-1],y4[i-1],h)\n",
    "        y4.append(ynew)\n",
    "        yexact.append(((t[i]+1)**2-0.5*np.exp(t[i])))\n",
    "        print (\"%4i %10.4f %10.4f %10.2f %10.2f\" % (i,h,t[i],y4[i],yexact[i]))\n",
    "    for i in np.arange(4,n):\n",
    "        t.append(t[i-1]+h)\n",
    "        ynew = odei_adamsbash4(t[i-1],y4[i-4],y4[i-3],y4[i-2],y4[i-1],h)\n",
    "        ynew = odei_adamsmoult3(t[i-1],y4[i-3],y4[i-2],y4[i-1],ynew,h)\n",
    "        y4.append(ynew)\n",
    "        yexact.append(((t[i]+1)**2-0.5*np.exp(t[i])))\n",
    "        print (\"%4i %10.4f %10.4f %10.2f %10.2f\" % (i,h,t[i],y4[i],yexact[i]))\n",
    "    return t,y4,yexact\n",
    "        \n",
    "# call main program\n",
    "[t,y4,yexact] = main()\n",
    "\n",
    "plt.plot(t,yexact,linewidth=4,color='gray',label='y(t)=(t+1)$^2$-0.5*e$^t$')\n",
    "plt.plot(t,y4,linewidth=2,color='green',label='Predictor-Corrector')\n",
    "plt.legend()\n",
    "\n"
   ]
  },
  {
   "cell_type": "code",
   "execution_count": null,
   "metadata": {
    "collapsed": true
   },
   "outputs": [],
   "source": []
  }
 ],
 "metadata": {
  "kernelspec": {
   "display_name": "Python 3",
   "language": "python",
   "name": "python3"
  },
  "language_info": {
   "codemirror_mode": {
    "name": "ipython",
    "version": 3
   },
   "file_extension": ".py",
   "mimetype": "text/x-python",
   "name": "python",
   "nbconvert_exporter": "python",
   "pygments_lexer": "ipython3",
   "version": "3.7.3"
  }
 },
 "nbformat": 4,
 "nbformat_minor": 1
}
