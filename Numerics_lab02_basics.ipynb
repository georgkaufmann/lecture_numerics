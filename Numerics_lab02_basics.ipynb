{
 "cells": [
  {
   "cell_type": "markdown",
   "metadata": {},
   "source": [
    "<table>\n",
    "<tr><td><img style=\"height: 150px;\" src=\"images/geo_hydro1.jpg\"></td>\n",
    "<td bgcolor=\"#FFFFFF\">\n",
    "    <p style=\"font-size: xx-large; font-weight: 900; line-height: 100%\">AG Dynamics of the Earth</p>\n",
    "    <p style=\"font-size: large; color: rgba(0,0,0,0.5);\">Juypter notebooks</p>\n",
    "    <p style=\"font-size: large; color: rgba(0,0,0,0.5);\">Georg Kaufmann</p>\n",
    "    </td>\n",
    "</tr>\n",
    "</table>"
   ]
  },
  {
   "cell_type": "markdown",
   "metadata": {},
   "source": [
    "# Numerical methods: Sequences, series, and functions\n",
    "----\n",
    "*Georg Kaufmann,\n",
    "Geophysics Section,\n",
    "Institute of Geological Sciences,\n",
    "Freie Universität Berlin,\n",
    "Germany*\n",
    "\n",
    "This notebook refreshes our knowledge on arrays in `python`, then plays with sequences and functions."
   ]
  },
  {
   "cell_type": "code",
   "execution_count": null,
   "metadata": {},
   "outputs": [],
   "source": [
    "import numpy as np\n",
    "import matplotlib.pyplot as plt"
   ]
  },
  {
   "cell_type": "markdown",
   "metadata": {},
   "source": [
    "## Defining arrays in `python`\n",
    "We start refreshing the representation of arrays (lists, vectors) in `python`.\n",
    "There are two possible repesentations of arrays:\n",
    "    - classic python\n",
    "    - numpy python\n",
    "    \n",
    "Following the classical way, we define lists, which can also be nested. This gives us **vectors**\n",
    "and **matrices**:"
   ]
  },
  {
   "cell_type": "code",
   "execution_count": null,
   "metadata": {},
   "outputs": [],
   "source": [
    "# define a vector as a list\n",
    "a=[1,2,3,4,5,6]\n",
    "print(a,type(a))\n",
    "print(a[1])\n",
    "# define a matrix as a nested list\n",
    "b=[[1,2,3],[4,5,6]]\n",
    "print(b,type(b))\n",
    "print(b[0])\n",
    "print(b[0][1])"
   ]
  },
  {
   "cell_type": "markdown",
   "metadata": {},
   "source": [
    "Note the *sloppy* addressing of elements in the \"matrix\" in `python`, you can *forget* the second index ...\n",
    "This would not be possible in other programming languages!\n",
    "\n",
    "Using `numpy`, our approach will be different:"
   ]
  },
  {
   "cell_type": "code",
   "execution_count": null,
   "metadata": {},
   "outputs": [],
   "source": [
    "a=np.array([1,2,3,4,5,6])\n",
    "print(a,a.ndim,a.size,a.shape)\n",
    "print(a[1])\n",
    "b=np.array([[1,2,3],[4,5,6]])\n",
    "print(b,b.ndim,b.size,b.shape)\n",
    "print(b[0])\n",
    "print(b[0][1])"
   ]
  },
  {
   "cell_type": "markdown",
   "metadata": {},
   "source": [
    "In `numpy`, we can also reshape arrays, e.g. our vector array $a$ (6 elements) to\n",
    "a matrix array $b$ (3x3 elements):"
   ]
  },
  {
   "cell_type": "code",
   "execution_count": null,
   "metadata": {},
   "outputs": [],
   "source": [
    "a=a.reshape((2,3))\n",
    "print(a,a.ndim,a.size,a.shape)\n",
    "print(a[1])"
   ]
  },
  {
   "cell_type": "markdown",
   "metadata": {},
   "source": [
    "## Sequences and functions\n",
    "\n",
    "We define the **arithmetic sequence**\n",
    "$$\n",
    "a_n = a_0 + n d\n",
    "$$\n",
    "with the initial value $a_0=5$ and $d=3$.\n",
    "Coding this sequence in `python`, we obtain for the first elements:"
   ]
  },
  {
   "cell_type": "code",
   "execution_count": null,
   "metadata": {},
   "outputs": [],
   "source": [
    "# set initial value and slope\n",
    "a0=5\n",
    "d=3\n",
    "n=np.arange(0,9)\n",
    "a=a0+d*n\n",
    "print(a)\n",
    "#plt.plot(a)"
   ]
  },
  {
   "cell_type": "markdown",
   "metadata": {},
   "source": [
    "We define the **geometric sequence**\n",
    "$$\n",
    "a_n = a_0 d^n\n",
    "$$\n",
    "with the initial value $a_0=5$ and $d=0.8$.\n",
    "Coding this sequence in `python`, we obtain for the first elements:"
   ]
  },
  {
   "cell_type": "code",
   "execution_count": null,
   "metadata": {},
   "outputs": [],
   "source": [
    "# set initial value and slope\n",
    "a0=5\n",
    "d=0.8\n",
    "n=np.arange(0,9)\n",
    "a=a0*d**n\n",
    "print(a)\n",
    "#plt.plot(a)"
   ]
  },
  {
   "cell_type": "markdown",
   "metadata": {},
   "source": [
    "The **Fibonacci sequence** is defined as\n",
    "$$\n",
    "a_n = a_{n-2} + a_{n-1}\n",
    "$$"
   ]
  },
  {
   "cell_type": "code",
   "execution_count": null,
   "metadata": {},
   "outputs": [],
   "source": [
    "def fibonacci(n=10):\n",
    "    fibonacci = [0,1]   \n",
    "    for i in range(2,n+1):\n",
    "        fibonacci.append(fibonacci[i-2] + fibonacci[i-1])\n",
    "    return fibonacci\n",
    "print(fibonacci(15))\n",
    "\n",
    "#for i in range(1,9):\n",
    "#    print(i,sum(fibonacci(i)))"
   ]
  },
  {
   "cell_type": "markdown",
   "metadata": {},
   "source": [
    "We can also define this arithmetic sequence as **function**:\n",
    "$$\n",
    "f(x)=5+3(x-1)\n",
    "$$"
   ]
  },
  {
   "cell_type": "code",
   "execution_count": null,
   "metadata": {},
   "outputs": [],
   "source": [
    "def f(x,a1=5,d=3):\n",
    "    f = a1 + d*(x-1)\n",
    "    return f\n",
    "    \n",
    "x=np.linspace(1,8,8)\n",
    "y=f(x)\n",
    "print(x)\n",
    "print(y)"
   ]
  },
  {
   "cell_type": "markdown",
   "metadata": {},
   "source": [
    "## Limit of a function"
   ]
  },
  {
   "cell_type": "markdown",
   "metadata": {},
   "source": [
    "**1. example**\n",
    "$$\n",
    "\\fbox{$\\lim\\limits_{x \\to 1} \\frac{x^2-1}{x-1}$}\n",
    "$$\n",
    "Rearrange:\n",
    "$$\n",
    "\\lim\\limits_{x \\to 1} \\frac{x^2-1}{x-1} =\n",
    "\\lim\\limits_{x \\to 1} \\frac{(x-1)(x+1)}{x-1} =\n",
    "\\lim\\limits_{x \\to 1} (x+1) = 2\n",
    "$$\n",
    "****"
   ]
  },
  {
   "cell_type": "markdown",
   "metadata": {},
   "source": [
    "**2. example**\n",
    "$$\n",
    "\\fbox{$\\lim\\limits_{x \\to \\infty} \\frac{x}{x+1}$}\n",
    "$$\n",
    "Rearrange:\n",
    "$$\n",
    "\\lim\\limits_{x \\to \\infty} \\frac{x}{x+1} =\n",
    "\\lim\\limits_{x \\to \\infty} \\frac{x}{x(1+{{1}\\over{x}})} =\n",
    "\\lim\\limits_{x \\to \\infty} \\frac{1}{1+{{1}\\over{x}}} = 1\n",
    "$$\n",
    "****"
   ]
  },
  {
   "cell_type": "markdown",
   "metadata": {},
   "source": [
    "**3. example**\n",
    "$$\n",
    "\\fbox{$\\lim\\limits_{x \\to 2} \\frac{x^2+x-6}{x^2-3x+2}$}\n",
    "$$\n",
    "Rearrange:\n",
    "$$\n",
    "\\lim\\limits_{x \\to 2} \\frac{x^2+x-6}{x^2-3x+2} = \n",
    "\\lim\\limits_{x \\to 2} \\frac{2x+1}{2x-3} = \\frac{5}{1} = 5\n",
    "$$\n",
    "****"
   ]
  },
  {
   "cell_type": "markdown",
   "metadata": {},
   "source": [
    "**4. example**\n",
    "$$\n",
    "\\fbox{$\\lim\\limits_{x \\to \\infty} \\left( x - 5 - \\frac{x^3}{x^2 - 5} \\right)$}\n",
    "$$\n",
    "Rearrange:\n",
    "$$\n",
    "\\lim\\limits_{x \\to \\infty} \\left( x - 5 - \\frac{x^3}{x^2 - 5} \\right) = \n",
    "\\lim\\limits_{x \\to \\infty} \\frac{x(x^2-5) - 5(x^2-5) - x^3}{x^2 - 5} = \n",
    "\\lim\\limits_{x \\to \\infty} \\frac{x^3-5x - 5x^2+25 - x^3}{x^2 - 5} = \n",
    "\\lim\\limits_{x \\to \\infty} \\frac{-5x - 5x^2+25}{x^2 - 5} = \n",
    "$$\n",
    "$$\n",
    "\\lim\\limits_{x \\to \\infty} \\frac{x^2({{-5}\\over{x}} -5 + {{25}\\over{x^2}})}{x^2(1 - {{5}\\over{x^2}})} = \n",
    "\\lim\\limits_{x \\to \\infty} \\frac{{{-5}\\over{x}} -5 + {{25}\\over{x^2}}}{1 - {{5}\\over{x^2}}} = -5\n",
    "$$\n",
    "****"
   ]
  },
  {
   "cell_type": "markdown",
   "metadata": {},
   "source": [
    "A bit more complicated:\n",
    "$$\n",
    "\\fbox{$\\lim\\limits_{x \\to 2} \\frac{1}{x^2-1}$}\n",
    "$$\n",
    "Calculate:\n",
    "$$\n",
    "\\lim\\limits_{x \\to 2} \\frac{1}{x^2-1} = \\frac{1}{2^2-1} = \\frac{1}{4-1} = \\frac{1}{3}\n",
    "$$"
   ]
  },
  {
   "cell_type": "code",
   "execution_count": null,
   "metadata": {},
   "outputs": [],
   "source": [
    "x=np.linspace(-4,4,41)\n",
    "y=1/(x**2-1)\n",
    "plt.plot(x,y)\n",
    "plt.plot([2.],[1/3],marker='o',markersize=20,color='green')\n",
    "plt.plot([1.],[0],marker='o',markersize=20,markerfacecolor='w',color='red')"
   ]
  },
  {
   "cell_type": "markdown",
   "metadata": {},
   "source": [
    "But ...\n",
    "$$\n",
    "\\fbox{$\\lim\\limits_{x \\to 1} \\frac{1}{x^2-1}$}\n",
    "$$\n",
    "has **no** limit!"
   ]
  },
  {
   "cell_type": "markdown",
   "metadata": {},
   "source": [
    "## Continuous function"
   ]
  },
  {
   "cell_type": "markdown",
   "metadata": {},
   "source": [
    "1. example\n",
    "$$\n",
    "\\fbox{$f(x)=\\left\\{\n",
    "\\begin{array}{rl}\n",
    "x+2  & x<2 \\\\\n",
    "4     & x=2 \\\\\n",
    "x^2  & x>2 \\\\\n",
    "\\end{array}\\right. $}\n",
    "$$\n",
    "\n",
    "Test with limits, first from the left...\n",
    "$$\n",
    "\\lim\\limits_{x \\to 2^-} f(x) = \n",
    "\\lim\\limits_{x \\to 2^-} (x+2) = 2+2 =4\n",
    "$$\n",
    "... then from the right ...\n",
    "$$\n",
    "\\lim\\limits_{x \\to 2^+} f(x) = \n",
    "\\lim\\limits_{x \\to 2^+} x^2 = 2^2 = 4\n",
    "$$\n",
    "... and the function value at the point:\n",
    "$$\n",
    "f(x=2) = 4\n",
    "$$\n",
    "All results are the same, the **function is continuous** at $x=2$!\n",
    "****"
   ]
  },
  {
   "cell_type": "markdown",
   "metadata": {},
   "source": [
    "**2. example**\n",
    "$$\n",
    "\\fbox{$f(x)=\\left\\{\n",
    "\\begin{array}{rl}\n",
    "{{x^2+x-2}\\over{x^2-3x+2}}  & x<1 \\\\\n",
    "-3     & x=1 \\\\\n",
    "{{x^2-5x+4}\\over{x-1}}  & x>1 \\\\\n",
    "\\end{array}\\right.$}\n",
    "$$\n",
    "\n",
    "Test with limits, first from the left ...\n",
    "$$\n",
    "\\lim\\limits_{x \\to 1^-} f(x) = \n",
    "\\lim\\limits_{x \\to 1^-} {{x^2+x-2}\\over{x^2-3x+2}} =\n",
    "\\lim\\limits_{x \\to 1^-} {{(x-1)(x+2)}\\over{(x-1)(x-2)}} =\n",
    "\\lim\\limits_{x \\to 1^-} {{(x+2)}\\over{(x-2)}} = {{3}\\over{-1}} = -3\n",
    "$$\n",
    "...  then from the right ...\n",
    "$$\n",
    "\\lim\\limits_{x \\to 1^-} f(x) = \n",
    "\\lim\\limits_{x \\to 1^-} {{x^2-5x+4}\\over{x-1}} =\n",
    "\\lim\\limits_{x \\to 1^-} {{(x-1)(x-4)}\\over{x-1}} =\n",
    "\\lim\\limits_{x \\to 1^-} (x-4) = 1-4 = -3\n",
    "$$\n",
    "... and the function value at the point:\n",
    "$$\n",
    "f(x=1) = -3\n",
    "$$\n",
    "All results are the same, the **function is continuous** at $x=1$!\n",
    "****"
   ]
  },
  {
   "cell_type": "markdown",
   "metadata": {},
   "source": [
    "More general:\n",
    "$$\n",
    "\\fbox{$f(x)=\\left\\{\n",
    "\\begin{array}{rl}\n",
    "{{x^2+x-2}\\over{x^2-3x+2}}  & x<1 \\\\\n",
    "a^2-7     & x=1 \\\\\n",
    "{{x^2-5x+4}\\over{x-1}}  & x>1 \\\\\n",
    "\\end{array}\\right.$}\n",
    "$$\n",
    "Only continuous at $x=1$ for $a=\\pm 2$! Test it ..."
   ]
  },
  {
   "cell_type": "code",
   "execution_count": null,
   "metadata": {},
   "outputs": [],
   "source": [
    "a=-2\n",
    "x=np.linspace(-2,2,41)\n",
    "y=np.zeros(41)\n",
    "for i in range(len(x)):\n",
    "    if (x[i]<1):\n",
    "        y[i]= (x[i]**2 + x[i] - 2) / (x[i]**2-3*x[i]+2)\n",
    "    elif (x[i]==1):\n",
    "        y[i]=a**2 - 7\n",
    "    else:\n",
    "        y[i]= (x[i]**2-5*x[i]+4) / (x[i]-1)\n",
    "plt.plot(x,y)"
   ]
  },
  {
   "cell_type": "markdown",
   "metadata": {},
   "source": [
    "[next >](Numerics_lab02_riemann.ipynb)"
   ]
  },
  {
   "cell_type": "markdown",
   "metadata": {},
   "source": [
    "----"
   ]
  },
  {
   "cell_type": "code",
   "execution_count": null,
   "metadata": {},
   "outputs": [],
   "source": [
    "def geomr(n,a0=1,q=2):\n",
    "    i = np.arange(0,n+1)\n",
    "    a = a0*q**i\n",
    "    return a\n",
    "\n",
    "a0=1\n",
    "q=1.5\n",
    "\n",
    "for i in np.arange(0,6):\n",
    "    print(i,sum(geomr(i,a0,q)),a0/(1-q),geomr(i,a0,q))"
   ]
  }
 ],
 "metadata": {
  "kernelspec": {
   "display_name": "Python 3",
   "language": "python",
   "name": "python3"
  },
  "language_info": {
   "codemirror_mode": {
    "name": "ipython",
    "version": 3
   },
   "file_extension": ".py",
   "mimetype": "text/x-python",
   "name": "python",
   "nbconvert_exporter": "python",
   "pygments_lexer": "ipython3",
   "version": "3.7.3"
  }
 },
 "nbformat": 4,
 "nbformat_minor": 2
}
